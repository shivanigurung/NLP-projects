{
  "cells": [
    {
      "cell_type": "code",
      "execution_count": 1,
      "metadata": {
        "colab": {
          "base_uri": "https://localhost:8080/"
        },
        "id": "5Q4gGpZsxN2D",
        "outputId": "a6d366d1-1e83-44f8-ef84-bcbb9a86cbd7"
      },
      "outputs": [
        {
          "output_type": "stream",
          "name": "stdout",
          "text": [
            "Mounted at /content/drive\n"
          ]
        }
      ],
      "source": [
        "import os\n",
        "from google.colab import drive\n",
        "\n",
        "drive.mount('/content/drive', force_remount=True)\n",
        "\n",
        "os.chdir(\"/content/drive/My Drive\")"
      ]
    },
    {
      "cell_type": "markdown",
      "metadata": {
        "id": "9_ZORURKg-fp"
      },
      "source": [
        "# Lab 11: Dialogue Act Tagging\n",
        "\n",
        "Dialogue act (DA) tagging is an essential step in the development of dialog systems. DA tagging is a problem that is usually solved using supervised machine learning techniques, which all require a large amount of manually labeled data. For DA tagging, a variety of methods have been investigated. In this lab, we'll look at two different DA classification models. The Switchboard Dialog Act Corpus is being used for training.\n",
        "Corpus can be downloaded from http://compprag.christopherpotts.net/swda.html.\n"
      ]
    },
    {
      "cell_type": "markdown",
      "metadata": {
        "id": "ziKyA9R4gyw9"
      },
      "source": [
        "The downloaded dataset should be kept in a data folder in the same directory as this file. "
      ]
    },
    {
      "cell_type": "code",
      "execution_count": 2,
      "metadata": {
        "id": "jmTpKt_uefe5"
      },
      "outputs": [],
      "source": [
        "import pandas as pd\n",
        "import glob\n",
        "from keras.preprocessing.sequence import pad_sequences\n",
        "from sklearn.model_selection import train_test_split\n",
        "import numpy as np\n",
        "\n",
        "import sklearn.metrics\n",
        "import tensorflow as tf\n",
        "import matplotlib.pyplot as plt\n",
        "from tqdm import tqdm_notebook as tqdm"
      ]
    },
    {
      "cell_type": "code",
      "execution_count": 3,
      "metadata": {
        "colab": {
          "base_uri": "https://localhost:8080/"
        },
        "id": "NxCLzbAIT9CN",
        "outputId": "36be0a24-9ac4-4d42-91f6-3b498d799bad"
      },
      "outputs": [
        {
          "output_type": "stream",
          "name": "stdout",
          "text": [
            "--2022-05-02 15:29:07--  http://compprag.christopherpotts.net/code-data/swda.zip\n",
            "Resolving compprag.christopherpotts.net (compprag.christopherpotts.net)... 64.90.36.20\n",
            "Connecting to compprag.christopherpotts.net (compprag.christopherpotts.net)|64.90.36.20|:80... connected.\n",
            "HTTP request sent, awaiting response... 200 OK\n",
            "Length: 14040987 (13M) [application/zip]\n",
            "Saving to: ‘swda.zip’\n",
            "\n",
            "swda.zip            100%[===================>]  13.39M  22.6MB/s    in 0.6s    \n",
            "\n",
            "2022-05-02 15:29:08 (22.6 MB/s) - ‘swda.zip’ saved [14040987/14040987]\n",
            "\n",
            "Archive:  swda.zip\n",
            "   creating: swda/\n",
            "  inflating: swda/.DS_Store          \n",
            "   creating: __MACOSX/\n",
            "   creating: __MACOSX/swda/\n",
            "  inflating: __MACOSX/swda/._.DS_Store  \n",
            "   creating: swda/sw00utt/\n",
            "  inflating: swda/sw00utt/sw_0001_4325.utt.csv  \n",
            "   creating: __MACOSX/swda/sw00utt/\n",
            "  inflating: __MACOSX/swda/sw00utt/._sw_0001_4325.utt.csv  \n",
            "  inflating: swda/sw00utt/sw_0002_4330.utt.csv  \n",
            "  inflating: swda/sw00utt/sw_0003_4103.utt.csv  \n",
            "  inflating: swda/sw00utt/sw_0004_4327.utt.csv  \n",
            "  inflating: swda/sw00utt/sw_0005_4646.utt.csv  \n",
            "  inflating: swda/sw00utt/sw_0006_4108.utt.csv  \n",
            "  inflating: swda/sw00utt/sw_0007_4171.utt.csv  \n",
            "  inflating: swda/sw00utt/sw_0008_4321.utt.csv  \n",
            "  inflating: swda/sw00utt/sw_0009_4329.utt.csv  \n",
            "  inflating: swda/sw00utt/sw_0010_4356.utt.csv  \n",
            "  inflating: swda/sw00utt/sw_0011_4358.utt.csv  \n",
            "  inflating: swda/sw00utt/sw_0012_4360.utt.csv  \n",
            "  inflating: swda/sw00utt/sw_0013_4617.utt.csv  \n",
            "  inflating: swda/sw00utt/sw_0014_4619.utt.csv  \n",
            "  inflating: swda/sw00utt/sw_0015_4877.utt.csv  \n",
            "  inflating: swda/sw00utt/sw_0016_3389.utt.csv  \n",
            "  inflating: swda/sw00utt/sw_0017_4036.utt.csv  \n",
            "  inflating: swda/sw00utt/sw_0018_4082.utt.csv  \n",
            "  inflating: swda/sw00utt/sw_0019_4104.utt.csv  \n",
            "  inflating: swda/sw00utt/sw_0020_4109.utt.csv  \n",
            "  inflating: swda/sw00utt/sw_0021_4168.utt.csv  \n",
            "  inflating: swda/sw00utt/sw_0022_4320.utt.csv  \n",
            "  inflating: swda/sw00utt/sw_0023_4341.utt.csv  \n",
            "  inflating: swda/sw00utt/sw_0024_4688.utt.csv  \n",
            "  inflating: swda/sw00utt/sw_0025_2451.utt.csv  \n",
            "  inflating: swda/sw00utt/sw_0026_3902.utt.csv  \n",
            "  inflating: swda/sw00utt/sw_0027_4096.utt.csv  \n",
            "  inflating: swda/sw00utt/sw_0028_4133.utt.csv  \n",
            "  inflating: swda/sw00utt/sw_0029_4152.utt.csv  \n",
            "  inflating: swda/sw00utt/sw_0030_4166.utt.csv  \n",
            "  inflating: swda/sw00utt/sw_0031_4319.utt.csv  \n",
            "  inflating: swda/sw00utt/sw_0032_4333.utt.csv  \n",
            "  inflating: swda/sw00utt/sw_0033_4336.utt.csv  \n",
            "  inflating: swda/sw00utt/sw_0034_4345.utt.csv  \n",
            "  inflating: swda/sw00utt/sw_0035_4372.utt.csv  \n",
            "  inflating: swda/sw00utt/sw_0036_4379.utt.csv  \n",
            "  inflating: swda/sw00utt/sw_0037_4382.utt.csv  \n",
            "  inflating: swda/sw00utt/sw_0038_4611.utt.csv  \n",
            "  inflating: swda/sw00utt/sw_0039_4628.utt.csv  \n",
            "  inflating: swda/sw00utt/sw_0040_2095.utt.csv  \n",
            "  inflating: swda/sw00utt/sw_0041_4048.utt.csv  \n",
            "  inflating: swda/sw00utt/sw_0042_4060.utt.csv  \n",
            "  inflating: swda/sw00utt/sw_0043_4148.utt.csv  \n",
            "  inflating: swda/sw00utt/sw_0044_4177.utt.csv  \n",
            "  inflating: swda/sw00utt/sw_0045_4312.utt.csv  \n",
            "  inflating: swda/sw00utt/sw_0046_4316.utt.csv  \n",
            "  inflating: swda/sw00utt/sw_0047_4339.utt.csv  \n",
            "  inflating: swda/sw00utt/sw_0048_4340.utt.csv  \n",
            "  inflating: swda/sw00utt/sw_0049_4353.utt.csv  \n",
            "  inflating: swda/sw00utt/sw_0050_4362.utt.csv  \n",
            "  inflating: swda/sw00utt/sw_0051_4364.utt.csv  \n",
            "  inflating: swda/sw00utt/sw_0052_4378.utt.csv  \n",
            "  inflating: swda/sw00utt/sw_0053_2184.utt.csv  \n",
            "  inflating: swda/sw00utt/sw_0054_2789.utt.csv  \n",
            "  inflating: swda/sw00utt/sw_0055_3156.utt.csv  \n",
            "  inflating: swda/sw00utt/sw_0056_3351.utt.csv  \n",
            "  inflating: swda/sw00utt/sw_0057_3506.utt.csv  \n",
            "  inflating: swda/sw00utt/sw_0058_3707.utt.csv  \n",
            "  inflating: swda/sw00utt/sw_0059_4028.utt.csv  \n",
            "  inflating: swda/sw00utt/sw_0060_4038.utt.csv  \n",
            "  inflating: swda/sw00utt/sw_0061_4151.utt.csv  \n",
            "  inflating: swda/sw00utt/sw_0062_4158.utt.csv  \n",
            "  inflating: swda/sw00utt/sw_0063_4334.utt.csv  \n",
            "  inflating: swda/sw00utt/sw_0064_4346.utt.csv  \n",
            "  inflating: swda/sw00utt/sw_0065_4349.utt.csv  \n",
            "  inflating: swda/sw00utt/sw_0066_2593.utt.csv  \n",
            "  inflating: swda/sw00utt/sw_0067_2945.utt.csv  \n",
            "  inflating: swda/sw00utt/sw_0068_3075.utt.csv  \n",
            "  inflating: swda/sw00utt/sw_0069_3144.utt.csv  \n",
            "  inflating: swda/sw00utt/sw_0070_3435.utt.csv  \n",
            "  inflating: swda/sw00utt/sw_0071_3658.utt.csv  \n",
            "  inflating: swda/sw00utt/sw_0072_3876.utt.csv  \n",
            "  inflating: swda/sw00utt/sw_0073_4049.utt.csv  \n",
            "  inflating: swda/sw00utt/sw_0074_4127.utt.csv  \n",
            "  inflating: swda/sw00utt/sw_0075_4129.utt.csv  \n",
            "  inflating: swda/sw00utt/sw_0076_4153.utt.csv  \n",
            "  inflating: swda/sw00utt/sw_0077_4155.utt.csv  \n",
            "  inflating: swda/sw00utt/sw_0078_4181.utt.csv  \n",
            "  inflating: swda/sw00utt/sw_0079_4318.utt.csv  \n",
            "  inflating: swda/sw00utt/sw_0080_4366.utt.csv  \n",
            "  inflating: swda/sw00utt/sw_0081_4380.utt.csv  \n",
            "  inflating: swda/sw00utt/sw_0082_4626.utt.csv  \n",
            "  inflating: swda/sw00utt/sw_0083_4830.utt.csv  \n",
            "  inflating: swda/sw00utt/sw_0084_2109.utt.csv  \n",
            "  inflating: swda/sw00utt/sw_0085_2395.utt.csv  \n",
            "  inflating: swda/sw00utt/sw_0086_2546.utt.csv  \n",
            "  inflating: swda/sw00utt/sw_0087_2775.utt.csv  \n",
            "  inflating: swda/sw00utt/sw_0088_3073.utt.csv  \n",
            "  inflating: swda/sw00utt/sw_0089_3086.utt.csv  \n",
            "  inflating: swda/sw00utt/sw_0090_3133.utt.csv  \n",
            "  inflating: swda/sw00utt/sw_0091_3135.utt.csv  \n",
            "  inflating: swda/sw00utt/sw_0092_3154.utt.csv  \n",
            "  inflating: swda/sw00utt/sw_0093_3227.utt.csv  \n",
            "  inflating: swda/sw00utt/sw_0094_3315.utt.csv  \n",
            "  inflating: swda/sw00utt/sw_0095_3445.utt.csv  \n",
            "  inflating: swda/sw00utt/sw_0096_3580.utt.csv  \n",
            "  inflating: swda/sw00utt/sw_0097_3798.utt.csv  \n",
            "  inflating: swda/sw00utt/sw_0098_3830.utt.csv  \n",
            "  inflating: swda/sw00utt/sw_0099_3917.utt.csv  \n",
            "   creating: swda/sw01utt/\n",
            "  inflating: swda/sw01utt/sw_0100_3925.utt.csv  \n",
            "  inflating: swda/sw01utt/sw_0101_4019.utt.csv  \n",
            "  inflating: swda/sw01utt/sw_0102_4033.utt.csv  \n",
            "  inflating: swda/sw01utt/sw_0103_4074.utt.csv  \n",
            "  inflating: swda/sw01utt/sw_0104_4101.utt.csv  \n",
            "  inflating: swda/sw01utt/sw_0105_4123.utt.csv  \n",
            "  inflating: swda/sw01utt/sw_0106_4137.utt.csv  \n",
            "  inflating: swda/sw01utt/sw_0107_4150.utt.csv  \n",
            "  inflating: swda/sw01utt/sw_0108_4175.utt.csv  \n",
            "  inflating: swda/sw01utt/sw_0109_4342.utt.csv  \n",
            "  inflating: swda/sw01utt/sw_0110_4880.utt.csv  \n",
            "  inflating: swda/sw01utt/sw_0111_2018.utt.csv  \n",
            "  inflating: swda/sw01utt/sw_0112_2061.utt.csv  \n",
            "  inflating: swda/sw01utt/sw_0113_2093.utt.csv  \n",
            "  inflating: swda/sw01utt/sw_0114_2107.utt.csv  \n",
            "  inflating: swda/sw01utt/sw_0115_2370.utt.csv  \n",
            "  inflating: swda/sw01utt/sw_0116_2406.utt.csv  \n",
            "  inflating: swda/sw01utt/sw_0117_2837.utt.csv  \n",
            "  inflating: swda/sw01utt/sw_0118_3080.utt.csv  \n",
            "  inflating: swda/sw01utt/sw_0119_3083.utt.csv  \n",
            "  inflating: swda/sw01utt/sw_0120_3113.utt.csv  \n",
            "  inflating: swda/sw01utt/sw_0121_3140.utt.csv  \n",
            "  inflating: swda/sw01utt/sw_0122_3161.utt.csv  \n",
            "  inflating: swda/sw01utt/sw_0123_3186.utt.csv  \n",
            "  inflating: swda/sw01utt/sw_0124_3201.utt.csv  \n",
            "  inflating: swda/sw01utt/sw_0125_3306.utt.csv  \n",
            "  inflating: swda/sw01utt/sw_0126_3349.utt.csv  \n",
            "  inflating: swda/sw01utt/sw_0127_3411.utt.csv  \n",
            "  inflating: swda/sw01utt/sw_0128_3441.utt.csv  \n",
            "  inflating: swda/sw01utt/sw_0129_3476.utt.csv  \n",
            "  inflating: swda/sw01utt/sw_0130_3514.utt.csv  \n",
            "  inflating: swda/sw01utt/sw_0131_3561.utt.csv  \n",
            "  inflating: swda/sw01utt/sw_0132_3682.utt.csv  \n",
            "  inflating: swda/sw01utt/sw_0133_3796.utt.csv  \n",
            "  inflating: swda/sw01utt/sw_0134_3887.utt.csv  \n",
            "  inflating: swda/sw01utt/sw_0135_4090.utt.csv  \n",
            "  inflating: swda/sw01utt/sw_0136_4099.utt.csv  \n",
            "  inflating: swda/sw01utt/sw_0137_4370.utt.csv  \n",
            "  inflating: swda/sw01utt/sw_0138_4890.utt.csv  \n",
            "  inflating: swda/sw01utt/sw_0139_4908.utt.csv  \n",
            "  inflating: swda/sw01utt/sw_0140_4928.utt.csv  \n",
            "  inflating: swda/sw01utt/sw_0141_2060.utt.csv  \n",
            "  inflating: swda/sw01utt/sw_0142_2145.utt.csv  \n",
            "  inflating: swda/sw01utt/sw_0143_2290.utt.csv  \n",
            "  inflating: swda/sw01utt/sw_0144_2399.utt.csv  \n",
            "  inflating: swda/sw01utt/sw_0145_2429.utt.csv  \n",
            "  inflating: swda/sw01utt/sw_0146_2477.utt.csv  \n",
            "  inflating: swda/sw01utt/sw_0147_2539.utt.csv  \n",
            "  inflating: swda/sw01utt/sw_0148_2604.utt.csv  \n",
            "  inflating: swda/sw01utt/sw_0149_2611.utt.csv  \n",
            "  inflating: swda/sw01utt/sw_0150_2628.utt.csv  \n",
            "  inflating: swda/sw01utt/sw_0151_2772.utt.csv  \n",
            "  inflating: swda/sw01utt/sw_0152_3108.utt.csv  \n",
            "  inflating: swda/sw01utt/sw_0153_3138.utt.csv  \n",
            "  inflating: swda/sw01utt/sw_0154_3142.utt.csv  \n",
            "  inflating: swda/sw01utt/sw_0155_3219.utt.csv  \n",
            "  inflating: swda/sw01utt/sw_0156_3252.utt.csv  \n",
            "  inflating: swda/sw01utt/sw_0157_3304.utt.csv  \n",
            "  inflating: swda/sw01utt/sw_0158_3327.utt.csv  \n",
            "  inflating: swda/sw01utt/sw_0159_3369.utt.csv  \n",
            "  inflating: swda/sw01utt/sw_0160_3467.utt.csv  \n",
            "  inflating: swda/sw01utt/sw_0161_3781.utt.csv  \n",
            "  inflating: swda/sw01utt/sw_0162_3801.utt.csv  \n",
            "  inflating: swda/sw01utt/sw_0163_3821.utt.csv  \n",
            "  inflating: swda/sw01utt/sw_0164_3862.utt.csv  \n",
            "  inflating: swda/sw01utt/sw_0165_4079.utt.csv  \n",
            "  inflating: swda/sw01utt/sw_0166_4519.utt.csv  \n",
            "  inflating: swda/sw01utt/sw_0167_4736.utt.csv  \n",
            "  inflating: swda/sw01utt/sw_0168_4765.utt.csv  \n",
            "  inflating: swda/sw01utt/sw_0169_4831.utt.csv  \n",
            "  inflating: swda/sw01utt/sw_0170_4868.utt.csv  \n",
            "  inflating: swda/sw01utt/sw_0171_2028.utt.csv  \n",
            "  inflating: swda/sw01utt/sw_0172_2305.utt.csv  \n",
            "  inflating: swda/sw01utt/sw_0173_2548.utt.csv  \n",
            "  inflating: swda/sw01utt/sw_0174_2708.utt.csv  \n",
            "  inflating: swda/sw01utt/sw_0175_2729.utt.csv  \n",
            "  inflating: swda/sw01utt/sw_0176_2749.utt.csv  \n",
            "  inflating: swda/sw01utt/sw_0177_2759.utt.csv  \n",
            "  inflating: swda/sw01utt/sw_0178_3038.utt.csv  \n",
            "  inflating: swda/sw01utt/sw_0179_3120.utt.csv  \n",
            "  inflating: swda/sw01utt/sw_0180_3134.utt.csv  \n",
            "  inflating: swda/sw01utt/sw_0181_3146.utt.csv  \n",
            "  inflating: swda/sw01utt/sw_0182_3152.utt.csv  \n",
            "  inflating: swda/sw01utt/sw_0183_3169.utt.csv  \n",
            "  inflating: swda/sw01utt/sw_0184_3171.utt.csv  \n",
            "  inflating: swda/sw01utt/sw_0185_3174.utt.csv  \n",
            "  inflating: swda/sw01utt/sw_0186_3188.utt.csv  \n",
            "  inflating: swda/sw01utt/sw_0187_3242.utt.csv  \n",
            "  inflating: swda/sw01utt/sw_0188_3251.utt.csv  \n",
            "  inflating: swda/sw01utt/sw_0189_3266.utt.csv  \n",
            "  inflating: swda/sw01utt/sw_0190_3324.utt.csv  \n",
            "  inflating: swda/sw01utt/sw_0191_3427.utt.csv  \n",
            "  inflating: swda/sw01utt/sw_0192_3495.utt.csv  \n",
            "  inflating: swda/sw01utt/sw_0193_3508.utt.csv  \n",
            "  inflating: swda/sw01utt/sw_0194_3595.utt.csv  \n",
            "  inflating: swda/sw01utt/sw_0195_3763.utt.csv  \n",
            "  inflating: swda/sw01utt/sw_0196_3838.utt.csv  \n",
            "  inflating: swda/sw01utt/sw_0197_3883.utt.csv  \n",
            "  inflating: swda/sw01utt/sw_0198_3962.utt.csv  \n",
            "  inflating: swda/sw01utt/sw_0199_4004.utt.csv  \n",
            "   creating: swda/sw02utt/\n",
            "  inflating: swda/sw02utt/sw_0200_4159.utt.csv  \n",
            "  inflating: swda/sw02utt/sw_0201_4311.utt.csv  \n",
            "  inflating: swda/sw02utt/sw_0202_4376.utt.csv  \n",
            "  inflating: swda/sw02utt/sw_0203_4603.utt.csv  \n",
            "  inflating: swda/sw02utt/sw_0204_4698.utt.csv  \n",
            "  inflating: swda/sw02utt/sw_0205_4725.utt.csv  \n",
            "  inflating: swda/sw02utt/sw_0206_4859.utt.csv  \n",
            "  inflating: swda/sw02utt/sw_0207_2039.utt.csv  \n",
            "  inflating: swda/sw02utt/sw_0208_2094.utt.csv  \n",
            "  inflating: swda/sw02utt/sw_0209_2102.utt.csv  \n",
            "  inflating: swda/sw02utt/sw_0210_2113.utt.csv  \n",
            "  inflating: swda/sw02utt/sw_0211_2163.utt.csv  \n",
            "  inflating: swda/sw02utt/sw_0212_2275.utt.csv  \n",
            "  inflating: swda/sw02utt/sw_0213_2285.utt.csv  \n",
            "  inflating: swda/sw02utt/sw_0214_2302.utt.csv  \n",
            "  inflating: swda/sw02utt/sw_0215_2314.utt.csv  \n",
            "  inflating: swda/sw02utt/sw_0216_2336.utt.csv  \n",
            "  inflating: swda/sw02utt/sw_0217_2421.utt.csv  \n",
            "  inflating: swda/sw02utt/sw_0218_2465.utt.csv  \n",
            "  inflating: swda/sw02utt/sw_0219_2472.utt.csv  \n",
            "  inflating: swda/sw02utt/sw_0220_2549.utt.csv  \n",
            "  inflating: swda/sw02utt/sw_0221_2566.utt.csv  \n",
            "  inflating: swda/sw02utt/sw_0222_2676.utt.csv  \n",
            "  inflating: swda/sw02utt/sw_0223_2703.utt.csv  \n",
            "  inflating: swda/sw02utt/sw_0224_2818.utt.csv  \n",
            "  inflating: swda/sw02utt/sw_0225_2877.utt.csv  \n",
            "  inflating: swda/sw02utt/sw_0226_3081.utt.csv  \n",
            "  inflating: swda/sw02utt/sw_0227_3093.utt.csv  \n",
            "  inflating: swda/sw02utt/sw_0228_3115.utt.csv  \n",
            "  inflating: swda/sw02utt/sw_0229_3130.utt.csv  \n",
            "  inflating: swda/sw02utt/sw_0230_3148.utt.csv  \n",
            "  inflating: swda/sw02utt/sw_0231_3150.utt.csv  \n",
            "  inflating: swda/sw02utt/sw_0232_3159.utt.csv  \n",
            "  inflating: swda/sw02utt/sw_0233_3182.utt.csv  \n",
            "  inflating: swda/sw02utt/sw_0234_3195.utt.csv  \n",
            "  inflating: swda/sw02utt/sw_0235_3232.utt.csv  \n",
            "  inflating: swda/sw02utt/sw_0236_3235.utt.csv  \n",
            "  inflating: swda/sw02utt/sw_0237_3279.utt.csv  \n",
            "  inflating: swda/sw02utt/sw_0238_3364.utt.csv  \n",
            "  inflating: swda/sw02utt/sw_0239_3367.utt.csv  \n",
            "  inflating: swda/sw02utt/sw_0240_3387.utt.csv  \n",
            "  inflating: swda/sw02utt/sw_0241_3403.utt.csv  \n",
            "  inflating: swda/sw02utt/sw_0242_3503.utt.csv  \n",
            "  inflating: swda/sw02utt/sw_0243_3513.utt.csv  \n",
            "  inflating: swda/sw02utt/sw_0244_3526.utt.csv  \n",
            "  inflating: swda/sw02utt/sw_0245_3565.utt.csv  \n",
            "  inflating: swda/sw02utt/sw_0246_3615.utt.csv  \n",
            "  inflating: swda/sw02utt/sw_0247_3660.utt.csv  \n",
            "  inflating: swda/sw02utt/sw_0248_3697.utt.csv  \n",
            "  inflating: swda/sw02utt/sw_0249_3728.utt.csv  \n",
            "  inflating: swda/sw02utt/sw_0250_3850.utt.csv  \n",
            "  inflating: swda/sw02utt/sw_0251_4026.utt.csv  \n",
            "  inflating: swda/sw02utt/sw_0252_4071.utt.csv  \n",
            "  inflating: swda/sw02utt/sw_0253_4072.utt.csv  \n",
            "  inflating: swda/sw02utt/sw_0254_4138.utt.csv  \n",
            "  inflating: swda/sw02utt/sw_0255_4548.utt.csv  \n",
            "  inflating: swda/sw02utt/sw_0256_4728.utt.csv  \n",
            "  inflating: swda/sw02utt/sw_0257_4876.utt.csv  \n",
            "  inflating: swda/sw02utt/sw_0258_2008.utt.csv  \n",
            "  inflating: swda/sw02utt/sw_0259_2020.utt.csv  \n",
            "  inflating: swda/sw02utt/sw_0260_2073.utt.csv  \n",
            "  inflating: swda/sw02utt/sw_0261_2120.utt.csv  \n",
            "  inflating: swda/sw02utt/sw_0262_2137.utt.csv  \n",
            "  inflating: swda/sw02utt/sw_0263_2226.utt.csv  \n",
            "  inflating: swda/sw02utt/sw_0264_2252.utt.csv  \n",
            "  inflating: swda/sw02utt/sw_0265_2264.utt.csv  \n",
            "  inflating: swda/sw02utt/sw_0266_2299.utt.csv  \n",
            "  inflating: swda/sw02utt/sw_0267_2362.utt.csv  \n",
            "  inflating: swda/sw02utt/sw_0268_2366.utt.csv  \n",
            "  inflating: swda/sw02utt/sw_0269_2382.utt.csv  \n",
            "  inflating: swda/sw02utt/sw_0270_2397.utt.csv  \n",
            "  inflating: swda/sw02utt/sw_0271_2435.utt.csv  \n",
            "  inflating: swda/sw02utt/sw_0272_2479.utt.csv  \n",
            "  inflating: swda/sw02utt/sw_0273_2485.utt.csv  \n",
            "  inflating: swda/sw02utt/sw_0274_2527.utt.csv  \n",
            "  inflating: swda/sw02utt/sw_0275_2540.utt.csv  \n",
            "  inflating: swda/sw02utt/sw_0276_2565.utt.csv  \n",
            "  inflating: swda/sw02utt/sw_0277_2598.utt.csv  \n",
            "  inflating: swda/sw02utt/sw_0278_2599.utt.csv  \n",
            "  inflating: swda/sw02utt/sw_0279_2602.utt.csv  \n",
            "  inflating: swda/sw02utt/sw_0280_2648.utt.csv  \n",
            "  inflating: swda/sw02utt/sw_0281_2657.utt.csv  \n",
            "  inflating: swda/sw02utt/sw_0282_2672.utt.csv  \n",
            "  inflating: swda/sw02utt/sw_0283_2710.utt.csv  \n",
            "  inflating: swda/sw02utt/sw_0284_2743.utt.csv  \n",
            "  inflating: swda/sw02utt/sw_0285_2756.utt.csv  \n",
            "  inflating: swda/sw02utt/sw_0286_2785.utt.csv  \n",
            "  inflating: swda/sw02utt/sw_0287_2819.utt.csv  \n",
            "  inflating: swda/sw02utt/sw_0288_2828.utt.csv  \n",
            "  inflating: swda/sw02utt/sw_0289_2832.utt.csv  \n",
            "  inflating: swda/sw02utt/sw_0290_2851.utt.csv  \n",
            "  inflating: swda/sw02utt/sw_0291_2876.utt.csv  \n",
            "  inflating: swda/sw02utt/sw_0292_3023.utt.csv  \n",
            "  inflating: swda/sw02utt/sw_0293_3069.utt.csv  \n",
            "  inflating: swda/sw02utt/sw_0294_3088.utt.csv  \n",
            "  inflating: swda/sw02utt/sw_0295_3200.utt.csv  \n",
            "  inflating: swda/sw02utt/sw_0296_3202.utt.csv  \n",
            "  inflating: swda/sw02utt/sw_0297_3223.utt.csv  \n",
            "  inflating: swda/sw02utt/sw_0298_3245.utt.csv  \n",
            "  inflating: swda/sw02utt/sw_0299_3254.utt.csv  \n",
            "   creating: swda/sw03utt/\n",
            "  inflating: swda/sw03utt/sw_0300_3268.utt.csv  \n",
            "  inflating: swda/sw03utt/sw_0301_3269.utt.csv  \n",
            "  inflating: swda/sw03utt/sw_0302_3309.utt.csv  \n",
            "  inflating: swda/sw03utt/sw_0303_3313.utt.csv  \n",
            "  inflating: swda/sw03utt/sw_0304_3338.utt.csv  \n",
            "  inflating: swda/sw03utt/sw_0305_3343.utt.csv  \n",
            "  inflating: swda/sw03utt/sw_0306_3345.utt.csv  \n",
            "  inflating: swda/sw03utt/sw_0307_3375.utt.csv  \n",
            "  inflating: swda/sw03utt/sw_0308_3646.utt.csv  \n",
            "  inflating: swda/sw03utt/sw_0309_3663.utt.csv  \n",
            "  inflating: swda/sw03utt/sw_0310_3699.utt.csv  \n",
            "  inflating: swda/sw03utt/sw_0311_3776.utt.csv  \n",
            "  inflating: swda/sw03utt/sw_0312_3784.utt.csv  \n",
            "  inflating: swda/sw03utt/sw_0313_3825.utt.csv  \n",
            "  inflating: swda/sw03utt/sw_0314_3983.utt.csv  \n",
            "  inflating: swda/sw03utt/sw_0315_3993.utt.csv  \n",
            "  inflating: swda/sw03utt/sw_0316_4051.utt.csv  \n",
            "  inflating: swda/sw03utt/sw_0317_4064.utt.csv  \n",
            "  inflating: swda/sw03utt/sw_0318_4565.utt.csv  \n",
            "  inflating: swda/sw03utt/sw_0319_4642.utt.csv  \n",
            "  inflating: swda/sw03utt/sw_0320_4720.utt.csv  \n",
            "  inflating: swda/sw03utt/sw_0321_4902.utt.csv  \n",
            "  inflating: swda/sw03utt/sw_0322_4936.utt.csv  \n",
            "  inflating: swda/sw03utt/sw_0323_2022.utt.csv  \n",
            "  inflating: swda/sw03utt/sw_0324_2154.utt.csv  \n",
            "  inflating: swda/sw03utt/sw_0325_2171.utt.csv  \n",
            "  inflating: swda/sw03utt/sw_0326_2249.utt.csv  \n",
            "  inflating: swda/sw03utt/sw_0327_2253.utt.csv  \n",
            "  inflating: swda/sw03utt/sw_0328_2349.utt.csv  \n",
            "  inflating: swda/sw03utt/sw_0329_2372.utt.csv  \n",
            "  inflating: swda/sw03utt/sw_0330_2466.utt.csv  \n",
            "  inflating: swda/sw03utt/sw_0331_2488.utt.csv  \n",
            "  inflating: swda/sw03utt/sw_0332_2571.utt.csv  \n",
            "  inflating: swda/sw03utt/sw_0333_2584.utt.csv  \n",
            "  inflating: swda/sw03utt/sw_0334_2587.utt.csv  \n",
            "  inflating: swda/sw03utt/sw_0335_2589.utt.csv  \n",
            "  inflating: swda/sw03utt/sw_0336_2603.utt.csv  \n",
            "  inflating: swda/sw03utt/sw_0337_2608.utt.csv  \n",
            "  inflating: swda/sw03utt/sw_0338_2641.utt.csv  \n",
            "  inflating: swda/sw03utt/sw_0339_2669.utt.csv  \n",
            "  inflating: swda/sw03utt/sw_0340_2678.utt.csv  \n",
            "  inflating: swda/sw03utt/sw_0341_2932.utt.csv  \n",
            "  inflating: swda/sw03utt/sw_0342_2956.utt.csv  \n",
            "  inflating: swda/sw03utt/sw_0343_2965.utt.csv  \n",
            "  inflating: swda/sw03utt/sw_0344_3020.utt.csv  \n",
            "  inflating: swda/sw03utt/sw_0345_3021.utt.csv  \n",
            "  inflating: swda/sw03utt/sw_0346_3047.utt.csv  \n",
            "  inflating: swda/sw03utt/sw_0347_3052.utt.csv  \n",
            "  inflating: swda/sw03utt/sw_0348_3062.utt.csv  \n",
            "  inflating: swda/sw03utt/sw_0349_3082.utt.csv  \n",
            "  inflating: swda/sw03utt/sw_0350_3103.utt.csv  \n",
            "  inflating: swda/sw03utt/sw_0351_3207.utt.csv  \n",
            "  inflating: swda/sw03utt/sw_0352_3236.utt.csv  \n",
            "  inflating: swda/sw03utt/sw_0353_3239.utt.csv  \n",
            "  inflating: swda/sw03utt/sw_0354_3286.utt.csv  \n",
            "  inflating: swda/sw03utt/sw_0355_3300.utt.csv  \n",
            "  inflating: swda/sw03utt/sw_0356_3303.utt.csv  \n",
            "  inflating: swda/sw03utt/sw_0357_3360.utt.csv  \n",
            "  inflating: swda/sw03utt/sw_0358_3362.utt.csv  \n",
            "  inflating: swda/sw03utt/sw_0359_3393.utt.csv  \n",
            "  inflating: swda/sw03utt/sw_0360_3397.utt.csv  \n",
            "  inflating: swda/sw03utt/sw_0361_3398.utt.csv  \n",
            "  inflating: swda/sw03utt/sw_0362_3447.utt.csv  \n",
            "  inflating: swda/sw03utt/sw_0363_3487.utt.csv  \n",
            "  inflating: swda/sw03utt/sw_0364_3491.utt.csv  \n",
            "  inflating: swda/sw03utt/sw_0365_3515.utt.csv  \n",
            "  inflating: swda/sw03utt/sw_0366_3517.utt.csv  \n",
            "  inflating: swda/sw03utt/sw_0367_3524.utt.csv  \n",
            "  inflating: swda/sw03utt/sw_0368_3541.utt.csv  \n",
            "  inflating: swda/sw03utt/sw_0369_3584.utt.csv  \n",
            "  inflating: swda/sw03utt/sw_0370_3636.utt.csv  \n",
            "  inflating: swda/sw03utt/sw_0371_3688.utt.csv  \n",
            "  inflating: swda/sw03utt/sw_0372_3725.utt.csv  \n",
            "  inflating: swda/sw03utt/sw_0373_4013.utt.csv  \n",
            "  inflating: swda/sw03utt/sw_0374_4032.utt.csv  \n",
            "  inflating: swda/sw03utt/sw_0375_4050.utt.csv  \n",
            "  inflating: swda/sw03utt/sw_0376_4077.utt.csv  \n",
            "  inflating: swda/sw03utt/sw_0377_4130.utt.csv  \n",
            "  inflating: swda/sw03utt/sw_0378_4154.utt.csv  \n",
            "  inflating: swda/sw03utt/sw_0379_4483.utt.csv  \n",
            "  inflating: swda/sw03utt/sw_0380_4572.utt.csv  \n",
            "  inflating: swda/sw03utt/sw_0381_4784.utt.csv  \n",
            "  inflating: swda/sw03utt/sw_0382_4785.utt.csv  \n",
            "  inflating: swda/sw03utt/sw_0383_4812.utt.csv  \n",
            "  inflating: swda/sw03utt/sw_0384_2005.utt.csv  \n",
            "  inflating: swda/sw03utt/sw_0385_2012.utt.csv  \n",
            "  inflating: swda/sw03utt/sw_0386_2035.utt.csv  \n",
            "  inflating: swda/sw03utt/sw_0387_2067.utt.csv  \n",
            "  inflating: swda/sw03utt/sw_0388_2078.utt.csv  \n",
            "  inflating: swda/sw03utt/sw_0389_2157.utt.csv  \n",
            "  inflating: swda/sw03utt/sw_0390_2241.utt.csv  \n",
            "  inflating: swda/sw03utt/sw_0391_2259.utt.csv  \n",
            "  inflating: swda/sw03utt/sw_0392_2405.utt.csv  \n",
            "  inflating: swda/sw03utt/sw_0393_2407.utt.csv  \n",
            "  inflating: swda/sw03utt/sw_0394_2427.utt.csv  \n",
            "  inflating: swda/sw03utt/sw_0395_2442.utt.csv  \n",
            "  inflating: swda/sw03utt/sw_0396_2490.utt.csv  \n",
            "  inflating: swda/sw03utt/sw_0397_2492.utt.csv  \n",
            "  inflating: swda/sw03utt/sw_0398_2504.utt.csv  \n",
            "  inflating: swda/sw03utt/sw_0399_2526.utt.csv  \n",
            "   creating: swda/sw04utt/\n",
            "  inflating: swda/sw04utt/sw_0400_2558.utt.csv  \n",
            "  inflating: swda/sw04utt/sw_0401_2568.utt.csv  \n",
            "  inflating: swda/sw04utt/sw_0402_2634.utt.csv  \n",
            "   creating: __MACOSX/swda/sw04utt/\n",
            "  inflating: __MACOSX/swda/sw04utt/._sw_0402_2634.utt.csv  \n",
            "  inflating: swda/sw04utt/sw_0403_2650.utt.csv  \n",
            "  inflating: swda/sw04utt/sw_0404_2667.utt.csv  \n",
            "  inflating: swda/sw04utt/sw_0405_2717.utt.csv  \n",
            "  inflating: swda/sw04utt/sw_0406_2784.utt.csv  \n",
            "  inflating: swda/sw04utt/sw_0407_2826.utt.csv  \n",
            "  inflating: swda/sw04utt/sw_0408_2860.utt.csv  \n",
            "  inflating: swda/sw04utt/sw_0409_2866.utt.csv  \n",
            "  inflating: swda/sw04utt/sw_0410_2970.utt.csv  \n",
            "  inflating: swda/sw04utt/sw_0411_2998.utt.csv  \n",
            "  inflating: swda/sw04utt/sw_0412_3015.utt.csv  \n",
            "  inflating: swda/sw04utt/sw_0413_3041.utt.csv  \n",
            "  inflating: swda/sw04utt/sw_0414_3067.utt.csv  \n",
            "  inflating: swda/sw04utt/sw_0415_3168.utt.csv  \n",
            "  inflating: swda/sw04utt/sw_0416_3205.utt.csv  \n",
            "  inflating: swda/sw04utt/sw_0417_3237.utt.csv  \n",
            "  inflating: swda/sw04utt/sw_0418_3275.utt.csv  \n",
            "  inflating: swda/sw04utt/sw_0419_3284.utt.csv  \n",
            "  inflating: swda/sw04utt/sw_0420_3288.utt.csv  \n",
            "  inflating: swda/sw04utt/sw_0421_3311.utt.csv  \n",
            "  inflating: swda/sw04utt/sw_0422_3320.utt.csv  \n",
            "  inflating: swda/sw04utt/sw_0423_3325.utt.csv  \n",
            "  inflating: swda/sw04utt/sw_0424_3328.utt.csv  \n",
            "  inflating: swda/sw04utt/sw_0425_3382.utt.csv  \n",
            "  inflating: swda/sw04utt/sw_0426_3409.utt.csv  \n",
            "  inflating: swda/sw04utt/sw_0427_3509.utt.csv  \n",
            "  inflating: swda/sw04utt/sw_0428_3550.utt.csv  \n",
            "  inflating: swda/sw04utt/sw_0429_3607.utt.csv  \n",
            "  inflating: swda/sw04utt/sw_0430_3633.utt.csv  \n",
            "  inflating: swda/sw04utt/sw_0431_3655.utt.csv  \n",
            "  inflating: swda/sw04utt/sw_0432_3720.utt.csv  \n",
            "  inflating: swda/sw04utt/sw_0433_3727.utt.csv  \n",
            "  inflating: swda/sw04utt/sw_0434_3809.utt.csv  \n",
            "  inflating: swda/sw04utt/sw_0435_4008.utt.csv  \n",
            "  inflating: swda/sw04utt/sw_0436_4055.utt.csv  \n",
            "  inflating: swda/sw04utt/sw_0437_4092.utt.csv  \n",
            "  inflating: swda/sw04utt/sw_0438_4113.utt.csv  \n",
            "  inflating: swda/sw04utt/sw_0439_4314.utt.csv  \n",
            "  inflating: swda/sw04utt/sw_0440_4347.utt.csv  \n",
            "  inflating: swda/sw04utt/sw_0441_4608.utt.csv  \n",
            "  inflating: swda/sw04utt/sw_0442_4649.utt.csv  \n",
            "  inflating: swda/sw04utt/sw_0443_4679.utt.csv  \n",
            "  inflating: swda/sw04utt/sw_0444_4682.utt.csv  \n",
            "  inflating: swda/sw04utt/sw_0445_4697.utt.csv  \n",
            "  inflating: swda/sw04utt/sw_0446_4792.utt.csv  \n",
            "  inflating: swda/sw04utt/sw_0447_4801.utt.csv  \n",
            "  inflating: swda/sw04utt/sw_0448_4826.utt.csv  \n",
            "  inflating: swda/sw04utt/sw_0449_4858.utt.csv  \n",
            "  inflating: swda/sw04utt/sw_0450_4886.utt.csv  \n",
            "  inflating: swda/sw04utt/sw_0451_2062.utt.csv  \n",
            "  inflating: swda/sw04utt/sw_0452_2111.utt.csv  \n",
            "  inflating: swda/sw04utt/sw_0453_2139.utt.csv  \n",
            "  inflating: swda/sw04utt/sw_0454_2231.utt.csv  \n",
            "  inflating: swda/sw04utt/sw_0455_2247.utt.csv  \n",
            "  inflating: swda/sw04utt/sw_0456_2266.utt.csv  \n",
            "  inflating: swda/sw04utt/sw_0457_2304.utt.csv  \n",
            "  inflating: swda/sw04utt/sw_0458_2316.utt.csv  \n",
            "  inflating: swda/sw04utt/sw_0459_2330.utt.csv  \n",
            "  inflating: swda/sw04utt/sw_0460_2331.utt.csv  \n",
            "  inflating: swda/sw04utt/sw_0461_2436.utt.csv  \n",
            "  inflating: swda/sw04utt/sw_0462_2439.utt.csv  \n",
            "  inflating: swda/sw04utt/sw_0463_2469.utt.csv  \n",
            "  inflating: swda/sw04utt/sw_0464_2510.utt.csv  \n",
            "  inflating: swda/sw04utt/sw_0465_2525.utt.csv  \n",
            "  inflating: swda/sw04utt/sw_0466_2547.utt.csv  \n",
            "  inflating: swda/sw04utt/sw_0467_2554.utt.csv  \n",
            "  inflating: swda/sw04utt/sw_0468_2559.utt.csv  \n",
            "  inflating: swda/sw04utt/sw_0469_2615.utt.csv  \n",
            "  inflating: swda/sw04utt/sw_0470_2627.utt.csv  \n",
            "  inflating: swda/sw04utt/sw_0471_2640.utt.csv  \n",
            "  inflating: swda/sw04utt/sw_0472_2653.utt.csv  \n",
            "  inflating: swda/sw04utt/sw_0473_2658.utt.csv  \n",
            "  inflating: swda/sw04utt/sw_0474_2691.utt.csv  \n",
            "  inflating: swda/sw04utt/sw_0475_2761.utt.csv  \n",
            "  inflating: swda/sw04utt/sw_0476_2790.utt.csv  \n",
            "  inflating: swda/sw04utt/sw_0477_2868.utt.csv  \n",
            "  inflating: swda/sw04utt/sw_0478_2896.utt.csv  \n",
            "  inflating: swda/sw04utt/sw_0479_2910.utt.csv  \n",
            "  inflating: swda/sw04utt/sw_0480_3040.utt.csv  \n",
            "  inflating: swda/sw04utt/sw_0481_3045.utt.csv  \n",
            "  inflating: swda/sw04utt/sw_0482_3068.utt.csv  \n",
            "  inflating: swda/sw04utt/sw_0483_3070.utt.csv  \n",
            "  inflating: swda/sw04utt/sw_0484_3085.utt.csv  \n",
            "  inflating: swda/sw04utt/sw_0485_3099.utt.csv  \n",
            "  inflating: swda/sw04utt/sw_0486_3173.utt.csv  \n",
            "  inflating: swda/sw04utt/sw_0487_3206.utt.csv  \n",
            "  inflating: swda/sw04utt/sw_0488_3215.utt.csv  \n",
            "  inflating: swda/sw04utt/sw_0489_3238.utt.csv  \n",
            "  inflating: swda/sw04utt/sw_0490_3246.utt.csv  \n",
            "  inflating: swda/sw04utt/sw_0491_3256.utt.csv  \n",
            "  inflating: swda/sw04utt/sw_0492_3259.utt.csv  \n",
            "  inflating: swda/sw04utt/sw_0493_3296.utt.csv  \n",
            "  inflating: swda/sw04utt/sw_0494_3331.utt.csv  \n",
            "  inflating: swda/sw04utt/sw_0495_3334.utt.csv  \n",
            "  inflating: swda/sw04utt/sw_0496_3344.utt.csv  \n",
            "  inflating: swda/sw04utt/sw_0497_3354.utt.csv  \n",
            "  inflating: swda/sw04utt/sw_0498_3417.utt.csv  \n",
            "  inflating: swda/sw04utt/sw_0499_3420.utt.csv  \n",
            "   creating: swda/sw05utt/\n",
            "  inflating: swda/sw05utt/sw_0500_3425.utt.csv  \n",
            "  inflating: swda/sw05utt/sw_0501_3450.utt.csv  \n",
            "  inflating: swda/sw05utt/sw_0502_3525.utt.csv  \n",
            "  inflating: swda/sw05utt/sw_0503_3539.utt.csv  \n",
            "  inflating: swda/sw05utt/sw_0504_3549.utt.csv  \n",
            "  inflating: swda/sw05utt/sw_0505_3569.utt.csv  \n",
            "  inflating: swda/sw05utt/sw_0506_3576.utt.csv  \n",
            "  inflating: swda/sw05utt/sw_0507_3606.utt.csv  \n",
            "  inflating: swda/sw05utt/sw_0508_3628.utt.csv  \n",
            "  inflating: swda/sw05utt/sw_0509_3639.utt.csv  \n",
            "  inflating: swda/sw05utt/sw_0510_3680.utt.csv  \n",
            "  inflating: swda/sw05utt/sw_0511_3746.utt.csv  \n",
            "  inflating: swda/sw05utt/sw_0512_3811.utt.csv  \n",
            "  inflating: swda/sw05utt/sw_0513_3988.utt.csv  \n",
            "  inflating: swda/sw05utt/sw_0514_4174.utt.csv  \n",
            "  inflating: swda/sw05utt/sw_0515_4184.utt.csv  \n",
            "  inflating: swda/sw05utt/sw_0516_4618.utt.csv  \n",
            "  inflating: swda/sw05utt/sw_0517_4633.utt.csv  \n",
            "  inflating: swda/sw05utt/sw_0518_4691.utt.csv  \n",
            "  inflating: swda/sw05utt/sw_0519_4733.utt.csv  \n",
            "  inflating: swda/sw05utt/sw_0520_2010.utt.csv  \n",
            "  inflating: swda/sw05utt/sw_0521_2041.utt.csv  \n",
            "  inflating: swda/sw05utt/sw_0522_2072.utt.csv  \n",
            "  inflating: swda/sw05utt/sw_0523_2092.utt.csv  \n",
            "  inflating: swda/sw05utt/sw_0524_2124.utt.csv  \n",
            "  inflating: swda/sw05utt/sw_0525_2130.utt.csv  \n",
            "  inflating: swda/sw05utt/sw_0526_2160.utt.csv  \n",
            "  inflating: swda/sw05utt/sw_0527_2177.utt.csv  \n",
            "  inflating: swda/sw05utt/sw_0528_2260.utt.csv  \n",
            "  inflating: swda/sw05utt/sw_0529_2324.utt.csv  \n",
            "  inflating: swda/sw05utt/sw_0530_2334.utt.csv  \n",
            "  inflating: swda/sw05utt/sw_0531_2365.utt.csv  \n",
            "  inflating: swda/sw05utt/sw_0532_2455.utt.csv  \n",
            "  inflating: swda/sw05utt/sw_0533_2486.utt.csv  \n",
            "  inflating: swda/sw05utt/sw_0534_2499.utt.csv  \n",
            "  inflating: swda/sw05utt/sw_0535_2501.utt.csv  \n",
            "  inflating: swda/sw05utt/sw_0536_2502.utt.csv  \n",
            "  inflating: swda/sw05utt/sw_0537_2521.utt.csv  \n",
            "  inflating: swda/sw05utt/sw_0538_2545.utt.csv  \n",
            "  inflating: swda/sw05utt/sw_0539_2609.utt.csv  \n",
            "  inflating: swda/sw05utt/sw_0540_2619.utt.csv  \n",
            "  inflating: swda/sw05utt/sw_0541_2719.utt.csv  \n",
            "  inflating: swda/sw05utt/sw_0542_2782.utt.csv  \n",
            "  inflating: swda/sw05utt/sw_0543_2792.utt.csv  \n",
            "  inflating: swda/sw05utt/sw_0544_2800.utt.csv  \n",
            "  inflating: swda/sw05utt/sw_0545_2840.utt.csv  \n",
            "  inflating: swda/sw05utt/sw_0546_2913.utt.csv  \n",
            "  inflating: swda/sw05utt/sw_0547_3051.utt.csv  \n",
            "  inflating: swda/sw05utt/sw_0548_3074.utt.csv  \n",
            "  inflating: swda/sw05utt/sw_0549_3111.utt.csv  \n",
            "  inflating: swda/sw05utt/sw_0550_3124.utt.csv  \n",
            "  inflating: swda/sw05utt/sw_0551_3155.utt.csv  \n",
            "  inflating: swda/sw05utt/sw_0552_3187.utt.csv  \n",
            "  inflating: swda/sw05utt/sw_0553_3229.utt.csv  \n",
            "  inflating: swda/sw05utt/sw_0554_3260.utt.csv  \n",
            "  inflating: swda/sw05utt/sw_0555_3294.utt.csv  \n",
            "  inflating: swda/sw05utt/sw_0556_3317.utt.csv  \n",
            "  inflating: swda/sw05utt/sw_0557_3333.utt.csv  \n",
            "  inflating: swda/sw05utt/sw_0558_3342.utt.csv  \n",
            "  inflating: swda/sw05utt/sw_0559_3365.utt.csv  \n",
            "  inflating: swda/sw05utt/sw_0560_3377.utt.csv  \n",
            "  inflating: swda/sw05utt/sw_0561_3406.utt.csv  \n",
            "  inflating: swda/sw05utt/sw_0562_3443.utt.csv  \n",
            "  inflating: swda/sw05utt/sw_0563_3458.utt.csv  \n",
            "  inflating: swda/sw05utt/sw_0564_3497.utt.csv  \n",
            "  inflating: swda/sw05utt/sw_0565_3523.utt.csv  \n",
            "  inflating: swda/sw05utt/sw_0566_3551.utt.csv  \n",
            "  inflating: swda/sw05utt/sw_0567_3574.utt.csv  \n",
            "  inflating: swda/sw05utt/sw_0568_3586.utt.csv  \n",
            "  inflating: swda/sw05utt/sw_0569_3638.utt.csv  \n",
            "  inflating: swda/sw05utt/sw_0570_3691.utt.csv  \n",
            "  inflating: swda/sw05utt/sw_0571_3750.utt.csv  \n",
            "  inflating: swda/sw05utt/sw_0572_3768.utt.csv  \n",
            "  inflating: swda/sw05utt/sw_0573_4022.utt.csv  \n",
            "  inflating: swda/sw05utt/sw_0574_4023.utt.csv  \n",
            "  inflating: swda/sw05utt/sw_0575_4114.utt.csv  \n",
            "  inflating: swda/sw05utt/sw_0576_4363.utt.csv  \n",
            "  inflating: swda/sw05utt/sw_0577_4659.utt.csv  \n",
            "  inflating: swda/sw05utt/sw_0578_4796.utt.csv  \n",
            "  inflating: swda/sw05utt/sw_0579_4834.utt.csv  \n",
            "  inflating: swda/sw05utt/sw_0580_2015.utt.csv  \n",
            "  inflating: swda/sw05utt/sw_0581_2032.utt.csv  \n",
            "  inflating: swda/sw05utt/sw_0582_2051.utt.csv  \n",
            "  inflating: swda/sw05utt/sw_0583_2053.utt.csv  \n",
            "  inflating: swda/sw05utt/sw_0584_2220.utt.csv  \n",
            "  inflating: swda/sw05utt/sw_0585_2279.utt.csv  \n",
            "  inflating: swda/sw05utt/sw_0586_2295.utt.csv  \n",
            "  inflating: swda/sw05utt/sw_0587_2383.utt.csv  \n",
            "  inflating: swda/sw05utt/sw_0588_2423.utt.csv  \n",
            "  inflating: swda/sw05utt/sw_0589_2433.utt.csv  \n",
            "  inflating: swda/sw05utt/sw_0590_2445.utt.csv  \n",
            "  inflating: swda/sw05utt/sw_0591_2460.utt.csv  \n",
            "  inflating: swda/sw05utt/sw_0592_2533.utt.csv  \n",
            "  inflating: swda/sw05utt/sw_0593_2597.utt.csv  \n",
            "  inflating: swda/sw05utt/sw_0594_2617.utt.csv  \n",
            "  inflating: swda/sw05utt/sw_0595_2645.utt.csv  \n",
            "  inflating: swda/sw05utt/sw_0596_2734.utt.csv  \n",
            "  inflating: swda/sw05utt/sw_0597_2835.utt.csv  \n",
            "  inflating: swda/sw05utt/sw_0598_2858.utt.csv  \n",
            "  inflating: swda/sw05utt/sw_0599_2870.utt.csv  \n",
            "   creating: swda/sw06utt/\n",
            "  inflating: swda/sw06utt/sw_0600_2883.utt.csv  \n",
            "  inflating: swda/sw06utt/sw_0601_2893.utt.csv  \n",
            "  inflating: swda/sw06utt/sw_0602_2938.utt.csv  \n",
            "  inflating: swda/sw06utt/sw_0603_2962.utt.csv  \n",
            "  inflating: swda/sw06utt/sw_0604_2969.utt.csv  \n",
            "  inflating: swda/sw06utt/sw_0605_2989.utt.csv  \n",
            "  inflating: swda/sw06utt/sw_0606_3011.utt.csv  \n",
            "  inflating: swda/sw06utt/sw_0607_3012.utt.csv  \n",
            "  inflating: swda/sw06utt/sw_0608_3030.utt.csv  \n",
            "  inflating: swda/sw06utt/sw_0609_3049.utt.csv  \n",
            "  inflating: swda/sw06utt/sw_0610_3056.utt.csv  \n",
            "  inflating: swda/sw06utt/sw_0611_3072.utt.csv  \n",
            "  inflating: swda/sw06utt/sw_0612_3090.utt.csv  \n",
            "  inflating: swda/sw06utt/sw_0613_3096.utt.csv  \n",
            "  inflating: swda/sw06utt/sw_0614_3097.utt.csv  \n",
            "  inflating: swda/sw06utt/sw_0615_3131.utt.csv  \n",
            "  inflating: swda/sw06utt/sw_0616_3283.utt.csv  \n",
            "  inflating: swda/sw06utt/sw_0617_3353.utt.csv  \n",
            "  inflating: swda/sw06utt/sw_0618_3368.utt.csv  \n",
            "  inflating: swda/sw06utt/sw_0619_3399.utt.csv  \n",
            "  inflating: swda/sw06utt/sw_0620_3408.utt.csv  \n",
            "  inflating: swda/sw06utt/sw_0621_3449.utt.csv  \n",
            "  inflating: swda/sw06utt/sw_0622_3473.utt.csv  \n",
            "  inflating: swda/sw06utt/sw_0623_3537.utt.csv  \n",
            "  inflating: swda/sw06utt/sw_0624_3557.utt.csv  \n",
            "  inflating: swda/sw06utt/sw_0625_3573.utt.csv  \n",
            "  inflating: swda/sw06utt/sw_0626_3596.utt.csv  \n",
            "  inflating: swda/sw06utt/sw_0627_3651.utt.csv  \n",
            "  inflating: swda/sw06utt/sw_0628_3773.utt.csv  \n",
            "  inflating: swda/sw06utt/sw_0629_4056.utt.csv  \n",
            "  inflating: swda/sw06utt/sw_0630_4080.utt.csv  \n",
            "  inflating: swda/sw06utt/sw_0631_4149.utt.csv  \n",
            "  inflating: swda/sw06utt/sw_0632_4707.utt.csv  \n",
            "  inflating: swda/sw06utt/sw_0633_2024.utt.csv  \n",
            "  inflating: swda/sw06utt/sw_0634_2027.utt.csv  \n",
            "  inflating: swda/sw06utt/sw_0635_2065.utt.csv  \n",
            "  inflating: swda/sw06utt/sw_0636_2079.utt.csv  \n",
            "  inflating: swda/sw06utt/sw_0637_2104.utt.csv  \n",
            "  inflating: swda/sw06utt/sw_0638_2105.utt.csv  \n",
            "  inflating: swda/sw06utt/sw_0639_2187.utt.csv  \n",
            "  inflating: swda/sw06utt/sw_0640_2309.utt.csv  \n",
            "  inflating: swda/sw06utt/sw_0641_2313.utt.csv  \n",
            "  inflating: swda/sw06utt/sw_0642_2450.utt.csv  \n",
            "  inflating: swda/sw06utt/sw_0643_2452.utt.csv  \n",
            "  inflating: swda/sw06utt/sw_0644_2476.utt.csv  \n",
            "  inflating: swda/sw06utt/sw_0645_2537.utt.csv  \n",
            "  inflating: swda/sw06utt/sw_0646_2575.utt.csv  \n",
            "  inflating: swda/sw06utt/sw_0647_2579.utt.csv  \n",
            "  inflating: swda/sw06utt/sw_0648_2616.utt.csv  \n",
            "  inflating: swda/sw06utt/sw_0649_2620.utt.csv  \n",
            "  inflating: swda/sw06utt/sw_0650_2642.utt.csv  \n",
            "  inflating: swda/sw06utt/sw_0651_2766.utt.csv  \n",
            "  inflating: swda/sw06utt/sw_0652_2797.utt.csv  \n",
            "  inflating: swda/sw06utt/sw_0653_2806.utt.csv  \n",
            "  inflating: swda/sw06utt/sw_0654_2847.utt.csv  \n",
            "  inflating: swda/sw06utt/sw_0655_2849.utt.csv  \n",
            "  inflating: swda/sw06utt/sw_0656_2887.utt.csv  \n",
            "  inflating: swda/sw06utt/sw_0657_2900.utt.csv  \n",
            "  inflating: swda/sw06utt/sw_0658_2992.utt.csv  \n",
            "  inflating: swda/sw06utt/sw_0659_3143.utt.csv  \n",
            "  inflating: swda/sw06utt/sw_0660_3190.utt.csv  \n",
            "  inflating: swda/sw06utt/sw_0661_3194.utt.csv  \n",
            "  inflating: swda/sw06utt/sw_0662_3196.utt.csv  \n",
            "  inflating: swda/sw06utt/sw_0663_3225.utt.csv  \n",
            "  inflating: swda/sw06utt/sw_0664_3330.utt.csv  \n",
            "  inflating: swda/sw06utt/sw_0665_3355.utt.csv  \n",
            "  inflating: swda/sw06utt/sw_0666_3359.utt.csv  \n",
            "  inflating: swda/sw06utt/sw_0667_3372.utt.csv  \n",
            "  inflating: swda/sw06utt/sw_0668_3373.utt.csv  \n",
            "  inflating: swda/sw06utt/sw_0669_3381.utt.csv  \n",
            "  inflating: swda/sw06utt/sw_0670_3386.utt.csv  \n",
            "  inflating: swda/sw06utt/sw_0671_3421.utt.csv  \n",
            "  inflating: swda/sw06utt/sw_0672_3453.utt.csv  \n",
            "  inflating: swda/sw06utt/sw_0673_3504.utt.csv  \n",
            "  inflating: swda/sw06utt/sw_0674_3666.utt.csv  \n",
            "  inflating: swda/sw06utt/sw_0675_3675.utt.csv  \n",
            "  inflating: swda/sw06utt/sw_0676_3804.utt.csv  \n",
            "  inflating: swda/sw06utt/sw_0677_3805.utt.csv  \n",
            "  inflating: swda/sw06utt/sw_0678_3845.utt.csv  \n",
            "  inflating: swda/sw06utt/sw_0679_3898.utt.csv  \n",
            "  inflating: swda/sw06utt/sw_0680_3926.utt.csv  \n",
            "  inflating: swda/sw06utt/sw_0681_4147.utt.csv  \n",
            "  inflating: swda/sw06utt/sw_0682_4660.utt.csv  \n",
            "  inflating: swda/sw06utt/sw_0683_4675.utt.csv  \n",
            "  inflating: swda/sw06utt/sw_0684_4723.utt.csv  \n",
            "  inflating: swda/sw06utt/sw_0685_4726.utt.csv  \n",
            "  inflating: swda/sw06utt/sw_0686_4829.utt.csv  \n",
            "  inflating: swda/sw06utt/sw_0687_2085.utt.csv  \n",
            "  inflating: swda/sw06utt/sw_0688_2181.utt.csv  \n",
            "  inflating: swda/sw06utt/sw_0689_2197.utt.csv  \n",
            "  inflating: swda/sw06utt/sw_0690_2268.utt.csv  \n",
            "  inflating: swda/sw06utt/sw_0691_2283.utt.csv  \n",
            "  inflating: swda/sw06utt/sw_0692_2287.utt.csv  \n",
            "  inflating: swda/sw06utt/sw_0693_2300.utt.csv  \n",
            "  inflating: swda/sw06utt/sw_0694_2380.utt.csv  \n",
            "  inflating: swda/sw06utt/sw_0695_2424.utt.csv  \n",
            "  inflating: swda/sw06utt/sw_0696_2431.utt.csv  \n",
            "  inflating: swda/sw06utt/sw_0697_2514.utt.csv  \n",
            "  inflating: swda/sw06utt/sw_0698_2515.utt.csv  \n",
            "  inflating: swda/sw06utt/sw_0699_2519.utt.csv  \n",
            "   creating: swda/sw07utt/\n",
            "  inflating: swda/sw07utt/sw_0700_2586.utt.csv  \n",
            "  inflating: swda/sw07utt/sw_0701_2631.utt.csv  \n",
            "  inflating: swda/sw07utt/sw_0702_2652.utt.csv  \n",
            "  inflating: swda/sw07utt/sw_0703_2661.utt.csv  \n",
            "  inflating: swda/sw07utt/sw_0704_2690.utt.csv  \n",
            "  inflating: swda/sw07utt/sw_0705_2713.utt.csv  \n",
            "  inflating: swda/sw07utt/sw_0706_2751.utt.csv  \n",
            "  inflating: swda/sw07utt/sw_0707_2755.utt.csv  \n",
            "  inflating: swda/sw07utt/sw_0708_2927.utt.csv  \n",
            "  inflating: swda/sw07utt/sw_0709_2952.utt.csv  \n",
            "  inflating: swda/sw07utt/sw_0710_2996.utt.csv  \n",
            "  inflating: swda/sw07utt/sw_0711_3007.utt.csv  \n",
            "  inflating: swda/sw07utt/sw_0712_3029.utt.csv  \n",
            "  inflating: swda/sw07utt/sw_0713_3036.utt.csv  \n",
            "  inflating: swda/sw07utt/sw_0714_3039.utt.csv  \n",
            "  inflating: swda/sw07utt/sw_0715_3092.utt.csv  \n",
            "  inflating: swda/sw07utt/sw_0716_3105.utt.csv  \n",
            "  inflating: swda/sw07utt/sw_0717_3384.utt.csv  \n",
            "  inflating: swda/sw07utt/sw_0718_3543.utt.csv  \n",
            "  inflating: swda/sw07utt/sw_0719_3587.utt.csv  \n",
            "  inflating: swda/sw07utt/sw_0720_3696.utt.csv  \n",
            "  inflating: swda/sw07utt/sw_0721_3777.utt.csv  \n",
            "  inflating: swda/sw07utt/sw_0722_3791.utt.csv  \n",
            "  inflating: swda/sw07utt/sw_0723_3797.utt.csv  \n",
            "  inflating: swda/sw07utt/sw_0724_3802.utt.csv  \n",
            "  inflating: swda/sw07utt/sw_0725_3911.utt.csv  \n",
            "  inflating: swda/sw07utt/sw_0726_4443.utt.csv  \n",
            "  inflating: swda/sw07utt/sw_0727_4605.utt.csv  \n",
            "  inflating: swda/sw07utt/sw_0728_4759.utt.csv  \n",
            "  inflating: swda/sw07utt/sw_0729_4840.utt.csv  \n",
            "  inflating: swda/sw07utt/sw_0730_4905.utt.csv  \n",
            "  inflating: swda/sw07utt/sw_0731_4917.utt.csv  \n",
            "  inflating: swda/sw07utt/sw_0732_4927.utt.csv  \n",
            "  inflating: swda/sw07utt/sw_0733_4940.utt.csv  \n",
            "  inflating: swda/sw07utt/sw_0734_2019.utt.csv  \n",
            "  inflating: swda/sw07utt/sw_0735_2025.utt.csv  \n",
            "  inflating: swda/sw07utt/sw_0736_2071.utt.csv  \n",
            "  inflating: swda/sw07utt/sw_0737_2110.utt.csv  \n",
            "  inflating: swda/sw07utt/sw_0738_2178.utt.csv  \n",
            "  inflating: swda/sw07utt/sw_0739_2180.utt.csv  \n",
            "  inflating: swda/sw07utt/sw_0740_2185.utt.csv  \n",
            "  inflating: swda/sw07utt/sw_0741_2221.utt.csv  \n",
            "  inflating: swda/sw07utt/sw_0742_2235.utt.csv  \n",
            "  inflating: swda/sw07utt/sw_0743_2265.utt.csv  \n",
            "  inflating: swda/sw07utt/sw_0744_2376.utt.csv  \n",
            "  inflating: swda/sw07utt/sw_0745_2387.utt.csv  \n",
            "  inflating: swda/sw07utt/sw_0746_2448.utt.csv  \n",
            "  inflating: swda/sw07utt/sw_0747_2585.utt.csv  \n",
            "  inflating: swda/sw07utt/sw_0748_2663.utt.csv  \n",
            "  inflating: swda/sw07utt/sw_0749_2726.utt.csv  \n",
            "  inflating: swda/sw07utt/sw_0750_2736.utt.csv  \n",
            "  inflating: swda/sw07utt/sw_0751_2793.utt.csv  \n",
            "  inflating: swda/sw07utt/sw_0752_2963.utt.csv  \n",
            "  inflating: swda/sw07utt/sw_0753_3000.utt.csv  \n",
            "  inflating: swda/sw07utt/sw_0754_3003.utt.csv  \n",
            "  inflating: swda/sw07utt/sw_0755_3018.utt.csv  \n",
            "  inflating: swda/sw07utt/sw_0756_3063.utt.csv  \n",
            "  inflating: swda/sw07utt/sw_0757_3071.utt.csv  \n",
            "  inflating: swda/sw07utt/sw_0758_3087.utt.csv  \n",
            "  inflating: swda/sw07utt/sw_0759_3191.utt.csv  \n",
            "  inflating: swda/sw07utt/sw_0760_3291.utt.csv  \n",
            "  inflating: swda/sw07utt/sw_0761_3340.utt.csv  \n",
            "  inflating: swda/sw07utt/sw_0762_3371.utt.csv  \n",
            "  inflating: swda/sw07utt/sw_0763_3402.utt.csv  \n",
            "  inflating: swda/sw07utt/sw_0764_3431.utt.csv  \n",
            "  inflating: swda/sw07utt/sw_0765_3535.utt.csv  \n",
            "  inflating: swda/sw07utt/sw_0766_3556.utt.csv  \n",
            "  inflating: swda/sw07utt/sw_0767_3591.utt.csv  \n",
            "  inflating: swda/sw07utt/sw_0768_3626.utt.csv  \n",
            "  inflating: swda/sw07utt/sw_0769_3659.utt.csv  \n",
            "  inflating: swda/sw07utt/sw_0770_3681.utt.csv  \n",
            "  inflating: swda/sw07utt/sw_0771_3870.utt.csv  \n",
            "  inflating: swda/sw07utt/sw_0772_4752.utt.csv  \n",
            "  inflating: swda/sw07utt/sw_0773_4821.utt.csv  \n",
            "  inflating: swda/sw07utt/sw_0774_4856.utt.csv  \n",
            "  inflating: swda/sw07utt/sw_0775_2006.utt.csv  \n",
            "  inflating: swda/sw07utt/sw_0776_2086.utt.csv  \n",
            "  inflating: swda/sw07utt/sw_0777_2122.utt.csv  \n",
            "  inflating: swda/sw07utt/sw_0778_2248.utt.csv  \n",
            "  inflating: swda/sw07utt/sw_0779_2301.utt.csv  \n",
            "  inflating: swda/sw07utt/sw_0780_2393.utt.csv  \n",
            "  inflating: swda/sw07utt/sw_0781_2482.utt.csv  \n",
            "  inflating: swda/sw07utt/sw_0782_2570.utt.csv  \n",
            "  inflating: swda/sw07utt/sw_0783_2622.utt.csv  \n",
            "  inflating: swda/sw07utt/sw_0784_2630.utt.csv  \n",
            "  inflating: swda/sw07utt/sw_0785_2647.utt.csv  \n",
            "  inflating: swda/sw07utt/sw_0786_2875.utt.csv  \n",
            "  inflating: swda/sw07utt/sw_0787_2926.utt.csv  \n",
            "  inflating: swda/sw07utt/sw_0788_2984.utt.csv  \n",
            "  inflating: swda/sw07utt/sw_0789_2999.utt.csv  \n",
            "  inflating: swda/sw07utt/sw_0790_3002.utt.csv  \n",
            "  inflating: swda/sw07utt/sw_0791_3050.utt.csv  \n",
            "  inflating: swda/sw07utt/sw_0792_3065.utt.csv  \n",
            "  inflating: swda/sw07utt/sw_0793_3095.utt.csv  \n",
            "  inflating: swda/sw07utt/sw_0794_3234.utt.csv  \n",
            "  inflating: swda/sw07utt/sw_0795_3429.utt.csv  \n",
            "  inflating: swda/sw07utt/sw_0796_3464.utt.csv  \n",
            "  inflating: swda/sw07utt/sw_0797_3563.utt.csv  \n",
            "  inflating: swda/sw07utt/sw_0798_3736.utt.csv  \n",
            "  inflating: swda/sw07utt/sw_0799_3828.utt.csv  \n",
            "   creating: swda/sw08utt/\n",
            "  inflating: swda/sw08utt/sw_0800_3841.utt.csv  \n",
            "  inflating: swda/sw08utt/sw_0801_3908.utt.csv  \n",
            "  inflating: swda/sw08utt/sw_0802_3971.utt.csv  \n",
            "  inflating: swda/sw08utt/sw_0803_4037.utt.csv  \n",
            "  inflating: swda/sw08utt/sw_0804_4165.utt.csv  \n",
            "  inflating: swda/sw08utt/sw_0805_4758.utt.csv  \n",
            "  inflating: swda/sw08utt/sw_0806_4774.utt.csv  \n",
            "  inflating: swda/sw08utt/sw_0807_4799.utt.csv  \n",
            "  inflating: swda/sw08utt/sw_0808_2038.utt.csv  \n",
            "  inflating: swda/sw08utt/sw_0809_2040.utt.csv  \n",
            "  inflating: swda/sw08utt/sw_0810_2232.utt.csv  \n",
            "  inflating: swda/sw08utt/sw_0811_2278.utt.csv  \n",
            "  inflating: swda/sw08utt/sw_0812_2289.utt.csv  \n",
            "  inflating: swda/sw08utt/sw_0813_2296.utt.csv  \n",
            "  inflating: swda/sw08utt/sw_0814_2308.utt.csv  \n",
            "  inflating: swda/sw08utt/sw_0815_2354.utt.csv  \n",
            "  inflating: swda/sw08utt/sw_0816_2368.utt.csv  \n",
            "  inflating: swda/sw08utt/sw_0817_2379.utt.csv  \n",
            "  inflating: swda/sw08utt/sw_0818_2528.utt.csv  \n",
            "  inflating: swda/sw08utt/sw_0819_2594.utt.csv  \n",
            "  inflating: swda/sw08utt/sw_0820_2638.utt.csv  \n",
            "  inflating: swda/sw08utt/sw_0821_2711.utt.csv  \n",
            "  inflating: swda/sw08utt/sw_0822_2776.utt.csv  \n",
            "  inflating: swda/sw08utt/sw_0823_2827.utt.csv  \n",
            "  inflating: swda/sw08utt/sw_0824_2944.utt.csv  \n",
            "  inflating: swda/sw08utt/sw_0825_2953.utt.csv  \n",
            "  inflating: swda/sw08utt/sw_0826_2981.utt.csv  \n",
            "  inflating: swda/sw08utt/sw_0827_3019.utt.csv  \n",
            "  inflating: swda/sw08utt/sw_0828_3055.utt.csv  \n",
            "  inflating: swda/sw08utt/sw_0829_3228.utt.csv  \n",
            "  inflating: swda/sw08utt/sw_0830_3233.utt.csv  \n",
            "  inflating: swda/sw08utt/sw_0831_3253.utt.csv  \n",
            "  inflating: swda/sw08utt/sw_0832_3265.utt.csv  \n",
            "  inflating: swda/sw08utt/sw_0833_3281.utt.csv  \n",
            "  inflating: swda/sw08utt/sw_0834_3282.utt.csv  \n",
            "  inflating: swda/sw08utt/sw_0835_3319.utt.csv  \n",
            "  inflating: swda/sw08utt/sw_0836_3326.utt.csv  \n",
            "  inflating: swda/sw08utt/sw_0837_3379.utt.csv  \n",
            "  inflating: swda/sw08utt/sw_0838_3405.utt.csv  \n",
            "  inflating: swda/sw08utt/sw_0839_3424.utt.csv  \n",
            "  inflating: swda/sw08utt/sw_0840_3426.utt.csv  \n",
            "  inflating: swda/sw08utt/sw_0841_3530.utt.csv  \n",
            "  inflating: swda/sw08utt/sw_0842_3657.utt.csv  \n",
            "  inflating: swda/sw08utt/sw_0843_3738.utt.csv  \n",
            "  inflating: swda/sw08utt/sw_0844_3743.utt.csv  \n",
            "  inflating: swda/sw08utt/sw_0845_3754.utt.csv  \n",
            "  inflating: swda/sw08utt/sw_0846_3956.utt.csv  \n",
            "  inflating: swda/sw08utt/sw_0847_3985.utt.csv  \n",
            "  inflating: swda/sw08utt/sw_0848_4666.utt.csv  \n",
            "  inflating: swda/sw08utt/sw_0849_4709.utt.csv  \n",
            "  inflating: swda/sw08utt/sw_0850_4721.utt.csv  \n",
            "  inflating: swda/sw08utt/sw_0851_4802.utt.csv  \n",
            "  inflating: swda/sw08utt/sw_0852_2090.utt.csv  \n",
            "  inflating: swda/sw08utt/sw_0853_2125.utt.csv  \n",
            "  inflating: swda/sw08utt/sw_0854_2168.utt.csv  \n",
            "  inflating: swda/sw08utt/sw_0855_2191.utt.csv  \n",
            "  inflating: swda/sw08utt/sw_0856_2342.utt.csv  \n",
            "  inflating: swda/sw08utt/sw_0857_2483.utt.csv  \n",
            "  inflating: swda/sw08utt/sw_0858_2506.utt.csv  \n",
            "  inflating: swda/sw08utt/sw_0859_2534.utt.csv  \n",
            "  inflating: swda/sw08utt/sw_0860_2614.utt.csv  \n",
            "  inflating: swda/sw08utt/sw_0861_2684.utt.csv  \n",
            "  inflating: swda/sw08utt/sw_0862_2707.utt.csv  \n",
            "  inflating: swda/sw08utt/sw_0863_2709.utt.csv  \n",
            "  inflating: swda/sw08utt/sw_0864_2716.utt.csv  \n",
            "  inflating: swda/sw08utt/sw_0865_2741.utt.csv  \n",
            "  inflating: swda/sw08utt/sw_0866_2768.utt.csv  \n",
            "  inflating: swda/sw08utt/sw_0867_2770.utt.csv  \n",
            "  inflating: swda/sw08utt/sw_0868_2788.utt.csv  \n",
            "  inflating: swda/sw08utt/sw_0869_2871.utt.csv  \n",
            "  inflating: swda/sw08utt/sw_0870_2888.utt.csv  \n",
            "  inflating: swda/sw08utt/sw_0871_2930.utt.csv  \n",
            "  inflating: swda/sw08utt/sw_0872_3034.utt.csv  \n",
            "  inflating: swda/sw08utt/sw_0873_3042.utt.csv  \n",
            "  inflating: swda/sw08utt/sw_0874_3059.utt.csv  \n",
            "  inflating: swda/sw08utt/sw_0875_3136.utt.csv  \n",
            "  inflating: swda/sw08utt/sw_0876_3158.utt.csv  \n",
            "  inflating: swda/sw08utt/sw_0877_3166.utt.csv  \n",
            "  inflating: swda/sw08utt/sw_0878_3189.utt.csv  \n",
            "  inflating: swda/sw08utt/sw_0879_3433.utt.csv  \n",
            "  inflating: swda/sw08utt/sw_0880_3439.utt.csv  \n",
            "  inflating: swda/sw08utt/sw_0881_3500.utt.csv  \n",
            "  inflating: swda/sw08utt/sw_0882_3554.utt.csv  \n",
            "  inflating: swda/sw08utt/sw_0883_3597.utt.csv  \n",
            "  inflating: swda/sw08utt/sw_0884_3676.utt.csv  \n",
            "  inflating: swda/sw08utt/sw_0885_3745.utt.csv  \n",
            "  inflating: swda/sw08utt/sw_0886_3760.utt.csv  \n",
            "  inflating: swda/sw08utt/sw_0887_3803.utt.csv  \n",
            "  inflating: swda/sw08utt/sw_0888_3813.utt.csv  \n",
            "  inflating: swda/sw08utt/sw_0889_3815.utt.csv  \n",
            "  inflating: swda/sw08utt/sw_0890_3903.utt.csv  \n",
            "  inflating: swda/sw08utt/sw_0891_3921.utt.csv  \n",
            "  inflating: swda/sw08utt/sw_0892_3979.utt.csv  \n",
            "  inflating: swda/sw08utt/sw_0893_4630.utt.csv  \n",
            "  inflating: swda/sw08utt/sw_0894_4703.utt.csv  \n",
            "  inflating: swda/sw08utt/sw_0895_4788.utt.csv  \n",
            "  inflating: swda/sw08utt/sw_0896_4814.utt.csv  \n",
            "  inflating: swda/sw08utt/sw_0897_2244.utt.csv  \n",
            "  inflating: swda/sw08utt/sw_0898_2303.utt.csv  \n",
            "  inflating: swda/sw08utt/sw_0899_2325.utt.csv  \n",
            "   creating: swda/sw09utt/\n",
            "  inflating: swda/sw09utt/.DS_Store  \n",
            "   creating: __MACOSX/swda/sw09utt/\n",
            "  inflating: __MACOSX/swda/sw09utt/._.DS_Store  \n",
            "  inflating: swda/sw09utt/sw_0900_2339.utt.csv  \n",
            "  inflating: swda/sw09utt/sw_0901_2418.utt.csv  \n",
            "  inflating: swda/sw09utt/sw_0902_2552.utt.csv  \n",
            "  inflating: swda/sw09utt/sw_0903_2576.utt.csv  \n",
            "  inflating: swda/sw09utt/sw_0904_2767.utt.csv  \n",
            "  inflating: __MACOSX/swda/sw09utt/._sw_0904_2767.utt.csv  \n",
            "  inflating: swda/sw09utt/sw_0905_2780.utt.csv  \n",
            "  inflating: swda/sw09utt/sw_0906_2803.utt.csv  \n",
            "  inflating: swda/sw09utt/sw_0907_2830.utt.csv  \n",
            "  inflating: swda/sw09utt/sw_0908_2844.utt.csv  \n",
            "  inflating: swda/sw09utt/sw_0909_2879.utt.csv  \n",
            "  inflating: swda/sw09utt/sw_0910_2955.utt.csv  \n",
            "  inflating: swda/sw09utt/sw_0911_3121.utt.csv  \n",
            "  inflating: swda/sw09utt/sw_0912_3267.utt.csv  \n",
            "  inflating: swda/sw09utt/sw_0913_3361.utt.csv  \n",
            "  inflating: swda/sw09utt/sw_0914_3448.utt.csv  \n",
            "  inflating: swda/sw09utt/sw_0915_3624.utt.csv  \n",
            "  inflating: swda/sw09utt/sw_0916_3642.utt.csv  \n",
            "  inflating: swda/sw09utt/sw_0917_3694.utt.csv  \n",
            "  inflating: swda/sw09utt/sw_0918_3716.utt.csv  \n",
            "  inflating: swda/sw09utt/sw_0919_3723.utt.csv  \n",
            "  inflating: swda/sw09utt/sw_0920_3747.utt.csv  \n",
            "  inflating: swda/sw09utt/sw_0921_3810.utt.csv  \n",
            "  inflating: swda/sw09utt/sw_0922_3946.utt.csv  \n",
            "  inflating: swda/sw09utt/sw_0923_4615.utt.csv  \n",
            "  inflating: swda/sw09utt/sw_0924_4655.utt.csv  \n",
            "  inflating: swda/sw09utt/sw_0925_4681.utt.csv  \n",
            "  inflating: swda/sw09utt/sw_0926_2149.utt.csv  \n",
            "  inflating: swda/sw09utt/sw_0927_2228.utt.csv  \n",
            "  inflating: swda/sw09utt/sw_0928_2234.utt.csv  \n",
            "  inflating: swda/sw09utt/sw_0929_2344.utt.csv  \n",
            "  inflating: swda/sw09utt/sw_0930_2446.utt.csv  \n",
            "  inflating: swda/sw09utt/sw_0931_2467.utt.csv  \n",
            "  inflating: swda/sw09utt/sw_0932_2610.utt.csv  \n",
            "  inflating: swda/sw09utt/sw_0933_2662.utt.csv  \n",
            "  inflating: swda/sw09utt/sw_0934_2744.utt.csv  \n",
            "  inflating: swda/sw09utt/sw_0935_2774.utt.csv  \n",
            "  inflating: swda/sw09utt/sw_0936_2917.utt.csv  \n",
            "  inflating: swda/sw09utt/sw_0937_2950.utt.csv  \n",
            "  inflating: swda/sw09utt/sw_0938_2983.utt.csv  \n",
            "  inflating: swda/sw09utt/sw_0939_2994.utt.csv  \n",
            "  inflating: swda/sw09utt/sw_0940_2995.utt.csv  \n",
            "  inflating: swda/sw09utt/sw_0941_3014.utt.csv  \n",
            "  inflating: swda/sw09utt/sw_0942_3025.utt.csv  \n",
            "  inflating: swda/sw09utt/sw_0943_3028.utt.csv  \n",
            "  inflating: swda/sw09utt/sw_0944_3064.utt.csv  \n",
            "  inflating: swda/sw09utt/sw_0945_3076.utt.csv  \n",
            "  inflating: swda/sw09utt/sw_0946_3107.utt.csv  \n",
            "  inflating: swda/sw09utt/sw_0947_3118.utt.csv  \n",
            "  inflating: swda/sw09utt/sw_0948_3151.utt.csv  \n",
            "  inflating: swda/sw09utt/sw_0949_3216.utt.csv  \n",
            "  inflating: swda/sw09utt/sw_0950_3221.utt.csv  \n",
            "  inflating: swda/sw09utt/sw_0951_3383.utt.csv  \n",
            "  inflating: swda/sw09utt/sw_0952_3454.utt.csv  \n",
            "  inflating: swda/sw09utt/sw_0953_3457.utt.csv  \n",
            "  inflating: swda/sw09utt/sw_0954_3460.utt.csv  \n",
            "  inflating: swda/sw09utt/sw_0955_3489.utt.csv  \n",
            "  inflating: swda/sw09utt/sw_0956_3521.utt.csv  \n",
            "  inflating: swda/sw09utt/sw_0957_3709.utt.csv  \n",
            "  inflating: swda/sw09utt/sw_0958_3734.utt.csv  \n",
            "  inflating: swda/sw09utt/sw_0959_3735.utt.csv  \n",
            "  inflating: swda/sw09utt/sw_0960_3751.utt.csv  \n",
            "  inflating: swda/sw09utt/sw_0961_3770.utt.csv  \n",
            "  inflating: swda/sw09utt/sw_0962_3847.utt.csv  \n",
            "  inflating: swda/sw09utt/sw_0963_4716.utt.csv  \n",
            "  inflating: swda/sw09utt/sw_0964_2237.utt.csv  \n",
            "  inflating: swda/sw09utt/sw_0965_2263.utt.csv  \n",
            "  inflating: swda/sw09utt/sw_0966_2323.utt.csv  \n",
            "  inflating: swda/sw09utt/sw_0967_2340.utt.csv  \n",
            "  inflating: swda/sw09utt/sw_0968_2413.utt.csv  \n",
            "  inflating: swda/sw09utt/sw_0969_2578.utt.csv  \n",
            "  inflating: swda/sw09utt/sw_0970_2773.utt.csv  \n",
            "  inflating: swda/sw09utt/sw_0971_2839.utt.csv  \n",
            "  inflating: swda/sw09utt/sw_0972_2862.utt.csv  \n",
            "  inflating: swda/sw09utt/sw_0973_2934.utt.csv  \n",
            "  inflating: swda/sw09utt/sw_0974_2942.utt.csv  \n",
            "  inflating: swda/sw09utt/sw_0975_3009.utt.csv  \n",
            "  inflating: swda/sw09utt/sw_0976_3046.utt.csv  \n",
            "  inflating: swda/sw09utt/sw_0977_3104.utt.csv  \n",
            "  inflating: swda/sw09utt/sw_0978_3167.utt.csv  \n",
            "  inflating: swda/sw09utt/sw_0979_3181.utt.csv  \n",
            "  inflating: swda/sw09utt/sw_0980_3185.utt.csv  \n",
            "  inflating: swda/sw09utt/sw_0981_3204.utt.csv  \n",
            "  inflating: swda/sw09utt/sw_0982_3310.utt.csv  \n",
            "  inflating: swda/sw09utt/sw_0983_3363.utt.csv  \n",
            "  inflating: swda/sw09utt/sw_0984_3414.utt.csv  \n",
            "  inflating: swda/sw09utt/sw_0985_3428.utt.csv  \n",
            "  inflating: swda/sw09utt/sw_0986_3455.utt.csv  \n",
            "  inflating: swda/sw09utt/sw_0987_3518.utt.csv  \n",
            "  inflating: swda/sw09utt/sw_0988_3570.utt.csv  \n",
            "  inflating: swda/sw09utt/sw_0989_3692.utt.csv  \n",
            "  inflating: swda/sw09utt/sw_0990_3703.utt.csv  \n",
            "  inflating: swda/sw09utt/sw_0991_3855.utt.csv  \n",
            "  inflating: swda/sw09utt/sw_0992_3952.utt.csv  \n",
            "  inflating: swda/sw09utt/sw_0993_3965.utt.csv  \n",
            "  inflating: swda/sw09utt/sw_0994_4644.utt.csv  \n",
            "  inflating: swda/sw09utt/sw_0995_4735.utt.csv  \n",
            "  inflating: swda/sw09utt/sw_0996_4745.utt.csv  \n",
            "  inflating: swda/sw09utt/sw_0997_2155.utt.csv  \n",
            "  inflating: swda/sw09utt/sw_0998_2175.utt.csv  \n",
            "  inflating: swda/sw09utt/sw_0999_2227.utt.csv  \n",
            "   creating: swda/sw10utt/\n",
            "  inflating: swda/sw10utt/sw_1000_2292.utt.csv  \n",
            "  inflating: swda/sw10utt/sw_1001_2389.utt.csv  \n",
            "  inflating: swda/sw10utt/sw_1002_2426.utt.csv  \n",
            "  inflating: swda/sw10utt/sw_1003_2524.utt.csv  \n",
            "  inflating: swda/sw10utt/sw_1004_2562.utt.csv  \n",
            "  inflating: swda/sw10utt/sw_1005_2693.utt.csv  \n",
            "  inflating: swda/sw10utt/sw_1006_2967.utt.csv  \n",
            "  inflating: swda/sw10utt/sw_1007_2993.utt.csv  \n",
            "  inflating: swda/sw10utt/sw_1008_3016.utt.csv  \n",
            "  inflating: swda/sw10utt/sw_1009_3102.utt.csv  \n",
            "  inflating: swda/sw10utt/sw_1010_3226.utt.csv  \n",
            "  inflating: swda/sw10utt/sw_1011_3352.utt.csv  \n",
            "  inflating: swda/sw10utt/sw_1012_3527.utt.csv  \n",
            "  inflating: swda/sw10utt/sw_1013_4822.utt.csv  \n",
            "  inflating: swda/sw10utt/sw_1014_2101.utt.csv  \n",
            "  inflating: swda/sw10utt/sw_1015_2355.utt.csv  \n",
            "  inflating: swda/sw10utt/sw_1016_2471.utt.csv  \n",
            "  inflating: swda/sw10utt/sw_1017_2543.utt.csv  \n",
            "  inflating: swda/sw10utt/sw_1018_2692.utt.csv  \n",
            "  inflating: swda/sw10utt/sw_1019_2898.utt.csv  \n",
            "  inflating: swda/sw10utt/sw_1020_2935.utt.csv  \n",
            "  inflating: swda/sw10utt/sw_1021_2954.utt.csv  \n",
            "  inflating: swda/sw10utt/sw_1022_2982.utt.csv  \n",
            "  inflating: swda/sw10utt/sw_1023_3231.utt.csv  \n",
            "  inflating: swda/sw10utt/sw_1024_3247.utt.csv  \n",
            "  inflating: swda/sw10utt/sw_1025_3250.utt.csv  \n",
            "  inflating: swda/sw10utt/sw_1026_3280.utt.csv  \n",
            "  inflating: swda/sw10utt/sw_1027_3463.utt.csv  \n",
            "  inflating: swda/sw10utt/sw_1028_3496.utt.csv  \n",
            "  inflating: swda/sw10utt/sw_1029_3774.utt.csv  \n",
            "  inflating: swda/sw10utt/sw_1030_2064.utt.csv  \n",
            "  inflating: swda/sw10utt/sw_1031_2386.utt.csv  \n",
            "  inflating: swda/sw10utt/sw_1032_2557.utt.csv  \n",
            "  inflating: swda/sw10utt/sw_1033_2723.utt.csv  \n",
            "  inflating: swda/sw10utt/sw_1034_2924.utt.csv  \n",
            "  inflating: swda/sw10utt/sw_1035_2957.utt.csv  \n",
            "  inflating: swda/sw10utt/sw_1036_2960.utt.csv  \n",
            "  inflating: swda/sw10utt/sw_1037_3054.utt.csv  \n",
            "  inflating: swda/sw10utt/sw_1038_3061.utt.csv  \n",
            "  inflating: swda/sw10utt/sw_1039_3077.utt.csv  \n",
            "  inflating: swda/sw10utt/sw_1040_3244.utt.csv  \n",
            "  inflating: swda/sw10utt/sw_1041_3290.utt.csv  \n",
            "  inflating: swda/sw10utt/sw_1042_4078.utt.csv  \n",
            "  inflating: swda/sw10utt/sw_1043_2293.utt.csv  \n",
            "  inflating: swda/sw10utt/sw_1044_2457.utt.csv  \n",
            "  inflating: swda/sw10utt/sw_1045_2495.utt.csv  \n",
            "  inflating: swda/sw10utt/sw_1046_2621.utt.csv  \n",
            "  inflating: swda/sw10utt/sw_1047_2754.utt.csv  \n",
            "  inflating: swda/sw10utt/sw_1048_2794.utt.csv  \n",
            "  inflating: swda/sw10utt/sw_1049_2889.utt.csv  \n",
            "  inflating: swda/sw10utt/sw_1050_2968.utt.csv  \n",
            "  inflating: swda/sw10utt/sw_1051_3170.utt.csv  \n",
            "  inflating: swda/sw10utt/sw_1052_3198.utt.csv  \n",
            "  inflating: swda/sw10utt/sw_1053_3203.utt.csv  \n",
            "  inflating: swda/sw10utt/sw_1054_3208.utt.csv  \n",
            "  inflating: swda/sw10utt/sw_1055_3272.utt.csv  \n",
            "  inflating: swda/sw10utt/sw_1056_3276.utt.csv  \n",
            "  inflating: swda/sw10utt/sw_1057_3293.utt.csv  \n",
            "  inflating: swda/sw10utt/sw_1058_3711.utt.csv  \n",
            "  inflating: swda/sw10utt/sw_1059_3764.utt.csv  \n",
            "  inflating: swda/sw10utt/sw_1060_3852.utt.csv  \n",
            "  inflating: swda/sw10utt/sw_1061_4770.utt.csv  \n",
            "  inflating: swda/sw10utt/sw_1062_2190.utt.csv  \n",
            "  inflating: swda/sw10utt/sw_1063_2432.utt.csv  \n",
            "  inflating: swda/sw10utt/sw_1064_2478.utt.csv  \n",
            "  inflating: swda/sw10utt/sw_1065_2675.utt.csv  \n",
            "  inflating: swda/sw10utt/sw_1066_2679.utt.csv  \n",
            "  inflating: swda/sw10utt/sw_1067_2689.utt.csv  \n",
            "  inflating: swda/sw10utt/sw_1068_2834.utt.csv  \n",
            "  inflating: swda/sw10utt/sw_1069_2884.utt.csv  \n",
            "  inflating: swda/sw10utt/sw_1070_3013.utt.csv  \n",
            "  inflating: swda/sw10utt/sw_1071_3162.utt.csv  \n",
            "  inflating: swda/sw10utt/sw_1072_3270.utt.csv  \n",
            "  inflating: swda/sw10utt/sw_1073_3271.utt.csv  \n",
            "  inflating: swda/sw10utt/sw_1074_3647.utt.csv  \n",
            "  inflating: swda/sw10utt/sw_1075_3665.utt.csv  \n",
            "  inflating: swda/sw10utt/sw_1076_3686.utt.csv  \n",
            "  inflating: swda/sw10utt/sw_1077_2205.utt.csv  \n",
            "  inflating: swda/sw10utt/sw_1078_2437.utt.csv  \n",
            "  inflating: swda/sw10utt/sw_1079_2511.utt.csv  \n",
            "  inflating: swda/sw10utt/sw_1080_2812.utt.csv  \n",
            "  inflating: swda/sw10utt/sw_1081_2821.utt.csv  \n",
            "  inflating: swda/sw10utt/sw_1082_2854.utt.csv  \n",
            "  inflating: swda/sw10utt/sw_1083_2959.utt.csv  \n",
            "  inflating: swda/sw10utt/sw_1084_2991.utt.csv  \n",
            "  inflating: swda/sw10utt/sw_1085_3001.utt.csv  \n",
            "  inflating: swda/sw10utt/sw_1086_3057.utt.csv  \n",
            "  inflating: swda/sw10utt/sw_1087_3214.utt.csv  \n",
            "  inflating: swda/sw10utt/sw_1088_3230.utt.csv  \n",
            "  inflating: swda/sw10utt/sw_1089_3567.utt.csv  \n",
            "  inflating: swda/sw10utt/sw_1090_2353.utt.csv  \n",
            "  inflating: swda/sw10utt/sw_1091_2373.utt.csv  \n",
            "  inflating: swda/sw10utt/sw_1092_2623.utt.csv  \n",
            "  inflating: swda/sw10utt/sw_1093_3184.utt.csv  \n",
            "  inflating: swda/sw10utt/sw_1094_3255.utt.csv  \n",
            "  inflating: swda/sw10utt/sw_1095_3257.utt.csv  \n",
            "  inflating: swda/sw10utt/sw_1096_3346.utt.csv  \n",
            "  inflating: swda/sw10utt/sw_1097_3769.utt.csv  \n",
            "  inflating: swda/sw10utt/sw_1098_3788.utt.csv  \n",
            "  inflating: swda/sw10utt/sw_1099_2929.utt.csv  \n",
            "   creating: swda/sw11utt/\n",
            "  inflating: swda/sw11utt/sw_1100_3419.utt.csv  \n",
            "  inflating: swda/sw11utt/sw_1101_3693.utt.csv  \n",
            "  inflating: swda/sw11utt/sw_1102_2820.utt.csv  \n",
            "  inflating: swda/sw11utt/sw_1103_2915.utt.csv  \n",
            "  inflating: swda/sw11utt/sw_1104_2921.utt.csv  \n",
            "  inflating: swda/sw11utt/sw_1105_3175.utt.csv  \n",
            "  inflating: swda/sw11utt/sw_1106_3662.utt.csv  \n",
            "  inflating: swda/sw11utt/sw_1107_3332.utt.csv  \n",
            "  inflating: swda/sw11utt/sw_1108_3533.utt.csv  \n",
            "  inflating: swda/sw11utt/sw_1109_2842.utt.csv  \n",
            "  inflating: swda/sw11utt/sw_1110_2874.utt.csv  \n",
            "  inflating: swda/sw11utt/sw_1111_2897.utt.csv  \n",
            "  inflating: swda/sw11utt/sw_1112_3004.utt.csv  \n",
            "  inflating: swda/sw11utt/sw_1113_2909.utt.csv  \n",
            "  inflating: swda/sw11utt/sw_1114_2262.utt.csv  \n",
            "  inflating: swda/sw11utt/sw_1115_3451.utt.csv  \n",
            "   creating: swda/sw12utt/\n",
            "  inflating: swda/sw12utt/sw_1200_2121.utt.csv  \n",
            "  inflating: swda/sw12utt/sw_1201_2131.utt.csv  \n",
            "  inflating: swda/sw12utt/sw_1202_2151.utt.csv  \n",
            "  inflating: swda/sw12utt/sw_1203_2229.utt.csv  \n",
            "  inflating: swda/sw12utt/sw_1204_2434.utt.csv  \n",
            "  inflating: swda/sw12utt/sw_1205_2441.utt.csv  \n",
            "  inflating: swda/sw12utt/sw_1206_2461.utt.csv  \n",
            "  inflating: swda/sw12utt/sw_1207_2503.utt.csv  \n",
            "  inflating: swda/sw12utt/sw_1208_2724.utt.csv  \n",
            "  inflating: swda/sw12utt/sw_1209_2836.utt.csv  \n",
            "  inflating: swda/sw12utt/sw_1210_3756.utt.csv  \n",
            "   creating: swda/sw13utt/\n",
            "  inflating: swda/sw13utt/sw_1300_2335.utt.csv  \n",
            "  inflating: swda/sw13utt/sw_1301_2347.utt.csv  \n",
            "  inflating: swda/sw13utt/sw_1302_2505.utt.csv  \n",
            "  inflating: swda/sw13utt/sw_1303_2567.utt.csv  \n",
            "  inflating: swda/sw13utt/sw_1304_2632.utt.csv  \n",
            "  inflating: swda/sw13utt/sw_1305_2702.utt.csv  \n",
            "  inflating: swda/sw13utt/sw_1306_2733.utt.csv  \n",
            "  inflating: swda/sw13utt/sw_1307_2752.utt.csv  \n",
            "  inflating: swda/sw13utt/sw_1308_2753.utt.csv  \n",
            "  inflating: swda/sw13utt/sw_1309_2838.utt.csv  \n",
            "  inflating: swda/sw13utt/sw_1310_3035.utt.csv  \n",
            "  inflating: swda/sw13utt/sw_1311_3129.utt.csv  \n",
            "  inflating: swda/sw13utt/sw_1312_3469.utt.csv  \n",
            "  inflating: swda/sw13utt/sw_1313_3520.utt.csv  \n",
            "  inflating: swda/sw13utt/sw_1314_3528.utt.csv  \n",
            "  inflating: swda/sw13utt/sw_1315_3924.utt.csv  \n",
            "  inflating: swda/sw13utt/sw_1316_3936.utt.csv  \n",
            "  inflating: swda/sw13utt/sw_1317_3942.utt.csv  \n",
            "  inflating: swda/sw13utt/sw_1318_3968.utt.csv  \n",
            "  inflating: swda/sw13utt/sw_1319_3994.utt.csv  \n",
            "  inflating: swda/sw13utt/sw_1320_4002.utt.csv  \n",
            "  inflating: swda/sw13utt/sw_1321_4102.utt.csv  \n",
            "  inflating: swda/sw13utt/sw_1322_4157.utt.csv  \n",
            "  inflating: swda/sw13utt/sw_1323_4167.utt.csv  \n",
            "  inflating: swda/sw13utt/sw_1324_4179.utt.csv  \n",
            "  inflating: swda/sw13utt/sw_1325_4384.utt.csv  \n",
            "  inflating: swda/sw13utt/sw_1326_4622.utt.csv  \n",
            "  inflating: swda/sw13utt/sw_1327_4643.utt.csv  \n",
            "  inflating: swda/sw13utt/sw_1328_4771.utt.csv  \n",
            "  inflating: swda/swda-metadata.csv  \n",
            "  inflating: __MACOSX/swda/._swda-metadata.csv  \n"
          ]
        }
      ],
      "source": [
        "!wget http://compprag.christopherpotts.net/code-data/swda.zip\n",
        "!unzip swda.zip"
      ]
    },
    {
      "cell_type": "code",
      "execution_count": 4,
      "metadata": {
        "id": "6E8axaw1hAbM"
      },
      "outputs": [],
      "source": [
        "f = glob.glob(\"swda/sw*/sw*.csv\")\n",
        "frames = []\n",
        "for i in range(0, len(f)):\n",
        "    frames.append(pd.read_csv(f[i]))\n",
        "\n",
        "result = pd.concat(frames, ignore_index=True)\n"
      ]
    },
    {
      "cell_type": "code",
      "execution_count": 5,
      "metadata": {
        "colab": {
          "base_uri": "https://localhost:8080/"
        },
        "id": "b7hKGF7EhM4s",
        "outputId": "622b15c5-38dc-4664-89d4-82509f423484"
      },
      "outputs": [
        {
          "output_type": "stream",
          "name": "stdout",
          "text": [
            "Number of converations in the dataset: 223606\n"
          ]
        }
      ],
      "source": [
        "print(\"Number of converations in the dataset:\",len(result))\n"
      ]
    },
    {
      "cell_type": "markdown",
      "metadata": {
        "id": "0ttyB2lQhc7B"
      },
      "source": [
        "The dataset has many different features, we are only using act_tag and text for this training.\n"
      ]
    },
    {
      "cell_type": "code",
      "execution_count": 6,
      "metadata": {
        "id": "-jUifIdshhD0"
      },
      "outputs": [],
      "source": [
        "reduced_df = result[['act_tag','text']]\n"
      ]
    },
    {
      "cell_type": "markdown",
      "metadata": {
        "id": "-iPmZvysqg2i"
      },
      "source": [
        "Reduce the number of tags to 43 by combining them and converting them to generic tags."
      ]
    },
    {
      "cell_type": "code",
      "execution_count": 7,
      "metadata": {
        "id": "MQuHm0jPt_lz"
      },
      "outputs": [],
      "source": [
        "# Imported from \"https://github.com/cgpotts/swda\"\n",
        "# Convert the combination tags to the generic 43 tags\n",
        "\n",
        "import re\n",
        "def damsl_act_tag(input):\n",
        "        \"\"\"\n",
        "        Seeks to duplicate the tag simplification described at the\n",
        "        Coders' Manual: http://www.stanford.edu/~jurafsky/ws97/manual.august1.html\n",
        "        \"\"\"\n",
        "        d_tags = []\n",
        "        tags = re.split(r\"\\s*[,;]\\s*\", input)\n",
        "        for tag in tags:\n",
        "            if tag in ('qy^d', 'qw^d', 'b^m'): pass\n",
        "            elif tag == 'nn^e': tag = 'ng'\n",
        "            elif tag == 'ny^e': tag = 'na'\n",
        "            else: \n",
        "                tag = re.sub(r'(.)\\^.*', r'\\1', tag)\n",
        "                tag = re.sub(r'[\\(\\)@*]', '', tag)            \n",
        "                if tag in ('qr', 'qy'):                         tag = 'qy'\n",
        "                elif tag in ('fe', 'ba'):                       tag = 'ba'\n",
        "                elif tag in ('oo', 'co', 'cc'):                 tag = 'oo_co_cc'\n",
        "                elif tag in ('fx', 'sv'):                       tag = 'sv'\n",
        "                elif tag in ('aap', 'am'):                      tag = 'aap_am'\n",
        "                elif tag in ('arp', 'nd'):                      tag = 'arp_nd'\n",
        "                elif tag in ('fo', 'o', 'fw', '\"', 'by', 'bc'): tag = 'fo_o_fw_\"_by_bc'            \n",
        "            d_tags.append(tag)\n",
        "        # Dan J says (p.c.) that it makes sense to take the first;\n",
        "        # there are only a handful of examples with 2 tags here.\n",
        "        return d_tags[0]"
      ]
    },
    {
      "cell_type": "code",
      "execution_count": 8,
      "metadata": {
        "colab": {
          "base_uri": "https://localhost:8080/"
        },
        "id": "S8N_PUCAblq3",
        "outputId": "02d87b61-65f7-4e4d-810a-7b4ffd3136db"
      },
      "outputs": [
        {
          "output_type": "stream",
          "name": "stderr",
          "text": [
            "/usr/local/lib/python3.7/dist-packages/ipykernel_launcher.py:1: SettingWithCopyWarning: \n",
            "A value is trying to be set on a copy of a slice from a DataFrame.\n",
            "Try using .loc[row_indexer,col_indexer] = value instead\n",
            "\n",
            "See the caveats in the documentation: https://pandas.pydata.org/pandas-docs/stable/user_guide/indexing.html#returning-a-view-versus-a-copy\n",
            "  \"\"\"Entry point for launching an IPython kernel.\n"
          ]
        }
      ],
      "source": [
        "reduced_df[\"act_tag\"] = reduced_df[\"act_tag\"].apply(lambda x: damsl_act_tag(x))"
      ]
    },
    {
      "cell_type": "markdown",
      "metadata": {
        "id": "0UNy0vvhhqpD"
      },
      "source": [
        "This dataset contains 43 tags. Yes-No-Question ('qy'), Statement-non-opinion ('sd'), and Statement-opinion ('sv') are some of the tags. Tags information can be found here http://compprag.christopherpotts.net/swda.html#tags. \n"
      ]
    },
    {
      "cell_type": "markdown",
      "metadata": {
        "id": "9dR1rKmkh9QG"
      },
      "source": [
        "You can check the frequency of tags."
      ]
    },
    {
      "cell_type": "markdown",
      "metadata": {
        "id": "9biiyP8UiGDe"
      },
      "source": [
        "To get unique tags:"
      ]
    },
    {
      "cell_type": "code",
      "execution_count": 9,
      "metadata": {
        "id": "BrhW8gyLfQQK"
      },
      "outputs": [],
      "source": [
        "unique_tags = set()\n",
        "for tag in reduced_df['act_tag']:\n",
        "    unique_tags.add(tag)"
      ]
    },
    {
      "cell_type": "code",
      "execution_count": 10,
      "metadata": {
        "id": "LMOX5KwgiPmu"
      },
      "outputs": [],
      "source": [
        "one_hot_encoding_dic = pd.get_dummies(list(unique_tags))\n"
      ]
    },
    {
      "cell_type": "code",
      "execution_count": 11,
      "metadata": {
        "id": "ZPHPCxE3iPby"
      },
      "outputs": [],
      "source": [
        "tags_encoding = []\n",
        "for i in range(0, len(reduced_df)):\n",
        "    tags_encoding.append(one_hot_encoding_dic[reduced_df['act_tag'].iloc[i]])"
      ]
    },
    {
      "cell_type": "markdown",
      "metadata": {
        "id": "LVI8QyVzjqWh"
      },
      "source": [
        "The tags are one hot encoded."
      ]
    },
    {
      "cell_type": "markdown",
      "metadata": {
        "id": "SQJTiffPjUtu"
      },
      "source": [
        "To create sentence embeddings:"
      ]
    },
    {
      "cell_type": "code",
      "execution_count": 12,
      "metadata": {
        "id": "PmkyD1TfjWGO"
      },
      "outputs": [],
      "source": [
        "sentences = []\n",
        "for i in range(0, len(reduced_df)):\n",
        "    sentences.append(reduced_df['text'].iloc[i].split(\" \"))\n"
      ]
    },
    {
      "cell_type": "code",
      "execution_count": 13,
      "metadata": {
        "id": "MlD6L6e3jV-7"
      },
      "outputs": [],
      "source": [
        "wordvectors = {}\n",
        "index = 1\n",
        "for s in sentences:\n",
        "    for w in s:\n",
        "        if w not in wordvectors:\n",
        "            wordvectors[w] = index\n",
        "            index += 1"
      ]
    },
    {
      "cell_type": "code",
      "execution_count": 14,
      "metadata": {
        "id": "LX6DidEvjVWs"
      },
      "outputs": [],
      "source": [
        "sentence_embeddings = []\n",
        "for s in sentences:\n",
        "    sentence_emb = []\n",
        "    for w in s:\n",
        "        sentence_emb.append(wordvectors[w])\n",
        "    sentence_embeddings.append(sentence_emb)\n"
      ]
    },
    {
      "cell_type": "markdown",
      "metadata": {
        "id": "Nr4iEyNTjmlu"
      },
      "source": [
        "The dataset is divided into two sections: test and training."
      ]
    },
    {
      "cell_type": "code",
      "execution_count": 15,
      "metadata": {
        "id": "GiNZ-iI_jnOF"
      },
      "outputs": [],
      "source": [
        "from sklearn.model_selection import train_test_split\n",
        "import numpy as np\n",
        "X_train, X_test, y_train, y_test = train_test_split(sentence_embeddings, np.array(tags_encoding),shuffle=False, stratify=None)\n"
      ]
    },
    {
      "cell_type": "markdown",
      "metadata": {
        "id": "_RqMeWe_jron"
      },
      "source": [
        "Pad each utterance to make them all the same length.\n",
        "\n",
        "\n"
      ]
    },
    {
      "cell_type": "code",
      "execution_count": 16,
      "metadata": {
        "id": "yqD7DvzRGRY7"
      },
      "outputs": [],
      "source": [
        "MAX_LENGTH = 150"
      ]
    },
    {
      "cell_type": "code",
      "execution_count": 17,
      "metadata": {
        "id": "Ai9cwv82jufe"
      },
      "outputs": [],
      "source": [
        "from keras.preprocessing.sequence import pad_sequences\n",
        " \n",
        "train_sentences_X = pad_sequences(X_train, maxlen=MAX_LENGTH, padding='post')\n",
        "test_sentences_X = pad_sequences(X_test, maxlen=MAX_LENGTH, padding='post')"
      ]
    },
    {
      "cell_type": "code",
      "execution_count": 18,
      "metadata": {
        "id": "517zYSQLXkbn"
      },
      "outputs": [],
      "source": [
        "# Split Train into Train and Validation - about 10% into validation - In order to validate the model as it is training\n",
        "\n",
        "train_input = train_sentences_X[:140000]\n",
        "val_input = train_sentences_X[140000:]\n",
        "\n",
        "train_labels = y_train[:140000]\n",
        "val_labels = y_train[140000:]\n"
      ]
    },
    {
      "cell_type": "code",
      "execution_count": 19,
      "metadata": {
        "colab": {
          "base_uri": "https://localhost:8080/"
        },
        "id": "igsWGlltd9Bs",
        "outputId": "ab72c1b1-3110-4176-c252-256aaa66e15d"
      },
      "outputs": [
        {
          "output_type": "execute_result",
          "data": {
            "text/plain": [
              "array([103,   3,   0,   0,   0,   0,   0,   0,   0,   0,   0,   0,   0,\n",
              "         0,   0,   0,   0,   0,   0,   0,   0,   0,   0,   0,   0,   0,\n",
              "         0,   0,   0,   0,   0,   0,   0,   0,   0,   0,   0,   0,   0,\n",
              "         0,   0,   0,   0,   0,   0,   0,   0,   0,   0,   0,   0,   0,\n",
              "         0,   0,   0,   0,   0,   0,   0,   0,   0,   0,   0,   0,   0,\n",
              "         0,   0,   0,   0,   0,   0,   0,   0,   0,   0,   0,   0,   0,\n",
              "         0,   0,   0,   0,   0,   0,   0,   0,   0,   0,   0,   0,   0,\n",
              "         0,   0,   0,   0,   0,   0,   0,   0,   0,   0,   0,   0,   0,\n",
              "         0,   0,   0,   0,   0,   0,   0,   0,   0,   0,   0,   0,   0,\n",
              "         0,   0,   0,   0,   0,   0,   0,   0,   0,   0,   0,   0,   0,\n",
              "         0,   0,   0,   0,   0,   0,   0,   0,   0,   0,   0,   0,   0,\n",
              "         0,   0,   0,   0,   0,   0,   0], dtype=int32)"
            ]
          },
          "metadata": {},
          "execution_count": 19
        }
      ],
      "source": [
        "train_input[11050]\n"
      ]
    },
    {
      "cell_type": "code",
      "execution_count": 20,
      "metadata": {
        "colab": {
          "base_uri": "https://localhost:8080/"
        },
        "id": "RMHV2AoseXYT",
        "outputId": "4902261a-cf81-4073-cdda-5d9d972753f1"
      },
      "outputs": [
        {
          "output_type": "execute_result",
          "data": {
            "text/plain": [
              "[103, 3]"
            ]
          },
          "metadata": {},
          "execution_count": 20
        }
      ],
      "source": [
        "sentence_embeddings[11050]"
      ]
    },
    {
      "cell_type": "markdown",
      "metadata": {
        "id": "kHJbZDtk7N-3"
      },
      "source": [
        "# Model 1 - \n",
        "\n",
        "This first model has an architecture of:\n",
        "\n",
        "- Embedding  \n",
        "- BLSTM  \n",
        "- Fully Connected Layer\n",
        "- Softmax Activation"
      ]
    },
    {
      "cell_type": "markdown",
      "metadata": {
        "id": "FItlHC1Fjz6y"
      },
      "source": [
        "The model architecture is as follows: Embedding Layer (to generate word \n",
        "embeddings). Next layer Bidirectional LSTM. Feed forward layer with number of neurons = number of tags. Softmax activation to get probabilities.\n"
      ]
    },
    {
      "cell_type": "code",
      "execution_count": 21,
      "metadata": {
        "id": "M97Sw5iv-lEU"
      },
      "outputs": [],
      "source": [
        "VOCAB_SIZE = len(wordvectors)+1 # 43,731\n",
        "EMBED_SIZE = 100 # arbitary\n",
        "HIDDEN_SIZE = len(unique_tags) "
      ]
    },
    {
      "cell_type": "code",
      "execution_count": 22,
      "metadata": {
        "colab": {
          "base_uri": "https://localhost:8080/"
        },
        "id": "LCaX-ptaj8G2",
        "outputId": "5ab6352f-6e51-489f-be3e-16e6d1c3e83b"
      },
      "outputs": [
        {
          "output_type": "stream",
          "name": "stdout",
          "text": [
            "Model: \"sequential\"\n",
            "_________________________________________________________________\n",
            " Layer (type)                Output Shape              Param #   \n",
            "=================================================================\n",
            " embedding (Embedding)       (None, 150, 100)          4373200   \n",
            "                                                                 \n",
            " bidirectional (Bidirectiona  (None, 150, 86)          49536     \n",
            " l)                                                              \n",
            "                                                                 \n",
            " bidirectional_1 (Bidirectio  (None, 86)               44720     \n",
            " nal)                                                            \n",
            "                                                                 \n",
            " dense (Dense)               (None, 43)                3741      \n",
            "                                                                 \n",
            " activation (Activation)     (None, 43)                0         \n",
            "                                                                 \n",
            "=================================================================\n",
            "Total params: 4,471,197\n",
            "Trainable params: 4,471,197\n",
            "Non-trainable params: 0\n",
            "_________________________________________________________________\n"
          ]
        }
      ],
      "source": [
        "from keras.models import Sequential\n",
        "from keras.layers import LSTM\n",
        "from keras.layers import Dense\n",
        "from keras.layers import Dropout, InputLayer, Bidirectional, Activation, Embedding\n",
        "from tensorflow.keras.optimizers import Adam\n",
        "\n",
        "#Building the network\n",
        "\n",
        "# Include 2 BLSTM layers, in order to capture both the forward and backward hidden states\n",
        "model = Sequential()\n",
        "# Embedding layer with output size = EMBED_SIZE\n",
        "model.add(Embedding(VOCAB_SIZE, EMBED_SIZE, input_length = MAX_LENGTH))\n",
        "# Bidirectional 1\n",
        "model.add(Bidirectional(LSTM(HIDDEN_SIZE, return_sequences= True)))\n",
        "# Bidirectional 2\n",
        "model.add(Bidirectional(LSTM(HIDDEN_SIZE)))\n",
        "# Dense layer\n",
        "model.add(Dense(HIDDEN_SIZE))\n",
        "# Activation\n",
        "model.add(Activation('softmax'))\n",
        "\n",
        "model.compile(loss='categorical_crossentropy',optimizer='adam',metrics=['accuracy'])\n",
        "\n",
        "model.summary()"
      ]
    },
    {
      "cell_type": "code",
      "execution_count": 23,
      "metadata": {
        "colab": {
          "base_uri": "https://localhost:8080/"
        },
        "id": "OeiLkgD3Arpl",
        "outputId": "eaba0dbd-cc10-437e-a3f8-1499166d3f47"
      },
      "outputs": [
        {
          "output_type": "stream",
          "name": "stdout",
          "text": [
            "Epoch 1/10\n",
            "274/274 [==============================] - 77s 239ms/step - loss: 1.7744 - accuracy: 0.5132 - val_loss: 1.3442 - val_accuracy: 0.6216\n",
            "Epoch 2/10\n",
            "274/274 [==============================] - 63s 231ms/step - loss: 1.2037 - accuracy: 0.6508 - val_loss: 1.1286 - val_accuracy: 0.6760\n",
            "Epoch 3/10\n",
            "274/274 [==============================] - 63s 231ms/step - loss: 1.0135 - accuracy: 0.7087 - val_loss: 1.0617 - val_accuracy: 0.6936\n",
            "Epoch 4/10\n",
            "274/274 [==============================] - 64s 233ms/step - loss: 0.9029 - accuracy: 0.7392 - val_loss: 1.0326 - val_accuracy: 0.6941\n",
            "Epoch 5/10\n",
            "274/274 [==============================] - 64s 233ms/step - loss: 0.8285 - accuracy: 0.7573 - val_loss: 1.0169 - val_accuracy: 0.7075\n",
            "Epoch 6/10\n",
            "274/274 [==============================] - 64s 233ms/step - loss: 0.7737 - accuracy: 0.7714 - val_loss: 1.0417 - val_accuracy: 0.7039\n",
            "Epoch 7/10\n",
            "274/274 [==============================] - 64s 233ms/step - loss: 0.7359 - accuracy: 0.7796 - val_loss: 1.0283 - val_accuracy: 0.7065\n",
            "Epoch 8/10\n",
            "274/274 [==============================] - 64s 234ms/step - loss: 0.6990 - accuracy: 0.7893 - val_loss: 1.0310 - val_accuracy: 0.7069\n",
            "Epoch 9/10\n",
            "274/274 [==============================] - 64s 232ms/step - loss: 0.6725 - accuracy: 0.7964 - val_loss: 1.0530 - val_accuracy: 0.7025\n",
            "Epoch 10/10\n",
            "274/274 [==============================] - 63s 231ms/step - loss: 0.6465 - accuracy: 0.8021 - val_loss: 1.0911 - val_accuracy: 0.6981\n"
          ]
        }
      ],
      "source": [
        "# Train the model - use validation \n",
        "history = model.fit(train_input, train_labels, batch_size=512, epochs=10, validation_data=(val_input, val_labels))"
      ]
    },
    {
      "cell_type": "code",
      "execution_count": 24,
      "metadata": {
        "colab": {
          "base_uri": "https://localhost:8080/"
        },
        "id": "2LkONUKQkSrL",
        "outputId": "2e53700c-62de-459c-91e1-ad5140165095"
      },
      "outputs": [
        {
          "output_type": "stream",
          "name": "stdout",
          "text": [
            "560/560 [==============================] - 33s 59ms/step - loss: 1.1279 - accuracy: 0.6842\n"
          ]
        }
      ],
      "source": [
        "score = model.evaluate(test_sentences_X, y_test, batch_size=100)"
      ]
    },
    {
      "cell_type": "code",
      "execution_count": 25,
      "metadata": {
        "colab": {
          "base_uri": "https://localhost:8080/"
        },
        "id": "Ab0ZL1dqkTY4",
        "outputId": "4861102c-45fb-4f10-815e-240ef4d0073f"
      },
      "outputs": [
        {
          "output_type": "stream",
          "name": "stdout",
          "text": [
            "Overall Accuracy: 68.41973662376404\n"
          ]
        }
      ],
      "source": [
        "print(\"Overall Accuracy:\", score[1]*100)\n"
      ]
    },
    {
      "cell_type": "code",
      "execution_count": 26,
      "metadata": {
        "colab": {
          "base_uri": "https://localhost:8080/",
          "height": 295
        },
        "id": "AGJKJKuNEMsk",
        "outputId": "bec84c65-6d9c-4f84-e339-6e8bcbc36e98"
      },
      "outputs": [
        {
          "output_type": "display_data",
          "data": {
            "text/plain": [
              "<Figure size 432x288 with 1 Axes>"
            ],
            "image/png": "[encoded data removed]"
          },
          "metadata": {
            "needs_background": "light"
          }
        }
      ],
      "source": [
        "# Plot Accuracy Graph\n",
        "import matplotlib.pyplot as plt\n",
        "\n",
        "plt.plot(history.history['accuracy'])\n",
        "plt.plot(history.history['val_accuracy'])\n",
        "plt.title('model accuracy')\n",
        "plt.ylabel('accuracy')\n",
        "plt.xlabel('epoch')\n",
        "plt.legend(['train', 'test'], loc='upper left')\n",
        "plt.show()"
      ]
    },
    {
      "cell_type": "markdown",
      "metadata": {
        "id": "LhMViQVSPY1J"
      },
      "source": [
        "## Evaluation\n",
        "\n",
        "\n"
      ]
    },
    {
      "cell_type": "markdown",
      "metadata": {
        "id": "XHwoVCEwjEz7"
      },
      "source": [
        "You should look at the accuracy of some minority classes in addition to overall accuracy. Signal-non-understanding ('br') is a good indicator of \"other-repair,\" or situations in which the other conversational participant tries to correct the speaker's mistake. In dialogue summarization, the term \"summarize/reformulate\" ('bf') has been used. Report on the system's accuracy in predicting these classes, as well as any common errors you notice. "
      ]
    },
    {
      "cell_type": "markdown",
      "metadata": {
        "id": "H7owA1f27se8"
      },
      "source": [
        "## Minority Classes"
      ]
    },
    {
      "cell_type": "code",
      "execution_count": 27,
      "metadata": {
        "id": "UZ8BwgDxNcIr"
      },
      "outputs": [],
      "source": [
        "# Generate predictions for the test data\n",
        "predictions = model.predict(test_sentences_X, batch_size=100)"
      ]
    },
    {
      "cell_type": "code",
      "execution_count": 28,
      "metadata": {
        "id": "5I26g20qQdzF"
      },
      "outputs": [],
      "source": [
        "# Build the confusion matrix off these predictions\n",
        "confusion_matrix = sklearn.metrics.confusion_matrix(y_test.argmax(axis=1), predictions.argmax(axis=1))"
      ]
    },
    {
      "cell_type": "code",
      "execution_count": 29,
      "metadata": {
        "colab": {
          "base_uri": "https://localhost:8080/"
        },
        "id": "pmcgHaibbq9B",
        "outputId": "62bb1447-7f30-4777-e734-d018edc69f53"
      },
      "outputs": [
        {
          "output_type": "stream",
          "name": "stdout",
          "text": [
            "[[364   2   0 ...   0   0   1]\n",
            " [  6  40   0 ...   0   0   1]\n",
            " [  0   1   0 ...   0   0  31]\n",
            " ...\n",
            " [  3   1   0 ...   0   0   0]\n",
            " [  0   0   0 ...   0   0   1]\n",
            " [  1   4   0 ...   0   0 180]]\n"
          ]
        }
      ],
      "source": [
        "print(confusion_matrix)"
      ]
    },
    {
      "cell_type": "code",
      "execution_count": 30,
      "metadata": {
        "colab": {
          "base_uri": "https://localhost:8080/"
        },
        "id": "KhvNxjV3EMsl",
        "outputId": "4bdbd7ee-11f7-4195-f67f-0a9cf61f35cb"
      },
      "outputs": [
        {
          "output_type": "stream",
          "name": "stdout",
          "text": [
            "Accuracy Score : 0.6841973453543702\n",
            "Classification Report : \n",
            "              precision    recall  f1-score   support\n",
            "\n",
            "           0       0.53      0.49      0.51       746\n",
            "           1       0.22      0.21      0.21       194\n",
            "           2       0.00      0.00      0.00        66\n",
            "           3       0.54      0.46      0.49      6988\n",
            "           4       0.20      0.04      0.07        25\n",
            "           5       0.15      0.05      0.07       126\n",
            "           6       0.51      0.84      0.64       312\n",
            "           7       0.76      0.79      0.77      3710\n",
            "           8       0.60      0.11      0.18       282\n",
            "           9       0.30      0.25      0.27       265\n",
            "          10       0.47      0.31      0.37      2384\n",
            "          11       0.00      0.00      0.00        26\n",
            "          12       0.63      0.38      0.47       181\n",
            "          13       0.00      0.00      0.00        20\n",
            "          14       0.77      0.94      0.85     10529\n",
            "          15       0.06      0.03      0.04       214\n",
            "          16       0.45      0.38      0.42       130\n",
            "          17       0.38      0.61      0.47        56\n",
            "          18       0.52      0.52      0.52        52\n",
            "          19       0.60      0.59      0.60       428\n",
            "          20       0.00      0.00      0.00        78\n",
            "          21       0.88      0.92      0.90      1005\n",
            "          22       0.25      0.09      0.13        45\n",
            "          23       0.73      0.79      0.76     18047\n",
            "          24       0.25      0.06      0.09       800\n",
            "          25       0.00      0.00      0.00        20\n",
            "          26       0.67      0.10      0.17        21\n",
            "          27       0.00      0.00      0.00        17\n",
            "          28       0.00      0.00      0.00        60\n",
            "          29       0.64      0.67      0.66      4867\n",
            "          30       0.12      0.04      0.06       272\n",
            "          31       0.00      0.00      0.00        74\n",
            "          32       0.00      0.00      0.00        15\n",
            "          33       0.69      0.60      0.64      1284\n",
            "          34       0.08      0.06      0.07       344\n",
            "          35       0.08      0.05      0.06       169\n",
            "          36       0.00      0.00      0.00        14\n",
            "          37       0.59      0.58      0.59      1132\n",
            "          38       0.00      0.00      0.00       156\n",
            "          39       0.73      0.78      0.75       248\n",
            "          40       0.00      0.00      0.00       218\n",
            "          41       0.00      0.00      0.00        23\n",
            "          42       0.54      0.69      0.61       259\n",
            "\n",
            "    accuracy                           0.68     55902\n",
            "   macro avg       0.32      0.29      0.29     55902\n",
            "weighted avg       0.65      0.68      0.66     55902\n",
            "\n"
          ]
        },
        {
          "output_type": "stream",
          "name": "stderr",
          "text": [
            "/usr/local/lib/python3.7/dist-packages/sklearn/metrics/_classification.py:1318: UndefinedMetricWarning: Precision and F-score are ill-defined and being set to 0.0 in labels with no predicted samples. Use `zero_division` parameter to control this behavior.\n",
            "  _warn_prf(average, modifier, msg_start, len(result))\n",
            "/usr/local/lib/python3.7/dist-packages/sklearn/metrics/_classification.py:1318: UndefinedMetricWarning: Precision and F-score are ill-defined and being set to 0.0 in labels with no predicted samples. Use `zero_division` parameter to control this behavior.\n",
            "  _warn_prf(average, modifier, msg_start, len(result))\n",
            "/usr/local/lib/python3.7/dist-packages/sklearn/metrics/_classification.py:1318: UndefinedMetricWarning: Precision and F-score are ill-defined and being set to 0.0 in labels with no predicted samples. Use `zero_division` parameter to control this behavior.\n",
            "  _warn_prf(average, modifier, msg_start, len(result))\n"
          ]
        }
      ],
      "source": [
        "# GEt the Accuracy score and Classification Report\n",
        "from sklearn.metrics import accuracy_score\n",
        "from sklearn.metrics import classification_report\n",
        "\n",
        "print ('Accuracy Score :',accuracy_score(y_test.argmax(axis=1), predictions.argmax(axis=1)))\n",
        "print('Classification Report : ')\n",
        "print (classification_report(y_test.argmax(axis=1), predictions.argmax(axis=1)))"
      ]
    },
    {
      "cell_type": "code",
      "execution_count": 31,
      "metadata": {
        "colab": {
          "base_uri": "https://localhost:8080/"
        },
        "id": "BsNUyUyQEMsl",
        "outputId": "7f37b835-97de-44a1-8b06-ab7f336dcb76"
      },
      "outputs": [
        {
          "output_type": "execute_result",
          "data": {
            "text/plain": [
              "0                  fc\n",
              "1                  ad\n",
              "2                  no\n",
              "3                  sv\n",
              "4                  t3\n",
              "5                  qh\n",
              "6                  nn\n",
              "7                   %\n",
              "8                  bk\n",
              "9     fo_o_fw_\"_by_bc\n",
              "10                 aa\n",
              "11                 t1\n",
              "12                 qo\n",
              "13                 ft\n",
              "14                  b\n",
              "15                 ^2\n",
              "16                 ^h\n",
              "17                 br\n",
              "18                 fp\n",
              "19                 qw\n",
              "20                 ng\n",
              "21                  x\n",
              "22                qrr\n",
              "23                 sd\n",
              "24                 ny\n",
              "25             aap_am\n",
              "26                 bd\n",
              "27                 fa\n",
              "28             arp_nd\n",
              "29                  +\n",
              "30                 ^q\n",
              "31                 ar\n",
              "32                 ^g\n",
              "33                 ba\n",
              "34               qy^d\n",
              "35                 bf\n",
              "36           oo_co_cc\n",
              "37                 qy\n",
              "38                b^m\n",
              "39                 bh\n",
              "40                 na\n",
              "41               qw^d\n",
              "42                  h\n",
              "dtype: object"
            ]
          },
          "metadata": {},
          "execution_count": 31
        }
      ],
      "source": [
        "# get the 'br' and 'bf' index\n",
        "one_hot_encoding_dic.idxmax(axis=1)"
      ]
    },
    {
      "cell_type": "code",
      "execution_count": 32,
      "metadata": {
        "colab": {
          "base_uri": "https://localhost:8080/"
        },
        "id": "muWtF2t0W0zd",
        "outputId": "8482ac4a-fa49-4a6c-b3d4-c39bae2197a6"
      },
      "outputs": [
        {
          "output_type": "stream",
          "name": "stdout",
          "text": [
            "br accuracy: 60.71428571428571\n",
            "bf accuracy: 4.733727810650888\n"
          ]
        }
      ],
      "source": [
        "# Calculate Accuracies for \"br\" and \"bf\"\n",
        "acc_class = confusion_matrix.diagonal()/confusion_matrix.sum(axis=1)\n",
        "\n",
        "index_br = list(one_hot_encoding_dic[\"br\"][one_hot_encoding_dic[\"br\"]==1].index)[0]\n",
        "br_accuracy = acc_class[index_br]*100\n",
        "print(\"br accuracy: {}\".format(br_accuracy))\n",
        "\n",
        "index_bf = list(one_hot_encoding_dic[\"bf\"][one_hot_encoding_dic[\"bf\"]==1].index)[0]\n",
        "bf_accuracy = acc_class[index_bf]*100\n",
        "print(\"bf accuracy: {}\".format(bf_accuracy))"
      ]
    },
    {
      "cell_type": "markdown",
      "metadata": {
        "id": "HdnpWLggZ-6z"
      },
      "source": [
        "## Minority Classes\n",
        "\n",
        "\n",
        "\n",
        "Minority classes are frequently misidentified as majority classes, owing to the fact that majority classes have significantly more data and thus can be trained on. With 33 percent and 17 percent, respectively, the classes \"sd\" (40) and \"b\" (10) are the most common here. \n",
        "\n",
        "\n"
      ]
    },
    {
      "cell_type": "markdown",
      "metadata": {
        "id": "sUXH7H8IRpwi"
      },
      "source": [
        "## Minority Class showcase\n",
        "The frequencies of the data are plotted in the graph below. This illustrates how some classes are common, while the majority of classes are rare. \n",
        "\n",
        "Only 0.13 percent of the data belongs to the \"br\" class, while 0.42 percent belongs to the \"bf\" class. "
      ]
    },
    {
      "cell_type": "code",
      "execution_count": 33,
      "metadata": {
        "colab": {
          "base_uri": "https://localhost:8080/"
        },
        "id": "onujyCDk-_s2",
        "outputId": "bcae6c50-4118-4616-b784-a32e8e0c05c0"
      },
      "outputs": [
        {
          "output_type": "stream",
          "name": "stdout",
          "text": [
            "bf frequency: 0.42977379855638936%\n",
            "br frequency: 0.13371734211067682%\n"
          ]
        }
      ],
      "source": [
        "# Print the frequency of the \"br\" and \"bf\" classes\n",
        "value_counts = reduced_df[\"act_tag\"].value_counts()\n",
        "bf_frequency = value_counts[\"bf\"]/sum(value_counts)\n",
        "print(\"bf frequency: \" + str(bf_frequency*100) + \"%\")\n",
        "\n",
        "br_frequency = value_counts[\"br\"]/sum(value_counts)\n",
        "print(\"br frequency: \" + str(br_frequency*100) + \"%\")"
      ]
    },
    {
      "cell_type": "code",
      "execution_count": 34,
      "metadata": {
        "colab": {
          "base_uri": "https://localhost:8080/",
          "height": 283
        },
        "id": "zIr0fSSaR51s",
        "outputId": "8323c070-e858-4f2e-f779-97f9d95a9536"
      },
      "outputs": [
        {
          "output_type": "execute_result",
          "data": {
            "text/plain": [
              "[<matplotlib.lines.Line2D at 0x7fee9ee85fd0>]"
            ]
          },
          "metadata": {},
          "execution_count": 34
        },
        {
          "output_type": "display_data",
          "data": {
            "text/plain": [
              "<Figure size 432x288 with 1 Axes>"
            ],
            "image/png": "[encoded data removed]"
          },
          "metadata": {
            "needs_background": "light"
          }
        }
      ],
      "source": [
        "# Plot the frequencies of the classes\n",
        "\n",
        "plt.plot(value_counts)"
      ]
    },
    {
      "cell_type": "markdown",
      "metadata": {
        "id": "BZ16sE5F7x9e"
      },
      "source": [
        "# Model 2 - Balanced Network"
      ]
    },
    {
      "cell_type": "markdown",
      "metadata": {
        "id": "hKHbOs4WkFaP"
      },
      "source": [
        "\n",
        "As the dataset is highly imbalanced, we can simply weight up the minority classes proportionally to their underrepresentation while training. "
      ]
    },
    {
      "cell_type": "code",
      "execution_count": 35,
      "metadata": {
        "id": "6L4kNdf6kGEa"
      },
      "outputs": [],
      "source": [
        "import numpy as np\n",
        "from sklearn.utils.class_weight import compute_class_weight\n",
        "\n",
        "y_integers = np.argmax(tags_encoding, axis=1)\n",
        "class_weights = compute_class_weight(class_weight='balanced', classes=np.unique(y_integers), y=y_integers)\n",
        "d_class_weights = dict(enumerate(class_weights))"
      ]
    },
    {
      "cell_type": "markdown",
      "metadata": {
        "id": "zF1UM-ZMZoa1"
      },
      "source": [
        "## Define & Train the model"
      ]
    },
    {
      "cell_type": "code",
      "execution_count": 36,
      "metadata": {
        "colab": {
          "base_uri": "https://localhost:8080/"
        },
        "id": "xIRgRAzOPSAZ",
        "outputId": "35f4d0ef-6ad2-4582-b629-0fff5812c958"
      },
      "outputs": [
        {
          "output_type": "stream",
          "name": "stdout",
          "text": [
            "Model: \"sequential_1\"\n",
            "_________________________________________________________________\n",
            " Layer (type)                Output Shape              Param #   \n",
            "=================================================================\n",
            " embedding_1 (Embedding)     (None, 150, 100)          4373200   \n",
            "                                                                 \n",
            " bidirectional_2 (Bidirectio  (None, 150, 86)          49536     \n",
            " nal)                                                            \n",
            "                                                                 \n",
            " bidirectional_3 (Bidirectio  (None, 86)               44720     \n",
            " nal)                                                            \n",
            "                                                                 \n",
            " dense_1 (Dense)             (None, 43)                3741      \n",
            "                                                                 \n",
            " activation_1 (Activation)   (None, 43)                0         \n",
            "                                                                 \n",
            "=================================================================\n",
            "Total params: 4,471,197\n",
            "Trainable params: 4,471,197\n",
            "Non-trainable params: 0\n",
            "_________________________________________________________________\n"
          ]
        }
      ],
      "source": [
        "# Re-built the model for the balanced training\n",
        "model_balanced = Sequential()\n",
        "# Embedding layer\n",
        "model_balanced.add(Embedding(VOCAB_SIZE, EMBED_SIZE, input_length = MAX_LENGTH))\n",
        "# Bidirectional 1\n",
        "model_balanced.add(Bidirectional(LSTM(HIDDEN_SIZE, return_sequences= True)))\n",
        "# Bidirectional 2\n",
        "model_balanced.add(Bidirectional(LSTM(HIDDEN_SIZE)))\n",
        "# Dense layer\n",
        "model_balanced.add(Dense(HIDDEN_SIZE))\n",
        "# Activation\n",
        "model_balanced.add(Activation('softmax'))\n",
        "\n",
        "model_balanced.compile(loss='categorical_crossentropy',optimizer='adam',metrics=['accuracy'])\n",
        "\n",
        "model_balanced.summary()"
      ]
    },
    {
      "cell_type": "code",
      "execution_count": 37,
      "metadata": {
        "colab": {
          "base_uri": "https://localhost:8080/"
        },
        "id": "xB2McUREkL4B",
        "outputId": "99eac63f-3260-4d96-ff4a-aaa29923043f"
      },
      "outputs": [
        {
          "output_type": "stream",
          "name": "stdout",
          "text": [
            "Epoch 1/10\n",
            "274/274 [==============================] - 72s 237ms/step - loss: 1.7139 - accuracy: 0.5329 - val_loss: 1.2643 - val_accuracy: 0.6563\n",
            "Epoch 2/10\n",
            "274/274 [==============================] - 63s 230ms/step - loss: 1.1510 - accuracy: 0.6701 - val_loss: 1.1090 - val_accuracy: 0.6804\n",
            "Epoch 3/10\n",
            "274/274 [==============================] - 63s 230ms/step - loss: 0.9802 - accuracy: 0.7149 - val_loss: 1.0286 - val_accuracy: 0.7031\n",
            "Epoch 4/10\n",
            "274/274 [==============================] - 63s 231ms/step - loss: 0.8807 - accuracy: 0.7428 - val_loss: 1.0223 - val_accuracy: 0.7048\n",
            "Epoch 5/10\n",
            "274/274 [==============================] - 63s 231ms/step - loss: 0.8093 - accuracy: 0.7624 - val_loss: 1.0270 - val_accuracy: 0.7038\n",
            "Epoch 6/10\n",
            "274/274 [==============================] - 63s 231ms/step - loss: 0.7574 - accuracy: 0.7750 - val_loss: 1.0222 - val_accuracy: 0.7041\n",
            "Epoch 7/10\n",
            "274/274 [==============================] - 63s 231ms/step - loss: 0.7143 - accuracy: 0.7871 - val_loss: 1.0473 - val_accuracy: 0.7008\n",
            "Epoch 8/10\n",
            "274/274 [==============================] - 63s 231ms/step - loss: 0.6814 - accuracy: 0.7955 - val_loss: 1.0644 - val_accuracy: 0.7021\n",
            "Epoch 9/10\n",
            "274/274 [==============================] - 63s 231ms/step - loss: 0.6523 - accuracy: 0.8033 - val_loss: 1.0845 - val_accuracy: 0.7033\n",
            "Epoch 10/10\n",
            "274/274 [==============================] - 63s 230ms/step - loss: 0.6247 - accuracy: 0.8100 - val_loss: 1.0883 - val_accuracy: 0.6985\n"
          ]
        }
      ],
      "source": [
        "# Train the balanced network - Seems to take long time to achieve good accuracy?\n",
        "history1 = model_balanced.fit(train_input, train_labels, batch_size=512, epochs=10, validation_data=(val_input, val_labels))"
      ]
    },
    {
      "cell_type": "markdown",
      "metadata": {
        "id": "DJPjlMclZtw2"
      },
      "source": [
        "## Test the model"
      ]
    },
    {
      "cell_type": "code",
      "execution_count": 38,
      "metadata": {
        "colab": {
          "base_uri": "https://localhost:8080/"
        },
        "id": "8UMAMGpJRINC",
        "outputId": "2dfea363-ea17-41f0-c8b9-8ef0a82bd878"
      },
      "outputs": [
        {
          "output_type": "stream",
          "name": "stdout",
          "text": [
            "560/560 [==============================] - 33s 59ms/step - loss: 1.1268 - accuracy: 0.6841\n"
          ]
        }
      ],
      "source": [
        "# Overall Accuracy\n",
        "score = model_balanced.evaluate(test_sentences_X, y_test, batch_size=100)"
      ]
    },
    {
      "cell_type": "code",
      "execution_count": 39,
      "metadata": {
        "colab": {
          "base_uri": "https://localhost:8080/"
        },
        "id": "0xzLIkTarjei",
        "outputId": "a2ca72f0-47b1-448b-b4a9-5adf85fdb4e1"
      },
      "outputs": [
        {
          "output_type": "stream",
          "name": "stdout",
          "text": [
            "Overall Accuracy: 68.40900182723999\n"
          ]
        }
      ],
      "source": [
        "print(\"Overall Accuracy:\", score[1]*100)"
      ]
    },
    {
      "cell_type": "code",
      "execution_count": 40,
      "metadata": {
        "colab": {
          "base_uri": "https://localhost:8080/",
          "height": 295
        },
        "id": "OpFVqErhEMsn",
        "outputId": "68f7d6d1-4b4b-49a9-9714-8d784c7019fd"
      },
      "outputs": [
        {
          "output_type": "display_data",
          "data": {
            "text/plain": [
              "<Figure size 432x288 with 1 Axes>"
            ],
            "image/png": "[encoded data removed]"
          },
          "metadata": {
            "needs_background": "light"
          }
        }
      ],
      "source": [
        "# Plot Accuracy Graph\n",
        "import matplotlib.pyplot as plt\n",
        "\n",
        "plt.plot(history1.history['accuracy'])\n",
        "plt.plot(history1.history['val_accuracy'])\n",
        "plt.title('model accuracy')\n",
        "plt.ylabel('accuracy')\n",
        "plt.xlabel('epoch')\n",
        "plt.legend(['train', 'test'], loc='upper left')\n",
        "plt.show()"
      ]
    },
    {
      "cell_type": "code",
      "execution_count": 41,
      "metadata": {
        "id": "qkULcz2igEW3"
      },
      "outputs": [],
      "source": [
        "# Generate predictions for the test data\n",
        "label_pred = model_balanced.predict(test_sentences_X, batch_size=100)"
      ]
    },
    {
      "cell_type": "markdown",
      "metadata": {
        "id": "hq7i7giWZ4_l"
      },
      "source": [
        "## Balanced network evaluation"
      ]
    },
    {
      "cell_type": "markdown",
      "metadata": {
        "id": "fM7VWweco0Et"
      },
      "source": [
        "Report the overall accuracy and the accuracy of  'br' and 'bf'  classes. Suggest other ways to handle imbalanced classes."
      ]
    },
    {
      "cell_type": "code",
      "execution_count": 42,
      "metadata": {
        "colab": {
          "base_uri": "https://localhost:8080/"
        },
        "id": "4jNfWmSNgRvT",
        "outputId": "61def895-019b-412e-981d-16b9b1c5c66f"
      },
      "outputs": [
        {
          "output_type": "stream",
          "name": "stdout",
          "text": [
            "[[349   9   0 ...   0   0   0]\n",
            " [  4  60   0 ...   0   0   0]\n",
            " [  1   0   0 ...   0   0  31]\n",
            " ...\n",
            " [  2   2   0 ...   0   0   0]\n",
            " [  0   1   0 ...   0   0   0]\n",
            " [  2   0   0 ...   0   0 177]]\n"
          ]
        }
      ],
      "source": [
        "# Build the confusion matrix off these predictions\n",
        "confusion_matrix_balanced =  sklearn.metrics.confusion_matrix(y_test.argmax(axis=1), label_pred.argmax(axis=1))\n",
        "print(confusion_matrix_balanced)"
      ]
    },
    {
      "cell_type": "code",
      "execution_count": 43,
      "metadata": {
        "colab": {
          "base_uri": "https://localhost:8080/"
        },
        "id": "gZlKWdUQEMso",
        "outputId": "171083b9-e749-4c94-dbb2-315b7186784d"
      },
      "outputs": [
        {
          "output_type": "stream",
          "name": "stdout",
          "text": [
            "Accuracy Score : 0.684090014668527\n",
            "Classification Report : \n",
            "              precision    recall  f1-score   support\n",
            "\n",
            "           0       0.72      0.47      0.57       746\n",
            "           1       0.23      0.31      0.26       194\n",
            "           2       0.00      0.00      0.00        66\n",
            "           3       0.53      0.44      0.48      6988\n",
            "           4       0.00      0.00      0.00        25\n",
            "           5       0.06      0.04      0.05       126\n",
            "           6       0.53      0.83      0.65       312\n",
            "           7       0.76      0.80      0.78      3710\n",
            "           8       0.61      0.33      0.43       282\n",
            "           9       0.27      0.34      0.30       265\n",
            "          10       0.49      0.30      0.37      2384\n",
            "          11       0.00      0.00      0.00        26\n",
            "          12       0.66      0.31      0.43       181\n",
            "          13       0.50      0.05      0.09        20\n",
            "          14       0.79      0.92      0.85     10529\n",
            "          15       0.07      0.02      0.04       214\n",
            "          16       0.47      0.34      0.39       130\n",
            "          17       0.48      0.55      0.52        56\n",
            "          18       0.49      0.56      0.52        52\n",
            "          19       0.52      0.72      0.61       428\n",
            "          20       0.00      0.00      0.00        78\n",
            "          21       0.94      0.94      0.94      1005\n",
            "          22       0.19      0.24      0.21        45\n",
            "          23       0.73      0.79      0.76     18047\n",
            "          24       0.32      0.09      0.14       800\n",
            "          25       0.00      0.00      0.00        20\n",
            "          26       0.00      0.00      0.00        21\n",
            "          27       0.46      0.35      0.40        17\n",
            "          28       0.00      0.00      0.00        60\n",
            "          29       0.64      0.67      0.65      4867\n",
            "          30       0.02      0.01      0.01       272\n",
            "          31       0.20      0.01      0.03        74\n",
            "          32       0.00      0.00      0.00        15\n",
            "          33       0.72      0.55      0.62      1284\n",
            "          34       0.07      0.07      0.07       344\n",
            "          35       0.04      0.02      0.03       169\n",
            "          36       0.00      0.00      0.00        14\n",
            "          37       0.56      0.62      0.59      1132\n",
            "          38       0.04      0.03      0.03       156\n",
            "          39       0.77      0.75      0.76       248\n",
            "          40       0.00      0.00      0.00       218\n",
            "          41       0.00      0.00      0.00        23\n",
            "          42       0.58      0.68      0.63       259\n",
            "\n",
            "    accuracy                           0.68     55902\n",
            "   macro avg       0.34      0.31      0.31     55902\n",
            "weighted avg       0.66      0.68      0.67     55902\n",
            "\n"
          ]
        },
        {
          "output_type": "stream",
          "name": "stderr",
          "text": [
            "/usr/local/lib/python3.7/dist-packages/sklearn/metrics/_classification.py:1318: UndefinedMetricWarning: Precision and F-score are ill-defined and being set to 0.0 in labels with no predicted samples. Use `zero_division` parameter to control this behavior.\n",
            "  _warn_prf(average, modifier, msg_start, len(result))\n",
            "/usr/local/lib/python3.7/dist-packages/sklearn/metrics/_classification.py:1318: UndefinedMetricWarning: Precision and F-score are ill-defined and being set to 0.0 in labels with no predicted samples. Use `zero_division` parameter to control this behavior.\n",
            "  _warn_prf(average, modifier, msg_start, len(result))\n",
            "/usr/local/lib/python3.7/dist-packages/sklearn/metrics/_classification.py:1318: UndefinedMetricWarning: Precision and F-score are ill-defined and being set to 0.0 in labels with no predicted samples. Use `zero_division` parameter to control this behavior.\n",
            "  _warn_prf(average, modifier, msg_start, len(result))\n"
          ]
        }
      ],
      "source": [
        "# GEt the Accuracy score and Classification Report\n",
        "from sklearn.metrics import accuracy_score\n",
        "from sklearn.metrics import classification_report\n",
        "\n",
        "print ('Accuracy Score :',accuracy_score(y_test.argmax(axis=1), label_pred.argmax(axis=1)))\n",
        "print('Classification Report : ')\n",
        "print (classification_report(y_test.argmax(axis=1), label_pred.argmax(axis=1)))"
      ]
    },
    {
      "cell_type": "code",
      "execution_count": 44,
      "metadata": {
        "colab": {
          "base_uri": "https://localhost:8080/"
        },
        "id": "4c_3HYM1EMso",
        "outputId": "29b7b062-93c1-4928-b410-f78fee73a851"
      },
      "outputs": [
        {
          "output_type": "stream",
          "name": "stdout",
          "text": [
            "br accuracy: 55.35714285714286\n",
            "bf accuracy: 2.366863905325444\n"
          ]
        }
      ],
      "source": [
        "# Calculate Accuracies for \"br\" and \"bf\"\n",
        "acc_class_balanced = confusion_matrix_balanced.diagonal()/confusion_matrix_balanced.sum(axis=1)\n",
        "\n",
        "index_br = list(one_hot_encoding_dic[\"br\"][one_hot_encoding_dic[\"br\"]==1].index)[0]\n",
        "br_accuracy = acc_class_balanced[index_br]*100\n",
        "print(\"br accuracy: {}\".format(br_accuracy))\n",
        "\n",
        "index_bf = list(one_hot_encoding_dic[\"bf\"][one_hot_encoding_dic[\"bf\"]==1].index)[0]\n",
        "bf_accuracy = acc_class_balanced[index_bf]*100\n",
        "print(\"bf accuracy: {}\".format(bf_accuracy))"
      ]
    },
    {
      "cell_type": "markdown",
      "metadata": {
        "id": "Zi9GyVUvPcrF"
      },
      "source": [
        "\n",
        "\n",
        "\n",
        "\n",
        "### Explanation\n",
        "\n",
        "\n",
        "\n",
        "### Other ways to handle imbalanced classes\n",
        "\n",
        "\n"
      ]
    },
    {
      "cell_type": "markdown",
      "metadata": {
        "id": "fW4g5mQkkaFv"
      },
      "source": [
        "Can we improve things by using context information?  Next we try to build a model which predicts DA tag from the sequence of \n",
        "previous DA tags, plus the utterance representation. "
      ]
    },
    {
      "cell_type": "markdown",
      "metadata": {
        "id": "WfrGWuZ6nk4y"
      },
      "source": [
        "# Using Context for Dialog Act Classification\n",
        "We expect there is valuable sequential information among the DA tags. So in this section we apply a BiLSTM on top of the sentence CNN representation. The CNN model learns textual information in each utterance for DA classification. Here, we use bidirectional-LSTM (BLSTM) to learn the context before and after the current utterance. \n",
        "\n",
        "To make it easier to train, we combined all of the utterances into one long sequence rather than breaking them up into individual dialogues."
      ]
    },
    {
      "cell_type": "markdown",
      "metadata": {
        "id": "Sz693CIUvcca"
      },
      "source": [
        "## Define the model\n",
        "\n",
        "This model has an architecture of:\n",
        "\n",
        "- Word Embedding\n",
        "- CNN\n",
        "- Bidirectional LSTM\n",
        "- Fully-Connected output\n"
      ]
    },
    {
      "cell_type": "markdown",
      "metadata": {
        "id": "z4e0g9BdWjZF"
      },
      "source": [
        "## CNN\n",
        "\n",
        "\n",
        "This is classical CNN layer used to convolve over embedings tensor and gether useful information from it. The data is represented by hierarchy of features, which can be modelled using a CNN. We transform/reshape conv output to 2d matrix. Then we pass it to the max pooling layer that applies the max pool operation on windows of different sizes."
      ]
    },
    {
      "cell_type": "code",
      "execution_count": 45,
      "metadata": {
        "id": "9hMj-KaKvfHb"
      },
      "outputs": [],
      "source": [
        "from tensorflow.keras.models import Model,Sequential\n",
        "from tensorflow.keras.layers import LSTM\n",
        "from tensorflow.keras.layers import Dense, Input,LSTM\n",
        "from tensorflow.keras.layers import Dropout, InputLayer, Bidirectional, TimeDistributed, Activation, Embedding\n",
        "from tensorflow.keras.optimizers import Adam\n",
        "from tensorflow.keras.layers import Reshape, Conv2D, BatchNormalization,MaxPool2D,Concatenate, Flatten\n",
        "\n",
        "\n",
        "filter_sizes = [3,4,5]\n",
        "num_filters = 64\n",
        "drop = 0.2\n",
        "VOCAB_SIZE = len(wordvectors)+1 # 43,731\n",
        "MAX_LENGTH = 150\n",
        "EMBED_SIZE = 100 # arbitary\n",
        "HIDDEN_SIZE = len(unique_tags) \n",
        "\n",
        "# CNN model\n",
        "inputs = Input(shape=(MAX_LENGTH, ), dtype='int32')\n",
        "embedding = Embedding(input_dim=VOCAB_SIZE, output_dim=EMBED_SIZE, input_length=MAX_LENGTH)(inputs)\n",
        "reshape = Reshape((MAX_LENGTH, EMBED_SIZE, 1))(embedding)\n",
        "\n",
        "# 3 convolutions\n",
        "conv_0 = Conv2D(num_filters, kernel_size=(filter_sizes[0], EMBED_SIZE), strides=1, padding='valid', kernel_initializer='normal', activation='relu')(reshape)\n",
        "bn_0 = BatchNormalization()(conv_0)\n",
        "conv_1 = Conv2D(num_filters, kernel_size=(filter_sizes[1], EMBED_SIZE), strides=1, padding='valid', kernel_initializer='normal', activation='relu')(reshape)\n",
        "bn_1 = BatchNormalization()(conv_1)\n",
        "conv_2 = Conv2D(num_filters, kernel_size=(filter_sizes[2], EMBED_SIZE), strides=1, padding='valid', kernel_initializer='normal', activation='relu')(reshape)\n",
        "bn_2 = BatchNormalization()(conv_2)\n",
        "\n",
        "# maxpool for 3 layers\n",
        "maxpool_0 = MaxPool2D(pool_size=(MAX_LENGTH - filter_sizes[0] + 1, 1), padding='valid')(bn_0)\n",
        "maxpool_1 = MaxPool2D(pool_size=(MAX_LENGTH - filter_sizes[1] + 1, 1), padding='valid')(bn_1)\n",
        "maxpool_2 = MaxPool2D(pool_size=(MAX_LENGTH - filter_sizes[2] + 1, 1), padding='valid')(bn_2)"
      ]
    },
    {
      "cell_type": "code",
      "execution_count": 46,
      "metadata": {
        "id": "oitwAO5ivkbk"
      },
      "outputs": [],
      "source": [
        "# concatenate tensors\n",
        "concatenated_tensors = Concatenate()([maxpool_0, maxpool_1, maxpool_2])\n",
        "# flatten concatenated tensors\n",
        "flatten_concatenated_tensors = TimeDistributed(Flatten())(concatenated_tensors)\n",
        "# dense layer (dense_1)\n",
        "dense_1 = Dense(HIDDEN_SIZE, activation='relu')(flatten_concatenated_tensors)\n",
        "# dropout_1\n",
        "dropout_1 = Dropout(drop)(dense_1)"
      ]
    },
    {
      "cell_type": "markdown",
      "metadata": {
        "id": "DuJLqgjWqcIf"
      },
      "source": [
        "## BLSTM\n",
        "\n",
        "This is used to create LSTM layers. The data we’re working with has temporal properties which we want to model as well — hence the use of a LSTM. You should create a BiLSTM.\n",
        "    "
      ]
    },
    {
      "cell_type": "code",
      "execution_count": 47,
      "metadata": {
        "id": "UuaiZkOjZGx1"
      },
      "outputs": [],
      "source": [
        "# BLSTM model\n",
        "\n",
        "# Bidirectional 1\n",
        "Bidirectional1 = Bidirectional(LSTM(HIDDEN_SIZE, return_sequences='true'))(dropout_1)\n",
        "# Bidirectional 2\n",
        "Bidirectional2 = Bidirectional(LSTM(HIDDEN_SIZE))(Bidirectional1)\n",
        "# Dense layer (dense_2)\n",
        "dense_2 = Dense(HIDDEN_SIZE, activation='relu')(Bidirectional2)\n",
        "# dropout_2\n",
        "dropout_2 = Dropout(drop)(dense_2)\n"
      ]
    },
    {
      "cell_type": "markdown",
      "metadata": {
        "id": "mU0Xa3QOqwS3"
      },
      "source": [
        "Concatenate 2 last layers and create the output layer\n",
        "network"
      ]
    },
    {
      "cell_type": "code",
      "execution_count": 48,
      "metadata": {
        "colab": {
          "base_uri": "https://localhost:8080/"
        },
        "id": "QaxUrmPIZI7S",
        "outputId": "70553b4f-9ba1-4fc2-c881-92f64eff6ec9"
      },
      "outputs": [
        {
          "output_type": "stream",
          "name": "stdout",
          "text": [
            "Model: \"model\"\n",
            "__________________________________________________________________________________________________\n",
            " Layer (type)                   Output Shape         Param #     Connected to                     \n",
            "==================================================================================================\n",
            " input_1 (InputLayer)           [(None, 150)]        0           []                               \n",
            "                                                                                                  \n",
            " embedding_2 (Embedding)        (None, 150, 100)     4373200     ['input_1[0][0]']                \n",
            "                                                                                                  \n",
            " reshape (Reshape)              (None, 150, 100, 1)  0           ['embedding_2[0][0]']            \n",
            "                                                                                                  \n",
            " conv2d (Conv2D)                (None, 148, 1, 64)   19264       ['reshape[0][0]']                \n",
            "                                                                                                  \n",
            " conv2d_1 (Conv2D)              (None, 147, 1, 64)   25664       ['reshape[0][0]']                \n",
            "                                                                                                  \n",
            " conv2d_2 (Conv2D)              (None, 146, 1, 64)   32064       ['reshape[0][0]']                \n",
            "                                                                                                  \n",
            " batch_normalization (BatchNorm  (None, 148, 1, 64)  256         ['conv2d[0][0]']                 \n",
            " alization)                                                                                       \n",
            "                                                                                                  \n",
            " batch_normalization_1 (BatchNo  (None, 147, 1, 64)  256         ['conv2d_1[0][0]']               \n",
            " rmalization)                                                                                     \n",
            "                                                                                                  \n",
            " batch_normalization_2 (BatchNo  (None, 146, 1, 64)  256         ['conv2d_2[0][0]']               \n",
            " rmalization)                                                                                     \n",
            "                                                                                                  \n",
            " max_pooling2d (MaxPooling2D)   (None, 1, 1, 64)     0           ['batch_normalization[0][0]']    \n",
            "                                                                                                  \n",
            " max_pooling2d_1 (MaxPooling2D)  (None, 1, 1, 64)    0           ['batch_normalization_1[0][0]']  \n",
            "                                                                                                  \n",
            " max_pooling2d_2 (MaxPooling2D)  (None, 1, 1, 64)    0           ['batch_normalization_2[0][0]']  \n",
            "                                                                                                  \n",
            " concatenate (Concatenate)      (None, 1, 1, 192)    0           ['max_pooling2d[0][0]',          \n",
            "                                                                  'max_pooling2d_1[0][0]',        \n",
            "                                                                  'max_pooling2d_2[0][0]']        \n",
            "                                                                                                  \n",
            " time_distributed (TimeDistribu  (None, 1, 192)      0           ['concatenate[0][0]']            \n",
            " ted)                                                                                             \n",
            "                                                                                                  \n",
            " dense_2 (Dense)                (None, 1, 43)        8299        ['time_distributed[0][0]']       \n",
            "                                                                                                  \n",
            " dropout (Dropout)              (None, 1, 43)        0           ['dense_2[0][0]']                \n",
            "                                                                                                  \n",
            " bidirectional_4 (Bidirectional  (None, 1, 86)       29928       ['dropout[0][0]']                \n",
            " )                                                                                                \n",
            "                                                                                                  \n",
            " bidirectional_5 (Bidirectional  (None, 86)          44720       ['bidirectional_4[0][0]']        \n",
            " )                                                                                                \n",
            "                                                                                                  \n",
            " dense_3 (Dense)                (None, 43)           3741        ['bidirectional_5[0][0]']        \n",
            "                                                                                                  \n",
            " flatten_1 (Flatten)            (None, 43)           0           ['dropout[0][0]']                \n",
            "                                                                                                  \n",
            " dropout_1 (Dropout)            (None, 43)           0           ['dense_3[0][0]']                \n",
            "                                                                                                  \n",
            " concatenate_1 (Concatenate)    (None, 86)           0           ['flatten_1[0][0]',              \n",
            "                                                                  'dropout_1[0][0]']              \n",
            "                                                                                                  \n",
            " dense_4 (Dense)                (None, 43)           3741        ['concatenate_1[0][0]']          \n",
            "                                                                                                  \n",
            " activation_2 (Activation)      (None, 43)           0           ['dense_4[0][0]']                \n",
            "                                                                                                  \n",
            "==================================================================================================\n",
            "Total params: 4,541,389\n",
            "Trainable params: 4,541,005\n",
            "Non-trainable params: 384\n",
            "__________________________________________________________________________________________________\n"
          ]
        }
      ],
      "source": [
        "# concatenate 2 final layers\n",
        "flattened_dropout_1 = Flatten()(dropout_1)\n",
        "concatenate_2_final_layer = Concatenate()([flattened_dropout_1,dropout_2])\n",
        "\n",
        "# output\n",
        "output_layer = Dense(HIDDEN_SIZE, input_shape=(1,))(concatenate_2_final_layer)\n",
        "output = Activation('softmax')(output_layer)\n",
        "\n",
        "model2 = Model(inputs=[inputs], outputs=[output])\n",
        "\n",
        "# Compile the model\n",
        "model2.compile(loss='categorical_crossentropy', optimizer='adam', metrics = ['accuracy'])\n",
        "model2.summary()"
      ]
    },
    {
      "cell_type": "markdown",
      "metadata": {
        "id": "UxlRv9dDrcy5"
      },
      "source": [
        "Report your overall accuracy. Did context help disambiguate and better predict the minority classes ('br' and 'bf')? What are frequent errors? Show one positive example where adding context changed the prediction.\n",
        "layer"
      ]
    },
    {
      "cell_type": "code",
      "execution_count": 49,
      "metadata": {
        "colab": {
          "base_uri": "https://localhost:8080/"
        },
        "id": "JmjGSa12W6Ri",
        "outputId": "97beedf9-afe1-4f33-81d5-79938facc9cc"
      },
      "outputs": [
        {
          "output_type": "stream",
          "name": "stdout",
          "text": [
            "43\n"
          ]
        }
      ],
      "source": [
        "print(HIDDEN_SIZE)"
      ]
    },
    {
      "cell_type": "code",
      "execution_count": 50,
      "metadata": {
        "colab": {
          "base_uri": "https://localhost:8080/"
        },
        "id": "hYxHsBvwZRA4",
        "outputId": "ff0337df-7c57-4eb2-be8b-b44e1244c47a"
      },
      "outputs": [
        {
          "output_type": "stream",
          "name": "stdout",
          "text": [
            "Epoch 1/10\n",
            "274/274 [==============================] - 68s 199ms/step - loss: 1.3532 - accuracy: 0.6211 - val_loss: 2.4293 - val_accuracy: 0.6455\n",
            "Epoch 2/10\n",
            "274/274 [==============================] - 52s 191ms/step - loss: 0.8926 - accuracy: 0.7303 - val_loss: 1.1294 - val_accuracy: 0.7154\n",
            "Epoch 3/10\n",
            "274/274 [==============================] - 52s 191ms/step - loss: 0.7229 - accuracy: 0.7779 - val_loss: 0.9751 - val_accuracy: 0.7086\n",
            "Epoch 4/10\n",
            "274/274 [==============================] - 53s 192ms/step - loss: 0.6110 - accuracy: 0.8096 - val_loss: 1.0453 - val_accuracy: 0.7150\n",
            "Epoch 5/10\n",
            "274/274 [==============================] - 53s 192ms/step - loss: 0.5315 - accuracy: 0.8310 - val_loss: 1.1225 - val_accuracy: 0.6991\n",
            "Epoch 6/10\n",
            "274/274 [==============================] - 52s 192ms/step - loss: 0.4796 - accuracy: 0.8457 - val_loss: 1.2055 - val_accuracy: 0.7024\n",
            "Epoch 7/10\n",
            "274/274 [==============================] - 53s 192ms/step - loss: 0.4399 - accuracy: 0.8561 - val_loss: 1.3105 - val_accuracy: 0.7037\n",
            "Epoch 8/10\n",
            "274/274 [==============================] - 52s 191ms/step - loss: 0.4165 - accuracy: 0.8631 - val_loss: 1.3209 - val_accuracy: 0.6971\n",
            "Epoch 9/10\n",
            "274/274 [==============================] - 53s 192ms/step - loss: 0.3963 - accuracy: 0.8694 - val_loss: 1.4571 - val_accuracy: 0.6982\n",
            "Epoch 10/10\n",
            "274/274 [==============================] - 53s 192ms/step - loss: 0.3811 - accuracy: 0.8731 - val_loss: 1.4974 - val_accuracy: 0.6964\n"
          ]
        }
      ],
      "source": [
        "# Train the model - use validation \n",
        "history2 = model2.fit(train_input, train_labels, batch_size=512, epochs=10, validation_data=(val_input,val_labels))"
      ]
    },
    {
      "cell_type": "code",
      "execution_count": 51,
      "metadata": {
        "colab": {
          "base_uri": "https://localhost:8080/"
        },
        "id": "d84nFOulZkhP",
        "outputId": "b15ee98b-7ae8-4327-c293-4bb79475dfe8"
      },
      "outputs": [
        {
          "output_type": "stream",
          "name": "stdout",
          "text": [
            "560/560 [==============================] - 9s 15ms/step - loss: 1.5400 - accuracy: 0.6838\n"
          ]
        }
      ],
      "source": [
        "score = model2.evaluate(test_sentences_X, y_test, batch_size=100)"
      ]
    },
    {
      "cell_type": "code",
      "execution_count": 52,
      "metadata": {
        "colab": {
          "base_uri": "https://localhost:8080/"
        },
        "id": "5Kwmu4yH6ZQM",
        "outputId": "283bb7c7-e327-4949-f5c1-70c8bf19fabb"
      },
      "outputs": [
        {
          "output_type": "stream",
          "name": "stdout",
          "text": [
            "Overall Accuracy: 68.37501525878906\n"
          ]
        }
      ],
      "source": [
        "print(\"Overall Accuracy:\", score[1]*100)"
      ]
    },
    {
      "cell_type": "code",
      "execution_count": 53,
      "metadata": {
        "colab": {
          "base_uri": "https://localhost:8080/",
          "height": 295
        },
        "id": "SOOA40oaEMsq",
        "outputId": "a76d2581-cea1-4854-880d-e3f02294b2bc"
      },
      "outputs": [
        {
          "output_type": "display_data",
          "data": {
            "text/plain": [
              "<Figure size 432x288 with 1 Axes>"
            ],
            "image/png": "[encoded data removed]"
          },
          "metadata": {
            "needs_background": "light"
          }
        }
      ],
      "source": [
        "# Plot Accuracy Graph\n",
        "import matplotlib.pyplot as plt\n",
        "\n",
        "plt.plot(history2.history['accuracy'])\n",
        "plt.plot(history2.history['val_accuracy'])\n",
        "plt.title('model accuracy')\n",
        "plt.ylabel('accuracy')\n",
        "plt.xlabel('epoch')\n",
        "plt.legend(['train', 'test'], loc='upper left')\n",
        "plt.show()"
      ]
    },
    {
      "cell_type": "code",
      "execution_count": 54,
      "metadata": {
        "id": "2NvWdILWEMsq"
      },
      "outputs": [],
      "source": [
        "# Generate predictions for the test data\n",
        "context_pred = model_balanced.predict(test_sentences_X, batch_size=100)"
      ]
    },
    {
      "cell_type": "code",
      "execution_count": 55,
      "metadata": {
        "colab": {
          "base_uri": "https://localhost:8080/"
        },
        "id": "kwpLflvWEMsr",
        "outputId": "99624af3-6908-479a-eabb-560aa173cab4"
      },
      "outputs": [
        {
          "output_type": "stream",
          "name": "stdout",
          "text": [
            "[[349   9   0 ...   0   0   0]\n",
            " [  4  60   0 ...   0   0   0]\n",
            " [  1   0   0 ...   0   0  31]\n",
            " ...\n",
            " [  2   2   0 ...   0   0   0]\n",
            " [  0   1   0 ...   0   0   0]\n",
            " [  2   0   0 ...   0   0 177]]\n"
          ]
        }
      ],
      "source": [
        "# Build the confusion matrix off these predictions\n",
        "confusion_matrix_cnn_lstm =  sklearn.metrics.confusion_matrix(y_test.argmax(axis=1), context_pred.argmax(axis=1))\n",
        "print(confusion_matrix_cnn_lstm)"
      ]
    },
    {
      "cell_type": "code",
      "execution_count": 56,
      "metadata": {
        "colab": {
          "base_uri": "https://localhost:8080/"
        },
        "id": "NNb9mbJ9EMsr",
        "outputId": "b7b4816d-406d-4506-b10b-a11305b9d487"
      },
      "outputs": [
        {
          "output_type": "stream",
          "name": "stdout",
          "text": [
            "Accuracy Score : 0.684090014668527\n",
            "Classification Report : \n",
            "              precision    recall  f1-score   support\n",
            "\n",
            "           0       0.72      0.47      0.57       746\n",
            "           1       0.23      0.31      0.26       194\n",
            "           2       0.00      0.00      0.00        66\n",
            "           3       0.53      0.44      0.48      6988\n",
            "           4       0.00      0.00      0.00        25\n",
            "           5       0.06      0.04      0.05       126\n",
            "           6       0.53      0.83      0.65       312\n",
            "           7       0.76      0.80      0.78      3710\n",
            "           8       0.61      0.33      0.43       282\n",
            "           9       0.27      0.34      0.30       265\n",
            "          10       0.49      0.30      0.37      2384\n",
            "          11       0.00      0.00      0.00        26\n",
            "          12       0.66      0.31      0.43       181\n",
            "          13       0.50      0.05      0.09        20\n",
            "          14       0.79      0.92      0.85     10529\n",
            "          15       0.07      0.02      0.04       214\n",
            "          16       0.47      0.34      0.39       130\n",
            "          17       0.48      0.55      0.52        56\n",
            "          18       0.49      0.56      0.52        52\n",
            "          19       0.52      0.72      0.61       428\n",
            "          20       0.00      0.00      0.00        78\n",
            "          21       0.94      0.94      0.94      1005\n",
            "          22       0.19      0.24      0.21        45\n",
            "          23       0.73      0.79      0.76     18047\n",
            "          24       0.32      0.09      0.14       800\n",
            "          25       0.00      0.00      0.00        20\n",
            "          26       0.00      0.00      0.00        21\n",
            "          27       0.46      0.35      0.40        17\n",
            "          28       0.00      0.00      0.00        60\n",
            "          29       0.64      0.67      0.65      4867\n",
            "          30       0.02      0.01      0.01       272\n",
            "          31       0.20      0.01      0.03        74\n",
            "          32       0.00      0.00      0.00        15\n",
            "          33       0.72      0.55      0.62      1284\n",
            "          34       0.07      0.07      0.07       344\n",
            "          35       0.04      0.02      0.03       169\n",
            "          36       0.00      0.00      0.00        14\n",
            "          37       0.56      0.62      0.59      1132\n",
            "          38       0.04      0.03      0.03       156\n",
            "          39       0.77      0.75      0.76       248\n",
            "          40       0.00      0.00      0.00       218\n",
            "          41       0.00      0.00      0.00        23\n",
            "          42       0.58      0.68      0.63       259\n",
            "\n",
            "    accuracy                           0.68     55902\n",
            "   macro avg       0.34      0.31      0.31     55902\n",
            "weighted avg       0.66      0.68      0.67     55902\n",
            "\n"
          ]
        },
        {
          "output_type": "stream",
          "name": "stderr",
          "text": [
            "/usr/local/lib/python3.7/dist-packages/sklearn/metrics/_classification.py:1318: UndefinedMetricWarning: Precision and F-score are ill-defined and being set to 0.0 in labels with no predicted samples. Use `zero_division` parameter to control this behavior.\n",
            "  _warn_prf(average, modifier, msg_start, len(result))\n",
            "/usr/local/lib/python3.7/dist-packages/sklearn/metrics/_classification.py:1318: UndefinedMetricWarning: Precision and F-score are ill-defined and being set to 0.0 in labels with no predicted samples. Use `zero_division` parameter to control this behavior.\n",
            "  _warn_prf(average, modifier, msg_start, len(result))\n",
            "/usr/local/lib/python3.7/dist-packages/sklearn/metrics/_classification.py:1318: UndefinedMetricWarning: Precision and F-score are ill-defined and being set to 0.0 in labels with no predicted samples. Use `zero_division` parameter to control this behavior.\n",
            "  _warn_prf(average, modifier, msg_start, len(result))\n"
          ]
        }
      ],
      "source": [
        "# GEt the Accuracy score and Classification Report\n",
        "from sklearn.metrics import accuracy_score\n",
        "from sklearn.metrics import classification_report\n",
        "\n",
        "print ('Accuracy Score :',accuracy_score(y_test.argmax(axis=1), context_pred.argmax(axis=1)))\n",
        "print('Classification Report : ')\n",
        "print (classification_report(y_test.argmax(axis=1), context_pred.argmax(axis=1)))"
      ]
    },
    {
      "cell_type": "code",
      "execution_count": 57,
      "metadata": {
        "colab": {
          "base_uri": "https://localhost:8080/"
        },
        "id": "mU-1hDqsEMsr",
        "outputId": "9bd2b1df-dddd-4af6-96a0-9477d8d8868f"
      },
      "outputs": [
        {
          "output_type": "stream",
          "name": "stdout",
          "text": [
            "br accuracy: 55.35714285714286\n",
            "bf accuracy: 2.366863905325444\n"
          ]
        }
      ],
      "source": [
        "# Calculate Accuracies for \"br\" and \"bf\"\n",
        "acc_class_balanced = confusion_matrix_cnn_lstm.diagonal()/confusion_matrix_cnn_lstm.sum(axis=1)\n",
        "\n",
        "index_br = list(one_hot_encoding_dic[\"br\"][one_hot_encoding_dic[\"br\"]==1].index)[0]\n",
        "br_accuracy = acc_class_balanced[index_br]*100\n",
        "print(\"br accuracy: {}\".format(br_accuracy))\n",
        "\n",
        "index_bf = list(one_hot_encoding_dic[\"bf\"][one_hot_encoding_dic[\"bf\"]==1].index)[0]\n",
        "bf_accuracy = acc_class_balanced[index_bf]*100\n",
        "print(\"bf accuracy: {}\".format(bf_accuracy))"
      ]
    }
  ],
  "metadata": {
    "accelerator": "GPU",
    "colab": {
      "collapsed_sections": [],
      "name": "7001_2021_22_lab11_Dialogue_Act_Tagging_without_Answers.ipynb",
      "provenance": []
    },
    "kernelspec": {
      "display_name": "Python 3 (ipykernel)",
      "language": "python",
      "name": "python3"
    },
    "language_info": {
      "codemirror_mode": {
        "name": "ipython",
        "version": 3
      },
      "file_extension": ".py",
      "mimetype": "text/x-python",
      "name": "python",
      "nbconvert_exporter": "python",
      "pygments_lexer": "ipython3",
      "version": "3.9.7"
    }
  },
  "nbformat": 4,
  "nbformat_minor": 0
}