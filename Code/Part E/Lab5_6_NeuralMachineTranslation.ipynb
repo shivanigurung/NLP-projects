{
  "nbformat": 4,
  "nbformat_minor": 0,
  "metadata": {
    "accelerator": "GPU",
    "colab": {
      "name": "Lab5_6_NeuralMachineTranslation.ipynb",
      "provenance": [],
      "collapsed_sections": []
    },
    "kernelspec": {
      "display_name": "Python 3",
      "name": "python3"
    }
  },
  "cells": [
    {
      "cell_type": "markdown",
      "metadata": {
        "id": "nZfqzG-psHbd"
      },
      "source": [
        "#**Lab 5 and 6: Neural Machine Translation (Extra Guide)**"
      ]
    },
    {
      "cell_type": "markdown",
      "metadata": {
        "id": "r9GBwu1PsSR3"
      },
      "source": [
        "This week and the next, we'll be build a neural machine translation model based on the sequence-to-sequence (seq2seq) models proposed by Sutskever et al., 2014 and Cho et al., 2014. The seq2seq model is widely used in machine translation systems such as Google’s neural machine translation system (GNMT) (Wu et al., 2016).\n",
        "\n",
        "A folder, **nmt_lab_files** has been provided for you. This folder contains 3 files:\n",
        "1. **data.30.vi** - a file. each line of the file contains a Vietnamese sentence to be translated (i.e. the source sentences)\n",
        "2. **data.30.en** - a file. each line of the file contains an English sentence corresponding to the Vietnamese sentence in the same line position. (i.e. the target sentences)\n",
        "3. **nmt_model_keras.py** - the incomplete code for this lab.\n",
        "\n",
        "The doc file provided contains an explanation of the code file and a guide on how to complete the code (by doing 3 tasks). Read the doc file and if you can, complete the code as instructed. When the code is completed, skip to section xx of this notebook. \n",
        "\n",
        "This notebook (prior to section section xx) merely contains further explanation on sections of the code."
      ]
    },
    {
      "cell_type": "markdown",
      "metadata": {
        "id": "KyDvxbvTt70n"
      },
      "source": [
        "##**LanguageDict**\n",
        "\n",
        "LanguageDict is a class for creating language dict objects."
      ]
    },
    {
      "cell_type": "markdown",
      "metadata": {
        "id": "AtHvI1pGvMBG"
      },
      "source": [
        "##**The <load_dataset()> Method**\n",
        "\n",
        "This helper method reads from the source and target files to \n",
        "- load max_num_examples sentences, \n",
        "- split the sentences them into train, development and testing, and\n",
        "- return relevant data.\n",
        "The code for this is fully commented. \n",
        "\n",
        "<br>\n",
        "\n",
        "As an example to the kind of ouput returned by this model, let's assume we are translating the sentence 'I like dogs' from English to English (this of course is never the case), such that the tokenized and case normalized source sentence list and target sentence list are as follows:\n",
        "\n",
        "\n",
        "```\n",
        "# In our case this would actually be [['tôi', 'thích', 'thỏ']], i.e the Vietnamese equivalent of the English sentence. \n",
        "# We've used English to English here so we can follow along with the code.\n",
        "source_words = [['i', 'like', 'rabbits']] \n",
        "target_words = [['i', 'like', 'rabbits']]\n",
        "```\n",
        "The word2ids for the source and target language dictionaries would look something like:\n",
        "```\n",
        "source_dict.word2ids = {'<PAD>': 0, '<UNK>': 1, 'i': 2, 'like': 3, 'rabbits':4}\n",
        "\n",
        "# end and start tokens are added for the target words\n",
        "target_dict.word2ids = {'<PAD>': 0, '<UNK>': 1, '<start>': 2, 'i': 3, 'like': 4, 'rabbits':5, '<end>':6}\n",
        "\n",
        "```\n",
        "Let's also assume that we are training and testing on this same dataset of one sentence.\n",
        "The **source words** for train/dev/test will be given as\n",
        "```\n",
        "# a batch_size X max_sent_length array.\n",
        "source_words_train = [[2,3,4]] # corresponding to ['i', 'like', 'rabbits']\n",
        "source_words_dev = [[2,3,4]]  # corresponding to ['i', 'like', 'rabbits']\n",
        "source_words_test = [[2,3,4]] # corresponding to ['i', 'like', 'rabbits']\n",
        "```\n",
        "\n",
        "The **target words** for train data will be given as follows (dev/test don't need target words as the model will provide this):\n",
        "```\n",
        "target_words_train = [[2,3,4,5]] # corresponding to ['<start>', 'i', 'like', 'rabbits']\n",
        "```\n",
        "\n",
        "The **target words labels** for each word will be the word after it. The target word labels for train/dev/test data will be given as follows\n",
        "```\n",
        "target_words_train_labels = [[3,4,5,6]] # corresponding to ['i', 'like', 'rabbits', '<end>']\n",
        "target_words_dev_labels = [[3,4,5,6]] # corresponding to ['i', 'like', 'rabbits', '<end>']\n",
        "target_words_test_labels = [[3,4,5,6]] # corresponding to ['i', 'like', 'rabbits', '<end>']\n",
        "```\n",
        "The dimensions for train target words labels would be expanded to this:\n",
        "`[[3], [4], [5], [6]]`\n",
        "\n",
        "\n",
        "\n",
        "\n"
      ]
    },
    {
      "cell_type": "markdown",
      "metadata": {
        "id": "cc8KZaJn3uBK"
      },
      "source": [
        "##**The Neural Translation Model (NMT)**\n",
        "\n",
        "For the NMT the network (a system of connected layers/models) used for training differs slightly from the network used for inference. Both use the the seq-to-seq encoder-decoder architecture. \n",
        "\n",
        "\n"
      ]
    },
    {
      "cell_type": "markdown",
      "metadata": {
        "id": "sgtz6XAl4E8D"
      },
      "source": [
        "###**The training mode**\n",
        "\n",
        "**Encoder**\n",
        "\n",
        "Given:\n",
        "- `source_words`: a `batch_size(num_sents) x max_sentence_length` array representing the source words. In our mini example, this would be the Vietnamese equivalent of `['i', 'like', 'rabbits']`; `[['tôi', 'thích', 'thỏ']]`\n",
        "\n",
        "The following steps comprise the encoding network:\n",
        "\n",
        "1. transform `source_words` into `source_words_embeddings` using a randomly initialized embedding lookup. source_words_embeddings is thus a `batch_size(num_sents) x max_sentence_length x embedding_dim` array.\n",
        "2. Apply embedding dropout of `embedding_dropout_rate`.\n",
        "3. Use a single `LSTM` with `hidden_size` units to learn a representation for the source words i.e. to encode the input. \n",
        "\n",
        "    (a.) The hidden and cell states for this `LSTM` are initialized to zeros (i.e. we leave the `initial_states = None` default as is).\n",
        "\n",
        "    (b.) We save the `encoder_output` (the sequence not just the last state); and the encoder (hidden and cell) states. \n",
        "\n",
        "This way, the model encodes a representation for the source words. Task 1 guides you to complete the encoder part of the training model.\n",
        "\n",
        "<br>\n",
        "\n",
        "**Decoder (No Attention)**\n",
        "\n",
        "Given:\n",
        "- `target_words`: a `batch_size(i.e.num_sents in batch) x max_sentence_length+1` array representing the target words. This is a time shifted translation of the source words with an added (prepended) `<START>` token `['<start>', 'i', 'like', 'rabbits']`.\n",
        "\n",
        "The decoding is in the following steps:\n",
        "\n",
        "1. transform `target_words` into `target_words_embeddings` using a randomly initialized embedding lookup. target_words_embeddings is thus a `batch_size x max_sentence_length+1 x embedding_dim` array.\n",
        "\n",
        "2.  Apply embedding dropout of `embedding_dropout_rate`.\n",
        "\n",
        "3. Use a single `LSTM` with `hidden_size` units to learn a representation for the target words. Some context is given to this model by using the encoder states to initialize the decoder lstm. This way the encoder state for `'tôi'` for example is used to learn to the representation (and next word prediction, see number 4.) for the `'<start>'` token, and so on.\n",
        "\n",
        "4. For each token representation, use a dense layer to predict a `target_vocab_size` vector which is the probability that any given word in the target vocabulary is the next word following the represented token. The output `decoder_outputs_train` is thus a `batch_size x max_sent_length x target_vocab_size` array.\n"
      ]
    },
    {
      "cell_type": "markdown",
      "metadata": {
        "id": "-4tsMpCYJUk1"
      },
      "source": [
        "###**The Inference Mode**\n",
        "\n",
        "**Encoder**\n",
        "\n",
        "The inference time encoding follows the same steps as training time encoding.\n",
        "\n",
        "<br>\n",
        "\n",
        "**Decoder (No attention)**\n",
        "\n",
        "During training time, we passed a `batch_size(num_sents) x max_sentence_length` array representing the target words into the decoder lstm. The decoder_lstm learns how to represent a given target sentence using the context from the encoder lstm (that learns to represent a source sentence).  \n",
        "\n",
        "At test time, several things are different:\n",
        "\n",
        "1. We no longer have access to a complete translation of the source sentence (recall that no target_words array exists for dev and test sets). Rather, we initialize the target_words_array as thus:\n",
        "\n",
        "    Each expected sentence contains only a single token index, the index of the `'<start>'` token. So, the target_word_dev/test is a `batch_size x 1` array. (see the nmt.eval() function for this)\n",
        "\n",
        "2. This `batch_size x 1` array is fed to the trained decoder_lstm and the predicted array is a `batch_size x 1 x target_vocab_size` such that taking the argmax of this array accross the dimension 2 will give the most probable next word. \n",
        "\n",
        "    For example, at time_step `0`, the first time step, where the `step_target_words` given is the `batch_size x 1` array containing the `'<start>'` token, the next word prediction of the decoder is for each sentence (in the batch) the initial word in the sentence. \n",
        "\n",
        "3. At the first time step, the decoder_lstm still uses the encoder_states as it's initial states. At subsequent time steps, it uses it's own states from the previous time steps. This is also what the decoder_lstm does at training time but it is made more explicit here as we loop over time steps using a for loop.\n",
        "(see nmt.eval())\n",
        "\n",
        "\n",
        "\n"
      ]
    },
    {
      "cell_type": "markdown",
      "metadata": {
        "id": "wFIKOF5sed68"
      },
      "source": [
        "##**Training Without Attention**\n",
        "\n",
        "If you've completed Tasks 1 and 2, you are ready to train the NMT model without attention.\n",
        "\n",
        "Run the following cells to train the model for 10 epochs. It also shows the model summary of the each model you encapsulated.\n",
        "\n",
        "If you're using a GPU, training will no more than 10 minutes and you will get a BLEU score between 4 and 5. "
      ]
    },
    {
      "cell_type": "code",
      "metadata": {
        "colab": {
          "base_uri": "https://localhost:8080/"
        },
        "id": "8V5YoFP3yQO-",
        "outputId": "bd9d0efb-39b4-4531-8111-e148b182aa5f"
      },
      "source": [
        "from google.colab import drive\n",
        "drive.mount('/content/drive/')"
      ],
      "execution_count": 3,
      "outputs": [
        {
          "output_type": "stream",
          "name": "stdout",
          "text": [
            "Drive already mounted at /content/drive/; to attempt to forcibly remount, call drive.mount(\"/content/drive/\", force_remount=True).\n"
          ]
        }
      ]
    },
    {
      "cell_type": "code",
      "metadata": {
        "id": "upXa_erqyzKm"
      },
      "source": [
        "# change this to the path to your folder. Remember to start from the home directory\n",
        "PATH = 'My Drive/nmt_lab_files/' "
      ],
      "execution_count": 4,
      "outputs": []
    },
    {
      "cell_type": "code",
      "metadata": {
        "id": "ffbGcgrRy7p6"
      },
      "source": [
        "PATH_TO_FOLDER = \"/content/drive/\" + PATH"
      ],
      "execution_count": 5,
      "outputs": []
    },
    {
      "cell_type": "code",
      "metadata": {
        "id": "XfSgKakK0QgV"
      },
      "source": [
        "import sys\n",
        "sys.path.append(PATH_TO_FOLDER)"
      ],
      "execution_count": 6,
      "outputs": []
    },
    {
      "cell_type": "code",
      "metadata": {
        "id": "NmSgv44y0TN9"
      },
      "source": [
        "SOURCE_PATH = PATH_TO_FOLDER + 'data.30.vi'\n",
        "TARGET_PATH = PATH_TO_FOLDER + 'data.30.en'"
      ],
      "execution_count": 7,
      "outputs": []
    },
    {
      "cell_type": "code",
      "metadata": {
        "id": "OOTMtc_l0_ut"
      },
      "source": [
        "import nmt_model_keras as nmt "
      ],
      "execution_count": 8,
      "outputs": []
    },
    {
      "cell_type": "code",
      "metadata": {
        "id": "IsO7wW6U1w2m",
        "colab": {
          "base_uri": "https://localhost:8080/"
        },
        "outputId": "e684f688-b35e-4ccf-90d0-cb3dea6bdeab"
      },
      "source": [
        "nmt.main(SOURCE_PATH, TARGET_PATH, use_attention=False)"
      ],
      "execution_count": 9,
      "outputs": [
        {
          "output_type": "stream",
          "name": "stdout",
          "text": [
            "loading dictionaries\n",
            "read 24000/3000/3000 train/dev/test batches\n",
            "number of tokens in source: 2034, number of tokens in target:2506\n",
            "Task 1(a): Creating the embedding lookups...\n",
            "\n",
            "Task 1(b): Looking up source and target words...\n",
            "\n",
            "Task 1(c): Creating an encoder\n",
            "\t\t\t\t\t\t Train Model Summary.\n",
            "Model: \"model\"\n",
            "__________________________________________________________________________________________________\n",
            " Layer (type)                   Output Shape         Param #     Connected to                     \n",
            "==================================================================================================\n",
            " input_1 (InputLayer)           [(None, None)]       0           []                               \n",
            "                                                                                                  \n",
            " input_2 (InputLayer)           [(None, None)]       0           []                               \n",
            "                                                                                                  \n",
            " embedding (Embedding)          (None, None, 100)    203400      ['input_1[0][0]']                \n",
            "                                                                                                  \n",
            " embedding_1 (Embedding)        (None, None, 100)    250600      ['input_2[0][0]']                \n",
            "                                                                                                  \n",
            " dropout (Dropout)              (None, None, 100)    0           ['embedding[0][0]']              \n",
            "                                                                                                  \n",
            " dropout_1 (Dropout)            (None, None, 100)    0           ['embedding_1[0][0]']            \n",
            "                                                                                                  \n",
            " lstm (LSTM)                    [(None, None, 200),  240800      ['dropout[0][0]']                \n",
            "                                 (None, 200),                                                     \n",
            "                                 (None, 200)]                                                     \n",
            "                                                                                                  \n",
            " lstm_1 (LSTM)                  [(None, None, 200),  240800      ['dropout_1[0][0]',              \n",
            "                                 (None, 200),                     'lstm[0][1]',                   \n",
            "                                 (None, 200)]                     'lstm[0][2]']                   \n",
            "                                                                                                  \n",
            " dense (Dense)                  (None, None, 2506)   503706      ['lstm_1[0][0]']                 \n",
            "                                                                                                  \n",
            "==================================================================================================\n",
            "Total params: 1,439,306\n",
            "Trainable params: 1,439,306\n",
            "Non-trainable params: 0\n",
            "__________________________________________________________________________________________________\n",
            "\t\t\t\t\t\t Inference Time Encoder Model Summary.\n",
            "Model: \"model_1\"\n",
            "_________________________________________________________________\n",
            " Layer (type)                Output Shape              Param #   \n",
            "=================================================================\n",
            " input_1 (InputLayer)        [(None, None)]            0         \n",
            "                                                                 \n",
            " embedding (Embedding)       (None, None, 100)         203400    \n",
            "                                                                 \n",
            " dropout (Dropout)           (None, None, 100)         0         \n",
            "                                                                 \n",
            " lstm (LSTM)                 [(None, None, 200),       240800    \n",
            "                              (None, 200),                       \n",
            "                              (None, 200)]                       \n",
            "                                                                 \n",
            "=================================================================\n",
            "Total params: 444,200\n",
            "Trainable params: 444,200\n",
            "Non-trainable params: 0\n",
            "_________________________________________________________________\n"
          ]
        },
        {
          "output_type": "stream",
          "name": "stderr",
          "text": [
            "/usr/local/lib/python3.7/dist-packages/keras/optimizer_v2/adam.py:105: UserWarning: The `lr` argument is deprecated, use `learning_rate` instead.\n",
            "  super(Adam, self).__init__(name, **kwargs)\n"
          ]
        },
        {
          "output_type": "stream",
          "name": "stdout",
          "text": [
            "\n",
            " Putting together the decoder states\n",
            "\t\t\t\t\t\t Decoder Inference Model summary\n",
            "Model: \"model_2\"\n",
            "__________________________________________________________________________________________________\n",
            " Layer (type)                   Output Shape         Param #     Connected to                     \n",
            "==================================================================================================\n",
            " input_2 (InputLayer)           [(None, None)]       0           []                               \n",
            "                                                                                                  \n",
            " embedding_1 (Embedding)        (None, None, 100)    250600      ['input_2[0][0]']                \n",
            "                                                                                                  \n",
            " dropout_1 (Dropout)            (None, None, 100)    0           ['embedding_1[0][0]']            \n",
            "                                                                                                  \n",
            " input_3 (InputLayer)           [(None, 200)]        0           []                               \n",
            "                                                                                                  \n",
            " input_4 (InputLayer)           [(None, 200)]        0           []                               \n",
            "                                                                                                  \n",
            " lstm_1 (LSTM)                  [(None, None, 200),  240800      ['dropout_1[0][0]',              \n",
            "                                 (None, 200),                     'input_3[0][0]',                \n",
            "                                 (None, 200)]                     'input_4[0][0]']                \n",
            "                                                                                                  \n",
            " input_5 (InputLayer)           [(None, None, 200)]  0           []                               \n",
            "                                                                                                  \n",
            " dense (Dense)                  (None, None, 2506)   503706      ['lstm_1[1][0]']                 \n",
            "                                                                                                  \n",
            "==================================================================================================\n",
            "Total params: 995,106\n",
            "Trainable params: 995,106\n",
            "Non-trainable params: 0\n",
            "__________________________________________________________________________________________________\n",
            "None\n",
            "Starting training epoch 1/10\n",
            "240/240 [==============================] - 174s 702ms/step - loss: 2.1228 - accuracy: 0.2446\n",
            "Time used for epoch 1: 3 m 27 s\n",
            "Evaluating on dev set after epoch 1/10:\n",
            "Model BLEU score: 1.37\n",
            "Time used for evaluate on dev set: 0 m 15 s\n",
            "Starting training epoch 2/10\n",
            "240/240 [==============================] - 168s 700ms/step - loss: 1.8206 - accuracy: 0.3075\n",
            "Time used for epoch 2: 3 m 21 s\n",
            "Evaluating on dev set after epoch 2/10:\n",
            "Model BLEU score: 2.41\n",
            "Time used for evaluate on dev set: 0 m 13 s\n",
            "Starting training epoch 3/10\n",
            "240/240 [==============================] - 168s 701ms/step - loss: 1.7145 - accuracy: 0.3300\n",
            "Time used for epoch 3: 3 m 21 s\n",
            "Evaluating on dev set after epoch 3/10:\n",
            "Model BLEU score: 3.02\n",
            "Time used for evaluate on dev set: 0 m 12 s\n",
            "Starting training epoch 4/10\n",
            "240/240 [==============================] - 168s 702ms/step - loss: 1.6447 - accuracy: 0.3485\n",
            "Time used for epoch 4: 3 m 21 s\n",
            "Evaluating on dev set after epoch 4/10:\n",
            "Model BLEU score: 3.66\n",
            "Time used for evaluate on dev set: 0 m 12 s\n",
            "Starting training epoch 5/10\n",
            "240/240 [==============================] - 169s 703ms/step - loss: 1.5920 - accuracy: 0.3587\n",
            "Time used for epoch 5: 3 m 21 s\n",
            "Evaluating on dev set after epoch 5/10:\n",
            "Model BLEU score: 3.90\n",
            "Time used for evaluate on dev set: 0 m 13 s\n",
            "Starting training epoch 6/10\n",
            "240/240 [==============================] - 168s 701ms/step - loss: 1.5512 - accuracy: 0.3666\n",
            "Time used for epoch 6: 2 m 48 s\n",
            "Evaluating on dev set after epoch 6/10:\n",
            "Model BLEU score: 4.04\n",
            "Time used for evaluate on dev set: 0 m 13 s\n",
            "Starting training epoch 7/10\n",
            "240/240 [==============================] - 168s 699ms/step - loss: 1.5182 - accuracy: 0.3721\n",
            "Time used for epoch 7: 3 m 21 s\n",
            "Evaluating on dev set after epoch 7/10:\n",
            "Model BLEU score: 4.22\n",
            "Time used for evaluate on dev set: 0 m 13 s\n",
            "Starting training epoch 8/10\n",
            "240/240 [==============================] - 168s 700ms/step - loss: 1.4898 - accuracy: 0.3770\n",
            "Time used for epoch 8: 2 m 47 s\n",
            "Evaluating on dev set after epoch 8/10:\n",
            "Model BLEU score: 4.68\n",
            "Time used for evaluate on dev set: 0 m 12 s\n",
            "Starting training epoch 9/10\n",
            "240/240 [==============================] - 168s 699ms/step - loss: 1.4664 - accuracy: 0.3812\n",
            "Time used for epoch 9: 3 m 21 s\n",
            "Evaluating on dev set after epoch 9/10:\n",
            "Model BLEU score: 4.37\n",
            "Time used for evaluate on dev set: 0 m 13 s\n",
            "Starting training epoch 10/10\n",
            "240/240 [==============================] - 168s 701ms/step - loss: 1.4463 - accuracy: 0.3838\n",
            "Time used for epoch 10: 3 m 21 s\n",
            "Evaluating on dev set after epoch 10/10:\n",
            "Model BLEU score: 4.69\n",
            "Time used for evaluate on dev set: 0 m 12 s\n",
            "Training finished!\n",
            "Time used for training: 34 m 51 s\n",
            "Evaluating on test set:\n",
            "Model BLEU score: 5.06\n",
            "Time used for evaluate on test set: 0 m 13 s\n"
          ]
        }
      ]
    },
    {
      "cell_type": "markdown",
      "metadata": {
        "id": "dlMDC3DJi12c"
      },
      "source": [
        "##**Decoding with Attention**"
      ]
    },
    {
      "cell_type": "markdown",
      "metadata": {
        "id": "4cQKwvFqurVY"
      },
      "source": [
        "The inputs to the attention layer are encoder and decoder outputs. The attention mechanism:\n",
        "1. Computes a score (a luong score) for each source word\n",
        "2. Weights the words by their luong scores.\n",
        "3. Concatenates the wieghted encoder representation with the decoder_ouput.\n",
        "This new decoder output will now be the input to the decoder_dense layer. \n",
        "\n",
        "Task 3 description in the doc file outlines the steps for this in detail. Once you have completed this Task, you are now ready to train with attention. Training time will be no more than 10 minutes using a GPU and you should get a bleu score of about 15."
      ]
    },
    {
      "cell_type": "code",
      "metadata": {
        "colab": {
          "base_uri": "https://localhost:8080/"
        },
        "id": "23t6wfpLkb2F",
        "outputId": "a70ba61a-cf96-4a76-de69-d0b5ef77e064"
      },
      "source": [
        "nmt.main(SOURCE_PATH, TARGET_PATH, use_attention=True)"
      ],
      "execution_count": 10,
      "outputs": [
        {
          "output_type": "stream",
          "name": "stdout",
          "text": [
            "loading dictionaries\n",
            "read 24000/3000/3000 train/dev/test batches\n",
            "number of tokens in source: 2034, number of tokens in target:2506\n",
            "Task 1(a): Creating the embedding lookups...\n",
            "\n",
            "Task 1(b): Looking up source and target words...\n",
            "\n",
            "Task 1(c): Creating an encoder\n",
            "\t\t\t\t\t\t Train Model Summary.\n",
            "Model: \"model_3\"\n",
            "__________________________________________________________________________________________________\n",
            " Layer (type)                   Output Shape         Param #     Connected to                     \n",
            "==================================================================================================\n",
            " input_6 (InputLayer)           [(None, None)]       0           []                               \n",
            "                                                                                                  \n",
            " embedding_2 (Embedding)        (None, None, 100)    203400      ['input_6[0][0]']                \n",
            "                                                                                                  \n",
            " input_7 (InputLayer)           [(None, None)]       0           []                               \n",
            "                                                                                                  \n",
            " dropout_2 (Dropout)            (None, None, 100)    0           ['embedding_2[0][0]']            \n",
            "                                                                                                  \n",
            " embedding_3 (Embedding)        (None, None, 100)    250600      ['input_7[0][0]']                \n",
            "                                                                                                  \n",
            " lstm_2 (LSTM)                  [(None, None, 200),  240800      ['dropout_2[0][0]']              \n",
            "                                 (None, 200),                                                     \n",
            "                                 (None, 200)]                                                     \n",
            "                                                                                                  \n",
            " dropout_3 (Dropout)            (None, None, 100)    0           ['embedding_3[0][0]']            \n",
            "                                                                                                  \n",
            " lstm_3 (LSTM)                  [(None, None, 200),  240800      ['dropout_3[0][0]',              \n",
            "                                 (None, 200),                     'lstm_2[0][1]',                 \n",
            "                                 (None, 200)]                     'lstm_2[0][2]']                 \n",
            "                                                                                                  \n",
            " attention_layer (AttentionLaye  (None, None, 400)   0           ['lstm_2[0][0]',                 \n",
            " r)                                                               'lstm_3[0][0]']                 \n",
            "                                                                                                  \n",
            " dense_1 (Dense)                (None, None, 2506)   1004906     ['attention_layer[0][0]']        \n",
            "                                                                                                  \n",
            "==================================================================================================\n",
            "Total params: 1,940,506\n",
            "Trainable params: 1,940,506\n",
            "Non-trainable params: 0\n",
            "__________________________________________________________________________________________________\n",
            "\t\t\t\t\t\t Inference Time Encoder Model Summary.\n",
            "Model: \"model_4\"\n",
            "_________________________________________________________________\n",
            " Layer (type)                Output Shape              Param #   \n",
            "=================================================================\n",
            " input_6 (InputLayer)        [(None, None)]            0         \n",
            "                                                                 \n",
            " embedding_2 (Embedding)     (None, None, 100)         203400    \n",
            "                                                                 \n",
            " dropout_2 (Dropout)         (None, None, 100)         0         \n",
            "                                                                 \n",
            " lstm_2 (LSTM)               [(None, None, 200),       240800    \n",
            "                              (None, 200),                       \n",
            "                              (None, 200)]                       \n",
            "                                                                 \n",
            "=================================================================\n",
            "Total params: 444,200\n",
            "Trainable params: 444,200\n",
            "Non-trainable params: 0\n",
            "_________________________________________________________________\n"
          ]
        },
        {
          "output_type": "stream",
          "name": "stderr",
          "text": [
            "/usr/local/lib/python3.7/dist-packages/keras/optimizer_v2/adam.py:105: UserWarning: The `lr` argument is deprecated, use `learning_rate` instead.\n",
            "  super(Adam, self).__init__(name, **kwargs)\n"
          ]
        },
        {
          "output_type": "stream",
          "name": "stdout",
          "text": [
            "\n",
            " Putting together the decoder states\n",
            "\t\t\t\t\t\t Decoder Inference Model summary\n",
            "Model: \"model_5\"\n",
            "__________________________________________________________________________________________________\n",
            " Layer (type)                   Output Shape         Param #     Connected to                     \n",
            "==================================================================================================\n",
            " input_7 (InputLayer)           [(None, None)]       0           []                               \n",
            "                                                                                                  \n",
            " embedding_3 (Embedding)        (None, None, 100)    250600      ['input_7[0][0]']                \n",
            "                                                                                                  \n",
            " dropout_3 (Dropout)            (None, None, 100)    0           ['embedding_3[0][0]']            \n",
            "                                                                                                  \n",
            " input_8 (InputLayer)           [(None, 200)]        0           []                               \n",
            "                                                                                                  \n",
            " input_9 (InputLayer)           [(None, 200)]        0           []                               \n",
            "                                                                                                  \n",
            " input_10 (InputLayer)          [(None, None, 200)]  0           []                               \n",
            "                                                                                                  \n",
            " lstm_3 (LSTM)                  [(None, None, 200),  240800      ['dropout_3[0][0]',              \n",
            "                                 (None, 200),                     'input_8[0][0]',                \n",
            "                                 (None, 200)]                     'input_9[0][0]']                \n",
            "                                                                                                  \n",
            " attention_layer_1 (AttentionLa  (None, None, 400)   0           ['input_10[0][0]',               \n",
            " yer)                                                             'lstm_3[1][0]']                 \n",
            "                                                                                                  \n",
            " dense_1 (Dense)                (None, None, 2506)   1004906     ['attention_layer_1[0][0]']      \n",
            "                                                                                                  \n",
            "==================================================================================================\n",
            "Total params: 1,496,306\n",
            "Trainable params: 1,496,306\n",
            "Non-trainable params: 0\n",
            "__________________________________________________________________________________________________\n",
            "None\n",
            "Starting training epoch 1/10\n",
            "240/240 [==============================] - 212s 860ms/step - loss: 2.0620 - accuracy: 0.2671\n",
            "Time used for epoch 1: 3 m 32 s\n",
            "Evaluating on dev set after epoch 1/10:\n",
            "Model BLEU score: 4.78\n",
            "Time used for evaluate on dev set: 0 m 20 s\n",
            "Starting training epoch 2/10\n",
            "240/240 [==============================] - 206s 859ms/step - loss: 1.5772 - accuracy: 0.3989\n",
            "Time used for epoch 2: 3 m 26 s\n",
            "Evaluating on dev set after epoch 2/10:\n",
            "Model BLEU score: 10.43\n",
            "Time used for evaluate on dev set: 0 m 19 s\n",
            "Starting training epoch 3/10\n",
            "240/240 [==============================] - 204s 851ms/step - loss: 1.3138 - accuracy: 0.4572\n",
            "Time used for epoch 3: 3 m 24 s\n",
            "Evaluating on dev set after epoch 3/10:\n",
            "Model BLEU score: 13.10\n",
            "Time used for evaluate on dev set: 0 m 19 s\n",
            "Starting training epoch 4/10\n",
            "240/240 [==============================] - 206s 857ms/step - loss: 1.1654 - accuracy: 0.4880\n",
            "Time used for epoch 4: 4 m 21 s\n",
            "Evaluating on dev set after epoch 4/10:\n",
            "Model BLEU score: 13.57\n",
            "Time used for evaluate on dev set: 0 m 20 s\n",
            "Starting training epoch 5/10\n",
            "240/240 [==============================] - 206s 859ms/step - loss: 1.0740 - accuracy: 0.5099\n",
            "Time used for epoch 5: 4 m 21 s\n",
            "Evaluating on dev set after epoch 5/10:\n",
            "Model BLEU score: 14.32\n",
            "Time used for evaluate on dev set: 0 m 20 s\n",
            "Starting training epoch 6/10\n",
            "240/240 [==============================] - 206s 859ms/step - loss: 1.0105 - accuracy: 0.5263\n",
            "Time used for epoch 6: 4 m 21 s\n",
            "Evaluating on dev set after epoch 6/10:\n",
            "Model BLEU score: 14.58\n",
            "Time used for evaluate on dev set: 0 m 19 s\n",
            "Starting training epoch 7/10\n",
            "240/240 [==============================] - 206s 857ms/step - loss: 0.9642 - accuracy: 0.5388\n",
            "Time used for epoch 7: 4 m 21 s\n",
            "Evaluating on dev set after epoch 7/10:\n",
            "Model BLEU score: 15.05\n",
            "Time used for evaluate on dev set: 0 m 18 s\n",
            "Starting training epoch 8/10\n",
            "240/240 [==============================] - 205s 853ms/step - loss: 0.9266 - accuracy: 0.5495\n",
            "Time used for epoch 8: 4 m 21 s\n",
            "Evaluating on dev set after epoch 8/10:\n",
            "Model BLEU score: 14.93\n",
            "Time used for evaluate on dev set: 0 m 17 s\n",
            "Starting training epoch 9/10\n",
            "240/240 [==============================] - 206s 859ms/step - loss: 0.8980 - accuracy: 0.5578\n",
            "Time used for epoch 9: 4 m 21 s\n",
            "Evaluating on dev set after epoch 9/10:\n",
            "Model BLEU score: 15.29\n",
            "Time used for evaluate on dev set: 0 m 19 s\n",
            "Starting training epoch 10/10\n",
            "240/240 [==============================] - 207s 862ms/step - loss: 0.8748 - accuracy: 0.5650\n",
            "Time used for epoch 10: 4 m 21 s\n",
            "Evaluating on dev set after epoch 10/10:\n",
            "Model BLEU score: 14.65\n",
            "Time used for evaluate on dev set: 0 m 20 s\n",
            "Training finished!\n",
            "Time used for training: 44 m 13 s\n",
            "Evaluating on test set:\n",
            "Model BLEU score: 15.33\n",
            "Time used for evaluate on test set: 0 m 21 s\n"
          ]
        }
      ]
    }
  ]
}