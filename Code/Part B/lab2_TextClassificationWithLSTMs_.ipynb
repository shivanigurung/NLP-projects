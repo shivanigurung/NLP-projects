{
  "nbformat": 4,
  "nbformat_minor": 0,
  "metadata": {
    "colab": {
      "name": "7001_2021_22_lab2_TextClassificationWithLSTMs_without_answers.ipynb",
      "provenance": [],
      "collapsed_sections": []
    },
    "kernelspec": {
      "name": "python3",
      "display_name": "Python 3"
    },
    "accelerator": "GPU"
  },
  "cells": [
    {
      "cell_type": "markdown",
      "metadata": {
        "id": "t_yvQBKrD8Se"
      },
      "source": [
        "# **ECS 7001 - NN & NNLP**\n",
        "\n",
        "## **Lab 2: LSTM for Text Classification**\n",
        "\n",
        "<br>\n",
        "\n",
        "**February 2nd and 3rd**\n",
        "\n",
        "In Lab 2, you trained word embeddings by casting the unsupervised learning problem as a binary classification problem (i.e. using the skip-gram model). This week, you will build an LSTM model to classify movie reviews as either positive or negative. After training, you will extract the word embeddings learned by the model.\n",
        "\n"
      ]
    },
    {
      "cell_type": "markdown",
      "metadata": {
        "id": "Ep2X91YdJpkG"
      },
      "source": [
        "### **0. Prepare the environment**\n",
        "\n",
        "Open Google Colab or activate the virtual environment you’ve created"
      ]
    },
    {
      "cell_type": "markdown",
      "metadata": {
        "id": "w6Pi5uvTLRCo"
      },
      "source": [
        "### **1. Getting the Dataset**\n",
        "\n",
        "You will be using the imdb dataset from Lab 0. This is a dataset of 25,000 movie reviews from IMDB, labeled by sentiment - positive (1) or negative (0). \n",
        "<br>\n",
        "\n",
        "The reviews have been preprocessed, and each review is encoded as a list of word indices. Last week, you assigned the indices to the word randomly (or in order of their first appearance in the corpus) but in this preprocessed corpus, the words are indexed by overall frequency in the dataset, such that a word with index 3 occurs more frequently than a word with index 10.\n",
        "<br>\n",
        "\n",
        "In the following blocks of code in this section, we will load and visualize the data.\n"
      ]
    },
    {
      "cell_type": "code",
      "metadata": {
        "id": "xn7sWMG-KoBV"
      },
      "source": [
        "from tensorflow.keras import datasets\n",
        "\n",
        "imdb = datasets.imdb"
      ],
      "execution_count": null,
      "outputs": []
    },
    {
      "cell_type": "code",
      "metadata": {
        "id": "yCH0PmPcL83f"
      },
      "source": [
        "%%capture\n",
        "\n",
        "# we'll use the most frequent 10000 words in the vocabulary\n",
        "VOCAB_SIZE = 10000\n",
        "\n",
        "# 0 is reserved for ‘<PAD>’, 1 for ‘<START>’ and 2 for ‘<UNK>’ i.e. words not in vocabulary\n",
        "# the documentation says index_from = 3 but actually uses the value as an offset. The words\n",
        "# in the dictionary are indexed from 1 by default so, saying index_from=3 means any actual\n",
        "# words would start from 4 (1+3) and index 3 will be left unused. We use index_from=offset=2 to avoid this\n",
        "# If you want to explore this further, you may look up the source_code for load_data here\n",
        "# https://github.com/tensorflow/tensorflow/blob/v2.4.1/tensorflow/python/keras/datasets/imdb.py#L31-L162\n",
        "OFFSET = 2\n",
        "\n",
        "# for more information on the load_data method, type(help(load_data))\n",
        "(train_data,train_labels),(test_data,test_labels) = imdb.load_data(num_words=VOCAB_SIZE, index_from=OFFSET)"
      ],
      "execution_count": null,
      "outputs": []
    },
    {
      "cell_type": "markdown",
      "metadata": {
        "id": "lVgaL5JIYBRm"
      },
      "source": [
        "***Sanity Check***\n",
        "\n",
        "Each instance in the training data is a list of word indices representing the words in a movie review.\n",
        "\n",
        "Each label is 1 if that review is positive, else 0."
      ]
    },
    {
      "cell_type": "code",
      "metadata": {
        "colab": {
          "base_uri": "https://localhost:8080/"
        },
        "id": "APFWiEejv9i5",
        "outputId": "bc727fd9-d366-4b47-e844-245795395c1d"
      },
      "source": [
        "print('Sample review:', train_data[0])"
      ],
      "execution_count": null,
      "outputs": [
        {
          "output_type": "stream",
          "name": "stdout",
          "text": [
            "Sample review: [1, 13, 21, 15, 42, 529, 972, 1621, 1384, 64, 457, 4467, 65, 3940, 3, 172, 35, 255, 4, 24, 99, 42, 837, 111, 49, 669, 2, 8, 34, 479, 283, 4, 149, 3, 171, 111, 166, 2, 335, 384, 38, 3, 171, 4535, 1110, 16, 545, 37, 12, 446, 3, 191, 49, 15, 5, 146, 2024, 18, 13, 21, 3, 1919, 4612, 468, 3, 21, 70, 86, 11, 15, 42, 529, 37, 75, 14, 12, 1246, 3, 21, 16, 514, 16, 11, 15, 625, 17, 2, 4, 61, 385, 11, 7, 315, 7, 105, 4, 3, 2222, 5243, 15, 479, 65, 3784, 32, 3, 129, 11, 15, 37, 618, 4, 24, 123, 50, 35, 134, 47, 24, 1414, 32, 5, 21, 11, 214, 27, 76, 51, 4, 13, 406, 15, 81, 2, 7, 3, 106, 116, 5951, 14, 255, 3, 2, 6, 3765, 4, 722, 35, 70, 42, 529, 475, 25, 399, 316, 45, 6, 3, 2, 1028, 12, 103, 87, 3, 380, 14, 296, 97, 31, 2070, 55, 25, 140, 5, 193, 7485, 17, 3, 225, 21, 20, 133, 475, 25, 479, 4, 143, 29, 5534, 17, 50, 35, 27, 223, 91, 24, 103, 3, 225, 64, 15, 37, 1333, 87, 11, 15, 282, 4, 15, 4471, 112, 102, 31, 14, 15, 5344, 18, 177, 31]\n"
          ]
        }
      ]
    },
    {
      "cell_type": "code",
      "metadata": {
        "id": "CwgeiaF7n_lX",
        "colab": {
          "base_uri": "https://localhost:8080/"
        },
        "outputId": "0434bf3a-b182-4a7e-83f4-0b6a2fd4ca61"
      },
      "source": [
        "print('\\n Sample label:', train_labels[0])"
      ],
      "execution_count": null,
      "outputs": [
        {
          "output_type": "stream",
          "name": "stdout",
          "text": [
            "\n",
            " Sample label: 1\n"
          ]
        }
      ]
    },
    {
      "cell_type": "markdown",
      "metadata": {
        "id": "4c14vElNvMGX"
      },
      "source": [
        "### **2. Readying the Inputs for the LSTM**\n",
        "\n",
        "The movie reviews are of different lengths. The standard way of dealing with varying length inputs is to ***pad*** or ***truncate*** each sentence to a fixed length (which we choose heuristically). \n",
        "\n",
        "Keras provides a way to do this.  In this section, you will use the keras.preprocessing.sequence method <pad_sequences> handle padding and truncating.\n",
        "\n",
        "**Hints**\n",
        "\n",
        "*  help(pad_sequences) will give you more information about how this works.\n",
        "*  You can experiment with 'pre' vs 'post' padding/truncating. In practice, 'pre' padding is more effective for our purposes; can you hypothesize about why this is?\n",
        "*  Since we have reserved 0 for \\<PAD\\>, your pad value should be set to 0.\n",
        "*  The maximum length has been specified below as MAX_LENGTH."
      ]
    },
    {
      "cell_type": "code",
      "metadata": {
        "id": "7XPwN_COagT9"
      },
      "source": [
        "from keras.preprocessing.sequence import pad_sequences\n",
        "\n",
        "\n",
        "MAX_LENGHT = 500\n",
        "\n",
        "padded_train_data = pad_sequences(train_data, maxlen=MAX_LENGHT, padding='pre', truncating='pre')\n",
        "padded_test_data = pad_sequences(test_data, maxlen=MAX_LENGHT, padding='pre', truncating='pre')"
      ],
      "execution_count": null,
      "outputs": []
    },
    {
      "cell_type": "markdown",
      "metadata": {
        "id": "RhrUvhC2dO87"
      },
      "source": [
        "***Sanity Check***\n",
        "\n",
        "For the first training example, print its length and the padded sequence to see the effect of your padding process. \n",
        "\n",
        "PS: Pre-padding was used for the output you see below."
      ]
    },
    {
      "cell_type": "code",
      "metadata": {
        "colab": {
          "base_uri": "https://localhost:8080/"
        },
        "id": "DZb7keBfdKc_",
        "outputId": "36dba1c1-ca12-4116-ebbe-9266ceb433f1"
      },
      "source": [
        "print('Length of sample train_data before preprocessing:', len(train_data[0]))\n",
        "print('Length of sample train_data after preprocessing:', len(padded_train_data[0]))\n",
        "print('Sample train data:', padded_train_data[0])"
      ],
      "execution_count": null,
      "outputs": [
        {
          "output_type": "stream",
          "name": "stdout",
          "text": [
            "Length of sample train_data before preprocessing: 218\n",
            "Length of sample train_data after preprocessing: 500\n",
            "Sample train data: [   0    0    0    0    0    0    0    0    0    0    0    0    0    0\n",
            "    0    0    0    0    0    0    0    0    0    0    0    0    0    0\n",
            "    0    0    0    0    0    0    0    0    0    0    0    0    0    0\n",
            "    0    0    0    0    0    0    0    0    0    0    0    0    0    0\n",
            "    0    0    0    0    0    0    0    0    0    0    0    0    0    0\n",
            "    0    0    0    0    0    0    0    0    0    0    0    0    0    0\n",
            "    0    0    0    0    0    0    0    0    0    0    0    0    0    0\n",
            "    0    0    0    0    0    0    0    0    0    0    0    0    0    0\n",
            "    0    0    0    0    0    0    0    0    0    0    0    0    0    0\n",
            "    0    0    0    0    0    0    0    0    0    0    0    0    0    0\n",
            "    0    0    0    0    0    0    0    0    0    0    0    0    0    0\n",
            "    0    0    0    0    0    0    0    0    0    0    0    0    0    0\n",
            "    0    0    0    0    0    0    0    0    0    0    0    0    0    0\n",
            "    0    0    0    0    0    0    0    0    0    0    0    0    0    0\n",
            "    0    0    0    0    0    0    0    0    0    0    0    0    0    0\n",
            "    0    0    0    0    0    0    0    0    0    0    0    0    0    0\n",
            "    0    0    0    0    0    0    0    0    0    0    0    0    0    0\n",
            "    0    0    0    0    0    0    0    0    0    0    0    0    0    0\n",
            "    0    0    0    0    0    0    0    0    0    0    0    0    0    0\n",
            "    0    0    0    0    0    0    0    0    0    0    0    0    0    0\n",
            "    0    0    1   13   21   15   42  529  972 1621 1384   64  457 4467\n",
            "   65 3940    3  172   35  255    4   24   99   42  837  111   49  669\n",
            "    2    8   34  479  283    4  149    3  171  111  166    2  335  384\n",
            "   38    3  171 4535 1110   16  545   37   12  446    3  191   49   15\n",
            "    5  146 2024   18   13   21    3 1919 4612  468    3   21   70   86\n",
            "   11   15   42  529   37   75   14   12 1246    3   21   16  514   16\n",
            "   11   15  625   17    2    4   61  385   11    7  315    7  105    4\n",
            "    3 2222 5243   15  479   65 3784   32    3  129   11   15   37  618\n",
            "    4   24  123   50   35  134   47   24 1414   32    5   21   11  214\n",
            "   27   76   51    4   13  406   15   81    2    7    3  106  116 5951\n",
            "   14  255    3    2    6 3765    4  722   35   70   42  529  475   25\n",
            "  399  316   45    6    3    2 1028   12  103   87    3  380   14  296\n",
            "   97   31 2070   55   25  140    5  193 7485   17    3  225   21   20\n",
            "  133  475   25  479    4  143   29 5534   17   50   35   27  223   91\n",
            "   24  103    3  225   64   15   37 1333   87   11   15  282    4   15\n",
            " 4471  112  102   31   14   15 5344   18  177   31]\n"
          ]
        }
      ]
    },
    {
      "cell_type": "markdown",
      "metadata": {
        "id": "rghchHA66d-V"
      },
      "source": [
        "### **3. Building the Model**\n",
        "\n",
        "In this section, you will use the keras Model API to build a classification model.\n",
        "\n",
        "*   The first step is to tell the model what sort of input to expect using the keras \\<Input\\> layer \n",
        "*   The second step is to add an embedding layer like we did last week. \n",
        "This embedding layer creates a lookup table of the form {word:embedding} for each of the unique words in our corpus. Use EMBED_SIZE = 100 (i.e each word is represented by a 100D vector such that each movie review is 500 X 100 in dimension.  Don't forget to set mask_zero=True since we are using 0 index as out padding.\n",
        "*  The third step is to add an LSTM with 100 units. By leaving 'return_sequences' as False, the output of this model will be the output of the final time step of the LSTM. https://keras.io/api/layers/recurrent_layers/lstm/ \n",
        "*  The final layer of the model is a fully connected (Dense) layer. Can you figure out what activation function would be appropriate for this layer given the binary nature of the task?\n",
        "*  The model should be compiled with a 'binary_crossentropy' loss function, an 'adam' optimizer. We also want to visualize the model accuracy during training so the 'metrics' parameter of the compile method should be set to ['accuracy']."
      ]
    },
    {
      "cell_type": "code",
      "metadata": {
        "id": "L1EHilHl1l2m"
      },
      "source": [
        "from keras.layers import Input, Embedding, Dense, LSTM, Reshape\n",
        "from keras.models import Model\n",
        "\n",
        "EMBED_SIZE = 100\n",
        "\n",
        "# add input layer\n",
        "input_layer = Input(shape=(MAX_LENGHT,))\n",
        "\n",
        "input_embedding = Embedding(VOCAB_SIZE, EMBED_SIZE, name='embed_layer',\n",
        "                        \tembeddings_initializer='glorot_uniform',\n",
        "                         \tinput_length=1, mask_zero=True)(input_layer)\n",
        "\n",
        "lstm_output = LSTM(units=EMBED_SIZE, return_sequences=False, name='lstm_1')(input_embedding)\n",
        "\n",
        "# final output layer with classifier\n",
        "output_layer = Dense(units=1, activation='sigmoid', name='output_layer')(lstm_output)\n",
        "\n",
        "# compile the model with binary crossentropy loss and adam optimizer\n",
        "model = Model(inputs=input_layer, outputs=output_layer)\n",
        "model.compile(optimizer='adam', loss='binary_crossentropy', metrics=['accuracy'])"
      ],
      "execution_count": null,
      "outputs": []
    },
    {
      "cell_type": "markdown",
      "metadata": {
        "id": "6OMqaFQusbp-"
      },
      "source": [
        "***Sanity Check***\n",
        "\n",
        "Print the model summary and visualize it using vis_utils."
      ]
    },
    {
      "cell_type": "code",
      "metadata": {
        "colab": {
          "base_uri": "https://localhost:8080/"
        },
        "id": "PB7Gv4V6raWd",
        "outputId": "6f1a8a8e-ae04-465c-8c9b-c5d7cdac7500"
      },
      "source": [
        "model.summary()"
      ],
      "execution_count": null,
      "outputs": [
        {
          "output_type": "stream",
          "name": "stdout",
          "text": [
            "Model: \"model\"\n",
            "_________________________________________________________________\n",
            " Layer (type)                Output Shape              Param #   \n",
            "=================================================================\n",
            " input_1 (InputLayer)        [(None, 500)]             0         \n",
            "                                                                 \n",
            " embed_layer (Embedding)     (None, 500, 100)          1000000   \n",
            "                                                                 \n",
            " lstm_1 (LSTM)               (None, 100)               80400     \n",
            "                                                                 \n",
            " output_layer (Dense)        (None, 1)                 101       \n",
            "                                                                 \n",
            "=================================================================\n",
            "Total params: 1,080,501\n",
            "Trainable params: 1,080,501\n",
            "Non-trainable params: 0\n",
            "_________________________________________________________________\n"
          ]
        }
      ]
    },
    {
      "cell_type": "code",
      "metadata": {
        "colab": {
          "base_uri": "https://localhost:8080/",
          "height": 358
        },
        "id": "ZTq8GsWgsqCe",
        "outputId": "c51cbc43-5fe8-4835-9253-cc264b73a041"
      },
      "source": [
        "from IPython.display import SVG\n",
        "from keras.utils import vis_utils\n",
        "SVG(vis_utils.model_to_dot(model, show_shapes=True, show_layer_names=True, dpi=60).create(prog='dot', format='svg'))  \n"
      ],
      "execution_count": null,
      "outputs": [
        {
          "output_type": "execute_result",
          "data": {
            "text/plain": [
              "<IPython.core.display.SVG object>"
            ],
            "image/svg+xml": "<svg height=\"253pt\" viewBox=\"0.00 0.00 360.00 304.00\" width=\"300pt\" xmlns=\"http://www.w3.org/2000/svg\" xmlns:xlink=\"http://www.w3.org/1999/xlink\">\n<g class=\"graph\" id=\"graph0\" transform=\"scale(.8333 .8333) rotate(0) translate(4 300)\">\n<title>G</title>\n<polygon fill=\"#ffffff\" points=\"-4,4 -4,-300 356,-300 356,4 -4,4\" stroke=\"transparent\"/>\n<!-- 139888033117136 -->\n<g class=\"node\" id=\"node1\">\n<title>139888033117136</title>\n<polygon fill=\"none\" points=\"11,-249.5 11,-295.5 341,-295.5 341,-249.5 11,-249.5\" stroke=\"#000000\"/>\n<text fill=\"#000000\" font-family=\"Times,serif\" font-size=\"14.00\" text-anchor=\"middle\" x=\"51\" y=\"-280.3\">input_1</text>\n<polyline fill=\"none\" points=\"11,-272.5 91,-272.5 \" stroke=\"#000000\"/>\n<text fill=\"#000000\" font-family=\"Times,serif\" font-size=\"14.00\" text-anchor=\"middle\" x=\"51\" y=\"-257.3\">InputLayer</text>\n<polyline fill=\"none\" points=\"91,-249.5 91,-295.5 \" stroke=\"#000000\"/>\n<text fill=\"#000000\" font-family=\"Times,serif\" font-size=\"14.00\" text-anchor=\"middle\" x=\"120\" y=\"-280.3\">input:</text>\n<polyline fill=\"none\" points=\"91,-272.5 149,-272.5 \" stroke=\"#000000\"/>\n<text fill=\"#000000\" font-family=\"Times,serif\" font-size=\"14.00\" text-anchor=\"middle\" x=\"120\" y=\"-257.3\">output:</text>\n<polyline fill=\"none\" points=\"149,-249.5 149,-295.5 \" stroke=\"#000000\"/>\n<text fill=\"#000000\" font-family=\"Times,serif\" font-size=\"14.00\" text-anchor=\"middle\" x=\"197\" y=\"-268.8\">[(None, 500)]</text>\n<polyline fill=\"none\" points=\"245,-249.5 245,-295.5 \" stroke=\"#000000\"/>\n<text fill=\"#000000\" font-family=\"Times,serif\" font-size=\"14.00\" text-anchor=\"middle\" x=\"293\" y=\"-268.8\">[(None, 500)]</text>\n</g>\n<!-- 139888033117072 -->\n<g class=\"node\" id=\"node2\">\n<title>139888033117072</title>\n<polygon fill=\"none\" points=\"0,-166.5 0,-212.5 352,-212.5 352,-166.5 0,-166.5\" stroke=\"#000000\"/>\n<text fill=\"#000000\" font-family=\"Times,serif\" font-size=\"14.00\" text-anchor=\"middle\" x=\"45\" y=\"-197.3\">embed_layer</text>\n<polyline fill=\"none\" points=\"0,-189.5 90,-189.5 \" stroke=\"#000000\"/>\n<text fill=\"#000000\" font-family=\"Times,serif\" font-size=\"14.00\" text-anchor=\"middle\" x=\"45\" y=\"-174.3\">Embedding</text>\n<polyline fill=\"none\" points=\"90,-166.5 90,-212.5 \" stroke=\"#000000\"/>\n<text fill=\"#000000\" font-family=\"Times,serif\" font-size=\"14.00\" text-anchor=\"middle\" x=\"119\" y=\"-197.3\">input:</text>\n<polyline fill=\"none\" points=\"90,-189.5 148,-189.5 \" stroke=\"#000000\"/>\n<text fill=\"#000000\" font-family=\"Times,serif\" font-size=\"14.00\" text-anchor=\"middle\" x=\"119\" y=\"-174.3\">output:</text>\n<polyline fill=\"none\" points=\"148,-166.5 148,-212.5 \" stroke=\"#000000\"/>\n<text fill=\"#000000\" font-family=\"Times,serif\" font-size=\"14.00\" text-anchor=\"middle\" x=\"191.5\" y=\"-185.8\">(None, 500)</text>\n<polyline fill=\"none\" points=\"235,-166.5 235,-212.5 \" stroke=\"#000000\"/>\n<text fill=\"#000000\" font-family=\"Times,serif\" font-size=\"14.00\" text-anchor=\"middle\" x=\"293.5\" y=\"-185.8\">(None, 500, 100)</text>\n</g>\n<!-- 139888033117136&#45;&gt;139888033117072 -->\n<g class=\"edge\" id=\"edge1\">\n<title>139888033117136-&gt;139888033117072</title>\n<path d=\"M176,-249.3799C176,-241.1745 176,-231.7679 176,-222.8786\" fill=\"none\" stroke=\"#000000\"/>\n<polygon fill=\"#000000\" points=\"179.5001,-222.784 176,-212.784 172.5001,-222.784 179.5001,-222.784\" stroke=\"#000000\"/>\n</g>\n<!-- 139887893869584 -->\n<g class=\"node\" id=\"node3\">\n<title>139887893869584</title>\n<polygon fill=\"none\" points=\"17,-83.5 17,-129.5 335,-129.5 335,-83.5 17,-83.5\" stroke=\"#000000\"/>\n<text fill=\"#000000\" font-family=\"Times,serif\" font-size=\"14.00\" text-anchor=\"middle\" x=\"45\" y=\"-114.3\">lstm_1</text>\n<polyline fill=\"none\" points=\"17,-106.5 73,-106.5 \" stroke=\"#000000\"/>\n<text fill=\"#000000\" font-family=\"Times,serif\" font-size=\"14.00\" text-anchor=\"middle\" x=\"45\" y=\"-91.3\">LSTM</text>\n<polyline fill=\"none\" points=\"73,-83.5 73,-129.5 \" stroke=\"#000000\"/>\n<text fill=\"#000000\" font-family=\"Times,serif\" font-size=\"14.00\" text-anchor=\"middle\" x=\"102\" y=\"-114.3\">input:</text>\n<polyline fill=\"none\" points=\"73,-106.5 131,-106.5 \" stroke=\"#000000\"/>\n<text fill=\"#000000\" font-family=\"Times,serif\" font-size=\"14.00\" text-anchor=\"middle\" x=\"102\" y=\"-91.3\">output:</text>\n<polyline fill=\"none\" points=\"131,-83.5 131,-129.5 \" stroke=\"#000000\"/>\n<text fill=\"#000000\" font-family=\"Times,serif\" font-size=\"14.00\" text-anchor=\"middle\" x=\"189.5\" y=\"-102.8\">(None, 500, 100)</text>\n<polyline fill=\"none\" points=\"248,-83.5 248,-129.5 \" stroke=\"#000000\"/>\n<text fill=\"#000000\" font-family=\"Times,serif\" font-size=\"14.00\" text-anchor=\"middle\" x=\"291.5\" y=\"-102.8\">(None, 100)</text>\n</g>\n<!-- 139888033117072&#45;&gt;139887893869584 -->\n<g class=\"edge\" id=\"edge2\">\n<title>139888033117072-&gt;139887893869584</title>\n<path d=\"M176,-166.3799C176,-158.1745 176,-148.7679 176,-139.8786\" fill=\"none\" stroke=\"#000000\"/>\n<polygon fill=\"#000000\" points=\"179.5001,-139.784 176,-129.784 172.5001,-139.784 179.5001,-139.784\" stroke=\"#000000\"/>\n</g>\n<!-- 139887893978960 -->\n<g class=\"node\" id=\"node4\">\n<title>139887893978960</title>\n<polygon fill=\"none\" points=\"23,-.5 23,-46.5 329,-46.5 329,-.5 23,-.5\" stroke=\"#000000\"/>\n<text fill=\"#000000\" font-family=\"Times,serif\" font-size=\"14.00\" text-anchor=\"middle\" x=\"67.5\" y=\"-31.3\">output_layer</text>\n<polyline fill=\"none\" points=\"23,-23.5 112,-23.5 \" stroke=\"#000000\"/>\n<text fill=\"#000000\" font-family=\"Times,serif\" font-size=\"14.00\" text-anchor=\"middle\" x=\"67.5\" y=\"-8.3\">Dense</text>\n<polyline fill=\"none\" points=\"112,-.5 112,-46.5 \" stroke=\"#000000\"/>\n<text fill=\"#000000\" font-family=\"Times,serif\" font-size=\"14.00\" text-anchor=\"middle\" x=\"141\" y=\"-31.3\">input:</text>\n<polyline fill=\"none\" points=\"112,-23.5 170,-23.5 \" stroke=\"#000000\"/>\n<text fill=\"#000000\" font-family=\"Times,serif\" font-size=\"14.00\" text-anchor=\"middle\" x=\"141\" y=\"-8.3\">output:</text>\n<polyline fill=\"none\" points=\"170,-.5 170,-46.5 \" stroke=\"#000000\"/>\n<text fill=\"#000000\" font-family=\"Times,serif\" font-size=\"14.00\" text-anchor=\"middle\" x=\"213.5\" y=\"-19.8\">(None, 100)</text>\n<polyline fill=\"none\" points=\"257,-.5 257,-46.5 \" stroke=\"#000000\"/>\n<text fill=\"#000000\" font-family=\"Times,serif\" font-size=\"14.00\" text-anchor=\"middle\" x=\"293\" y=\"-19.8\">(None, 1)</text>\n</g>\n<!-- 139887893869584&#45;&gt;139887893978960 -->\n<g class=\"edge\" id=\"edge3\">\n<title>139887893869584-&gt;139887893978960</title>\n<path d=\"M176,-83.3799C176,-75.1745 176,-65.7679 176,-56.8786\" fill=\"none\" stroke=\"#000000\"/>\n<polygon fill=\"#000000\" points=\"179.5001,-56.784 176,-46.784 172.5001,-56.784 179.5001,-56.784\" stroke=\"#000000\"/>\n</g>\n</g>\n</svg>"
          },
          "metadata": {},
          "execution_count": 9
        }
      ]
    },
    {
      "cell_type": "markdown",
      "metadata": {
        "id": "WXhJNdf9TIed"
      },
      "source": [
        "### **4. Training the Model**\n",
        "\n",
        "A model can memorize the training data (this is called 'overfitting' and when it does so, it's training accuracy can continue to go up but it's accuracy on previously unseen (i.e. non-training) examples can be very poor. To ensure that this doesn't happen, researchers often intermittently check the performance of a model being trained on a held back dataset called the ***validation dataset***. This way, 'early stopping' or 'random search' can be used to select the model that will generalize best to unseen data. \n",
        "<br>\n",
        "\n",
        "\n",
        "In this lab, you will just plot training accuracy against validation accuracy to monitor the progress of your model. And, using the plot, you will theorize about what the optimal stopping point for your model should have been.\n"
      ]
    },
    {
      "cell_type": "markdown",
      "metadata": {
        "id": "LFJtD1EgvPND"
      },
      "source": [
        "**Step 1: Getting a validation dataset**\n",
        "\n",
        "Before we begin training, you will split the padded training data into training and validation data. To avoid losing too much training data, use 2000 samples (i.e 8%) for validation and the other 23000 for training.\n",
        "\n",
        "We will do this using the sklearn train_test_split function. "
      ]
    },
    {
      "cell_type": "code",
      "metadata": {
        "id": "zqHSAlOev6kB"
      },
      "source": [
        "from sklearn.model_selection import train_test_split\n",
        "\n",
        "train_x, validation_x, train_y, validation_y = train_test_split(padded_train_data, train_labels, test_size=0.08) "
      ],
      "execution_count": null,
      "outputs": []
    },
    {
      "cell_type": "markdown",
      "metadata": {
        "id": "xArEfNkX0DnN"
      },
      "source": [
        "Alternatively, we could have chosen to set validation_size=0.08 in our model.fit() function below instead of passing in a separate validation dataset."
      ]
    },
    {
      "cell_type": "markdown",
      "metadata": {
        "id": "3oXtkSBuyiWt"
      },
      "source": [
        "**Step 2: Training the model**\n",
        "\n",
        "We will use model.fit() to train the model. We will set our batch_size to 1000, which means the model will train int(23000/1000) batches each epoch. In other words, at each epoch the model will train 23 batches, each one consisting of 1000 movie reviews."
      ]
    },
    {
      "cell_type": "code",
      "metadata": {
        "colab": {
          "base_uri": "https://localhost:8080/"
        },
        "id": "Fgp3GWqiySHB",
        "outputId": "1f039fd3-6b67-4aeb-daa2-7aaf31cd8ba6"
      },
      "source": [
        "history = model.fit(train_x, train_y, epochs=6, batch_size=1000, validation_data=(validation_x, validation_y))"
      ],
      "execution_count": null,
      "outputs": [
        {
          "output_type": "stream",
          "name": "stdout",
          "text": [
            "Epoch 1/6\n",
            "23/23 [==============================] - 37s 1s/step - loss: 0.6265 - accuracy: 0.6451 - val_loss: 0.4710 - val_accuracy: 0.7910\n",
            "Epoch 2/6\n",
            "23/23 [==============================] - 22s 949ms/step - loss: 0.3790 - accuracy: 0.8531 - val_loss: 0.3176 - val_accuracy: 0.8715\n",
            "Epoch 3/6\n",
            "23/23 [==============================] - 22s 955ms/step - loss: 0.2510 - accuracy: 0.9057 - val_loss: 0.2899 - val_accuracy: 0.8875\n",
            "Epoch 4/6\n",
            "23/23 [==============================] - 24s 1s/step - loss: 0.1957 - accuracy: 0.9307 - val_loss: 0.2733 - val_accuracy: 0.8960\n",
            "Epoch 5/6\n",
            "23/23 [==============================] - 22s 954ms/step - loss: 0.1563 - accuracy: 0.9486 - val_loss: 0.2805 - val_accuracy: 0.8905\n",
            "Epoch 6/6\n",
            "23/23 [==============================] - 22s 957ms/step - loss: 0.1289 - accuracy: 0.9593 - val_loss: 0.3006 - val_accuracy: 0.8945\n"
          ]
        }
      ]
    },
    {
      "cell_type": "markdown",
      "metadata": {
        "id": "2OaWng6v835A"
      },
      "source": [
        "**Step 3: Visualize the model plot**"
      ]
    },
    {
      "cell_type": "code",
      "metadata": {
        "colab": {
          "base_uri": "https://localhost:8080/"
        },
        "id": "R6xASJOM897O",
        "outputId": "293eac74-e101-41f7-a321-1476ed7d9ce4"
      },
      "source": [
        "pip install plot_keras_history"
      ],
      "execution_count": null,
      "outputs": [
        {
          "output_type": "stream",
          "name": "stdout",
          "text": [
            "Collecting plot_keras_history\n",
            "  Downloading plot_keras_history-1.1.30.tar.gz (8.6 kB)\n",
            "Requirement already satisfied: matplotlib in /usr/local/lib/python3.7/dist-packages (from plot_keras_history) (3.2.2)\n",
            "Requirement already satisfied: pandas in /usr/local/lib/python3.7/dist-packages (from plot_keras_history) (1.3.5)\n",
            "Requirement already satisfied: scipy in /usr/local/lib/python3.7/dist-packages (from plot_keras_history) (1.4.1)\n",
            "Collecting sanitize_ml_labels>=1.0.28\n",
            "  Downloading sanitize_ml_labels-1.0.29.tar.gz (7.4 kB)\n",
            "Collecting compress_json\n",
            "  Downloading compress_json-1.0.4.tar.gz (4.7 kB)\n",
            "Requirement already satisfied: python-dateutil>=2.1 in /usr/local/lib/python3.7/dist-packages (from matplotlib->plot_keras_history) (2.8.2)\n",
            "Requirement already satisfied: numpy>=1.11 in /usr/local/lib/python3.7/dist-packages (from matplotlib->plot_keras_history) (1.21.5)\n",
            "Requirement already satisfied: cycler>=0.10 in /usr/local/lib/python3.7/dist-packages (from matplotlib->plot_keras_history) (0.11.0)\n",
            "Requirement already satisfied: pyparsing!=2.0.4,!=2.1.2,!=2.1.6,>=2.0.1 in /usr/local/lib/python3.7/dist-packages (from matplotlib->plot_keras_history) (3.0.7)\n",
            "Requirement already satisfied: kiwisolver>=1.0.1 in /usr/local/lib/python3.7/dist-packages (from matplotlib->plot_keras_history) (1.3.2)\n",
            "Requirement already satisfied: six>=1.5 in /usr/local/lib/python3.7/dist-packages (from python-dateutil>=2.1->matplotlib->plot_keras_history) (1.15.0)\n",
            "Requirement already satisfied: pytz>=2017.3 in /usr/local/lib/python3.7/dist-packages (from pandas->plot_keras_history) (2018.9)\n",
            "Building wheels for collected packages: plot-keras-history, sanitize-ml-labels, compress-json\n",
            "  Building wheel for plot-keras-history (setup.py) ... \u001b[?25l\u001b[?25hdone\n",
            "  Created wheel for plot-keras-history: filename=plot_keras_history-1.1.30-py3-none-any.whl size=8794 sha256=853a66708b858b61019e38a0707fcac1b01238d9a62beac552ef8290b94e8e52\n",
            "  Stored in directory: /root/.cache/pip/wheels/b0/60/47/8c5aa37c06be5e97879ec467bc2e6a30b315d95f662c63a503\n",
            "  Building wheel for sanitize-ml-labels (setup.py) ... \u001b[?25l\u001b[?25hdone\n",
            "  Created wheel for sanitize-ml-labels: filename=sanitize_ml_labels-1.0.29-py3-none-any.whl size=7878 sha256=bb07f7f482b0764a0a43b085f9d08b0683558df1bf7e4a0a07cb95a1c02ddb44\n",
            "  Stored in directory: /root/.cache/pip/wheels/c2/f5/71/d1c459da10abec864a1979b449edbf37d4a82ab3e38a3625a8\n",
            "  Building wheel for compress-json (setup.py) ... \u001b[?25l\u001b[?25hdone\n",
            "  Created wheel for compress-json: filename=compress_json-1.0.4-py3-none-any.whl size=4588 sha256=532760eba864f6efef0913648a018ce8b956cd01fa6a663aa40f1f7b4d45ebd9\n",
            "  Stored in directory: /root/.cache/pip/wheels/1e/ef/1e/5d403c5632b0462471a8d26049d0c138134d0255ec60ce4c14\n",
            "Successfully built plot-keras-history sanitize-ml-labels compress-json\n",
            "Installing collected packages: compress-json, sanitize-ml-labels, plot-keras-history\n",
            "Successfully installed compress-json-1.0.4 plot-keras-history-1.1.30 sanitize-ml-labels-1.0.29\n"
          ]
        }
      ]
    },
    {
      "cell_type": "code",
      "metadata": {
        "id": "0-Qq9lwGDHVl"
      },
      "source": [
        "from plot_keras_history import plot_history\n",
        "import matplotlib.pyplot as plt"
      ],
      "execution_count": null,
      "outputs": []
    },
    {
      "cell_type": "code",
      "metadata": {
        "colab": {
          "base_uri": "https://localhost:8080/",
          "height": 385
        },
        "id": "6jS3_xzmDJmk",
        "outputId": "3f0f354b-86fd-4230-bebd-2819421def11"
      },
      "source": [
        "plot_history(history.history, path=\"standard.png\")\n",
        "plt.show()"
      ],
      "execution_count": null,
      "outputs": [
        {
          "output_type": "display_data",
          "data": {
            "image/png": "[encoded data removed]",
            "text/plain": [
              "<Figure size 720x360 with 2 Axes>"
            ]
          },
          "metadata": {
            "needs_background": "light"
          }
        }
      ]
    },
    {
      "cell_type": "markdown",
      "metadata": {
        "id": "8Xy45WzGCkFJ"
      },
      "source": [
        "**Based on the accuracy plot, what do you think the optimal stopping point for your model should\n",
        "have been?**"
      ]
    },
    {
      "cell_type": "code",
      "source": [
        "len(test_data)"
      ],
      "metadata": {
        "colab": {
          "base_uri": "https://localhost:8080/"
        },
        "id": "HRu9EnvnlNBu",
        "outputId": "64311c43-f3ca-4e18-8ae0-7d1f433a45dc"
      },
      "execution_count": null,
      "outputs": [
        {
          "output_type": "execute_result",
          "data": {
            "text/plain": [
              "25000"
            ]
          },
          "metadata": {},
          "execution_count": 15
        }
      ]
    },
    {
      "cell_type": "markdown",
      "metadata": {
        "id": "uMQJAolZWVLx"
      },
      "source": [
        "### **5. Evaluating the Model on the Test Data**\n",
        "\n",
        "Evaluate the model on the padded test data using the code in the following cell block."
      ]
    },
    {
      "cell_type": "code",
      "metadata": {
        "id": "fi0JmuY-Tlsp",
        "colab": {
          "base_uri": "https://localhost:8080/"
        },
        "outputId": "1b4b0154-ad5c-42cd-bacd-29bc667a464e"
      },
      "source": [
        "# YOUR CODE TO EVALUATE THE MODEL ON TEST DATA GOES HERE\n",
        "results = model.evaluate(padded_test_data, test_labels)\n",
        "print('test_loss:', results[0], 'test_accuracy:', results[1])"
      ],
      "execution_count": null,
      "outputs": [
        {
          "output_type": "stream",
          "name": "stdout",
          "text": [
            "782/782 [==============================] - 110s 139ms/step - loss: 0.3601 - accuracy: 0.8685\n",
            "test_loss: 0.3600790500640869 test_accuracy: 0.8684800267219543\n"
          ]
        }
      ]
    },
    {
      "cell_type": "markdown",
      "metadata": {
        "id": "zbOcZD6igpxy"
      },
      "source": [
        "###**6. Extracting the Word Embeddings**\n",
        "\n",
        "Extract the word embeddings from the embedding layer model like we did in the last lab. \n",
        "\n",
        "**Hints**\n",
        "\n",
        "*  You can use model.get_layer(layer_name).get_weights()[0] or model.layers[layer_number].get_weights()[0].  The layer number indicates the order in which the layers were added to the model.\n",
        "\n",
        "*  If you didn't explicitly name your layers, you can check layer names and numbers about the order from model.summary() or by calling model.layers"
      ]
    },
    {
      "cell_type": "code",
      "metadata": {
        "id": "dVG1le_LWBtq"
      },
      "source": [
        "word_embeddings = model.get_layer(\"embed_layer\").get_weights()[0]"
      ],
      "execution_count": null,
      "outputs": []
    },
    {
      "cell_type": "markdown",
      "metadata": {
        "id": "fXzDQ-7IE5Ou"
      },
      "source": [
        "***Sanity Check***\n",
        "\n",
        "Print the shape of the word embeddings using the line of code below. It should return (VOCAB_SIZE, EMBED_SIZE)"
      ]
    },
    {
      "cell_type": "code",
      "metadata": {
        "colab": {
          "base_uri": "https://localhost:8080/"
        },
        "id": "swJFPaX_E4f0",
        "outputId": "a48db2b2-1bfa-4651-f49a-e85de1ad3076"
      },
      "source": [
        "print('Shape of word_embeddings:', word_embeddings.shape)"
      ],
      "execution_count": null,
      "outputs": [
        {
          "output_type": "stream",
          "name": "stdout",
          "text": [
            "Shape of word_embeddings: (10000, 100)\n"
          ]
        }
      ]
    },
    {
      "cell_type": "markdown",
      "metadata": {
        "id": "Bwz_8kTZ6UVF"
      },
      "source": [
        "###**7. Visualizing the Reviews**\n",
        "\n",
        "In this section, we will view the effects of padding the dataset. \n",
        "\n",
        "As mentioned before, Keras already preprocessed the corpus. In this preprocessed corpus, all the words have already been mapped to indices and were assigned these numbers in order of their frequency such that index 2 is the 2nd most frequent word in the dataset, and so on. However, when we loaded our training dataset, we reserved the first 3 indices - 0, 1, 2 - for \\<PAD\\>, \\<START\\> and \\<UNK\\>. Additionally, we limited our vocabulary to only the top 10000 most frequent words (9997 if you exclude the padding). We will now visualize what a movie review will look like with these changes\n",
        "\n"
      ]
    },
    {
      "cell_type": "markdown",
      "metadata": {
        "id": "lOmorAwXGZS9"
      },
      "source": [
        "\n",
        "**Step 1: Create a word2idx dictionary**\n",
        "\n",
        "Create the word2idx dictionary using the following lines of code."
      ]
    },
    {
      "cell_type": "code",
      "metadata": {
        "id": "AtU7lOD6GYtB",
        "colab": {
          "base_uri": "https://localhost:8080/"
        },
        "outputId": "4b888671-8ac1-4376-d50c-d652a58fd155"
      },
      "source": [
        "# in this dictionary, the words start from 1, 0 is reserved for padding but \n",
        "# <start> and <unknown> are not accounted for.\n",
        "word_indices = imdb.get_word_index()\n",
        "\n",
        "# so we shift each original word two places to make room for the two new tokens\n",
        "offset = 2\n",
        "word2idx = {k:(v+offset) for k,v in word_indices.items() if v < 9998}\n",
        "word2idx[\"<PAD>\"] = 0\n",
        "word2idx[\"<START>\"] = 1\n",
        "word2idx[\"<UNK>\"] = 2"
      ],
      "execution_count": null,
      "outputs": [
        {
          "output_type": "stream",
          "name": "stdout",
          "text": [
            "Downloading data from https://storage.googleapis.com/tensorflow/tf-keras-datasets/imdb_word_index.json\n",
            "1646592/1641221 [==============================] - 0s 0us/step\n",
            "1654784/1641221 [==============================] - 0s 0us/step\n"
          ]
        }
      ]
    },
    {
      "cell_type": "markdown",
      "metadata": {
        "id": "H3oZeE74HCvL"
      },
      "source": [
        "\n",
        "**Step 2: Create a the idx2word dictionary**"
      ]
    },
    {
      "cell_type": "code",
      "metadata": {
        "id": "F0sWRDRIHIzp"
      },
      "source": [
        "idx2word = {v:k for k,v in word2idx.items()}"
      ],
      "execution_count": null,
      "outputs": []
    },
    {
      "cell_type": "markdown",
      "metadata": {
        "id": "p7aGrCU1HTN0"
      },
      "source": [
        "\n",
        "**Step 3: Visualize sample review**\n",
        "\n",
        "View a sample review text using the lines of code below:"
      ]
    },
    {
      "cell_type": "code",
      "metadata": {
        "colab": {
          "base_uri": "https://localhost:8080/"
        },
        "id": "TgRbMGG3G8jb",
        "outputId": "5324aa6a-7981-4c97-e064-1fc986d1cc1a"
      },
      "source": [
        "print(' '.join(idx2word[idx] for idx in train_data[0]))"
      ],
      "execution_count": null,
      "outputs": [
        {
          "output_type": "stream",
          "name": "stdout",
          "text": [
            "<START> this film was just brilliant casting location scenery story direction everyone's really suited the part they played and you could just imagine being there robert <UNK> is an amazing actor and now the same being director <UNK> father came from the same scottish island as myself so i loved the fact there was a real connection with this film the witty remarks throughout the film were great it was just brilliant so much that i bought the film as soon as it was released for <UNK> and would recommend it to everyone to watch and the fly fishing was amazing really cried at the end it was so sad and you know what they say if you cry at a film it must have been good and this definitely was also <UNK> to the two little boy's that played the <UNK> of norman and paul they were just brilliant children are often left out of the <UNK> list i think because the stars that play them all grown up are such a big profile for the whole film but these children are amazing and should be praised for what they have done don't you think the whole story was so lovely because it was true and was someone's life after all that was shared with us all\n"
          ]
        }
      ]
    },
    {
      "cell_type": "markdown",
      "metadata": {
        "id": "TFs4QSdFJrWL"
      },
      "source": [
        "###**8. Visualizing the Word_Embeddings**\n",
        "\n",
        "Visualize the word embeddings for 10 of the words using pandas DataFrame like we did in lab 3"
      ]
    },
    {
      "cell_type": "code",
      "metadata": {
        "colab": {
          "base_uri": "https://localhost:8080/"
        },
        "id": "2IBvttx-J9re",
        "outputId": "8de2e619-0c23-4ce1-9a00-d4779ec5a814"
      },
      "source": [
        "from pandas import DataFrame\n",
        "\n",
        "print(DataFrame(word_embeddings, index=idx2word.values()).head(10))"
      ],
      "execution_count": null,
      "outputs": [
        {
          "output_type": "stream",
          "name": "stdout",
          "text": [
            "                 0         1         2         3         4         5   \\\n",
            "woods      0.021322 -0.016948  0.016021 -0.001831  0.003546  0.018424   \n",
            "hanging   -0.028856  0.000362 -0.005027  0.004653  0.011076 -0.019683   \n",
            "woody     -0.002695  0.018942 -0.016365 -0.008425  0.020334 -0.023362   \n",
            "arranged  -0.014585 -0.000727 -0.016299 -0.011049  0.006553  0.013894   \n",
            "bringing   0.008422  0.010303 -0.001404  0.012576  0.019186 -0.013220   \n",
            "wooden     0.011720 -0.005625  0.011642 -0.028148  0.012258 -0.014192   \n",
            "errors     0.025149 -0.017638  0.017255 -0.006253 -0.015176  0.020370   \n",
            "dialogs   -0.026621  0.008397 -0.018563 -0.003514 -0.014060  0.020323   \n",
            "kids       0.011181  0.007972  0.001516  0.006886 -0.004066  0.011590   \n",
            "uplifting -0.012604 -0.005350 -0.017992 -0.005206 -0.020141  0.019626   \n",
            "\n",
            "                 6         7         8         9   ...        90        91  \\\n",
            "woods      0.016331 -0.010687  0.009252  0.009148  ... -0.010355  0.011949   \n",
            "hanging   -0.023211 -0.002756  0.008896  0.009968  ...  0.019486 -0.017137   \n",
            "woody      0.015943 -0.009274  0.007285  0.009084  ...  0.020612 -0.005199   \n",
            "arranged  -0.023375 -0.009402 -0.018564 -0.021615  ...  0.011507  0.013424   \n",
            "bringing  -0.015699  0.002351  0.001682 -0.003326  ...  0.019078 -0.006840   \n",
            "wooden     0.021057 -0.024747 -0.002334 -0.011708  ... -0.017786  0.016806   \n",
            "errors    -0.013985 -0.004677 -0.005856  0.010407  ... -0.000786 -0.013370   \n",
            "dialogs    0.009236  0.013456  0.016642  0.008468  ...  0.002678 -0.020391   \n",
            "kids      -0.019377 -0.005905  0.027780  0.002733  ...  0.016922  0.006767   \n",
            "uplifting -0.002850  0.009913  0.015541 -0.012341  ...  0.013410 -0.015321   \n",
            "\n",
            "                 92        93        94        95        96        97  \\\n",
            "woods     -0.001569 -0.015296  0.016905 -0.001719 -0.018573 -0.016062   \n",
            "hanging    0.017108 -0.015979  0.012520  0.012075  0.020443 -0.008092   \n",
            "woody     -0.025347 -0.002880  0.006627 -0.005779 -0.005327  0.021822   \n",
            "arranged   0.003250  0.020580 -0.019248 -0.013976  0.009721 -0.017364   \n",
            "bringing  -0.000961  0.005473  0.029043 -0.019207  0.028355  0.000540   \n",
            "wooden     0.016476 -0.018995  0.023646  0.005147  0.009694  0.003889   \n",
            "errors    -0.015242  0.011041 -0.020507  0.014845  0.016741 -0.005231   \n",
            "dialogs   -0.006387 -0.011488 -0.001304  0.000383 -0.012729 -0.006082   \n",
            "kids      -0.002744 -0.019494  0.006983 -0.016619  0.022346  0.013522   \n",
            "uplifting -0.003392  0.004667  0.018703 -0.008488  0.023051 -0.018911   \n",
            "\n",
            "                 98        99  \n",
            "woods      0.003212  0.010031  \n",
            "hanging    0.003593 -0.006954  \n",
            "woody      0.018661  0.006990  \n",
            "arranged  -0.022717  0.012371  \n",
            "bringing  -0.001960  0.021795  \n",
            "wooden    -0.005483  0.019206  \n",
            "errors    -0.010556 -0.011302  \n",
            "dialogs    0.014426 -0.007965  \n",
            "kids       0.008722  0.010755  \n",
            "uplifting -0.018329  0.010686  \n",
            "\n",
            "[10 rows x 100 columns]\n"
          ]
        }
      ]
    },
    {
      "cell_type": "markdown",
      "metadata": {
        "id": "k0fyfgvB90G5"
      },
      "source": [
        "###**9. Plot your Word Embeddings using t-SNE**\n"
      ]
    },
    {
      "cell_type": "code",
      "metadata": {
        "colab": {
          "base_uri": "https://localhost:8080/",
          "height": 574
        },
        "id": "JRPHIYEgGXRh",
        "outputId": "4a5df2b8-a8f6-44df-c176-bb9f3713f068"
      },
      "source": [
        "from sklearn.manifold import TSNE\n",
        "import matplotlib.pyplot as plt\n",
        "import numpy as np\n",
        "\n",
        "tsne = TSNE(perplexity=3, n_components=2, init='pca', n_iter=5000, method='exact')\n",
        "np.set_printoptions(suppress=True)\n",
        "plot_only = 50\n",
        "\n",
        "# don't plot the special tokens\n",
        "start = 3\n",
        "T = tsne.fit_transform(word_embeddings[start:plot_only, :])\n",
        "labels = [idx2word[i] for i in range(start, plot_only)]\n",
        "plt.figure(figsize=(14, 8))\n",
        "plt.scatter(T[:, 0], T[:, 1])\n",
        "for label, x, y in zip(labels, T[:, 0], T[:, 1]):\n",
        "    plt.annotate(label, xy=(x+1, y+1), xytext=(0, 0), textcoords='offset points', ha='right', va='bottom')                      \t                        \n"
      ],
      "execution_count": null,
      "outputs": [
        {
          "output_type": "stream",
          "name": "stderr",
          "text": [
            "/usr/local/lib/python3.7/dist-packages/sklearn/manifold/_t_sne.py:793: FutureWarning: The default learning rate in TSNE will change from 200.0 to 'auto' in 1.2.\n",
            "  FutureWarning,\n",
            "/usr/local/lib/python3.7/dist-packages/sklearn/manifold/_t_sne.py:986: FutureWarning: The PCA initialization in TSNE will change to have the standard deviation of PC1 equal to 1e-4 in 1.2. This will ensure better convergence.\n",
            "  FutureWarning,\n"
          ]
        },
        {
          "output_type": "display_data",
          "data": {
            "image/png": "[encoded data removed]",
            "text/plain": [
              "<Figure size 1008x576 with 1 Axes>"
            ]
          },
          "metadata": {
            "needs_background": "light"
          }
        }
      ]
    },
    {
      "cell_type": "markdown",
      "metadata": {
        "id": "sHdy4PDVO8TN"
      },
      "source": [
        "###**10. Questions**\n",
        "\n",
        "1. Create a new model that is a copy of the model step 3. To this new model,add two dropout layers, one between the embedding layer and the LSTM layer and another between the LSTM layer and the output layer. Repeat steps 4 and 5 for this model. What do you observe?\n",
        "\n",
        "2. Experiment with training the model with batch sizes of 1, 32, len(training_data). What do you observe?\n",
        "\n",
        "3. (optional) Can you retrain with a Bidirectional LSTM instead of an LSTM? What do you observe about the Bi-LSTM model?\n"
      ]
    },
    {
      "cell_type": "code",
      "metadata": {
        "id": "dxvb_lmHZ0Qm"
      },
      "source": [
        "from keras.layers import Input, Embedding, Dense, LSTM, Reshape, Dropout\n",
        "from keras.models import Model\n",
        "\n",
        "EMBED_SIZE = 100\n",
        "\n",
        "# add input layer\n",
        "new_input_layer = Input(shape=(MAX_LENGHT,))\n",
        "\n",
        "new_input_embedding = Embedding(VOCAB_SIZE, EMBED_SIZE, name='embed_layer',\n",
        "                        \tembeddings_initializer='glorot_uniform',\n",
        "                         \tinput_length=1, mask_zero=True)(new_input_layer)\n",
        "\n",
        "# add dropout layer\n",
        "new_dropout_layer_1 = Dropout(0.2, name='dropout_layer_1')(new_input_embedding)\n",
        "\n",
        "new_lstm_output = LSTM(units=EMBED_SIZE, return_sequences=False, name='lstm_1')(new_dropout_layer_1)\n",
        "\n",
        "new_dropout_layer_2 = Dropout(0.2, name='dropout_layer_2')(new_lstm_output)\n",
        "\n",
        "# final output layer with classifier\n",
        "new_output_layer = Dense(units=1, activation='sigmoid', name='output_layer')(new_dropout_layer_2)\n",
        "\n",
        "\n",
        "# compile the model with binary crossentropy loss and adam optimizer\n",
        "new_model = Model(inputs=new_input_layer, outputs=new_output_layer)\n",
        "new_model.compile(optimizer='adam', loss='binary_crossentropy', metrics=['accuracy'])"
      ],
      "execution_count": null,
      "outputs": []
    },
    {
      "cell_type": "code",
      "source": [
        "new_model.summary()"
      ],
      "metadata": {
        "colab": {
          "base_uri": "https://localhost:8080/"
        },
        "id": "vr4JkSfQpEV1",
        "outputId": "a57e500c-310b-4888-8835-f4c890867fa0"
      },
      "execution_count": null,
      "outputs": [
        {
          "output_type": "stream",
          "name": "stdout",
          "text": [
            "Model: \"model_1\"\n",
            "_________________________________________________________________\n",
            " Layer (type)                Output Shape              Param #   \n",
            "=================================================================\n",
            " input_2 (InputLayer)        [(None, 500)]             0         \n",
            "                                                                 \n",
            " embed_layer (Embedding)     (None, 500, 100)          1000000   \n",
            "                                                                 \n",
            " dropout_layer_1 (Dropout)   (None, 500, 100)          0         \n",
            "                                                                 \n",
            " lstm_1 (LSTM)               (None, 100)               80400     \n",
            "                                                                 \n",
            " dropout_layer_2 (Dropout)   (None, 100)               0         \n",
            "                                                                 \n",
            " output_layer (Dense)        (None, 1)                 101       \n",
            "                                                                 \n",
            "=================================================================\n",
            "Total params: 1,080,501\n",
            "Trainable params: 1,080,501\n",
            "Non-trainable params: 0\n",
            "_________________________________________________________________\n"
          ]
        }
      ]
    },
    {
      "cell_type": "code",
      "source": [
        "new_history = new_model.fit(train_x, train_y, epochs=6, batch_size=1000, validation_data=(validation_x, validation_y))"
      ],
      "metadata": {
        "colab": {
          "base_uri": "https://localhost:8080/"
        },
        "id": "SMTMTSwjrHeu",
        "outputId": "ea688013-6739-42e4-a731-a70cc9ff80ef"
      },
      "execution_count": null,
      "outputs": [
        {
          "output_type": "stream",
          "name": "stdout",
          "text": [
            "Epoch 1/6\n",
            "23/23 [==============================] - 44s 2s/step - loss: 0.6496 - accuracy: 0.6571 - val_loss: 0.5268 - val_accuracy: 0.7510\n",
            "Epoch 2/6\n",
            "23/23 [==============================] - 22s 971ms/step - loss: 0.3746 - accuracy: 0.8487 - val_loss: 0.3145 - val_accuracy: 0.8760\n",
            "Epoch 3/6\n",
            "23/23 [==============================] - 22s 969ms/step - loss: 0.2334 - accuracy: 0.9117 - val_loss: 0.2739 - val_accuracy: 0.8940\n",
            "Epoch 4/6\n",
            "23/23 [==============================] - 22s 963ms/step - loss: 0.1813 - accuracy: 0.9368 - val_loss: 0.2748 - val_accuracy: 0.8850\n",
            "Epoch 5/6\n",
            "23/23 [==============================] - 24s 1s/step - loss: 0.1587 - accuracy: 0.9471 - val_loss: 0.2792 - val_accuracy: 0.8935\n",
            "Epoch 6/6\n",
            "23/23 [==============================] - 22s 969ms/step - loss: 0.1386 - accuracy: 0.9545 - val_loss: 0.2819 - val_accuracy: 0.8965\n"
          ]
        }
      ]
    },
    {
      "cell_type": "code",
      "source": [
        "new_results = new_model.evaluate(padded_test_data, test_labels)\n",
        "print('test_loss:', new_results[0], 'test_accuracy:', new_results[1])"
      ],
      "metadata": {
        "colab": {
          "base_uri": "https://localhost:8080/"
        },
        "id": "HFj0VwcKsP53",
        "outputId": "ce256cb1-d570-49c0-ab80-b7af07af6cd8"
      },
      "execution_count": null,
      "outputs": [
        {
          "output_type": "stream",
          "name": "stdout",
          "text": [
            "782/782 [==============================] - 88s 111ms/step - loss: 0.3426 - accuracy: 0.8668\n",
            "test_loss: 0.3425854742527008 test_accuracy: 0.8667600154876709\n"
          ]
        }
      ]
    },
    {
      "cell_type": "code",
      "source": [
        "plot_history(new_history.history, path=\"standard.png\")\n",
        "plt.show()"
      ],
      "metadata": {
        "colab": {
          "base_uri": "https://localhost:8080/",
          "height": 385
        },
        "id": "xJYMwOTHwfkF",
        "outputId": "27c32305-20ee-43cc-fcbd-d732813234fe"
      },
      "execution_count": null,
      "outputs": [
        {
          "output_type": "display_data",
          "data": {
            "image/png": "[encoded data removed]",
            "text/plain": [
              "<Figure size 720x360 with 2 Axes>"
            ]
          },
          "metadata": {
            "needs_background": "light"
          }
        }
      ]
    },
    {
      "cell_type": "code",
      "source": [
        "# batch 1\n",
        "\n",
        "new_history_batch_1 = new_model.fit(train_x, train_y, epochs=6, batch_size=1, validation_data=(validation_x, validation_y))\n",
        "\n",
        "new_results_batch_1 = new_model.evaluate(padded_test_data, test_labels)\n",
        "print('test_loss:', new_results_batch_1[0], 'test_accuracy:', new_results_batch_1[1])\n",
        "\n",
        "# could not train because of google colab restrictions"
      ],
      "metadata": {
        "colab": {
          "base_uri": "https://localhost:8080/",
          "height": 425
        },
        "id": "TIb_s74Ws-x1",
        "outputId": "153feeb7-d563-4d3a-e2ad-373f48847341"
      },
      "execution_count": null,
      "outputs": [
        {
          "output_type": "stream",
          "name": "stdout",
          "text": [
            "Epoch 1/6\n",
            "   11/23000 [..............................] - ETA: 4:43:51 - loss: 1.6410 - accuracy: 0.8182"
          ]
        },
        {
          "output_type": "error",
          "ename": "KeyboardInterrupt",
          "evalue": "ignored",
          "traceback": [
            "\u001b[0;31m---------------------------------------------------------------------------\u001b[0m",
            "\u001b[0;31mKeyboardInterrupt\u001b[0m                         Traceback (most recent call last)",
            "\u001b[0;32m<ipython-input-29-34408aa0c4c5>\u001b[0m in \u001b[0;36m<module>\u001b[0;34m()\u001b[0m\n\u001b[1;32m      1\u001b[0m \u001b[0;31m# batch 1\u001b[0m\u001b[0;34m\u001b[0m\u001b[0;34m\u001b[0m\u001b[0;34m\u001b[0m\u001b[0m\n\u001b[1;32m      2\u001b[0m \u001b[0;34m\u001b[0m\u001b[0m\n\u001b[0;32m----> 3\u001b[0;31m \u001b[0mnew_history_batch_1\u001b[0m \u001b[0;34m=\u001b[0m \u001b[0mnew_model\u001b[0m\u001b[0;34m.\u001b[0m\u001b[0mfit\u001b[0m\u001b[0;34m(\u001b[0m\u001b[0mtrain_x\u001b[0m\u001b[0;34m,\u001b[0m \u001b[0mtrain_y\u001b[0m\u001b[0;34m,\u001b[0m \u001b[0mepochs\u001b[0m\u001b[0;34m=\u001b[0m\u001b[0;36m6\u001b[0m\u001b[0;34m,\u001b[0m \u001b[0mbatch_size\u001b[0m\u001b[0;34m=\u001b[0m\u001b[0;36m1\u001b[0m\u001b[0;34m,\u001b[0m \u001b[0mvalidation_data\u001b[0m\u001b[0;34m=\u001b[0m\u001b[0;34m(\u001b[0m\u001b[0mvalidation_x\u001b[0m\u001b[0;34m,\u001b[0m \u001b[0mvalidation_y\u001b[0m\u001b[0;34m)\u001b[0m\u001b[0;34m)\u001b[0m\u001b[0;34m\u001b[0m\u001b[0;34m\u001b[0m\u001b[0m\n\u001b[0m\u001b[1;32m      4\u001b[0m \u001b[0;34m\u001b[0m\u001b[0m\n\u001b[1;32m      5\u001b[0m \u001b[0mnew_results_batch_1\u001b[0m \u001b[0;34m=\u001b[0m \u001b[0mnew_model\u001b[0m\u001b[0;34m.\u001b[0m\u001b[0mevaluate\u001b[0m\u001b[0;34m(\u001b[0m\u001b[0mpadded_test_data\u001b[0m\u001b[0;34m,\u001b[0m \u001b[0mtest_labels\u001b[0m\u001b[0;34m)\u001b[0m\u001b[0;34m\u001b[0m\u001b[0;34m\u001b[0m\u001b[0m\n",
            "\u001b[0;32m/usr/local/lib/python3.7/dist-packages/keras/utils/traceback_utils.py\u001b[0m in \u001b[0;36merror_handler\u001b[0;34m(*args, **kwargs)\u001b[0m\n\u001b[1;32m     62\u001b[0m     \u001b[0mfiltered_tb\u001b[0m \u001b[0;34m=\u001b[0m \u001b[0;32mNone\u001b[0m\u001b[0;34m\u001b[0m\u001b[0;34m\u001b[0m\u001b[0m\n\u001b[1;32m     63\u001b[0m     \u001b[0;32mtry\u001b[0m\u001b[0;34m:\u001b[0m\u001b[0;34m\u001b[0m\u001b[0;34m\u001b[0m\u001b[0m\n\u001b[0;32m---> 64\u001b[0;31m       \u001b[0;32mreturn\u001b[0m \u001b[0mfn\u001b[0m\u001b[0;34m(\u001b[0m\u001b[0;34m*\u001b[0m\u001b[0margs\u001b[0m\u001b[0;34m,\u001b[0m \u001b[0;34m**\u001b[0m\u001b[0mkwargs\u001b[0m\u001b[0;34m)\u001b[0m\u001b[0;34m\u001b[0m\u001b[0;34m\u001b[0m\u001b[0m\n\u001b[0m\u001b[1;32m     65\u001b[0m     \u001b[0;32mexcept\u001b[0m \u001b[0mException\u001b[0m \u001b[0;32mas\u001b[0m \u001b[0me\u001b[0m\u001b[0;34m:\u001b[0m  \u001b[0;31m# pylint: disable=broad-except\u001b[0m\u001b[0;34m\u001b[0m\u001b[0;34m\u001b[0m\u001b[0m\n\u001b[1;32m     66\u001b[0m       \u001b[0mfiltered_tb\u001b[0m \u001b[0;34m=\u001b[0m \u001b[0m_process_traceback_frames\u001b[0m\u001b[0;34m(\u001b[0m\u001b[0me\u001b[0m\u001b[0;34m.\u001b[0m\u001b[0m__traceback__\u001b[0m\u001b[0;34m)\u001b[0m\u001b[0;34m\u001b[0m\u001b[0;34m\u001b[0m\u001b[0m\n",
            "\u001b[0;32m/usr/local/lib/python3.7/dist-packages/keras/engine/training.py\u001b[0m in \u001b[0;36mfit\u001b[0;34m(self, x, y, batch_size, epochs, verbose, callbacks, validation_split, validation_data, shuffle, class_weight, sample_weight, initial_epoch, steps_per_epoch, validation_steps, validation_batch_size, validation_freq, max_queue_size, workers, use_multiprocessing)\u001b[0m\n\u001b[1;32m   1382\u001b[0m                 _r=1):\n\u001b[1;32m   1383\u001b[0m               \u001b[0mcallbacks\u001b[0m\u001b[0;34m.\u001b[0m\u001b[0mon_train_batch_begin\u001b[0m\u001b[0;34m(\u001b[0m\u001b[0mstep\u001b[0m\u001b[0;34m)\u001b[0m\u001b[0;34m\u001b[0m\u001b[0;34m\u001b[0m\u001b[0m\n\u001b[0;32m-> 1384\u001b[0;31m               \u001b[0mtmp_logs\u001b[0m \u001b[0;34m=\u001b[0m \u001b[0mself\u001b[0m\u001b[0;34m.\u001b[0m\u001b[0mtrain_function\u001b[0m\u001b[0;34m(\u001b[0m\u001b[0miterator\u001b[0m\u001b[0;34m)\u001b[0m\u001b[0;34m\u001b[0m\u001b[0;34m\u001b[0m\u001b[0m\n\u001b[0m\u001b[1;32m   1385\u001b[0m               \u001b[0;32mif\u001b[0m \u001b[0mdata_handler\u001b[0m\u001b[0;34m.\u001b[0m\u001b[0mshould_sync\u001b[0m\u001b[0;34m:\u001b[0m\u001b[0;34m\u001b[0m\u001b[0;34m\u001b[0m\u001b[0m\n\u001b[1;32m   1386\u001b[0m                 \u001b[0mcontext\u001b[0m\u001b[0;34m.\u001b[0m\u001b[0masync_wait\u001b[0m\u001b[0;34m(\u001b[0m\u001b[0;34m)\u001b[0m\u001b[0;34m\u001b[0m\u001b[0;34m\u001b[0m\u001b[0m\n",
            "\u001b[0;32m/usr/local/lib/python3.7/dist-packages/tensorflow/python/util/traceback_utils.py\u001b[0m in \u001b[0;36merror_handler\u001b[0;34m(*args, **kwargs)\u001b[0m\n\u001b[1;32m    148\u001b[0m     \u001b[0mfiltered_tb\u001b[0m \u001b[0;34m=\u001b[0m \u001b[0;32mNone\u001b[0m\u001b[0;34m\u001b[0m\u001b[0;34m\u001b[0m\u001b[0m\n\u001b[1;32m    149\u001b[0m     \u001b[0;32mtry\u001b[0m\u001b[0;34m:\u001b[0m\u001b[0;34m\u001b[0m\u001b[0;34m\u001b[0m\u001b[0m\n\u001b[0;32m--> 150\u001b[0;31m       \u001b[0;32mreturn\u001b[0m \u001b[0mfn\u001b[0m\u001b[0;34m(\u001b[0m\u001b[0;34m*\u001b[0m\u001b[0margs\u001b[0m\u001b[0;34m,\u001b[0m \u001b[0;34m**\u001b[0m\u001b[0mkwargs\u001b[0m\u001b[0;34m)\u001b[0m\u001b[0;34m\u001b[0m\u001b[0;34m\u001b[0m\u001b[0m\n\u001b[0m\u001b[1;32m    151\u001b[0m     \u001b[0;32mexcept\u001b[0m \u001b[0mException\u001b[0m \u001b[0;32mas\u001b[0m \u001b[0me\u001b[0m\u001b[0;34m:\u001b[0m\u001b[0;34m\u001b[0m\u001b[0;34m\u001b[0m\u001b[0m\n\u001b[1;32m    152\u001b[0m       \u001b[0mfiltered_tb\u001b[0m \u001b[0;34m=\u001b[0m \u001b[0m_process_traceback_frames\u001b[0m\u001b[0;34m(\u001b[0m\u001b[0me\u001b[0m\u001b[0;34m.\u001b[0m\u001b[0m__traceback__\u001b[0m\u001b[0;34m)\u001b[0m\u001b[0;34m\u001b[0m\u001b[0;34m\u001b[0m\u001b[0m\n",
            "\u001b[0;32m/usr/local/lib/python3.7/dist-packages/tensorflow/python/eager/def_function.py\u001b[0m in \u001b[0;36m__call__\u001b[0;34m(self, *args, **kwds)\u001b[0m\n\u001b[1;32m    913\u001b[0m \u001b[0;34m\u001b[0m\u001b[0m\n\u001b[1;32m    914\u001b[0m       \u001b[0;32mwith\u001b[0m \u001b[0mOptionalXlaContext\u001b[0m\u001b[0;34m(\u001b[0m\u001b[0mself\u001b[0m\u001b[0;34m.\u001b[0m\u001b[0m_jit_compile\u001b[0m\u001b[0;34m)\u001b[0m\u001b[0;34m:\u001b[0m\u001b[0;34m\u001b[0m\u001b[0;34m\u001b[0m\u001b[0m\n\u001b[0;32m--> 915\u001b[0;31m         \u001b[0mresult\u001b[0m \u001b[0;34m=\u001b[0m \u001b[0mself\u001b[0m\u001b[0;34m.\u001b[0m\u001b[0m_call\u001b[0m\u001b[0;34m(\u001b[0m\u001b[0;34m*\u001b[0m\u001b[0margs\u001b[0m\u001b[0;34m,\u001b[0m \u001b[0;34m**\u001b[0m\u001b[0mkwds\u001b[0m\u001b[0;34m)\u001b[0m\u001b[0;34m\u001b[0m\u001b[0;34m\u001b[0m\u001b[0m\n\u001b[0m\u001b[1;32m    916\u001b[0m \u001b[0;34m\u001b[0m\u001b[0m\n\u001b[1;32m    917\u001b[0m       \u001b[0mnew_tracing_count\u001b[0m \u001b[0;34m=\u001b[0m \u001b[0mself\u001b[0m\u001b[0;34m.\u001b[0m\u001b[0mexperimental_get_tracing_count\u001b[0m\u001b[0;34m(\u001b[0m\u001b[0;34m)\u001b[0m\u001b[0;34m\u001b[0m\u001b[0;34m\u001b[0m\u001b[0m\n",
            "\u001b[0;32m/usr/local/lib/python3.7/dist-packages/tensorflow/python/eager/def_function.py\u001b[0m in \u001b[0;36m_call\u001b[0;34m(self, *args, **kwds)\u001b[0m\n\u001b[1;32m    945\u001b[0m       \u001b[0;31m# In this case we have created variables on the first call, so we run the\u001b[0m\u001b[0;34m\u001b[0m\u001b[0;34m\u001b[0m\u001b[0;34m\u001b[0m\u001b[0m\n\u001b[1;32m    946\u001b[0m       \u001b[0;31m# defunned version which is guaranteed to never create variables.\u001b[0m\u001b[0;34m\u001b[0m\u001b[0;34m\u001b[0m\u001b[0;34m\u001b[0m\u001b[0m\n\u001b[0;32m--> 947\u001b[0;31m       \u001b[0;32mreturn\u001b[0m \u001b[0mself\u001b[0m\u001b[0;34m.\u001b[0m\u001b[0m_stateless_fn\u001b[0m\u001b[0;34m(\u001b[0m\u001b[0;34m*\u001b[0m\u001b[0margs\u001b[0m\u001b[0;34m,\u001b[0m \u001b[0;34m**\u001b[0m\u001b[0mkwds\u001b[0m\u001b[0;34m)\u001b[0m  \u001b[0;31m# pylint: disable=not-callable\u001b[0m\u001b[0;34m\u001b[0m\u001b[0;34m\u001b[0m\u001b[0m\n\u001b[0m\u001b[1;32m    948\u001b[0m     \u001b[0;32melif\u001b[0m \u001b[0mself\u001b[0m\u001b[0;34m.\u001b[0m\u001b[0m_stateful_fn\u001b[0m \u001b[0;32mis\u001b[0m \u001b[0;32mnot\u001b[0m \u001b[0;32mNone\u001b[0m\u001b[0;34m:\u001b[0m\u001b[0;34m\u001b[0m\u001b[0;34m\u001b[0m\u001b[0m\n\u001b[1;32m    949\u001b[0m       \u001b[0;31m# Release the lock early so that multiple threads can perform the call\u001b[0m\u001b[0;34m\u001b[0m\u001b[0;34m\u001b[0m\u001b[0;34m\u001b[0m\u001b[0m\n",
            "\u001b[0;32m/usr/local/lib/python3.7/dist-packages/tensorflow/python/eager/function.py\u001b[0m in \u001b[0;36m__call__\u001b[0;34m(self, *args, **kwargs)\u001b[0m\n\u001b[1;32m   2955\u001b[0m        filtered_flat_args) = self._maybe_define_function(args, kwargs)\n\u001b[1;32m   2956\u001b[0m     return graph_function._call_flat(\n\u001b[0;32m-> 2957\u001b[0;31m         filtered_flat_args, captured_inputs=graph_function.captured_inputs)  # pylint: disable=protected-access\n\u001b[0m\u001b[1;32m   2958\u001b[0m \u001b[0;34m\u001b[0m\u001b[0m\n\u001b[1;32m   2959\u001b[0m   \u001b[0;34m@\u001b[0m\u001b[0mproperty\u001b[0m\u001b[0;34m\u001b[0m\u001b[0;34m\u001b[0m\u001b[0m\n",
            "\u001b[0;32m/usr/local/lib/python3.7/dist-packages/tensorflow/python/eager/function.py\u001b[0m in \u001b[0;36m_call_flat\u001b[0;34m(self, args, captured_inputs, cancellation_manager)\u001b[0m\n\u001b[1;32m   1852\u001b[0m       \u001b[0;31m# No tape is watching; skip to running the function.\u001b[0m\u001b[0;34m\u001b[0m\u001b[0;34m\u001b[0m\u001b[0;34m\u001b[0m\u001b[0m\n\u001b[1;32m   1853\u001b[0m       return self._build_call_outputs(self._inference_function.call(\n\u001b[0;32m-> 1854\u001b[0;31m           ctx, args, cancellation_manager=cancellation_manager))\n\u001b[0m\u001b[1;32m   1855\u001b[0m     forward_backward = self._select_forward_and_backward_functions(\n\u001b[1;32m   1856\u001b[0m         \u001b[0margs\u001b[0m\u001b[0;34m,\u001b[0m\u001b[0;34m\u001b[0m\u001b[0;34m\u001b[0m\u001b[0m\n",
            "\u001b[0;32m/usr/local/lib/python3.7/dist-packages/tensorflow/python/eager/function.py\u001b[0m in \u001b[0;36mcall\u001b[0;34m(self, ctx, args, cancellation_manager)\u001b[0m\n\u001b[1;32m    502\u001b[0m               \u001b[0minputs\u001b[0m\u001b[0;34m=\u001b[0m\u001b[0margs\u001b[0m\u001b[0;34m,\u001b[0m\u001b[0;34m\u001b[0m\u001b[0;34m\u001b[0m\u001b[0m\n\u001b[1;32m    503\u001b[0m               \u001b[0mattrs\u001b[0m\u001b[0;34m=\u001b[0m\u001b[0mattrs\u001b[0m\u001b[0;34m,\u001b[0m\u001b[0;34m\u001b[0m\u001b[0;34m\u001b[0m\u001b[0m\n\u001b[0;32m--> 504\u001b[0;31m               ctx=ctx)\n\u001b[0m\u001b[1;32m    505\u001b[0m         \u001b[0;32melse\u001b[0m\u001b[0;34m:\u001b[0m\u001b[0;34m\u001b[0m\u001b[0;34m\u001b[0m\u001b[0m\n\u001b[1;32m    506\u001b[0m           outputs = execute.execute_with_cancellation(\n",
            "\u001b[0;32m/usr/local/lib/python3.7/dist-packages/tensorflow/python/eager/execute.py\u001b[0m in \u001b[0;36mquick_execute\u001b[0;34m(op_name, num_outputs, inputs, attrs, ctx, name)\u001b[0m\n\u001b[1;32m     53\u001b[0m     \u001b[0mctx\u001b[0m\u001b[0;34m.\u001b[0m\u001b[0mensure_initialized\u001b[0m\u001b[0;34m(\u001b[0m\u001b[0;34m)\u001b[0m\u001b[0;34m\u001b[0m\u001b[0;34m\u001b[0m\u001b[0m\n\u001b[1;32m     54\u001b[0m     tensors = pywrap_tfe.TFE_Py_Execute(ctx._handle, device_name, op_name,\n\u001b[0;32m---> 55\u001b[0;31m                                         inputs, attrs, num_outputs)\n\u001b[0m\u001b[1;32m     56\u001b[0m   \u001b[0;32mexcept\u001b[0m \u001b[0mcore\u001b[0m\u001b[0;34m.\u001b[0m\u001b[0m_NotOkStatusException\u001b[0m \u001b[0;32mas\u001b[0m \u001b[0me\u001b[0m\u001b[0;34m:\u001b[0m\u001b[0;34m\u001b[0m\u001b[0;34m\u001b[0m\u001b[0m\n\u001b[1;32m     57\u001b[0m     \u001b[0;32mif\u001b[0m \u001b[0mname\u001b[0m \u001b[0;32mis\u001b[0m \u001b[0;32mnot\u001b[0m \u001b[0;32mNone\u001b[0m\u001b[0;34m:\u001b[0m\u001b[0;34m\u001b[0m\u001b[0;34m\u001b[0m\u001b[0m\n",
            "\u001b[0;31mKeyboardInterrupt\u001b[0m: "
          ]
        }
      ]
    },
    {
      "cell_type": "code",
      "source": [
        "# batch 32\n",
        "\n",
        "new_history_batch_32 = new_model.fit(train_x, train_y, epochs=6, batch_size=32, validation_data=(validation_x, validation_y))\n",
        "\n",
        "new_results_batch_32 = new_model.evaluate(padded_test_data, test_labels)\n",
        "print('test_loss:', new_results_batch_32[0], 'test_accuracy:', new_results_batch_32[1])"
      ],
      "metadata": {
        "id": "uFkctoBotVJt",
        "colab": {
          "base_uri": "https://localhost:8080/"
        },
        "outputId": "36727194-9434-4ab7-e0d9-07f13480e088"
      },
      "execution_count": null,
      "outputs": [
        {
          "output_type": "stream",
          "name": "stdout",
          "text": [
            "Epoch 1/6\n",
            "719/719 [==============================] - 1173s 2s/step - loss: 0.3924 - accuracy: 0.8311 - val_loss: 0.5789 - val_accuracy: 0.6935\n",
            "Epoch 2/6\n",
            "719/719 [==============================] - 1128s 2s/step - loss: 0.2857 - accuracy: 0.8890 - val_loss: 0.3668 - val_accuracy: 0.8495\n",
            "Epoch 3/6\n",
            "719/719 [==============================] - 1133s 2s/step - loss: 0.1945 - accuracy: 0.9275 - val_loss: 0.3984 - val_accuracy: 0.8400\n",
            "Epoch 4/6\n",
            "719/719 [==============================] - 1140s 2s/step - loss: 0.1675 - accuracy: 0.9374 - val_loss: 0.3648 - val_accuracy: 0.8855\n",
            "Epoch 5/6\n",
            "719/719 [==============================] - 1161s 2s/step - loss: 0.1157 - accuracy: 0.9598 - val_loss: 0.3898 - val_accuracy: 0.8685\n",
            "Epoch 6/6\n",
            "719/719 [==============================] - 1149s 2s/step - loss: 0.1071 - accuracy: 0.9613 - val_loss: 0.4024 - val_accuracy: 0.8750\n",
            "782/782 [==============================] - 85s 109ms/step - loss: 0.4899 - accuracy: 0.8471\n",
            "test_loss: 0.4899182915687561 test_accuracy: 0.8471199870109558\n"
          ]
        }
      ]
    },
    {
      "cell_type": "code",
      "source": [
        "plot_history(new_history_batch_32.history, path=\"standard.png\")\n",
        "plt.show()"
      ],
      "metadata": {
        "colab": {
          "base_uri": "https://localhost:8080/",
          "height": 385
        },
        "id": "qvH7xaz80Gpq",
        "outputId": "7cd8fc0f-72d1-4a52-d971-2be6cf8aa7b6"
      },
      "execution_count": null,
      "outputs": [
        {
          "output_type": "display_data",
          "data": {
            "image/png": "[encoded data removed]",
            "text/plain": [
              "<Figure size 720x360 with 2 Axes>"
            ]
          },
          "metadata": {
            "needs_background": "light"
          }
        }
      ]
    },
    {
      "cell_type": "code",
      "source": [
        "\n",
        "new_history_batch_len = new_model.fit(train_x, train_y, epochs=6, batch_size=len(train_x), validation_data=(validation_x, validation_y))\n",
        "\n",
        "new_results_batch_len = new_model.evaluate(padded_test_data, test_labels)\n",
        "print('test_loss:', new_results_batch_len[0], 'test_accuracy:', new_results_batch_len[1])\n",
        "\n",
        "# could not train because of google colab restrictions"
      ],
      "metadata": {
        "id": "IugMp7VUtkVe",
        "colab": {
          "base_uri": "https://localhost:8080/",
          "height": 1000
        },
        "outputId": "11e31019-a365-49dc-dcde-6065dc1dcee0"
      },
      "execution_count": null,
      "outputs": [
        {
          "output_type": "stream",
          "name": "stdout",
          "text": [
            "Epoch 1/6\n"
          ]
        },
        {
          "output_type": "error",
          "ename": "ResourceExhaustedError",
          "evalue": "ignored",
          "traceback": [
            "\u001b[0;31m---------------------------------------------------------------------------\u001b[0m",
            "\u001b[0;31mResourceExhaustedError\u001b[0m                    Traceback (most recent call last)",
            "\u001b[0;32m<ipython-input-32-ed65cee09215>\u001b[0m in \u001b[0;36m<module>\u001b[0;34m()\u001b[0m\n\u001b[1;32m      1\u001b[0m \u001b[0;34m\u001b[0m\u001b[0m\n\u001b[0;32m----> 2\u001b[0;31m \u001b[0mnew_history_batch_len\u001b[0m \u001b[0;34m=\u001b[0m \u001b[0mnew_model\u001b[0m\u001b[0;34m.\u001b[0m\u001b[0mfit\u001b[0m\u001b[0;34m(\u001b[0m\u001b[0mtrain_x\u001b[0m\u001b[0;34m,\u001b[0m \u001b[0mtrain_y\u001b[0m\u001b[0;34m,\u001b[0m \u001b[0mepochs\u001b[0m\u001b[0;34m=\u001b[0m\u001b[0;36m6\u001b[0m\u001b[0;34m,\u001b[0m \u001b[0mbatch_size\u001b[0m\u001b[0;34m=\u001b[0m\u001b[0mlen\u001b[0m\u001b[0;34m(\u001b[0m\u001b[0mtrain_x\u001b[0m\u001b[0;34m)\u001b[0m\u001b[0;34m,\u001b[0m \u001b[0mvalidation_data\u001b[0m\u001b[0;34m=\u001b[0m\u001b[0;34m(\u001b[0m\u001b[0mvalidation_x\u001b[0m\u001b[0;34m,\u001b[0m \u001b[0mvalidation_y\u001b[0m\u001b[0;34m)\u001b[0m\u001b[0;34m)\u001b[0m\u001b[0;34m\u001b[0m\u001b[0;34m\u001b[0m\u001b[0m\n\u001b[0m\u001b[1;32m      3\u001b[0m \u001b[0;34m\u001b[0m\u001b[0m\n\u001b[1;32m      4\u001b[0m \u001b[0mnew_results_batch_len\u001b[0m \u001b[0;34m=\u001b[0m \u001b[0mnew_model\u001b[0m\u001b[0;34m.\u001b[0m\u001b[0mevaluate\u001b[0m\u001b[0;34m(\u001b[0m\u001b[0mpadded_test_data\u001b[0m\u001b[0;34m,\u001b[0m \u001b[0mtest_labels\u001b[0m\u001b[0;34m)\u001b[0m\u001b[0;34m\u001b[0m\u001b[0;34m\u001b[0m\u001b[0m\n\u001b[1;32m      5\u001b[0m \u001b[0mprint\u001b[0m\u001b[0;34m(\u001b[0m\u001b[0;34m'test_loss:'\u001b[0m\u001b[0;34m,\u001b[0m \u001b[0mnew_results_batch_len\u001b[0m\u001b[0;34m[\u001b[0m\u001b[0;36m0\u001b[0m\u001b[0;34m]\u001b[0m\u001b[0;34m,\u001b[0m \u001b[0;34m'test_accuracy:'\u001b[0m\u001b[0;34m,\u001b[0m \u001b[0mnew_results_batch_len\u001b[0m\u001b[0;34m[\u001b[0m\u001b[0;36m1\u001b[0m\u001b[0;34m]\u001b[0m\u001b[0;34m)\u001b[0m\u001b[0;34m\u001b[0m\u001b[0;34m\u001b[0m\u001b[0m\n",
            "\u001b[0;32m/usr/local/lib/python3.7/dist-packages/keras/utils/traceback_utils.py\u001b[0m in \u001b[0;36merror_handler\u001b[0;34m(*args, **kwargs)\u001b[0m\n\u001b[1;32m     65\u001b[0m     \u001b[0;32mexcept\u001b[0m \u001b[0mException\u001b[0m \u001b[0;32mas\u001b[0m \u001b[0me\u001b[0m\u001b[0;34m:\u001b[0m  \u001b[0;31m# pylint: disable=broad-except\u001b[0m\u001b[0;34m\u001b[0m\u001b[0;34m\u001b[0m\u001b[0m\n\u001b[1;32m     66\u001b[0m       \u001b[0mfiltered_tb\u001b[0m \u001b[0;34m=\u001b[0m \u001b[0m_process_traceback_frames\u001b[0m\u001b[0;34m(\u001b[0m\u001b[0me\u001b[0m\u001b[0;34m.\u001b[0m\u001b[0m__traceback__\u001b[0m\u001b[0;34m)\u001b[0m\u001b[0;34m\u001b[0m\u001b[0;34m\u001b[0m\u001b[0m\n\u001b[0;32m---> 67\u001b[0;31m       \u001b[0;32mraise\u001b[0m \u001b[0me\u001b[0m\u001b[0;34m.\u001b[0m\u001b[0mwith_traceback\u001b[0m\u001b[0;34m(\u001b[0m\u001b[0mfiltered_tb\u001b[0m\u001b[0;34m)\u001b[0m \u001b[0;32mfrom\u001b[0m \u001b[0;32mNone\u001b[0m\u001b[0;34m\u001b[0m\u001b[0;34m\u001b[0m\u001b[0m\n\u001b[0m\u001b[1;32m     68\u001b[0m     \u001b[0;32mfinally\u001b[0m\u001b[0;34m:\u001b[0m\u001b[0;34m\u001b[0m\u001b[0;34m\u001b[0m\u001b[0m\n\u001b[1;32m     69\u001b[0m       \u001b[0;32mdel\u001b[0m \u001b[0mfiltered_tb\u001b[0m\u001b[0;34m\u001b[0m\u001b[0;34m\u001b[0m\u001b[0m\n",
            "\u001b[0;32m/usr/local/lib/python3.7/dist-packages/tensorflow/python/eager/execute.py\u001b[0m in \u001b[0;36mquick_execute\u001b[0;34m(op_name, num_outputs, inputs, attrs, ctx, name)\u001b[0m\n\u001b[1;32m     53\u001b[0m     \u001b[0mctx\u001b[0m\u001b[0;34m.\u001b[0m\u001b[0mensure_initialized\u001b[0m\u001b[0;34m(\u001b[0m\u001b[0;34m)\u001b[0m\u001b[0;34m\u001b[0m\u001b[0;34m\u001b[0m\u001b[0m\n\u001b[1;32m     54\u001b[0m     tensors = pywrap_tfe.TFE_Py_Execute(ctx._handle, device_name, op_name,\n\u001b[0;32m---> 55\u001b[0;31m                                         inputs, attrs, num_outputs)\n\u001b[0m\u001b[1;32m     56\u001b[0m   \u001b[0;32mexcept\u001b[0m \u001b[0mcore\u001b[0m\u001b[0;34m.\u001b[0m\u001b[0m_NotOkStatusException\u001b[0m \u001b[0;32mas\u001b[0m \u001b[0me\u001b[0m\u001b[0;34m:\u001b[0m\u001b[0;34m\u001b[0m\u001b[0;34m\u001b[0m\u001b[0m\n\u001b[1;32m     57\u001b[0m     \u001b[0;32mif\u001b[0m \u001b[0mname\u001b[0m \u001b[0;32mis\u001b[0m \u001b[0;32mnot\u001b[0m \u001b[0;32mNone\u001b[0m\u001b[0;34m:\u001b[0m\u001b[0;34m\u001b[0m\u001b[0;34m\u001b[0m\u001b[0m\n",
            "\u001b[0;31mResourceExhaustedError\u001b[0m: Graph execution error:\n\nDetected at node 'model_1/dropout_layer_1/dropout/random_uniform/RandomUniform' defined at (most recent call last):\n    File \"/usr/lib/python3.7/runpy.py\", line 193, in _run_module_as_main\n      \"__main__\", mod_spec)\n    File \"/usr/lib/python3.7/runpy.py\", line 85, in _run_code\n      exec(code, run_globals)\n    File \"/usr/local/lib/python3.7/dist-packages/ipykernel_launcher.py\", line 16, in <module>\n      app.launch_new_instance()\n    File \"/usr/local/lib/python3.7/dist-packages/traitlets/config/application.py\", line 846, in launch_instance\n      app.start()\n    File \"/usr/local/lib/python3.7/dist-packages/ipykernel/kernelapp.py\", line 499, in start\n      self.io_loop.start()\n    File \"/usr/local/lib/python3.7/dist-packages/tornado/platform/asyncio.py\", line 132, in start\n      self.asyncio_loop.run_forever()\n    File \"/usr/lib/python3.7/asyncio/base_events.py\", line 541, in run_forever\n      self._run_once()\n    File \"/usr/lib/python3.7/asyncio/base_events.py\", line 1786, in _run_once\n      handle._run()\n    File \"/usr/lib/python3.7/asyncio/events.py\", line 88, in _run\n      self._context.run(self._callback, *self._args)\n    File \"/usr/local/lib/python3.7/dist-packages/tornado/platform/asyncio.py\", line 122, in _handle_events\n      handler_func(fileobj, events)\n    File \"/usr/local/lib/python3.7/dist-packages/tornado/stack_context.py\", line 300, in null_wrapper\n      return fn(*args, **kwargs)\n    File \"/usr/local/lib/python3.7/dist-packages/zmq/eventloop/zmqstream.py\", line 452, in _handle_events\n      self._handle_recv()\n    File \"/usr/local/lib/python3.7/dist-packages/zmq/eventloop/zmqstream.py\", line 481, in _handle_recv\n      self._run_callback(callback, msg)\n    File \"/usr/local/lib/python3.7/dist-packages/zmq/eventloop/zmqstream.py\", line 431, in _run_callback\n      callback(*args, **kwargs)\n    File \"/usr/local/lib/python3.7/dist-packages/tornado/stack_context.py\", line 300, in null_wrapper\n      return fn(*args, **kwargs)\n    File \"/usr/local/lib/python3.7/dist-packages/ipykernel/kernelbase.py\", line 283, in dispatcher\n      return self.dispatch_shell(stream, msg)\n    File \"/usr/local/lib/python3.7/dist-packages/ipykernel/kernelbase.py\", line 233, in dispatch_shell\n      handler(stream, idents, msg)\n    File \"/usr/local/lib/python3.7/dist-packages/ipykernel/kernelbase.py\", line 399, in execute_request\n      user_expressions, allow_stdin)\n    File \"/usr/local/lib/python3.7/dist-packages/ipykernel/ipkernel.py\", line 208, in do_execute\n      res = shell.run_cell(code, store_history=store_history, silent=silent)\n    File \"/usr/local/lib/python3.7/dist-packages/ipykernel/zmqshell.py\", line 537, in run_cell\n      return super(ZMQInteractiveShell, self).run_cell(*args, **kwargs)\n    File \"/usr/local/lib/python3.7/dist-packages/IPython/core/interactiveshell.py\", line 2718, in run_cell\n      interactivity=interactivity, compiler=compiler, result=result)\n    File \"/usr/local/lib/python3.7/dist-packages/IPython/core/interactiveshell.py\", line 2822, in run_ast_nodes\n      if self.run_code(code, result):\n    File \"/usr/local/lib/python3.7/dist-packages/IPython/core/interactiveshell.py\", line 2882, in run_code\n      exec(code_obj, self.user_global_ns, self.user_ns)\n    File \"<ipython-input-30-51729ff9c173>\", line 3, in <module>\n      new_history_batch_32 = new_model.fit(train_x, train_y, epochs=6, batch_size=32, validation_data=(validation_x, validation_y))\n    File \"/usr/local/lib/python3.7/dist-packages/keras/utils/traceback_utils.py\", line 64, in error_handler\n      return fn(*args, **kwargs)\n    File \"/usr/local/lib/python3.7/dist-packages/keras/engine/training.py\", line 1384, in fit\n      tmp_logs = self.train_function(iterator)\n    File \"/usr/local/lib/python3.7/dist-packages/keras/engine/training.py\", line 1021, in train_function\n      return step_function(self, iterator)\n    File \"/usr/local/lib/python3.7/dist-packages/keras/engine/training.py\", line 1010, in step_function\n      outputs = model.distribute_strategy.run(run_step, args=(data,))\n    File \"/usr/local/lib/python3.7/dist-packages/keras/engine/training.py\", line 1000, in run_step\n      outputs = model.train_step(data)\n    File \"/usr/local/lib/python3.7/dist-packages/keras/engine/training.py\", line 859, in train_step\n      y_pred = self(x, training=True)\n    File \"/usr/local/lib/python3.7/dist-packages/keras/utils/traceback_utils.py\", line 64, in error_handler\n      return fn(*args, **kwargs)\n    File \"/usr/local/lib/python3.7/dist-packages/keras/engine/base_layer.py\", line 1096, in __call__\n      outputs = call_fn(inputs, *args, **kwargs)\n    File \"/usr/local/lib/python3.7/dist-packages/keras/utils/traceback_utils.py\", line 92, in error_handler\n      return fn(*args, **kwargs)\n    File \"/usr/local/lib/python3.7/dist-packages/keras/engine/functional.py\", line 452, in call\n      inputs, training=training, mask=mask)\n    File \"/usr/local/lib/python3.7/dist-packages/keras/engine/functional.py\", line 589, in _run_internal_graph\n      outputs = node.layer(*args, **kwargs)\n    File \"/usr/local/lib/python3.7/dist-packages/keras/utils/traceback_utils.py\", line 64, in error_handler\n      return fn(*args, **kwargs)\n    File \"/usr/local/lib/python3.7/dist-packages/keras/engine/base_layer.py\", line 1096, in __call__\n      outputs = call_fn(inputs, *args, **kwargs)\n    File \"/usr/local/lib/python3.7/dist-packages/keras/utils/traceback_utils.py\", line 92, in error_handler\n      return fn(*args, **kwargs)\n    File \"/usr/local/lib/python3.7/dist-packages/keras/layers/core/dropout.py\", line 112, in call\n      lambda: tf.identity(inputs))\n    File \"/usr/local/lib/python3.7/dist-packages/keras/utils/control_flow_util.py\", line 106, in smart_cond\n      pred, true_fn=true_fn, false_fn=false_fn, name=name)\n    File \"/usr/local/lib/python3.7/dist-packages/keras/layers/core/dropout.py\", line 109, in dropped_inputs\n      inputs, self.rate, noise_shape=self._get_noise_shape(inputs))\n    File \"/usr/local/lib/python3.7/dist-packages/keras/backend.py\", line 1941, in dropout\n      seed=self.make_legacy_seed())\nNode: 'model_1/dropout_layer_1/dropout/random_uniform/RandomUniform'\nOOM when allocating tensor with shape[23000,500,100] and type float on /job:localhost/replica:0/task:0/device:GPU:0 by allocator GPU_0_bfc\n\t [[{{node model_1/dropout_layer_1/dropout/random_uniform/RandomUniform}}]]\nHint: If you want to see a list of allocated tensors when OOM happens, add report_tensor_allocations_upon_oom to RunOptions for current allocation info. This isn't available when running in Eager mode.\n [Op:__inference_train_function_30192]"
          ]
        }
      ]
    }
  ]
}