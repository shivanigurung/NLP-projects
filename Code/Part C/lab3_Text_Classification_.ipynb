{
  "cells": [
    {
      "cell_type": "markdown",
      "metadata": {
        "id": "hExKCzh6doIW"
      },
      "source": [
        "# Lab 3 - Comparing Classification Models\n",
        "\n",
        "\n",
        "\n",
        "---\n",
        "\n",
        "\n",
        "\n",
        "\n",
        "\n",
        "\n",
        "\n",
        "\n",
        "\n",
        "\n",
        "\n",
        "\n",
        "\n"
      ]
    },
    {
      "cell_type": "markdown",
      "metadata": {
        "id": "HixoFOoCIJ7V"
      },
      "source": [
        "In this session, we demonstrate how to solve a text classification task using simple \n",
        "feedforward neural network classifier. We will use IMDB Large Movie Review Dataset to train a binary classification model, able to predict whether a review is positive or negative. First, our network takes one-hot word vectors as input, averages them to make one vector and trains a \n",
        "fully-connected layer to predict the output. In the second part, we replace the one-hot vectors with the word embeddings and add a layer to see how much that improves the performance.\n",
        "\n",
        "We are going to use Keras Sequential API in this session. The Sequential API allows you to make models layer-by-layer. But it is not straightforward to define models where layers connect to more than just the previous and next layers. "
      ]
    },
    {
      "cell_type": "code",
      "execution_count": 1,
      "metadata": {
        "id": "m8fpBfhBpupy"
      },
      "outputs": [],
      "source": [
        "import tensorflow.keras as tk\n",
        "import numpy as np\n",
        "from keras.layers import Lambda, GlobalAveragePooling1D, Dense, Embedding\n",
        "from keras import backend as K\n",
        "from keras.models import Sequential\n",
        "import matplotlib.pyplot as plt\n"
      ]
    },
    {
      "cell_type": "markdown",
      "metadata": {
        "id": "cqvPQvgvPv1W"
      },
      "source": [
        "### Downloading data"
      ]
    },
    {
      "cell_type": "markdown",
      "metadata": {
        "id": "EundMtGPpCdf"
      },
      "source": [
        "The dataset we will be using is the IMDB Large Movie Review Dataset, which consists of 50000 labeled movie reviews. These are split into 25,000 reviews for training and 25,000 reviews for testing. The  dataset contains an even number of positive and negative reviews, so randomly guessing yields 50% accuracy. The data is preprocessed. For text classification, it is ususal to limit the size of the vocabulary to stop the dataset from becoming too sparse, creating possible overfitting. We keep the top 10,000 most frequently occurring words in the training data.\n"
      ]
    },
    {
      "cell_type": "code",
      "execution_count": 2,
      "metadata": {
        "id": "NyuSzkafqNca",
        "colab": {
          "base_uri": "https://localhost:8080/"
        },
        "outputId": "bbcca12e-7132-4bab-cc2f-0a2803f334b5"
      },
      "outputs": [
        {
          "output_type": "stream",
          "name": "stdout",
          "text": [
            "Downloading data from https://storage.googleapis.com/tensorflow/tf-keras-datasets/imdb.npz\n",
            "17465344/17464789 [==============================] - 0s 0us/step\n",
            "17473536/17464789 [==============================] - 0s 0us/step\n"
          ]
        }
      ],
      "source": [
        "imdb = tk.datasets.imdb\n",
        "(X_train, y_train), (X_test, y_test) = imdb.load_data(num_words=10000)"
      ]
    },
    {
      "cell_type": "markdown",
      "metadata": {
        "id": "6U4iCV9-rmay"
      },
      "source": [
        "We now can start playing around with the data, let’s first see the length:"
      ]
    },
    {
      "cell_type": "code",
      "execution_count": 3,
      "metadata": {
        "colab": {
          "base_uri": "https://localhost:8080/"
        },
        "id": "h-gjWRAuqg5s",
        "outputId": "b9cc94cd-a414-4c83-a0ab-2ab225759694"
      },
      "outputs": [
        {
          "output_type": "stream",
          "name": "stdout",
          "text": [
            "Training entries: 25000, labels: 25000\n"
          ]
        }
      ],
      "source": [
        "print(\"Training entries: {}, labels: {}\".format(len(X_train), len(y_train)))"
      ]
    },
    {
      "cell_type": "markdown",
      "metadata": {
        "id": "MTRZrpcyr-4x"
      },
      "source": [
        "The  reviews have been converted to integers and each integer represents a  word in a dictionary. "
      ]
    },
    {
      "cell_type": "code",
      "execution_count": 4,
      "metadata": {
        "colab": {
          "base_uri": "https://localhost:8080/"
        },
        "id": "79Ev72Kgq4XL",
        "outputId": "2f882dc2-4b19-48b7-e7f4-cd2c15fdab3f"
      },
      "outputs": [
        {
          "output_type": "execute_result",
          "data": {
            "text/plain": [
              "[1, 14, 22, 16, 43, 530, 973, 1622, 1385, 65]"
            ]
          },
          "metadata": {},
          "execution_count": 4
        }
      ],
      "source": [
        " X_train[0][:10]"
      ]
    },
    {
      "cell_type": "markdown",
      "metadata": {
        "id": "Tvuu4KhStqei"
      },
      "source": [
        "We can convert integers back to words by querying a dictionary object that contains the integer to string mapping:"
      ]
    },
    {
      "cell_type": "code",
      "execution_count": 5,
      "metadata": {
        "id": "gMCH1OoDrSNR",
        "colab": {
          "base_uri": "https://localhost:8080/"
        },
        "outputId": "96ba93f9-888e-42f3-f2f9-d3160c22ef44"
      },
      "outputs": [
        {
          "output_type": "stream",
          "name": "stdout",
          "text": [
            "Downloading data from https://storage.googleapis.com/tensorflow/tf-keras-datasets/imdb_word_index.json\n",
            "1646592/1641221 [==============================] - 0s 0us/step\n",
            "1654784/1641221 [==============================] - 0s 0us/step\n"
          ]
        }
      ],
      "source": [
        "word_index = imdb.get_word_index()"
      ]
    },
    {
      "cell_type": "markdown",
      "metadata": {
        "id": "5IreFXgruZot"
      },
      "source": [
        "Index 1 represents the beginning of the sentence and the index 2 is assigned to all unknown tokens. Index 0 will be used for padding."
      ]
    },
    {
      "cell_type": "code",
      "execution_count": 6,
      "metadata": {
        "id": "abIb7Fe5u3GQ"
      },
      "outputs": [],
      "source": [
        "word_index = {k:(v+3) for k,v in word_index.items()}\n",
        "word_index[\"<PAD>\"] = 0\n",
        "word_index[\"<START>\"] = 1\n",
        "word_index[\"<UNK>\"] = 2  \n",
        "word_index[\"<UNUSED>\"] = 3"
      ]
    },
    {
      "cell_type": "markdown",
      "metadata": {
        "id": "9TnnSuspvC5b"
      },
      "source": [
        "To reverse key and values in a dictionary:"
      ]
    },
    {
      "cell_type": "code",
      "execution_count": 7,
      "metadata": {
        "id": "nKOiVVXQu-_I"
      },
      "outputs": [],
      "source": [
        "reverse_word_index = dict([(value, key) for (key, value) in word_index.items()])"
      ]
    },
    {
      "cell_type": "markdown",
      "metadata": {
        "id": "ZmTJEm8xvUvW"
      },
      "source": [
        "To view a word:"
      ]
    },
    {
      "cell_type": "code",
      "execution_count": 8,
      "metadata": {
        "colab": {
          "base_uri": "https://localhost:8080/",
          "height": 35
        },
        "id": "SqN5jgVKvJJZ",
        "outputId": "a088f4a2-f367-4632-f1c1-d99350e418a9"
      },
      "outputs": [
        {
          "output_type": "execute_result",
          "data": {
            "text/plain": [
              "'you'"
            ],
            "application/vnd.google.colaboratory.intrinsic+json": {
              "type": "string"
            }
          },
          "metadata": {},
          "execution_count": 8
        }
      ],
      "source": [
        "reverse_word_index[25]"
      ]
    },
    {
      "cell_type": "markdown",
      "metadata": {
        "id": "Q6QjrzgVvrYn"
      },
      "source": [
        "And to recreate the whole sentence from our training data we define decode_review:\n"
      ]
    },
    {
      "cell_type": "code",
      "execution_count": 9,
      "metadata": {
        "id": "wvrKeMgxvWlv"
      },
      "outputs": [],
      "source": [
        "def decode_review(text):\n",
        "    return ' '.join([reverse_word_index.get(i, '?') for i in text])"
      ]
    },
    {
      "cell_type": "code",
      "execution_count": 10,
      "metadata": {
        "colab": {
          "base_uri": "https://localhost:8080/",
          "height": 142
        },
        "id": "Sxg4YA_NvdRg",
        "outputId": "6a16a808-6768-4fa0-bb5d-b47e7390b257"
      },
      "outputs": [
        {
          "output_type": "execute_result",
          "data": {
            "text/plain": [
              "\"<START> french horror cinema has seen something of a revival over the last couple of years with great films such as inside and <UNK> romance <UNK> on to the scene <UNK> <UNK> the revival just slightly but stands head and shoulders over most modern horror titles and is surely one of the best french horror films ever made <UNK> was obviously shot on a low budget but this is made up for in far more ways than one by the originality of the film and this in turn is <UNK> by the excellent writing and acting that ensure the film is a winner the plot focuses on two main ideas prison and black magic the central character is a man named <UNK> sent to prison for fraud he is put in a cell with three others the quietly insane <UNK> body building <UNK> marcus and his retarded boyfriend daisy after a short while in the cell together they stumble upon a hiding place in the wall that contains an old <UNK> after <UNK> part of it they soon realise its magical powers and realise they may be able to use it to break through the prison walls br br black magic is a very interesting topic and i'm actually quite surprised that there aren't more films based on it as there's so much scope for things to do with it it's fair to say that <UNK> makes the best of it's <UNK> as despite it's <UNK> the film never actually feels restrained and manages to flow well throughout director eric <UNK> provides a great atmosphere for the film the fact that most of it takes place inside the central prison cell <UNK> that the film feels very claustrophobic and this immensely benefits the central idea of the prisoners wanting to use magic to break out of the cell it's very easy to get behind them it's often said that the unknown is the thing that really <UNK> people and this film proves that as the director <UNK> that we can never really be sure of exactly what is round the corner and this helps to ensure that <UNK> actually does manage to be quite frightening the film is memorable for a lot of reasons outside the central plot the characters are all very interesting in their own way and the fact that the book itself almost takes on its own character is very well done anyone worried that the film won't deliver by the end won't be disappointed either as the ending both makes sense and manages to be quite horrifying overall <UNK> is a truly great horror film and one of the best of the decade highly recommended viewing\""
            ],
            "application/vnd.google.colaboratory.intrinsic+json": {
              "type": "string"
            }
          },
          "metadata": {},
          "execution_count": 10
        }
      ],
      "source": [
        "decode_review(X_train[10])"
      ]
    },
    {
      "cell_type": "markdown",
      "metadata": {
        "id": "c8gIzXncfaJK"
      },
      "source": [
        "### Creating One-hot word vectors"
      ]
    },
    {
      "cell_type": "markdown",
      "metadata": {
        "id": "B9W4yb3rv_E0"
      },
      "source": [
        "It is  common to use one-hot representation as input in Natural Language Processing tasks. In Keras, the Embedding layer takes an index as an input and convert it to one-hot vector with the length of the vocabulary size. Then multiplies these vectors by a normal weight matrix. But there is no way to only get a one-hot vector as the output of a layer in Keras. To solve this we use Lambda() layer and a function that creates the one-hot layer. "
      ]
    },
    {
      "cell_type": "code",
      "execution_count": 11,
      "metadata": {
        "id": "RPO_pK9zH4C5"
      },
      "outputs": [],
      "source": [
        "def OneHot(input_dim=None, input_length=None):\n",
        "    \n",
        "    if input_dim is None or input_length is None:\n",
        "        raise TypeError(\"input_dim or input_length is not set\")\n",
        "\n",
        "    \n",
        "    def _one_hot(x, num_classes):\n",
        "        return K.one_hot(K.cast(x, 'uint8'),\n",
        "                          num_classes=num_classes)\n",
        "\n",
        "    return Lambda(_one_hot,\n",
        "                  arguments={'num_classes': input_dim},\n",
        "                  input_shape=(input_length,))"
      ]
    },
    {
      "cell_type": "markdown",
      "metadata": {
        "id": "364d3MAw0ez9"
      },
      "source": [
        "input_dim refers to the length of the one-hot vector and input_length refers to the length of the input sequence. Since the input to K.one_hot should be an integer tensor, we cast x to one (Keras passes around float tensors by default).\n",
        "\n"
      ]
    },
    {
      "cell_type": "markdown",
      "metadata": {
        "id": "VHz76GNA2M4r"
      },
      "source": [
        " Each text sequence has in most cases different length of words. Here, we fill sequences with a pad token (0) to fit the size. This special tokens is then masked not to be accounted in averaging, loss calculation etc. We set the maximum length to 256."
      ]
    },
    {
      "cell_type": "markdown",
      "metadata": {
        "id": "9G_o7PsvgSFt"
      },
      "source": [
        "### Preparing input data"
      ]
    },
    {
      "cell_type": "code",
      "execution_count": 12,
      "metadata": {
        "id": "jiFn7sd_wF5j"
      },
      "outputs": [],
      "source": [
        "import keras\n",
        "\n",
        "VOCAB_SIZE = 10000\n",
        "MAX_SEQUENCE_LENGTH = 256\n",
        "\n",
        "X_train_enc = keras.preprocessing.sequence.pad_sequences(X_train,\n",
        "                                                        value=word_index[\"<PAD>\"],\n",
        "                                                        padding='post',\n",
        "                                                        maxlen=256)\n",
        "\n",
        "X_test_enc = keras.preprocessing.sequence.pad_sequences(X_test,\n",
        "                                                       value=word_index[\"<PAD>\"],\n",
        "                                                       padding='post',\n",
        "                                                       maxlen=256)"
      ]
    },
    {
      "cell_type": "markdown",
      "metadata": {
        "id": "kcjFH1wKF_7d"
      },
      "source": [
        "And to view a padded review:"
      ]
    },
    {
      "cell_type": "code",
      "execution_count": 13,
      "metadata": {
        "colab": {
          "base_uri": "https://localhost:8080/"
        },
        "id": "zwH4dcfW_a18",
        "outputId": "e6ca42d2-fbbc-4cfe-99af-dd5053479d1d"
      },
      "outputs": [
        {
          "output_type": "stream",
          "name": "stdout",
          "text": [
            "[   1  194 1153  194 8255   78  228    5    6 1463 4369 5012  134   26\n",
            "    4  715    8  118 1634   14  394   20   13  119  954  189  102    5\n",
            "  207  110 3103   21   14   69  188    8   30   23    7    4  249  126\n",
            "   93    4  114    9 2300 1523    5  647    4  116    9   35 8163    4\n",
            "  229    9  340 1322    4  118    9    4  130 4901   19    4 1002    5\n",
            "   89   29  952   46   37    4  455    9   45   43   38 1543 1905  398\n",
            "    4 1649   26 6853    5  163   11 3215    2    4 1153    9  194  775\n",
            "    7 8255    2  349 2637  148  605    2 8003   15  123  125   68    2\n",
            " 6853   15  349  165 4362   98    5    4  228    9   43    2 1157   15\n",
            "  299  120    5  120  174   11  220  175  136   50    9 4373  228 8255\n",
            "    5    2  656  245 2350    5    4 9837  131  152  491   18    2   32\n",
            " 7464 1212   14    9    6  371   78   22  625   64 1382    9    8  168\n",
            "  145   23    4 1690   15   16    4 1355    5   28    6   52  154  462\n",
            "   33   89   78  285   16  145   95    0    0    0    0    0    0    0\n",
            "    0    0    0    0    0    0    0    0    0    0    0    0    0    0\n",
            "    0    0    0    0    0    0    0    0    0    0    0    0    0    0\n",
            "    0    0    0    0    0    0    0    0    0    0    0    0    0    0\n",
            "    0    0    0    0    0    0    0    0    0    0    0    0    0    0\n",
            "    0    0    0    0]\n",
            "\n",
            "Length:  25000\n"
          ]
        }
      ],
      "source": [
        "print(X_train_enc[1])\n",
        "print('\\nLength: ',len(X_train_enc))"
      ]
    },
    {
      "cell_type": "markdown",
      "metadata": {
        "id": "F1zcxFwNGepA"
      },
      "source": [
        "Now we want to build the neural network model. We  are going to have a hidden layer with 16 hidden units. \n",
        "\n",
        "First, we want to transform each index to an embedded vector and then average all vectors to a single one. It has been showed that unweighted average of word vectors outperforms many complicated networks that model semantic and syntactic compositionality. As an example you can take a look at this: (http://anthology.aclweb.org/P/P15/P15-1162.pdf)\n",
        "\n",
        "To average we need to ignore padded zeros:"
      ]
    },
    {
      "cell_type": "code",
      "execution_count": 14,
      "metadata": {
        "id": "Yi04MLIvJOGZ"
      },
      "outputs": [],
      "source": [
        "class GlobalAveragePooling1DMasked(GlobalAveragePooling1D):\n",
        "    def call(self, x, mask=None):\n",
        "        if mask != None:\n",
        "            return K.sum(x, axis=1) / K.sum(mask, axis=1)\n",
        "        else:\n",
        "            return super().call(x)\n"
      ]
    },
    {
      "cell_type": "markdown",
      "metadata": {
        "id": "whgIIB5ggjna"
      },
      "source": [
        "# Model 1: Neural averaging network using one-hot vectors"
      ]
    },
    {
      "cell_type": "markdown",
      "metadata": {
        "id": "jlOLnlnSJgrU"
      },
      "source": [
        "The first layer is an one-hot layer. The second layer is to compute average on all word vectors in a sentence without considering padding. The  output vector is piped through a fully-connected layer. The last layer is connected with a single output node with the sigmoid activation function. The final value is a float between 0 and 1. \n",
        "The vocabulary count of the movie reviews (10000) is used as the input shape. At the end we visualize the model summary."
      ]
    },
    {
      "cell_type": "code",
      "execution_count": 15,
      "metadata": {
        "colab": {
          "base_uri": "https://localhost:8080/"
        },
        "id": "_Pn83gBbxiK7",
        "outputId": "9e0b6dbf-5a9d-4c29-b8de-9ef6eee56dac"
      },
      "outputs": [
        {
          "output_type": "stream",
          "name": "stdout",
          "text": [
            "Model: \"model\"\n",
            "_________________________________________________________________\n",
            " Layer (type)                Output Shape              Param #   \n",
            "=================================================================\n",
            " input_1 (InputLayer)        [(None, 256)]             0         \n",
            "                                                                 \n",
            " lambda (Lambda)             (None, 256, 10000)        0         \n",
            "                                                                 \n",
            " global_average_pooling1d_ma  (None, 10000)            0         \n",
            " sked (GlobalAveragePooling1                                     \n",
            " DMasked)                                                        \n",
            "                                                                 \n",
            " dense (Dense)               (None, 16)                160016    \n",
            "                                                                 \n",
            " dense_1 (Dense)             (None, 1)                 17        \n",
            "                                                                 \n",
            "=================================================================\n",
            "Total params: 160,033\n",
            "Trainable params: 160,033\n",
            "Non-trainable params: 0\n",
            "_________________________________________________________________\n"
          ]
        }
      ],
      "source": [
        "from keras.layers import Input, Embedding, Dense, LSTM, Reshape\n",
        "from keras.models import Model\n",
        "\n",
        "# your code goes here\n",
        "input_layer = Input(shape=(MAX_SEQUENCE_LENGTH,))\n",
        "\n",
        "# lambda layer\n",
        "one_hot_layer = OneHot(input_dim=VOCAB_SIZE, input_length=MAX_SEQUENCE_LENGTH)(input_layer)\n",
        "\n",
        "# global average pooling layer\n",
        "global_average_layer = GlobalAveragePooling1DMasked()(one_hot_layer)\n",
        "\n",
        "# hidden layer 16\n",
        "hidden_layer = Dense(16, activation='relu')(global_average_layer)\n",
        "\n",
        "# output layer\n",
        "output_layer = Dense(1, activation='sigmoid')(hidden_layer)\n",
        "\n",
        "model = Model(inputs=input_layer, outputs=output_layer)\n",
        "model.summary()\n"
      ]
    },
    {
      "cell_type": "markdown",
      "metadata": {
        "id": "_Mz96xpCgvTj"
      },
      "source": [
        "### Training the model"
      ]
    },
    {
      "cell_type": "markdown",
      "metadata": {
        "id": "F3HbW_IKLqwT"
      },
      "source": [
        "To compile the model we need a loss function and an optimizer. We use binary_crossentropy loss function which is just a special case of categorical cross entropy. We also use Adam optimizer that can be used instead of the classical stochastic gradient descent procedure to update network weights iterative based in training data. You can read more about it here:\n",
        "(https://arxiv.org/abs/1412.6980v8\n",
        ")\n"
      ]
    },
    {
      "cell_type": "code",
      "execution_count": 16,
      "metadata": {
        "id": "qh1PWTNMxjUw"
      },
      "outputs": [],
      "source": [
        "# your code goes here\n",
        "\n",
        "model.compile(optimizer='adam', loss='binary_crossentropy', metrics=['accuracy'])"
      ]
    },
    {
      "cell_type": "markdown",
      "metadata": {
        "id": "E1jwQQqCN5Ia"
      },
      "source": [
        "When training, we want to check the accuracy of the model on data it hasn't seen before. So we create a validation set:"
      ]
    },
    {
      "cell_type": "code",
      "execution_count": 17,
      "metadata": {
        "id": "f5lAqzQlxjSM"
      },
      "outputs": [],
      "source": [
        "X_val = np.array(X_train_enc[:10000])\n",
        "partial_X_train = np.array(X_train_enc[10000:])\n",
        "\n",
        "y_val = np.array(y_train[:10000])\n",
        "partial_y_train = np.array(y_train[10000:])"
      ]
    },
    {
      "cell_type": "markdown",
      "metadata": {
        "id": "E8Kpo5G3OJEY"
      },
      "source": [
        "Then we start to train the model for 40 epochs in mini-batches of 512 samples and monitor the model's loss and accuracy on the validation set."
      ]
    },
    {
      "cell_type": "code",
      "execution_count": 18,
      "metadata": {
        "colab": {
          "base_uri": "https://localhost:8080/"
        },
        "id": "99_z39KAxjPi",
        "outputId": "3d20cff4-4364-4dce-af1a-0693762f1560"
      },
      "outputs": [
        {
          "output_type": "stream",
          "name": "stdout",
          "text": [
            "Epoch 1/40\n",
            "30/30 [==============================] - 12s 287ms/step - loss: 0.6923 - accuracy: 0.5349 - val_loss: 0.6912 - val_accuracy: 0.5901\n",
            "Epoch 2/40\n",
            "30/30 [==============================] - 8s 280ms/step - loss: 0.6898 - accuracy: 0.6213 - val_loss: 0.6885 - val_accuracy: 0.6732\n",
            "Epoch 3/40\n",
            "30/30 [==============================] - 8s 275ms/step - loss: 0.6867 - accuracy: 0.6615 - val_loss: 0.6855 - val_accuracy: 0.6632\n",
            "Epoch 4/40\n",
            "30/30 [==============================] - 8s 280ms/step - loss: 0.6830 - accuracy: 0.6725 - val_loss: 0.6817 - val_accuracy: 0.6690\n",
            "Epoch 5/40\n",
            "30/30 [==============================] - 8s 276ms/step - loss: 0.6790 - accuracy: 0.6703 - val_loss: 0.6782 - val_accuracy: 0.6322\n",
            "Epoch 6/40\n",
            "30/30 [==============================] - 8s 279ms/step - loss: 0.6743 - accuracy: 0.6728 - val_loss: 0.6731 - val_accuracy: 0.6759\n",
            "Epoch 7/40\n",
            "30/30 [==============================] - 8s 281ms/step - loss: 0.6692 - accuracy: 0.6765 - val_loss: 0.6681 - val_accuracy: 0.6714\n",
            "Epoch 8/40\n",
            "30/30 [==============================] - 8s 279ms/step - loss: 0.6638 - accuracy: 0.6768 - val_loss: 0.6640 - val_accuracy: 0.6655\n",
            "Epoch 9/40\n",
            "30/30 [==============================] - 8s 276ms/step - loss: 0.6585 - accuracy: 0.6825 - val_loss: 0.6576 - val_accuracy: 0.6826\n",
            "Epoch 10/40\n",
            "30/30 [==============================] - 8s 277ms/step - loss: 0.6524 - accuracy: 0.6879 - val_loss: 0.6521 - val_accuracy: 0.6769\n",
            "Epoch 11/40\n",
            "30/30 [==============================] - 8s 287ms/step - loss: 0.6468 - accuracy: 0.6903 - val_loss: 0.6465 - val_accuracy: 0.6899\n",
            "Epoch 12/40\n",
            "30/30 [==============================] - 8s 278ms/step - loss: 0.6406 - accuracy: 0.6955 - val_loss: 0.6410 - val_accuracy: 0.6933\n",
            "Epoch 13/40\n",
            "30/30 [==============================] - 8s 277ms/step - loss: 0.6346 - accuracy: 0.6987 - val_loss: 0.6353 - val_accuracy: 0.6938\n",
            "Epoch 14/40\n",
            "30/30 [==============================] - 8s 280ms/step - loss: 0.6288 - accuracy: 0.6987 - val_loss: 0.6299 - val_accuracy: 0.6992\n",
            "Epoch 15/40\n",
            "30/30 [==============================] - 8s 278ms/step - loss: 0.6228 - accuracy: 0.7050 - val_loss: 0.6244 - val_accuracy: 0.6973\n",
            "Epoch 16/40\n",
            "30/30 [==============================] - 10s 336ms/step - loss: 0.6172 - accuracy: 0.7089 - val_loss: 0.6192 - val_accuracy: 0.7058\n",
            "Epoch 17/40\n",
            "30/30 [==============================] - 10s 336ms/step - loss: 0.6115 - accuracy: 0.7094 - val_loss: 0.6145 - val_accuracy: 0.7063\n",
            "Epoch 18/40\n",
            "30/30 [==============================] - 8s 278ms/step - loss: 0.6062 - accuracy: 0.7101 - val_loss: 0.6088 - val_accuracy: 0.7097\n",
            "Epoch 19/40\n",
            "30/30 [==============================] - 8s 279ms/step - loss: 0.6010 - accuracy: 0.7164 - val_loss: 0.6039 - val_accuracy: 0.7062\n",
            "Epoch 20/40\n",
            "30/30 [==============================] - 8s 280ms/step - loss: 0.5957 - accuracy: 0.7196 - val_loss: 0.5991 - val_accuracy: 0.7118\n",
            "Epoch 21/40\n",
            "30/30 [==============================] - 8s 282ms/step - loss: 0.5909 - accuracy: 0.7203 - val_loss: 0.5946 - val_accuracy: 0.7161\n",
            "Epoch 22/40\n",
            "30/30 [==============================] - 8s 279ms/step - loss: 0.5861 - accuracy: 0.7213 - val_loss: 0.5903 - val_accuracy: 0.7202\n",
            "Epoch 23/40\n",
            "30/30 [==============================] - 8s 279ms/step - loss: 0.5814 - accuracy: 0.7249 - val_loss: 0.5862 - val_accuracy: 0.7219\n",
            "Epoch 24/40\n",
            "30/30 [==============================] - 8s 280ms/step - loss: 0.5771 - accuracy: 0.7277 - val_loss: 0.5816 - val_accuracy: 0.7234\n",
            "Epoch 25/40\n",
            "30/30 [==============================] - 8s 274ms/step - loss: 0.5728 - accuracy: 0.7301 - val_loss: 0.5777 - val_accuracy: 0.7263\n",
            "Epoch 26/40\n",
            "30/30 [==============================] - 8s 276ms/step - loss: 0.5688 - accuracy: 0.7319 - val_loss: 0.5738 - val_accuracy: 0.7254\n",
            "Epoch 27/40\n",
            "30/30 [==============================] - 8s 276ms/step - loss: 0.5650 - accuracy: 0.7323 - val_loss: 0.5702 - val_accuracy: 0.7283\n",
            "Epoch 28/40\n",
            "30/30 [==============================] - 8s 284ms/step - loss: 0.5613 - accuracy: 0.7349 - val_loss: 0.5678 - val_accuracy: 0.7283\n",
            "Epoch 29/40\n",
            "30/30 [==============================] - 8s 281ms/step - loss: 0.5584 - accuracy: 0.7360 - val_loss: 0.5644 - val_accuracy: 0.7303\n",
            "Epoch 30/40\n",
            "30/30 [==============================] - 8s 279ms/step - loss: 0.5547 - accuracy: 0.7375 - val_loss: 0.5606 - val_accuracy: 0.7306\n",
            "Epoch 31/40\n",
            "30/30 [==============================] - 8s 273ms/step - loss: 0.5517 - accuracy: 0.7383 - val_loss: 0.5578 - val_accuracy: 0.7342\n",
            "Epoch 32/40\n",
            "30/30 [==============================] - 8s 282ms/step - loss: 0.5488 - accuracy: 0.7411 - val_loss: 0.5551 - val_accuracy: 0.7362\n",
            "Epoch 33/40\n",
            "30/30 [==============================] - 8s 277ms/step - loss: 0.5463 - accuracy: 0.7423 - val_loss: 0.5538 - val_accuracy: 0.7331\n",
            "Epoch 34/40\n",
            "30/30 [==============================] - 10s 336ms/step - loss: 0.5436 - accuracy: 0.7427 - val_loss: 0.5509 - val_accuracy: 0.7356\n",
            "Epoch 35/40\n",
            "30/30 [==============================] - 8s 275ms/step - loss: 0.5410 - accuracy: 0.7437 - val_loss: 0.5478 - val_accuracy: 0.7400\n",
            "Epoch 36/40\n",
            "30/30 [==============================] - 8s 278ms/step - loss: 0.5387 - accuracy: 0.7448 - val_loss: 0.5457 - val_accuracy: 0.7410\n",
            "Epoch 37/40\n",
            "30/30 [==============================] - 8s 278ms/step - loss: 0.5366 - accuracy: 0.7461 - val_loss: 0.5439 - val_accuracy: 0.7409\n",
            "Epoch 38/40\n",
            "30/30 [==============================] - 8s 279ms/step - loss: 0.5347 - accuracy: 0.7479 - val_loss: 0.5427 - val_accuracy: 0.7402\n",
            "Epoch 39/40\n",
            "30/30 [==============================] - 8s 272ms/step - loss: 0.5329 - accuracy: 0.7473 - val_loss: 0.5401 - val_accuracy: 0.7432\n",
            "Epoch 40/40\n",
            "30/30 [==============================] - 8s 277ms/step - loss: 0.5309 - accuracy: 0.7477 - val_loss: 0.5386 - val_accuracy: 0.7421\n"
          ]
        }
      ],
      "source": [
        "history = model.fit(partial_X_train,\n",
        "                    partial_y_train,\n",
        "                    epochs=40,\n",
        "                    batch_size=512,\n",
        "                    validation_data=(X_val, y_val),\n",
        "                    verbose=1)\n"
      ]
    },
    {
      "cell_type": "markdown",
      "metadata": {
        "id": "i_9a_rybhG5J"
      },
      "source": [
        "### Evaluating the model"
      ]
    },
    {
      "cell_type": "markdown",
      "metadata": {
        "id": "EYLH8kOgOo9W"
      },
      "source": [
        "To evaulate the model on test data:"
      ]
    },
    {
      "cell_type": "code",
      "execution_count": 19,
      "metadata": {
        "colab": {
          "base_uri": "https://localhost:8080/"
        },
        "id": "CFMt2Q7b3taP",
        "outputId": "1ceaef57-321a-4a7a-9a67-ef86de176efc"
      },
      "outputs": [
        {
          "output_type": "stream",
          "name": "stdout",
          "text": [
            "782/782 [==============================] - 12s 15ms/step - loss: 0.5383 - accuracy: 0.7414\n"
          ]
        }
      ],
      "source": [
        "results = model.evaluate(X_test_enc, y_test)"
      ]
    },
    {
      "cell_type": "code",
      "execution_count": 20,
      "metadata": {
        "colab": {
          "base_uri": "https://localhost:8080/"
        },
        "id": "9RrKiPHcAmQU",
        "outputId": "d234094d-9f31-4fbf-dcc6-ec234b3b3ec4"
      },
      "outputs": [
        {
          "output_type": "stream",
          "name": "stdout",
          "text": [
            "[0.5383301377296448, 0.7414399981498718]\n"
          ]
        }
      ],
      "source": [
        "print(results)\n",
        "# loss, accuracay "
      ]
    },
    {
      "cell_type": "markdown",
      "metadata": {
        "id": "pW7IpHxMO6qp"
      },
      "source": [
        "Our first model accuracy using one-hot vectors is ~68%\n",
        "\n",
        "\n",
        "\n",
        "\n",
        "\n"
      ]
    },
    {
      "cell_type": "markdown",
      "metadata": {
        "id": "OwZk_yoWhPJB"
      },
      "source": [
        "### Plotting the accuracy graph"
      ]
    },
    {
      "cell_type": "markdown",
      "metadata": {
        "id": "JIDPH1J7PMzN"
      },
      "source": [
        "To plot a graph of accuracy and loss over time we can use Matplotlib:"
      ]
    },
    {
      "cell_type": "code",
      "execution_count": 21,
      "metadata": {
        "colab": {
          "base_uri": "https://localhost:8080/"
        },
        "id": "aba8epr4eOrS",
        "outputId": "5385dc45-24c0-43d3-c9cc-141a3d4a58ee"
      },
      "outputs": [
        {
          "output_type": "stream",
          "name": "stdout",
          "text": [
            "Collecting plot_keras_history\n",
            "  Downloading plot_keras_history-1.1.30.tar.gz (8.6 kB)\n",
            "Requirement already satisfied: matplotlib in /usr/local/lib/python3.7/dist-packages (from plot_keras_history) (3.2.2)\n",
            "Requirement already satisfied: pandas in /usr/local/lib/python3.7/dist-packages (from plot_keras_history) (1.3.5)\n",
            "Requirement already satisfied: scipy in /usr/local/lib/python3.7/dist-packages (from plot_keras_history) (1.4.1)\n",
            "Collecting sanitize_ml_labels>=1.0.28\n",
            "  Downloading sanitize_ml_labels-1.0.29.tar.gz (7.4 kB)\n",
            "Collecting compress_json\n",
            "  Downloading compress_json-1.0.4.tar.gz (4.7 kB)\n",
            "Requirement already satisfied: kiwisolver>=1.0.1 in /usr/local/lib/python3.7/dist-packages (from matplotlib->plot_keras_history) (1.3.2)\n",
            "Requirement already satisfied: pyparsing!=2.0.4,!=2.1.2,!=2.1.6,>=2.0.1 in /usr/local/lib/python3.7/dist-packages (from matplotlib->plot_keras_history) (3.0.7)\n",
            "Requirement already satisfied: numpy>=1.11 in /usr/local/lib/python3.7/dist-packages (from matplotlib->plot_keras_history) (1.21.5)\n",
            "Requirement already satisfied: python-dateutil>=2.1 in /usr/local/lib/python3.7/dist-packages (from matplotlib->plot_keras_history) (2.8.2)\n",
            "Requirement already satisfied: cycler>=0.10 in /usr/local/lib/python3.7/dist-packages (from matplotlib->plot_keras_history) (0.11.0)\n",
            "Requirement already satisfied: six>=1.5 in /usr/local/lib/python3.7/dist-packages (from python-dateutil>=2.1->matplotlib->plot_keras_history) (1.15.0)\n",
            "Requirement already satisfied: pytz>=2017.3 in /usr/local/lib/python3.7/dist-packages (from pandas->plot_keras_history) (2018.9)\n",
            "Building wheels for collected packages: plot-keras-history, sanitize-ml-labels, compress-json\n",
            "  Building wheel for plot-keras-history (setup.py) ... \u001b[?25l\u001b[?25hdone\n",
            "  Created wheel for plot-keras-history: filename=plot_keras_history-1.1.30-py3-none-any.whl size=8794 sha256=b3ac0da3ba4f25b810330ea13ec5ce201a1ff7fd43bbaa94449ea57d12ac12ec\n",
            "  Stored in directory: /root/.cache/pip/wheels/b0/60/47/8c5aa37c06be5e97879ec467bc2e6a30b315d95f662c63a503\n",
            "  Building wheel for sanitize-ml-labels (setup.py) ... \u001b[?25l\u001b[?25hdone\n",
            "  Created wheel for sanitize-ml-labels: filename=sanitize_ml_labels-1.0.29-py3-none-any.whl size=7878 sha256=b5924f21de9b7ee1dc65c3eb7a26024bd135bdb421fb2b828311098be2edcd32\n",
            "  Stored in directory: /root/.cache/pip/wheels/c2/f5/71/d1c459da10abec864a1979b449edbf37d4a82ab3e38a3625a8\n",
            "  Building wheel for compress-json (setup.py) ... \u001b[?25l\u001b[?25hdone\n",
            "  Created wheel for compress-json: filename=compress_json-1.0.4-py3-none-any.whl size=4588 sha256=b6b8a539ddafb867e622899452fdba55369617e386bc6f80af4d18aa4c522965\n",
            "  Stored in directory: /root/.cache/pip/wheels/1e/ef/1e/5d403c5632b0462471a8d26049d0c138134d0255ec60ce4c14\n",
            "Successfully built plot-keras-history sanitize-ml-labels compress-json\n",
            "Installing collected packages: compress-json, sanitize-ml-labels, plot-keras-history\n",
            "Successfully installed compress-json-1.0.4 plot-keras-history-1.1.30 sanitize-ml-labels-1.0.29\n"
          ]
        }
      ],
      "source": [
        "pip install plot_keras_history"
      ]
    },
    {
      "cell_type": "code",
      "execution_count": 22,
      "metadata": {
        "colab": {
          "base_uri": "https://localhost:8080/",
          "height": 385
        },
        "id": "LS9k2vvSAqB7",
        "outputId": "208ad195-3a5e-4084-b18c-e52ee79373df"
      },
      "outputs": [
        {
          "output_type": "display_data",
          "data": {
            "text/plain": [
              "<Figure size 720x360 with 2 Axes>"
            ],
            "image/png": "[encoded data removed]"
          },
          "metadata": {
            "needs_background": "light"
          }
        }
      ],
      "source": [
        "# your code goes here\n",
        "\n",
        "from plot_keras_history import plot_history\n",
        "import matplotlib.pyplot as plt\n",
        "\n",
        "plot_history(history.history, path=\"standard.png\")\n",
        "plt.show()\n"
      ]
    },
    {
      "cell_type": "markdown",
      "metadata": {
        "id": "a7OwOQw4h8RX"
      },
      "source": [
        "# Model 2: Neural averaging network using embedding layer"
      ]
    },
    {
      "cell_type": "markdown",
      "metadata": {
        "id": "l-QzOMO_P4jc"
      },
      "source": [
        "Now instead of one-hot vectors, we want to use embedding. We change our first layer in model1 to an Embedding layer. This layer takes the integer-encoded vocabulary and looks up the embedding vector for each word-index. These vectors are learned as the model trains. The vectors add a dimension to the output array. The resulting dimensions are: (batch, sequence, embedding)."
      ]
    },
    {
      "cell_type": "code",
      "execution_count": 23,
      "metadata": {
        "colab": {
          "base_uri": "https://localhost:8080/"
        },
        "id": "MFrCsL-NBFVL",
        "outputId": "6ac16e88-529c-4cd8-f936-0529bec46b41"
      },
      "outputs": [
        {
          "output_type": "stream",
          "name": "stdout",
          "text": [
            "Model: \"model_1\"\n",
            "_________________________________________________________________\n",
            " Layer (type)                Output Shape              Param #   \n",
            "=================================================================\n",
            " input_2 (InputLayer)        [(None, 256)]             0         \n",
            "                                                                 \n",
            " embedding (Embedding)       (None, 256, 16)           160000    \n",
            "                                                                 \n",
            " global_average_pooling1d_ma  (None, 16)               0         \n",
            " sked_1 (GlobalAveragePoolin                                     \n",
            " g1DMasked)                                                      \n",
            "                                                                 \n",
            " dense_2 (Dense)             (None, 16)                272       \n",
            "                                                                 \n",
            " dense_3 (Dense)             (None, 1)                 17        \n",
            "                                                                 \n",
            "=================================================================\n",
            "Total params: 160,289\n",
            "Trainable params: 160,289\n",
            "Non-trainable params: 0\n",
            "_________________________________________________________________\n"
          ]
        }
      ],
      "source": [
        "input_layer_2 = Input(shape=(MAX_SEQUENCE_LENGTH,))\n",
        "\n",
        "# embedding layer\n",
        "embedding_layer = Embedding(VOCAB_SIZE, 16, input_length=MAX_SEQUENCE_LENGTH)(input_layer_2)\n",
        "\n",
        "# global average pooling layer\n",
        "global_average_layer_2 = GlobalAveragePooling1DMasked()(embedding_layer)\n",
        "\n",
        "# hidden layer 16\n",
        "hidden_layer_2 = Dense(16, activation='relu')(global_average_layer_2)\n",
        "\n",
        "# output layer\n",
        "output_layer_2 = Dense(1, activation='sigmoid')(hidden_layer_2)\n",
        "\n",
        "model_2 = Model(inputs=input_layer_2, outputs=output_layer_2)\n",
        "model_2.summary()\n"
      ]
    },
    {
      "cell_type": "code",
      "execution_count": 24,
      "metadata": {
        "colab": {
          "base_uri": "https://localhost:8080/"
        },
        "id": "I4zIPJDcTPq3",
        "outputId": "5cbcd508-249e-467e-b55c-97dd015acf37"
      },
      "outputs": [
        {
          "output_type": "stream",
          "name": "stdout",
          "text": [
            "Epoch 1/40\n",
            "30/30 [==============================] - 2s 23ms/step - loss: 0.6927 - accuracy: 0.5814 - val_loss: 0.6921 - val_accuracy: 0.6423\n",
            "Epoch 2/40\n",
            "30/30 [==============================] - 0s 12ms/step - loss: 0.6905 - accuracy: 0.6553 - val_loss: 0.6883 - val_accuracy: 0.6344\n",
            "Epoch 3/40\n",
            "30/30 [==============================] - 0s 14ms/step - loss: 0.6819 - accuracy: 0.7159 - val_loss: 0.6749 - val_accuracy: 0.7354\n",
            "Epoch 4/40\n",
            "30/30 [==============================] - 1s 17ms/step - loss: 0.6626 - accuracy: 0.7662 - val_loss: 0.6511 - val_accuracy: 0.7535\n",
            "Epoch 5/40\n",
            "30/30 [==============================] - 1s 20ms/step - loss: 0.6297 - accuracy: 0.7848 - val_loss: 0.6148 - val_accuracy: 0.7795\n",
            "Epoch 6/40\n",
            "30/30 [==============================] - 1s 20ms/step - loss: 0.5850 - accuracy: 0.8021 - val_loss: 0.5702 - val_accuracy: 0.7977\n",
            "Epoch 7/40\n",
            "30/30 [==============================] - 1s 19ms/step - loss: 0.5341 - accuracy: 0.8235 - val_loss: 0.5232 - val_accuracy: 0.8115\n",
            "Epoch 8/40\n",
            "30/30 [==============================] - 1s 20ms/step - loss: 0.4828 - accuracy: 0.8428 - val_loss: 0.4790 - val_accuracy: 0.8316\n",
            "Epoch 9/40\n",
            "30/30 [==============================] - 1s 17ms/step - loss: 0.4359 - accuracy: 0.8601 - val_loss: 0.4394 - val_accuracy: 0.8441\n",
            "Epoch 10/40\n",
            "30/30 [==============================] - 1s 19ms/step - loss: 0.3950 - accuracy: 0.8702 - val_loss: 0.4073 - val_accuracy: 0.8519\n",
            "Epoch 11/40\n",
            "30/30 [==============================] - 1s 21ms/step - loss: 0.3606 - accuracy: 0.8801 - val_loss: 0.3816 - val_accuracy: 0.8579\n",
            "Epoch 12/40\n",
            "30/30 [==============================] - 1s 22ms/step - loss: 0.3323 - accuracy: 0.8889 - val_loss: 0.3612 - val_accuracy: 0.8654\n",
            "Epoch 13/40\n",
            "30/30 [==============================] - 1s 18ms/step - loss: 0.3087 - accuracy: 0.8955 - val_loss: 0.3451 - val_accuracy: 0.8694\n",
            "Epoch 14/40\n",
            "30/30 [==============================] - 1s 21ms/step - loss: 0.2886 - accuracy: 0.9013 - val_loss: 0.3326 - val_accuracy: 0.8722\n",
            "Epoch 15/40\n",
            "30/30 [==============================] - 1s 20ms/step - loss: 0.2711 - accuracy: 0.9069 - val_loss: 0.3222 - val_accuracy: 0.8752\n",
            "Epoch 16/40\n",
            "30/30 [==============================] - 1s 21ms/step - loss: 0.2557 - accuracy: 0.9129 - val_loss: 0.3141 - val_accuracy: 0.8762\n",
            "Epoch 17/40\n",
            "30/30 [==============================] - 1s 19ms/step - loss: 0.2423 - accuracy: 0.9161 - val_loss: 0.3070 - val_accuracy: 0.8794\n",
            "Epoch 18/40\n",
            "30/30 [==============================] - 1s 19ms/step - loss: 0.2297 - accuracy: 0.9211 - val_loss: 0.3020 - val_accuracy: 0.8801\n",
            "Epoch 19/40\n",
            "30/30 [==============================] - 1s 19ms/step - loss: 0.2185 - accuracy: 0.9246 - val_loss: 0.2973 - val_accuracy: 0.8810\n",
            "Epoch 20/40\n",
            "30/30 [==============================] - 1s 20ms/step - loss: 0.2082 - accuracy: 0.9285 - val_loss: 0.2932 - val_accuracy: 0.8823\n",
            "Epoch 21/40\n",
            "30/30 [==============================] - 1s 17ms/step - loss: 0.1982 - accuracy: 0.9331 - val_loss: 0.2909 - val_accuracy: 0.8830\n",
            "Epoch 22/40\n",
            "30/30 [==============================] - 1s 19ms/step - loss: 0.1893 - accuracy: 0.9365 - val_loss: 0.2883 - val_accuracy: 0.8843\n",
            "Epoch 23/40\n",
            "30/30 [==============================] - 0s 16ms/step - loss: 0.1809 - accuracy: 0.9404 - val_loss: 0.2871 - val_accuracy: 0.8842\n",
            "Epoch 24/40\n",
            "30/30 [==============================] - 0s 16ms/step - loss: 0.1737 - accuracy: 0.9444 - val_loss: 0.2858 - val_accuracy: 0.8841\n",
            "Epoch 25/40\n",
            "30/30 [==============================] - 1s 19ms/step - loss: 0.1657 - accuracy: 0.9471 - val_loss: 0.2863 - val_accuracy: 0.8833\n",
            "Epoch 26/40\n",
            "30/30 [==============================] - 1s 21ms/step - loss: 0.1588 - accuracy: 0.9497 - val_loss: 0.2851 - val_accuracy: 0.8856\n",
            "Epoch 27/40\n",
            "30/30 [==============================] - 1s 18ms/step - loss: 0.1522 - accuracy: 0.9526 - val_loss: 0.2857 - val_accuracy: 0.8865\n",
            "Epoch 28/40\n",
            "30/30 [==============================] - 1s 18ms/step - loss: 0.1467 - accuracy: 0.9546 - val_loss: 0.2868 - val_accuracy: 0.8856\n",
            "Epoch 29/40\n",
            "30/30 [==============================] - 1s 20ms/step - loss: 0.1424 - accuracy: 0.9567 - val_loss: 0.2909 - val_accuracy: 0.8812\n",
            "Epoch 30/40\n",
            "30/30 [==============================] - 1s 19ms/step - loss: 0.1350 - accuracy: 0.9597 - val_loss: 0.2884 - val_accuracy: 0.8847\n",
            "Epoch 31/40\n",
            "30/30 [==============================] - 1s 20ms/step - loss: 0.1297 - accuracy: 0.9625 - val_loss: 0.2898 - val_accuracy: 0.8851\n",
            "Epoch 32/40\n",
            "30/30 [==============================] - 1s 20ms/step - loss: 0.1247 - accuracy: 0.9645 - val_loss: 0.2919 - val_accuracy: 0.8859\n",
            "Epoch 33/40\n",
            "30/30 [==============================] - 1s 18ms/step - loss: 0.1202 - accuracy: 0.9649 - val_loss: 0.2934 - val_accuracy: 0.8855\n",
            "Epoch 34/40\n",
            "30/30 [==============================] - 1s 20ms/step - loss: 0.1151 - accuracy: 0.9678 - val_loss: 0.2956 - val_accuracy: 0.8861\n",
            "Epoch 35/40\n",
            "30/30 [==============================] - 1s 18ms/step - loss: 0.1105 - accuracy: 0.9693 - val_loss: 0.2990 - val_accuracy: 0.8831\n",
            "Epoch 36/40\n",
            "30/30 [==============================] - 1s 19ms/step - loss: 0.1067 - accuracy: 0.9702 - val_loss: 0.3005 - val_accuracy: 0.8841\n",
            "Epoch 37/40\n",
            "30/30 [==============================] - 1s 21ms/step - loss: 0.1027 - accuracy: 0.9727 - val_loss: 0.3038 - val_accuracy: 0.8841\n",
            "Epoch 38/40\n",
            "30/30 [==============================] - 0s 11ms/step - loss: 0.0985 - accuracy: 0.9728 - val_loss: 0.3063 - val_accuracy: 0.8830\n",
            "Epoch 39/40\n",
            "30/30 [==============================] - 0s 11ms/step - loss: 0.0949 - accuracy: 0.9753 - val_loss: 0.3094 - val_accuracy: 0.8828\n",
            "Epoch 40/40\n",
            "30/30 [==============================] - 0s 12ms/step - loss: 0.0911 - accuracy: 0.9764 - val_loss: 0.3134 - val_accuracy: 0.8822\n",
            "782/782 [==============================] - 2s 3ms/step - loss: 0.3337 - accuracy: 0.8714\n"
          ]
        }
      ],
      "source": [
        "model_2.compile(optimizer='adam', loss='binary_crossentropy', metrics=['accuracy'])\n",
        "\n",
        "history_2 = model_2.fit(partial_X_train,\n",
        "                    partial_y_train,\n",
        "                    epochs=40,\n",
        "                    batch_size=512,\n",
        "                    validation_data=(X_val, y_val),\n",
        "                    verbose=1)\n",
        "\n",
        "results_2 = model_2.evaluate(X_test_enc, y_test)"
      ]
    },
    {
      "cell_type": "code",
      "execution_count": 25,
      "metadata": {
        "colab": {
          "base_uri": "https://localhost:8080/"
        },
        "id": "waS96edDTRyL",
        "outputId": "b3b26928-740d-4f39-e95a-b15844a34391"
      },
      "outputs": [
        {
          "output_type": "stream",
          "name": "stdout",
          "text": [
            "[0.33365434408187866, 0.871399998664856]\n"
          ]
        }
      ],
      "source": [
        "print(results_2)"
      ]
    },
    {
      "cell_type": "markdown",
      "metadata": {
        "id": "7FBpTc_rXGvQ"
      },
      "source": [
        "The accuracy of model2 is 87%. Using Embedding layer instead of one-hot layer improved the performance."
      ]
    },
    {
      "cell_type": "code",
      "execution_count": 26,
      "metadata": {
        "colab": {
          "base_uri": "https://localhost:8080/",
          "height": 385
        },
        "id": "eoXZBB2s169g",
        "outputId": "06ea4b3a-a09c-452d-d453-57522934bce0"
      },
      "outputs": [
        {
          "output_type": "display_data",
          "data": {
            "text/plain": [
              "<Figure size 720x360 with 2 Axes>"
            ],
            "image/png": "[encoded data removed]"
          },
          "metadata": {
            "needs_background": "light"
          }
        }
      ],
      "source": [
        "plot_history(history_2.history, path=\"standard.png\")\n",
        "plt.show()"
      ]
    },
    {
      "cell_type": "markdown",
      "metadata": {
        "id": "--020hfG6rN2"
      },
      "source": [
        "# Model 3: Using pre-trained word embeddings"
      ]
    },
    {
      "cell_type": "markdown",
      "metadata": {
        "id": "7GdY2-64YG1B"
      },
      "source": [
        "### Preparing pre-trained word embeddings (GLOVE)"
      ]
    },
    {
      "cell_type": "markdown",
      "metadata": {
        "id": "J4gBeOyi4gkM"
      },
      "source": [
        "The Embedding layer can be used to load a pre-trained word embedding model. We are going to use GloVe embeddings, which you can read about it here (https://nlp.stanford.edu/projects/glove/). GloVe stands for \"Global Vectors for Word Representation\". It's a somewhat popular embedding technique based on factorizing a matrix of word co-occurence statistics. You can download GloVe and we can seed the Keras Embedding layer with weights from the pre-trained embedding for the words in your dataset.\n",
        "First, we need to read GloVe and map words to GloVe:\n"
      ]
    },
    {
      "cell_type": "code",
      "execution_count": 27,
      "metadata": {
        "id": "f_PypdqG9Iis"
      },
      "outputs": [],
      "source": [
        "def readGloveFile(gloveFile):\n",
        "    with open(gloveFile, 'r') as f:\n",
        "        wordToGlove = {}  \n",
        "        wordToIndex = {}  \n",
        "        indexToWord = {}  \n",
        "\n",
        "        for line in f:\n",
        "            record = line.strip().split()\n",
        "            token = record[0] \n",
        "            wordToGlove[token] = np.array(record[1:], dtype=np.float64) \n",
        "            \n",
        "        tokens = sorted(wordToGlove.keys())\n",
        "        for idx, tok in enumerate(tokens):\n",
        "            kerasIdx = idx + 1  \n",
        "            wordToIndex[tok] = kerasIdx \n",
        "            indexToWord[kerasIdx] = tok \n",
        "\n",
        "    return wordToIndex, indexToWord, wordToGlove"
      ]
    },
    {
      "cell_type": "markdown",
      "metadata": {
        "id": "ZcIZ3dq59bCh"
      },
      "source": [
        "Now, we create our pre-trained Embedding layer:"
      ]
    },
    {
      "cell_type": "code",
      "execution_count": 28,
      "metadata": {
        "id": "gembn7VM3ex8"
      },
      "outputs": [],
      "source": [
        "from keras.initializers import Constant\n",
        "\n",
        "def createPretrainedEmbeddingLayer(wordToGlove, wordToIndex, isTrainable):\n",
        "    vocabLen = len(wordToIndex) + 1  \n",
        "    embDim = next(iter(wordToGlove.values())).shape[0]  \n",
        "   \n",
        "    embeddingMatrix = np.zeros((vocabLen, embDim))  \n",
        "    for word, index in wordToIndex.items():\n",
        "        embeddingMatrix[index, :] = wordToGlove[word] \n",
        "\n",
        "    embeddingLayer = Embedding(vocabLen, embDim, embeddings_initializer=Constant(embeddingMatrix), trainable=isTrainable, name='GloVe_Embeddings')\n",
        "    return embeddingLayer"
      ]
    },
    {
      "cell_type": "code",
      "execution_count": 29,
      "metadata": {
        "colab": {
          "base_uri": "https://localhost:8080/"
        },
        "id": "8OC1wuctdFvA",
        "outputId": "a88f9998-98b3-4202-81c7-aa8c1cf69c31"
      },
      "outputs": [
        {
          "output_type": "stream",
          "name": "stdout",
          "text": [
            "--2022-03-13 10:13:56--  http://nlp.stanford.edu/data/glove.6B.zip\n",
            "Resolving nlp.stanford.edu (nlp.stanford.edu)... 171.64.67.140\n",
            "Connecting to nlp.stanford.edu (nlp.stanford.edu)|171.64.67.140|:80... connected.\n",
            "HTTP request sent, awaiting response... 302 Found\n",
            "Location: https://nlp.stanford.edu/data/glove.6B.zip [following]\n",
            "--2022-03-13 10:13:56--  https://nlp.stanford.edu/data/glove.6B.zip\n",
            "Connecting to nlp.stanford.edu (nlp.stanford.edu)|171.64.67.140|:443... connected.\n",
            "HTTP request sent, awaiting response... 301 Moved Permanently\n",
            "Location: http://downloads.cs.stanford.edu/nlp/data/glove.6B.zip [following]\n",
            "--2022-03-13 10:13:56--  http://downloads.cs.stanford.edu/nlp/data/glove.6B.zip\n",
            "Resolving downloads.cs.stanford.edu (downloads.cs.stanford.edu)... 171.64.64.22\n",
            "Connecting to downloads.cs.stanford.edu (downloads.cs.stanford.edu)|171.64.64.22|:80... connected.\n",
            "HTTP request sent, awaiting response... 200 OK\n",
            "Length: 862182613 (822M) [application/zip]\n",
            "Saving to: ‘glove.6B.zip’\n",
            "\n",
            "glove.6B.zip        100%[===================>] 822.24M  5.09MB/s    in 2m 40s  \n",
            "\n",
            "2022-03-13 10:16:37 (5.14 MB/s) - ‘glove.6B.zip’ saved [862182613/862182613]\n",
            "\n",
            "Archive:  /content/glove.6B.zip\n",
            "  inflating: glove.6B.50d.txt        \n",
            "  inflating: glove.6B.100d.txt       \n",
            "  inflating: glove.6B.200d.txt       \n",
            "  inflating: glove.6B.300d.txt       \n"
          ]
        }
      ],
      "source": [
        "!wget http://nlp.stanford.edu/data/glove.6B.zip\n",
        "!unzip '/content/glove.6B.zip'"
      ]
    },
    {
      "cell_type": "markdown",
      "metadata": {
        "id": "HGxciLK4-xOr"
      },
      "source": [
        "We freeze the weights. To create the model: "
      ]
    },
    {
      "cell_type": "code",
      "execution_count": 30,
      "metadata": {
        "colab": {
          "base_uri": "https://localhost:8080/"
        },
        "id": "PZCPUM0W_Drc",
        "outputId": "cba758fe-dd56-4eb1-eca3-1f7e5d9543ed"
      },
      "outputs": [
        {
          "output_type": "stream",
          "name": "stdout",
          "text": [
            "Size of Embedding:  300\n"
          ]
        }
      ],
      "source": [
        "# wordToIndex,indexToWord,wordToGlove=readGloveFile('/content/glove.6B.50d.txt')\n",
        "# wordToIndex,indexToWord,wordToGlove=readGloveFile('/content/glove.6B.100d.txt')\n",
        "wordToIndex,indexToWord,wordToGlove=readGloveFile('/content/glove.6B.300d.txt')\n",
        "\n",
        "# vocabLen = len(wordToIndex) + 1 \n",
        "\n",
        "EMBED_SIZE = next(iter(wordToGlove.values())).shape[0]\n",
        "print('Size of Embedding: ',EMBED_SIZE)\n",
        "\n",
        "embeddingLayer=createPretrainedEmbeddingLayer(wordToGlove,wordToIndex,isTrainable=False)"
      ]
    },
    {
      "cell_type": "markdown",
      "metadata": {
        "id": "vdZ4nl08vp9A"
      },
      "source": [
        "## Model 3-1: Neural bag of words using pre-trained word embeddings"
      ]
    },
    {
      "cell_type": "markdown",
      "metadata": {
        "id": "2gyCwXFj_R5w"
      },
      "source": [
        "Now we change our model to use GloVe:"
      ]
    },
    {
      "cell_type": "code",
      "execution_count": 31,
      "metadata": {
        "colab": {
          "base_uri": "https://localhost:8080/"
        },
        "id": "VICS9rY8C7KH",
        "outputId": "58a8f6dd-946a-4945-b9c9-d1bd7cb20e2e"
      },
      "outputs": [
        {
          "output_type": "stream",
          "name": "stdout",
          "text": [
            "Model: \"model_2\"\n",
            "_________________________________________________________________\n",
            " Layer (type)                Output Shape              Param #   \n",
            "=================================================================\n",
            " input_3 (InputLayer)        [(None, 256)]             0         \n",
            "                                                                 \n",
            " GloVe_Embeddings (Embedding  (None, 256, 300)         120000300 \n",
            " )                                                               \n",
            "                                                                 \n",
            " global_average_pooling1d_ma  (None, 300)              0         \n",
            " sked_2 (GlobalAveragePoolin                                     \n",
            " g1DMasked)                                                      \n",
            "                                                                 \n",
            " dense_4 (Dense)             (None, 16)                4816      \n",
            "                                                                 \n",
            " dense_5 (Dense)             (None, 1)                 17        \n",
            "                                                                 \n",
            "=================================================================\n",
            "Total params: 120,005,133\n",
            "Trainable params: 4,833\n",
            "Non-trainable params: 120,000,300\n",
            "_________________________________________________________________\n"
          ]
        }
      ],
      "source": [
        "# Inspect model performance with 1 hidden layer, pre-trained embeddings\n",
        "# your code goes here\n",
        "input_layer_3 = Input(shape=(MAX_SEQUENCE_LENGTH,))\n",
        "\n",
        "# glove embedding layer\n",
        "embedding_layer_3 = embeddingLayer(input_layer_3)\n",
        "\n",
        "# global average pooling layer\n",
        "global_average_layer_3 = GlobalAveragePooling1DMasked()(embedding_layer_3)\n",
        "\n",
        "# hidden layer 16\n",
        "hidden_layer_3 = Dense(16, activation='relu')(global_average_layer_3)\n",
        "\n",
        "# output layer\n",
        "output_layer_3 = Dense(1, activation='sigmoid')(hidden_layer_3)\n",
        "\n",
        "model_3 = Model(inputs=input_layer_3, outputs=output_layer_3)\n",
        "\n",
        "model_3.summary()\n"
      ]
    },
    {
      "cell_type": "code",
      "execution_count": 32,
      "metadata": {
        "colab": {
          "base_uri": "https://localhost:8080/"
        },
        "id": "r6sj_FnOD9Sb",
        "outputId": "f3408f30-206e-4d51-c896-f24274bc08af"
      },
      "outputs": [
        {
          "output_type": "stream",
          "name": "stdout",
          "text": [
            "Epoch 1/40\n",
            "30/30 [==============================] - 1s 18ms/step - loss: 0.6900 - accuracy: 0.5516 - val_loss: 0.6861 - val_accuracy: 0.5771\n",
            "Epoch 2/40\n",
            "30/30 [==============================] - 0s 14ms/step - loss: 0.6826 - accuracy: 0.5848 - val_loss: 0.6796 - val_accuracy: 0.5956\n",
            "Epoch 3/40\n",
            "30/30 [==============================] - 0s 13ms/step - loss: 0.6761 - accuracy: 0.5979 - val_loss: 0.6748 - val_accuracy: 0.5952\n",
            "Epoch 4/40\n",
            "30/30 [==============================] - 0s 13ms/step - loss: 0.6714 - accuracy: 0.5951 - val_loss: 0.6692 - val_accuracy: 0.6039\n",
            "Epoch 5/40\n",
            "30/30 [==============================] - 0s 13ms/step - loss: 0.6656 - accuracy: 0.6149 - val_loss: 0.6644 - val_accuracy: 0.6143\n",
            "Epoch 6/40\n",
            "30/30 [==============================] - 0s 13ms/step - loss: 0.6607 - accuracy: 0.6218 - val_loss: 0.6599 - val_accuracy: 0.6157\n",
            "Epoch 7/40\n",
            "30/30 [==============================] - 0s 13ms/step - loss: 0.6558 - accuracy: 0.6289 - val_loss: 0.6548 - val_accuracy: 0.6306\n",
            "Epoch 8/40\n",
            "30/30 [==============================] - 0s 13ms/step - loss: 0.6506 - accuracy: 0.6385 - val_loss: 0.6501 - val_accuracy: 0.6400\n",
            "Epoch 9/40\n",
            "30/30 [==============================] - 0s 13ms/step - loss: 0.6454 - accuracy: 0.6499 - val_loss: 0.6452 - val_accuracy: 0.6476\n",
            "Epoch 10/40\n",
            "30/30 [==============================] - 0s 13ms/step - loss: 0.6402 - accuracy: 0.6502 - val_loss: 0.6406 - val_accuracy: 0.6525\n",
            "Epoch 11/40\n",
            "30/30 [==============================] - 0s 13ms/step - loss: 0.6361 - accuracy: 0.6597 - val_loss: 0.6363 - val_accuracy: 0.6574\n",
            "Epoch 12/40\n",
            "30/30 [==============================] - 0s 13ms/step - loss: 0.6305 - accuracy: 0.6674 - val_loss: 0.6321 - val_accuracy: 0.6609\n",
            "Epoch 13/40\n",
            "30/30 [==============================] - 0s 13ms/step - loss: 0.6257 - accuracy: 0.6728 - val_loss: 0.6274 - val_accuracy: 0.6667\n",
            "Epoch 14/40\n",
            "30/30 [==============================] - 0s 13ms/step - loss: 0.6214 - accuracy: 0.6741 - val_loss: 0.6235 - val_accuracy: 0.6698\n",
            "Epoch 15/40\n",
            "30/30 [==============================] - 0s 13ms/step - loss: 0.6171 - accuracy: 0.6792 - val_loss: 0.6205 - val_accuracy: 0.6715\n",
            "Epoch 16/40\n",
            "30/30 [==============================] - 0s 13ms/step - loss: 0.6133 - accuracy: 0.6824 - val_loss: 0.6193 - val_accuracy: 0.6676\n",
            "Epoch 17/40\n",
            "30/30 [==============================] - 0s 14ms/step - loss: 0.6099 - accuracy: 0.6850 - val_loss: 0.6128 - val_accuracy: 0.6803\n",
            "Epoch 18/40\n",
            "30/30 [==============================] - 0s 14ms/step - loss: 0.6058 - accuracy: 0.6905 - val_loss: 0.6097 - val_accuracy: 0.6813\n",
            "Epoch 19/40\n",
            "30/30 [==============================] - 0s 13ms/step - loss: 0.6021 - accuracy: 0.6923 - val_loss: 0.6067 - val_accuracy: 0.6850\n",
            "Epoch 20/40\n",
            "30/30 [==============================] - 0s 13ms/step - loss: 0.5988 - accuracy: 0.6961 - val_loss: 0.6039 - val_accuracy: 0.6874\n",
            "Epoch 21/40\n",
            "30/30 [==============================] - 0s 14ms/step - loss: 0.5963 - accuracy: 0.6963 - val_loss: 0.6028 - val_accuracy: 0.6885\n",
            "Epoch 22/40\n",
            "30/30 [==============================] - 0s 13ms/step - loss: 0.5940 - accuracy: 0.6993 - val_loss: 0.5990 - val_accuracy: 0.6898\n",
            "Epoch 23/40\n",
            "30/30 [==============================] - 0s 13ms/step - loss: 0.5907 - accuracy: 0.7002 - val_loss: 0.5965 - val_accuracy: 0.6931\n",
            "Epoch 24/40\n",
            "30/30 [==============================] - 0s 13ms/step - loss: 0.5881 - accuracy: 0.7022 - val_loss: 0.5943 - val_accuracy: 0.6940\n",
            "Epoch 25/40\n",
            "30/30 [==============================] - 0s 14ms/step - loss: 0.5861 - accuracy: 0.7012 - val_loss: 0.5928 - val_accuracy: 0.6932\n",
            "Epoch 26/40\n",
            "30/30 [==============================] - 0s 13ms/step - loss: 0.5839 - accuracy: 0.7058 - val_loss: 0.5906 - val_accuracy: 0.6975\n",
            "Epoch 27/40\n",
            "30/30 [==============================] - 0s 14ms/step - loss: 0.5824 - accuracy: 0.7067 - val_loss: 0.5888 - val_accuracy: 0.6964\n",
            "Epoch 28/40\n",
            "30/30 [==============================] - 0s 13ms/step - loss: 0.5793 - accuracy: 0.7095 - val_loss: 0.5867 - val_accuracy: 0.7011\n",
            "Epoch 29/40\n",
            "30/30 [==============================] - 0s 13ms/step - loss: 0.5775 - accuracy: 0.7089 - val_loss: 0.5854 - val_accuracy: 0.6984\n",
            "Epoch 30/40\n",
            "30/30 [==============================] - 0s 14ms/step - loss: 0.5763 - accuracy: 0.7079 - val_loss: 0.5833 - val_accuracy: 0.7021\n",
            "Epoch 31/40\n",
            "30/30 [==============================] - 0s 17ms/step - loss: 0.5738 - accuracy: 0.7131 - val_loss: 0.5815 - val_accuracy: 0.7027\n",
            "Epoch 32/40\n",
            "30/30 [==============================] - 1s 25ms/step - loss: 0.5725 - accuracy: 0.7131 - val_loss: 0.5817 - val_accuracy: 0.7027\n",
            "Epoch 33/40\n",
            "30/30 [==============================] - 1s 20ms/step - loss: 0.5703 - accuracy: 0.7153 - val_loss: 0.5797 - val_accuracy: 0.7044\n",
            "Epoch 34/40\n",
            "30/30 [==============================] - 1s 17ms/step - loss: 0.5688 - accuracy: 0.7164 - val_loss: 0.5773 - val_accuracy: 0.7065\n",
            "Epoch 35/40\n",
            "30/30 [==============================] - 1s 18ms/step - loss: 0.5676 - accuracy: 0.7167 - val_loss: 0.5764 - val_accuracy: 0.7047\n",
            "Epoch 36/40\n",
            "30/30 [==============================] - 1s 18ms/step - loss: 0.5661 - accuracy: 0.7178 - val_loss: 0.5747 - val_accuracy: 0.7079\n",
            "Epoch 37/40\n",
            "30/30 [==============================] - 0s 13ms/step - loss: 0.5651 - accuracy: 0.7173 - val_loss: 0.5731 - val_accuracy: 0.7091\n",
            "Epoch 38/40\n",
            "30/30 [==============================] - 0s 13ms/step - loss: 0.5632 - accuracy: 0.7197 - val_loss: 0.5721 - val_accuracy: 0.7090\n",
            "Epoch 39/40\n",
            "30/30 [==============================] - 0s 13ms/step - loss: 0.5622 - accuracy: 0.7211 - val_loss: 0.5709 - val_accuracy: 0.7100\n",
            "Epoch 40/40\n",
            "30/30 [==============================] - 1s 18ms/step - loss: 0.5607 - accuracy: 0.7223 - val_loss: 0.5700 - val_accuracy: 0.7113\n",
            "782/782 [==============================] - 4s 5ms/step - loss: 0.5711 - accuracy: 0.7076\n"
          ]
        }
      ],
      "source": [
        "# Train and test the model\n",
        "\n",
        "model_3.compile(optimizer='adam', loss='binary_crossentropy', metrics=['accuracy'])\n",
        "\n",
        "history_3 = model_3.fit(partial_X_train,\n",
        "                    partial_y_train,\n",
        "                    epochs=40,\n",
        "                    batch_size=512,\n",
        "                    validation_data=(X_val, y_val),\n",
        "                    verbose=1)\n",
        "\n",
        "results_3 = model_3.evaluate(X_test_enc, y_test)\n"
      ]
    },
    {
      "cell_type": "code",
      "execution_count": 33,
      "metadata": {
        "colab": {
          "base_uri": "https://localhost:8080/"
        },
        "id": "QJyW3iMZj2HL",
        "outputId": "d543dee7-b1fd-4372-831f-feb22a068809"
      },
      "outputs": [
        {
          "output_type": "stream",
          "name": "stdout",
          "text": [
            "[0.5710751414299011, 0.7075999975204468]\n"
          ]
        }
      ],
      "source": [
        "print (results_3)"
      ]
    },
    {
      "cell_type": "code",
      "execution_count": 34,
      "metadata": {
        "colab": {
          "base_uri": "https://localhost:8080/",
          "height": 385
        },
        "id": "0DYREWYU2V34",
        "outputId": "2d41bf62-e3b7-4690-9c90-145eb0ca201e"
      },
      "outputs": [
        {
          "output_type": "display_data",
          "data": {
            "text/plain": [
              "<Figure size 720x360 with 2 Axes>"
            ],
            "image/png": "[encoded data removed]"
          },
          "metadata": {
            "needs_background": "light"
          }
        }
      ],
      "source": [
        "plot_history(history_3.history, path=\"standard.png\")\n",
        "plt.show()"
      ]
    },
    {
      "cell_type": "markdown",
      "metadata": {
        "id": "wxJhlT3whoDE"
      },
      "source": [
        "To compare freezing and fine-tuning the pre-train embedding weights, we fine-tune the weights here:"
      ]
    },
    {
      "cell_type": "code",
      "execution_count": 35,
      "metadata": {
        "colab": {
          "base_uri": "https://localhost:8080/"
        },
        "id": "u_xmeuuhhtbH",
        "outputId": "58c86dff-dfe0-4c6b-a4a7-fd168711d523"
      },
      "outputs": [
        {
          "output_type": "stream",
          "name": "stdout",
          "text": [
            "Model: \"model_3\"\n",
            "_________________________________________________________________\n",
            " Layer (type)                Output Shape              Param #   \n",
            "=================================================================\n",
            " input_4 (InputLayer)        [(None, 256)]             0         \n",
            "                                                                 \n",
            " GloVe_Embeddings (Embedding  (None, 256, 300)         120000300 \n",
            " )                                                               \n",
            "                                                                 \n",
            " global_average_pooling1d_ma  (None, 300)              0         \n",
            " sked_3 (GlobalAveragePoolin                                     \n",
            " g1DMasked)                                                      \n",
            "                                                                 \n",
            " dense_6 (Dense)             (None, 16)                4816      \n",
            "                                                                 \n",
            " dense_7 (Dense)             (None, 1)                 17        \n",
            "                                                                 \n",
            "=================================================================\n",
            "Total params: 120,005,133\n",
            "Trainable params: 120,005,133\n",
            "Non-trainable params: 0\n",
            "_________________________________________________________________\n"
          ]
        }
      ],
      "source": [
        "# your code goes here\n",
        "embeddingLayer=createPretrainedEmbeddingLayer(wordToGlove,wordToIndex,isTrainable=True)\n",
        "\n",
        "input_layer_4 = Input(shape=(MAX_SEQUENCE_LENGTH,))\n",
        "\n",
        "# glove embedding layer\n",
        "embedding_layer_4 = embeddingLayer(input_layer_4)\n",
        "\n",
        "# global average pooling layer\n",
        "global_average_layer_4 = GlobalAveragePooling1DMasked()(embedding_layer_4)\n",
        "\n",
        "# hidden layer 16\n",
        "hidden_layer_4 = Dense(16, activation='relu')(global_average_layer_4)\n",
        "\n",
        "# output layer\n",
        "output_layer_4 = Dense(1, activation='sigmoid')(hidden_layer_4)\n",
        "\n",
        "model_4 = Model(inputs=input_layer_4, outputs=output_layer_4)\n",
        "\n",
        "model_4.summary()"
      ]
    },
    {
      "cell_type": "code",
      "execution_count": 36,
      "metadata": {
        "colab": {
          "base_uri": "https://localhost:8080/"
        },
        "id": "3rz8MEm6iHj6",
        "outputId": "c2b1825e-e82f-4df3-f6dd-a8bdaa490f42"
      },
      "outputs": [
        {
          "output_type": "stream",
          "name": "stdout",
          "text": [
            "Epoch 1/40\n",
            "30/30 [==============================] - 4s 124ms/step - loss: 0.6846 - accuracy: 0.5768 - val_loss: 0.6738 - val_accuracy: 0.6283\n",
            "Epoch 2/40\n",
            "30/30 [==============================] - 4s 118ms/step - loss: 0.6585 - accuracy: 0.6625 - val_loss: 0.6413 - val_accuracy: 0.6813\n",
            "Epoch 3/40\n",
            "30/30 [==============================] - 4s 126ms/step - loss: 0.6128 - accuracy: 0.7099 - val_loss: 0.5868 - val_accuracy: 0.7391\n",
            "Epoch 4/40\n",
            "30/30 [==============================] - 4s 119ms/step - loss: 0.5422 - accuracy: 0.7787 - val_loss: 0.5120 - val_accuracy: 0.7972\n",
            "Epoch 5/40\n",
            "30/30 [==============================] - 4s 117ms/step - loss: 0.4611 - accuracy: 0.8262 - val_loss: 0.4431 - val_accuracy: 0.8234\n",
            "Epoch 6/40\n",
            "30/30 [==============================] - 4s 118ms/step - loss: 0.3886 - accuracy: 0.8569 - val_loss: 0.3872 - val_accuracy: 0.8495\n",
            "Epoch 7/40\n",
            "30/30 [==============================] - 4s 119ms/step - loss: 0.3341 - accuracy: 0.8781 - val_loss: 0.3517 - val_accuracy: 0.8634\n",
            "Epoch 8/40\n",
            "30/30 [==============================] - 4s 117ms/step - loss: 0.2940 - accuracy: 0.8932 - val_loss: 0.3285 - val_accuracy: 0.8709\n",
            "Epoch 9/40\n",
            "30/30 [==============================] - 4s 118ms/step - loss: 0.2625 - accuracy: 0.9035 - val_loss: 0.3117 - val_accuracy: 0.8767\n",
            "Epoch 10/40\n",
            "30/30 [==============================] - 4s 117ms/step - loss: 0.2348 - accuracy: 0.9163 - val_loss: 0.3010 - val_accuracy: 0.8808\n",
            "Epoch 11/40\n",
            "30/30 [==============================] - 4s 118ms/step - loss: 0.2126 - accuracy: 0.9239 - val_loss: 0.2939 - val_accuracy: 0.8831\n",
            "Epoch 12/40\n",
            "30/30 [==============================] - 4s 119ms/step - loss: 0.1944 - accuracy: 0.9315 - val_loss: 0.2900 - val_accuracy: 0.8841\n",
            "Epoch 13/40\n",
            "30/30 [==============================] - 4s 117ms/step - loss: 0.1768 - accuracy: 0.9401 - val_loss: 0.2881 - val_accuracy: 0.8833\n",
            "Epoch 14/40\n",
            "30/30 [==============================] - 4s 117ms/step - loss: 0.1618 - accuracy: 0.9465 - val_loss: 0.2911 - val_accuracy: 0.8832\n",
            "Epoch 15/40\n",
            "30/30 [==============================] - 4s 119ms/step - loss: 0.1494 - accuracy: 0.9531 - val_loss: 0.2909 - val_accuracy: 0.8838\n",
            "Epoch 16/40\n",
            "30/30 [==============================] - 4s 117ms/step - loss: 0.1374 - accuracy: 0.9568 - val_loss: 0.2934 - val_accuracy: 0.8839\n",
            "Epoch 17/40\n",
            "30/30 [==============================] - 4s 118ms/step - loss: 0.1272 - accuracy: 0.9618 - val_loss: 0.2997 - val_accuracy: 0.8820\n",
            "Epoch 18/40\n",
            "30/30 [==============================] - 4s 119ms/step - loss: 0.1174 - accuracy: 0.9653 - val_loss: 0.3050 - val_accuracy: 0.8818\n",
            "Epoch 19/40\n",
            "30/30 [==============================] - 4s 118ms/step - loss: 0.1080 - accuracy: 0.9700 - val_loss: 0.3078 - val_accuracy: 0.8800\n",
            "Epoch 20/40\n",
            "30/30 [==============================] - 4s 119ms/step - loss: 0.0998 - accuracy: 0.9729 - val_loss: 0.3170 - val_accuracy: 0.8803\n",
            "Epoch 21/40\n",
            "30/30 [==============================] - 4s 117ms/step - loss: 0.0918 - accuracy: 0.9751 - val_loss: 0.3219 - val_accuracy: 0.8806\n",
            "Epoch 22/40\n",
            "30/30 [==============================] - 4s 118ms/step - loss: 0.0851 - accuracy: 0.9777 - val_loss: 0.3296 - val_accuracy: 0.8797\n",
            "Epoch 23/40\n",
            "30/30 [==============================] - 4s 118ms/step - loss: 0.0795 - accuracy: 0.9800 - val_loss: 0.3390 - val_accuracy: 0.8786\n",
            "Epoch 24/40\n",
            "30/30 [==============================] - 4s 119ms/step - loss: 0.0739 - accuracy: 0.9819 - val_loss: 0.3461 - val_accuracy: 0.8780\n",
            "Epoch 25/40\n",
            "30/30 [==============================] - 4s 117ms/step - loss: 0.0677 - accuracy: 0.9851 - val_loss: 0.3555 - val_accuracy: 0.8775\n",
            "Epoch 26/40\n",
            "30/30 [==============================] - 4s 117ms/step - loss: 0.0620 - accuracy: 0.9867 - val_loss: 0.3648 - val_accuracy: 0.8759\n",
            "Epoch 27/40\n",
            "30/30 [==============================] - 4s 120ms/step - loss: 0.0582 - accuracy: 0.9885 - val_loss: 0.3743 - val_accuracy: 0.8752\n",
            "Epoch 28/40\n",
            "30/30 [==============================] - 4s 121ms/step - loss: 0.0542 - accuracy: 0.9895 - val_loss: 0.3874 - val_accuracy: 0.8729\n",
            "Epoch 29/40\n",
            "30/30 [==============================] - 4s 118ms/step - loss: 0.0496 - accuracy: 0.9908 - val_loss: 0.3940 - val_accuracy: 0.8726\n",
            "Epoch 30/40\n",
            "30/30 [==============================] - 4s 118ms/step - loss: 0.0453 - accuracy: 0.9921 - val_loss: 0.4053 - val_accuracy: 0.8716\n",
            "Epoch 31/40\n",
            "30/30 [==============================] - 4s 117ms/step - loss: 0.0417 - accuracy: 0.9939 - val_loss: 0.4149 - val_accuracy: 0.8731\n",
            "Epoch 32/40\n",
            "30/30 [==============================] - 3s 116ms/step - loss: 0.0391 - accuracy: 0.9943 - val_loss: 0.4255 - val_accuracy: 0.8713\n",
            "Epoch 33/40\n",
            "30/30 [==============================] - 4s 118ms/step - loss: 0.0358 - accuracy: 0.9956 - val_loss: 0.4358 - val_accuracy: 0.8714\n",
            "Epoch 34/40\n",
            "30/30 [==============================] - 4s 118ms/step - loss: 0.0337 - accuracy: 0.9957 - val_loss: 0.4477 - val_accuracy: 0.8696\n",
            "Epoch 35/40\n",
            "30/30 [==============================] - 4s 119ms/step - loss: 0.0312 - accuracy: 0.9960 - val_loss: 0.4573 - val_accuracy: 0.8700\n",
            "Epoch 36/40\n",
            "30/30 [==============================] - 4s 118ms/step - loss: 0.0287 - accuracy: 0.9967 - val_loss: 0.4690 - val_accuracy: 0.8679\n",
            "Epoch 37/40\n",
            "30/30 [==============================] - 4s 117ms/step - loss: 0.0269 - accuracy: 0.9971 - val_loss: 0.4788 - val_accuracy: 0.8688\n",
            "Epoch 38/40\n",
            "30/30 [==============================] - 4s 118ms/step - loss: 0.0246 - accuracy: 0.9976 - val_loss: 0.4873 - val_accuracy: 0.8689\n",
            "Epoch 39/40\n",
            "30/30 [==============================] - 4s 119ms/step - loss: 0.0233 - accuracy: 0.9974 - val_loss: 0.4976 - val_accuracy: 0.8673\n",
            "Epoch 40/40\n",
            "30/30 [==============================] - 4s 117ms/step - loss: 0.0213 - accuracy: 0.9982 - val_loss: 0.5091 - val_accuracy: 0.8669\n",
            "782/782 [==============================] - 2s 3ms/step - loss: 0.5432 - accuracy: 0.8549\n"
          ]
        }
      ],
      "source": [
        "# Train and test the model\n",
        "\n",
        "model_4.compile(optimizer='adam', loss='binary_crossentropy', metrics=['accuracy'])\n",
        "\n",
        "history_4 = model_4.fit(partial_X_train,\n",
        "                    partial_y_train,\n",
        "                    epochs=40,\n",
        "                    batch_size=512,\n",
        "                    validation_data=(X_val, y_val),\n",
        "                    verbose=1)\n",
        "\n",
        "results_4 = model_4.evaluate(X_test_enc, y_test)"
      ]
    },
    {
      "cell_type": "code",
      "execution_count": 37,
      "metadata": {
        "colab": {
          "base_uri": "https://localhost:8080/",
          "height": 385
        },
        "id": "W-agu8rY3CUh",
        "outputId": "aa3c9947-076c-4251-e565-4b933d3f8f80"
      },
      "outputs": [
        {
          "output_type": "display_data",
          "data": {
            "text/plain": [
              "<Figure size 720x360 with 2 Axes>"
            ],
            "image/png": "[encoded data removed]"
          },
          "metadata": {
            "needs_background": "light"
          }
        }
      ],
      "source": [
        "plot_history(history_4.history, path=\"standard.png\")\n",
        "plt.show()"
      ]
    },
    {
      "cell_type": "markdown",
      "metadata": {
        "id": "cAdOh2IHnKuT"
      },
      "source": [
        "Experiments here show that fine-tuning the pre-trained embeddings would obtain better accuracy.\n",
        "\n",
        "Note that although fine-tuning the pre-trained embeddings is better here, we do not fine-tune it in other models. You could conduct extra experiments to compare the results."
      ]
    },
    {
      "cell_type": "markdown",
      "metadata": {
        "id": "xZ1KWFKvcagS"
      },
      "source": [
        "##  Model 3-2: LSTM with pre-trained word embeddings"
      ]
    },
    {
      "cell_type": "markdown",
      "metadata": {
        "id": "S1lKisy3kb60"
      },
      "source": [
        "In previous labs, we have conducted an experiment based on LSTM. Now, we replace its embeddings with the GloVe pre-trained embeddings."
      ]
    },
    {
      "cell_type": "code",
      "execution_count": null,
      "metadata": {
        "colab": {
          "base_uri": "https://localhost:8080/"
        },
        "id": "oz92rv2iTbo8",
        "outputId": "ae0051c3-5d6c-4166-a47a-8457e4677862"
      },
      "outputs": [
        {
          "output_type": "stream",
          "name": "stdout",
          "text": [
            "Model: \"model_5\"\n",
            "_________________________________________________________________\n",
            " Layer (type)                Output Shape              Param #   \n",
            "=================================================================\n",
            " input_7 (InputLayer)        [(None, 256)]             0         \n",
            "                                                                 \n",
            " GloVe_Embeddings (Embedding  (None, 256, 300)         120000300 \n",
            " )                                                               \n",
            "                                                                 \n",
            " lstm (LSTM)                 (None, 100)               160400    \n",
            "                                                                 \n",
            " dense_10 (Dense)            (None, 1)                 101       \n",
            "                                                                 \n",
            "=================================================================\n",
            "Total params: 120,160,801\n",
            "Trainable params: 160,501\n",
            "Non-trainable params: 120,000,300\n",
            "_________________________________________________________________\n"
          ]
        }
      ],
      "source": [
        "# your code goes here\n",
        "embeddingLayer=createPretrainedEmbeddingLayer(wordToGlove,wordToIndex,isTrainable=False)\n",
        "\n",
        "input_layer_7 = Input(shape=(MAX_SEQUENCE_LENGTH,))\n",
        "\n",
        "# glove embedding layer\n",
        "embedding_layer_7 = embeddingLayer(input_layer_7)\n",
        "\n",
        "# lstm layer\n",
        "lstm_layer_7 = LSTM(100)(embedding_layer_7)\n",
        "\n",
        "# output layer\n",
        "output_layer_7 = Dense(1, activation='sigmoid')(lstm_layer_7)\n",
        "\n",
        "model_7 = Model(inputs=input_layer_7, outputs=output_layer_7)\n",
        "model_7.summary()"
      ]
    },
    {
      "cell_type": "code",
      "execution_count": null,
      "metadata": {
        "colab": {
          "base_uri": "https://localhost:8080/"
        },
        "id": "EqyL_rhaUElx",
        "outputId": "c4acebf6-0a53-4e92-f303-16b82094c464"
      },
      "outputs": [
        {
          "output_type": "stream",
          "name": "stdout",
          "text": [
            "Epoch 1/40\n",
            "30/30 [==============================] - 9s 189ms/step - loss: 0.6904 - accuracy: 0.5168 - val_loss: 0.6842 - val_accuracy: 0.5310\n",
            "Epoch 2/40\n",
            "30/30 [==============================] - 5s 166ms/step - loss: 0.6730 - accuracy: 0.5628 - val_loss: 0.6435 - val_accuracy: 0.6401\n",
            "Epoch 3/40\n",
            "30/30 [==============================] - 5s 166ms/step - loss: 0.6558 - accuracy: 0.6205 - val_loss: 0.6444 - val_accuracy: 0.6465\n",
            "Epoch 4/40\n",
            "30/30 [==============================] - 5s 166ms/step - loss: 0.6337 - accuracy: 0.6560 - val_loss: 0.6268 - val_accuracy: 0.6681\n",
            "Epoch 5/40\n",
            "30/30 [==============================] - 5s 166ms/step - loss: 0.6553 - accuracy: 0.6247 - val_loss: 0.6583 - val_accuracy: 0.5979\n",
            "Epoch 6/40\n",
            "30/30 [==============================] - 5s 166ms/step - loss: 0.6492 - accuracy: 0.6301 - val_loss: 0.6732 - val_accuracy: 0.5699\n",
            "Epoch 7/40\n",
            "30/30 [==============================] - 5s 167ms/step - loss: 0.6579 - accuracy: 0.5740 - val_loss: 0.6609 - val_accuracy: 0.5679\n",
            "Epoch 8/40\n",
            "30/30 [==============================] - 5s 167ms/step - loss: 0.6220 - accuracy: 0.6673 - val_loss: 0.6406 - val_accuracy: 0.6540\n",
            "Epoch 9/40\n",
            "30/30 [==============================] - 5s 166ms/step - loss: 0.6543 - accuracy: 0.5914 - val_loss: 0.6828 - val_accuracy: 0.5227\n",
            "Epoch 10/40\n",
            "30/30 [==============================] - 5s 167ms/step - loss: 0.6629 - accuracy: 0.5627 - val_loss: 0.6761 - val_accuracy: 0.5333\n",
            "Epoch 11/40\n",
            "30/30 [==============================] - 5s 167ms/step - loss: 0.6544 - accuracy: 0.5711 - val_loss: 0.6727 - val_accuracy: 0.5394\n",
            "Epoch 12/40\n",
            "30/30 [==============================] - 5s 167ms/step - loss: 0.6433 - accuracy: 0.5811 - val_loss: 0.6567 - val_accuracy: 0.5944\n",
            "Epoch 13/40\n",
            "30/30 [==============================] - 5s 166ms/step - loss: 0.6342 - accuracy: 0.6211 - val_loss: 0.6528 - val_accuracy: 0.5972\n",
            "Epoch 14/40\n",
            "30/30 [==============================] - 5s 167ms/step - loss: 0.6433 - accuracy: 0.6077 - val_loss: 0.6706 - val_accuracy: 0.5320\n",
            "Epoch 15/40\n",
            "30/30 [==============================] - 5s 168ms/step - loss: 0.6161 - accuracy: 0.6575 - val_loss: 0.7190 - val_accuracy: 0.5467\n",
            "Epoch 16/40\n",
            "30/30 [==============================] - 5s 167ms/step - loss: 0.6467 - accuracy: 0.5881 - val_loss: 0.6357 - val_accuracy: 0.6507\n",
            "Epoch 17/40\n",
            "30/30 [==============================] - 5s 167ms/step - loss: 0.6764 - accuracy: 0.5616 - val_loss: 0.6842 - val_accuracy: 0.5233\n",
            "Epoch 18/40\n",
            "30/30 [==============================] - 5s 168ms/step - loss: 0.6573 - accuracy: 0.5709 - val_loss: 0.6791 - val_accuracy: 0.5289\n",
            "Epoch 19/40\n",
            "30/30 [==============================] - 5s 166ms/step - loss: 0.6481 - accuracy: 0.5796 - val_loss: 0.6765 - val_accuracy: 0.5331\n",
            "Epoch 20/40\n",
            "30/30 [==============================] - 5s 167ms/step - loss: 0.6414 - accuracy: 0.5824 - val_loss: 0.6766 - val_accuracy: 0.5336\n",
            "Epoch 21/40\n",
            "30/30 [==============================] - 5s 168ms/step - loss: 0.6343 - accuracy: 0.5883 - val_loss: 0.6762 - val_accuracy: 0.5361\n",
            "Epoch 22/40\n",
            "30/30 [==============================] - 5s 168ms/step - loss: 0.6276 - accuracy: 0.5917 - val_loss: 0.6711 - val_accuracy: 0.5440\n",
            "Epoch 23/40\n",
            "30/30 [==============================] - 5s 168ms/step - loss: 0.6192 - accuracy: 0.5969 - val_loss: 0.6635 - val_accuracy: 0.5646\n",
            "Epoch 24/40\n",
            "30/30 [==============================] - 5s 168ms/step - loss: 0.6125 - accuracy: 0.6167 - val_loss: 0.6298 - val_accuracy: 0.6735\n",
            "Epoch 25/40\n",
            "30/30 [==============================] - 5s 168ms/step - loss: 0.6849 - accuracy: 0.5853 - val_loss: 0.6774 - val_accuracy: 0.5342\n",
            "Epoch 26/40\n",
            "30/30 [==============================] - 5s 167ms/step - loss: 0.6369 - accuracy: 0.5924 - val_loss: 0.6708 - val_accuracy: 0.5411\n",
            "Epoch 27/40\n",
            "30/30 [==============================] - 5s 167ms/step - loss: 0.6240 - accuracy: 0.6031 - val_loss: 0.6697 - val_accuracy: 0.5460\n",
            "Epoch 28/40\n",
            "30/30 [==============================] - 5s 168ms/step - loss: 0.6136 - accuracy: 0.6077 - val_loss: 0.6674 - val_accuracy: 0.5510\n",
            "Epoch 29/40\n",
            "30/30 [==============================] - 5s 168ms/step - loss: 0.6028 - accuracy: 0.6155 - val_loss: 0.6597 - val_accuracy: 0.5650\n",
            "Epoch 30/40\n",
            "30/30 [==============================] - 5s 168ms/step - loss: 0.6301 - accuracy: 0.6413 - val_loss: 0.6872 - val_accuracy: 0.5301\n",
            "Epoch 31/40\n",
            "30/30 [==============================] - 5s 168ms/step - loss: 0.6529 - accuracy: 0.5644 - val_loss: 0.6804 - val_accuracy: 0.5278\n",
            "Epoch 32/40\n",
            "30/30 [==============================] - 5s 168ms/step - loss: 0.6348 - accuracy: 0.5931 - val_loss: 0.6776 - val_accuracy: 0.5327\n",
            "Epoch 33/40\n",
            "30/30 [==============================] - 5s 167ms/step - loss: 0.6263 - accuracy: 0.5984 - val_loss: 0.6779 - val_accuracy: 0.5347\n",
            "Epoch 34/40\n",
            "30/30 [==============================] - 5s 167ms/step - loss: 0.6186 - accuracy: 0.6027 - val_loss: 0.6784 - val_accuracy: 0.5344\n",
            "Epoch 35/40\n",
            "30/30 [==============================] - 5s 168ms/step - loss: 0.6113 - accuracy: 0.5975 - val_loss: 0.6774 - val_accuracy: 0.5376\n",
            "Epoch 36/40\n",
            "30/30 [==============================] - 5s 168ms/step - loss: 0.6051 - accuracy: 0.6001 - val_loss: 0.6756 - val_accuracy: 0.5417\n",
            "Epoch 37/40\n",
            "30/30 [==============================] - 5s 167ms/step - loss: 0.5936 - accuracy: 0.6127 - val_loss: 0.6747 - val_accuracy: 0.5582\n",
            "Epoch 38/40\n",
            "30/30 [==============================] - 5s 168ms/step - loss: 0.6109 - accuracy: 0.6447 - val_loss: 0.6986 - val_accuracy: 0.5783\n",
            "Epoch 39/40\n",
            "30/30 [==============================] - 5s 167ms/step - loss: 0.6214 - accuracy: 0.6009 - val_loss: 0.6840 - val_accuracy: 0.5449\n",
            "Epoch 40/40\n",
            "30/30 [==============================] - 5s 168ms/step - loss: 0.5969 - accuracy: 0.6143 - val_loss: 0.6712 - val_accuracy: 0.5621\n",
            "782/782 [==============================] - 14s 17ms/step - loss: 0.6725 - accuracy: 0.5638\n"
          ]
        }
      ],
      "source": [
        "# Train and test the model\n",
        "\n",
        "model_7.compile(optimizer='adam', loss='binary_crossentropy', metrics=['accuracy'])\n",
        "\n",
        "history_7 = model_7.fit(partial_X_train,\n",
        "                    partial_y_train,\n",
        "                    epochs=40,\n",
        "                    batch_size=512,\n",
        "                    validation_data=(X_val, y_val),\n",
        "                    verbose=1)\n",
        "\n",
        "results_7 = model_7.evaluate(X_test_enc, y_test)"
      ]
    },
    {
      "cell_type": "code",
      "execution_count": null,
      "metadata": {
        "id": "cbxHz-QN3Ent",
        "colab": {
          "base_uri": "https://localhost:8080/",
          "height": 385
        },
        "outputId": "84810a2e-543d-4fd8-8e9a-aa65a26208d3"
      },
      "outputs": [
        {
          "output_type": "display_data",
          "data": {
            "image/png": "[encoded data removed]",
            "text/plain": [
              "<Figure size 720x360 with 2 Axes>"
            ]
          },
          "metadata": {
            "needs_background": "light"
          }
        }
      ],
      "source": [
        "plot_history(history_7.history, path=\"standard.png\")\n",
        "plt.show()"
      ]
    },
    {
      "cell_type": "markdown",
      "metadata": {
        "id": "XOqePi5-I1Xq"
      },
      "source": [
        "Experiment show that simply replacing the lab 2 model embeddings with pre-trained word embeddings (GloVe) will cause performance to drop significantly. \n",
        "What can you do to improve the situation?"
      ]
    },
    {
      "cell_type": "markdown",
      "metadata": {
        "id": "M-bZ5SCHiIMl"
      },
      "source": [
        "#  Model 4: Adding extra dense layer into Neural averaging network model"
      ]
    },
    {
      "cell_type": "markdown",
      "metadata": {
        "id": "G85QM3lSV7qp"
      },
      "source": [
        "We add extra dense layers into model 3-1 (neural network model) to evaluate extra dense layers' contribution. We start by adding one layer, then add two. All parameters are the same as model 3-1."
      ]
    },
    {
      "cell_type": "markdown",
      "metadata": {
        "id": "ExgX8bxpVgps"
      },
      "source": [
        "### Adding one extra dense layer"
      ]
    },
    {
      "cell_type": "code",
      "execution_count": null,
      "metadata": {
        "id": "dTgD_gMzXa1z",
        "colab": {
          "base_uri": "https://localhost:8080/"
        },
        "outputId": "4ef3a480-4498-42a7-faa0-f15484f79cf2"
      },
      "outputs": [
        {
          "output_type": "stream",
          "name": "stdout",
          "text": [
            "Model: \"model_6\"\n",
            "_________________________________________________________________\n",
            " Layer (type)                Output Shape              Param #   \n",
            "=================================================================\n",
            " input_8 (InputLayer)        [(None, 256)]             0         \n",
            "                                                                 \n",
            " GloVe_Embeddings (Embedding  (None, 256, 300)         120000300 \n",
            " )                                                               \n",
            "                                                                 \n",
            " global_average_pooling1d_ma  (None, 300)              0         \n",
            " sked_4 (GlobalAveragePoolin                                     \n",
            " g1DMasked)                                                      \n",
            "                                                                 \n",
            " dense_11 (Dense)            (None, 100)               30100     \n",
            "                                                                 \n",
            " dense_12 (Dense)            (None, 16)                1616      \n",
            "                                                                 \n",
            " dense_13 (Dense)            (None, 1)                 17        \n",
            "                                                                 \n",
            "=================================================================\n",
            "Total params: 120,032,033\n",
            "Trainable params: 31,733\n",
            "Non-trainable params: 120,000,300\n",
            "_________________________________________________________________\n"
          ]
        }
      ],
      "source": [
        "# Inspect model performance with 1 hidden layer, pre-trained embeddings\n",
        "# your code goes here\n",
        "\n",
        "embeddingLayer=createPretrainedEmbeddingLayer(wordToGlove,wordToIndex,isTrainable=False)\n",
        "\n",
        "input_layer_9 = Input(shape=(MAX_SEQUENCE_LENGTH,))\n",
        "\n",
        "# glove embedding layer\n",
        "embedding_layer_9 = embeddingLayer(input_layer_9)\n",
        "\n",
        "# global average pooling layer\n",
        "global_average_layer_9 = GlobalAveragePooling1DMasked()(embedding_layer_9)\n",
        "\n",
        "# extra dense layer\n",
        "extra_dense_layer_9 = Dense(100, activation='relu')(global_average_layer_9)\n",
        "\n",
        "# hidden layer 16\n",
        "hidden_layer_9 = Dense(16, activation='relu')(extra_dense_layer_9)\n",
        "\n",
        "# output layer\n",
        "output_layer_9 = Dense(1, activation='sigmoid')(hidden_layer_9)\n",
        "\n",
        "model_9 = Model(inputs=input_layer_9, outputs=output_layer_9)\n",
        "\n",
        "model_9.summary()"
      ]
    },
    {
      "cell_type": "code",
      "execution_count": null,
      "metadata": {
        "colab": {
          "base_uri": "https://localhost:8080/"
        },
        "id": "JVPW6sqWr7X-",
        "outputId": "3999c954-e7e5-4a9a-808b-5051904681e3"
      },
      "outputs": [
        {
          "output_type": "stream",
          "name": "stdout",
          "text": [
            "Epoch 1/40\n",
            "30/30 [==============================] - 1s 18ms/step - loss: 0.6863 - accuracy: 0.5435 - val_loss: 0.6779 - val_accuracy: 0.5857\n",
            "Epoch 2/40\n",
            "30/30 [==============================] - 0s 14ms/step - loss: 0.6696 - accuracy: 0.5944 - val_loss: 0.6660 - val_accuracy: 0.5926\n",
            "Epoch 3/40\n",
            "30/30 [==============================] - 0s 13ms/step - loss: 0.6531 - accuracy: 0.6314 - val_loss: 0.6509 - val_accuracy: 0.6239\n",
            "Epoch 4/40\n",
            "30/30 [==============================] - 0s 13ms/step - loss: 0.6352 - accuracy: 0.6557 - val_loss: 0.6279 - val_accuracy: 0.6614\n",
            "Epoch 5/40\n",
            "30/30 [==============================] - 0s 13ms/step - loss: 0.6136 - accuracy: 0.6768 - val_loss: 0.6124 - val_accuracy: 0.6739\n",
            "Epoch 6/40\n",
            "30/30 [==============================] - 0s 13ms/step - loss: 0.5987 - accuracy: 0.6930 - val_loss: 0.5970 - val_accuracy: 0.6898\n",
            "Epoch 7/40\n",
            "30/30 [==============================] - 0s 14ms/step - loss: 0.5921 - accuracy: 0.6916 - val_loss: 0.5933 - val_accuracy: 0.6881\n",
            "Epoch 8/40\n",
            "30/30 [==============================] - 0s 14ms/step - loss: 0.5794 - accuracy: 0.7075 - val_loss: 0.5884 - val_accuracy: 0.6963\n",
            "Epoch 9/40\n",
            "30/30 [==============================] - 0s 13ms/step - loss: 0.5720 - accuracy: 0.7125 - val_loss: 0.5776 - val_accuracy: 0.7051\n",
            "Epoch 10/40\n",
            "30/30 [==============================] - 0s 13ms/step - loss: 0.5672 - accuracy: 0.7148 - val_loss: 0.5886 - val_accuracy: 0.6908\n",
            "Epoch 11/40\n",
            "30/30 [==============================] - 0s 13ms/step - loss: 0.5624 - accuracy: 0.7170 - val_loss: 0.5725 - val_accuracy: 0.7082\n",
            "Epoch 12/40\n",
            "30/30 [==============================] - 0s 13ms/step - loss: 0.5575 - accuracy: 0.7229 - val_loss: 0.5640 - val_accuracy: 0.7147\n",
            "Epoch 13/40\n",
            "30/30 [==============================] - 0s 13ms/step - loss: 0.5540 - accuracy: 0.7221 - val_loss: 0.5611 - val_accuracy: 0.7173\n",
            "Epoch 14/40\n",
            "30/30 [==============================] - 0s 13ms/step - loss: 0.5493 - accuracy: 0.7299 - val_loss: 0.5701 - val_accuracy: 0.7076\n",
            "Epoch 15/40\n",
            "30/30 [==============================] - 0s 13ms/step - loss: 0.5478 - accuracy: 0.7272 - val_loss: 0.5544 - val_accuracy: 0.7225\n",
            "Epoch 16/40\n",
            "30/30 [==============================] - 0s 13ms/step - loss: 0.5419 - accuracy: 0.7340 - val_loss: 0.5533 - val_accuracy: 0.7253\n",
            "Epoch 17/40\n",
            "30/30 [==============================] - 0s 13ms/step - loss: 0.5426 - accuracy: 0.7332 - val_loss: 0.5579 - val_accuracy: 0.7182\n",
            "Epoch 18/40\n",
            "30/30 [==============================] - 0s 13ms/step - loss: 0.5418 - accuracy: 0.7306 - val_loss: 0.5568 - val_accuracy: 0.7174\n",
            "Epoch 19/40\n",
            "30/30 [==============================] - 0s 14ms/step - loss: 0.5400 - accuracy: 0.7325 - val_loss: 0.5461 - val_accuracy: 0.7297\n",
            "Epoch 20/40\n",
            "30/30 [==============================] - 0s 13ms/step - loss: 0.5366 - accuracy: 0.7343 - val_loss: 0.5456 - val_accuracy: 0.7274\n",
            "Epoch 21/40\n",
            "30/30 [==============================] - 0s 13ms/step - loss: 0.5328 - accuracy: 0.7404 - val_loss: 0.5441 - val_accuracy: 0.7306\n",
            "Epoch 22/40\n",
            "30/30 [==============================] - 0s 13ms/step - loss: 0.5326 - accuracy: 0.7375 - val_loss: 0.5713 - val_accuracy: 0.7078\n",
            "Epoch 23/40\n",
            "30/30 [==============================] - 0s 13ms/step - loss: 0.5381 - accuracy: 0.7333 - val_loss: 0.5509 - val_accuracy: 0.7271\n",
            "Epoch 24/40\n",
            "30/30 [==============================] - 0s 13ms/step - loss: 0.5438 - accuracy: 0.7307 - val_loss: 0.5402 - val_accuracy: 0.7336\n",
            "Epoch 25/40\n",
            "30/30 [==============================] - 0s 13ms/step - loss: 0.5267 - accuracy: 0.7417 - val_loss: 0.5397 - val_accuracy: 0.7336\n",
            "Epoch 26/40\n",
            "30/30 [==============================] - 0s 12ms/step - loss: 0.5248 - accuracy: 0.7437 - val_loss: 0.5511 - val_accuracy: 0.7262\n",
            "Epoch 27/40\n",
            "30/30 [==============================] - 0s 13ms/step - loss: 0.5338 - accuracy: 0.7359 - val_loss: 0.5403 - val_accuracy: 0.7355\n",
            "Epoch 28/40\n",
            "30/30 [==============================] - 0s 13ms/step - loss: 0.5240 - accuracy: 0.7455 - val_loss: 0.5374 - val_accuracy: 0.7323\n",
            "Epoch 29/40\n",
            "30/30 [==============================] - 0s 13ms/step - loss: 0.5229 - accuracy: 0.7451 - val_loss: 0.5486 - val_accuracy: 0.7287\n",
            "Epoch 30/40\n",
            "30/30 [==============================] - 0s 13ms/step - loss: 0.5232 - accuracy: 0.7456 - val_loss: 0.5375 - val_accuracy: 0.7302\n",
            "Epoch 31/40\n",
            "30/30 [==============================] - 0s 13ms/step - loss: 0.5248 - accuracy: 0.7438 - val_loss: 0.5365 - val_accuracy: 0.7343\n",
            "Epoch 32/40\n",
            "30/30 [==============================] - 0s 13ms/step - loss: 0.5213 - accuracy: 0.7442 - val_loss: 0.5416 - val_accuracy: 0.7288\n",
            "Epoch 33/40\n",
            "30/30 [==============================] - 0s 13ms/step - loss: 0.5201 - accuracy: 0.7484 - val_loss: 0.5327 - val_accuracy: 0.7389\n",
            "Epoch 34/40\n",
            "30/30 [==============================] - 0s 13ms/step - loss: 0.5196 - accuracy: 0.7477 - val_loss: 0.5328 - val_accuracy: 0.7396\n",
            "Epoch 35/40\n",
            "30/30 [==============================] - 0s 13ms/step - loss: 0.5241 - accuracy: 0.7400 - val_loss: 0.5346 - val_accuracy: 0.7335\n",
            "Epoch 36/40\n",
            "30/30 [==============================] - 0s 13ms/step - loss: 0.5190 - accuracy: 0.7470 - val_loss: 0.5322 - val_accuracy: 0.7355\n",
            "Epoch 37/40\n",
            "30/30 [==============================] - 0s 13ms/step - loss: 0.5139 - accuracy: 0.7499 - val_loss: 0.5324 - val_accuracy: 0.7394\n",
            "Epoch 38/40\n",
            "30/30 [==============================] - 0s 13ms/step - loss: 0.5140 - accuracy: 0.7496 - val_loss: 0.5309 - val_accuracy: 0.7367\n",
            "Epoch 39/40\n",
            "30/30 [==============================] - 0s 12ms/step - loss: 0.5136 - accuracy: 0.7505 - val_loss: 0.5302 - val_accuracy: 0.7409\n",
            "Epoch 40/40\n",
            "30/30 [==============================] - 0s 13ms/step - loss: 0.5133 - accuracy: 0.7493 - val_loss: 0.5347 - val_accuracy: 0.7360\n",
            "782/782 [==============================] - 2s 3ms/step - loss: 0.5370 - accuracy: 0.7302\n"
          ]
        },
        {
          "output_type": "execute_result",
          "data": {
            "text/plain": [
              "[0.5370304584503174, 0.7301999926567078]"
            ]
          },
          "metadata": {},
          "execution_count": 61
        }
      ],
      "source": [
        "model_9.compile(optimizer='adam', loss='binary_crossentropy', metrics=['accuracy'])\n",
        "\n",
        "history_9 = model_9.fit(partial_X_train,\n",
        "                    partial_y_train,\n",
        "                    epochs=40,\n",
        "                    batch_size=512,\n",
        "                    validation_data=(X_val, y_val),\n",
        "                    verbose=1)\n",
        "\n",
        "results_9 = model_9.evaluate(X_test_enc, y_test)\n",
        "\n",
        "results_9"
      ]
    },
    {
      "cell_type": "code",
      "execution_count": null,
      "metadata": {
        "colab": {
          "base_uri": "https://localhost:8080/",
          "height": 385
        },
        "id": "Soqe2Sap3gJW",
        "outputId": "6227ad93-ef97-485a-b3dd-903fc256c619"
      },
      "outputs": [
        {
          "output_type": "display_data",
          "data": {
            "image/png": "[encoded data removed]",
            "text/plain": [
              "<Figure size 720x360 with 2 Axes>"
            ]
          },
          "metadata": {
            "needs_background": "light"
          }
        }
      ],
      "source": [
        "plot_history(history_9.history, path=\"standard.png\")\n",
        "plt.show()"
      ]
    },
    {
      "cell_type": "markdown",
      "metadata": {
        "id": "K0npTvFuVt5R"
      },
      "source": [
        "### Adding two extra dense layers"
      ]
    },
    {
      "cell_type": "code",
      "execution_count": null,
      "metadata": {
        "colab": {
          "base_uri": "https://localhost:8080/"
        },
        "id": "PowyhyRqcdDA",
        "outputId": "3012c233-2dc9-4a72-8fc8-1d8618a4929c"
      },
      "outputs": [
        {
          "output_type": "stream",
          "name": "stdout",
          "text": [
            "Model: \"model_7\"\n",
            "_________________________________________________________________\n",
            " Layer (type)                Output Shape              Param #   \n",
            "=================================================================\n",
            " input_9 (InputLayer)        [(None, 256)]             0         \n",
            "                                                                 \n",
            " GloVe_Embeddings (Embedding  (None, 256, 300)         120000300 \n",
            " )                                                               \n",
            "                                                                 \n",
            " global_average_pooling1d_ma  (None, 300)              0         \n",
            " sked_5 (GlobalAveragePoolin                                     \n",
            " g1DMasked)                                                      \n",
            "                                                                 \n",
            " dense_14 (Dense)            (None, 300)               90300     \n",
            "                                                                 \n",
            " dense_15 (Dense)            (None, 100)               30100     \n",
            "                                                                 \n",
            " dense_16 (Dense)            (None, 16)                1616      \n",
            "                                                                 \n",
            " dense_17 (Dense)            (None, 1)                 17        \n",
            "                                                                 \n",
            "=================================================================\n",
            "Total params: 120,122,333\n",
            "Trainable params: 122,033\n",
            "Non-trainable params: 120,000,300\n",
            "_________________________________________________________________\n"
          ]
        }
      ],
      "source": [
        "# Inspect model performance with 1 hidden layer, pre-trained embeddings\n",
        "# your code goes here\n",
        "\n",
        "embeddingLayer=createPretrainedEmbeddingLayer(wordToGlove,wordToIndex,isTrainable=False)\n",
        "\n",
        "input_layer_10 = Input(shape=(MAX_SEQUENCE_LENGTH,))\n",
        "\n",
        "# glove embedding layer\n",
        "embedding_layer_10 = embeddingLayer(input_layer_10)\n",
        "\n",
        "# global average pooling layer\n",
        "global_average_layer_10 = GlobalAveragePooling1DMasked()(embedding_layer_10)\n",
        "\n",
        "# extra dense layer\n",
        "extra_dense_layer_1_10 = Dense(300, activation='relu')(global_average_layer_10)\n",
        "\n",
        "# extra dense layer\n",
        "extra_dense_layer_2_10 = Dense(100, activation='relu')(extra_dense_layer_1_10)\n",
        "\n",
        "# hidden layer 16\n",
        "hidden_layer_10 = Dense(16, activation='relu')(extra_dense_layer_2_10)\n",
        "\n",
        "# output layer\n",
        "output_layer_10 = Dense(1, activation='sigmoid')(hidden_layer_10)\n",
        "\n",
        "model_10 = Model(inputs=input_layer_10, outputs=output_layer_10)\n",
        "\n",
        "model_10.summary()"
      ]
    },
    {
      "cell_type": "code",
      "execution_count": null,
      "metadata": {
        "colab": {
          "base_uri": "https://localhost:8080/"
        },
        "id": "zfOqlpg3tRh6",
        "outputId": "a15ca5d2-6722-402a-f3a8-ed6fcaef20cb"
      },
      "outputs": [
        {
          "output_type": "stream",
          "name": "stdout",
          "text": [
            "Epoch 1/40\n",
            "30/30 [==============================] - 1s 19ms/step - loss: 0.6784 - accuracy: 0.5683 - val_loss: 0.6650 - val_accuracy: 0.6036\n",
            "Epoch 2/40\n",
            "30/30 [==============================] - 0s 13ms/step - loss: 0.6486 - accuracy: 0.6299 - val_loss: 0.6362 - val_accuracy: 0.6433\n",
            "Epoch 3/40\n",
            "30/30 [==============================] - 0s 13ms/step - loss: 0.6166 - accuracy: 0.6708 - val_loss: 0.6053 - val_accuracy: 0.6785\n",
            "Epoch 4/40\n",
            "30/30 [==============================] - 0s 12ms/step - loss: 0.5911 - accuracy: 0.6919 - val_loss: 0.5931 - val_accuracy: 0.6873\n",
            "Epoch 5/40\n",
            "30/30 [==============================] - 0s 14ms/step - loss: 0.5837 - accuracy: 0.6957 - val_loss: 0.6011 - val_accuracy: 0.6847\n",
            "Epoch 6/40\n",
            "30/30 [==============================] - 0s 12ms/step - loss: 0.5693 - accuracy: 0.7119 - val_loss: 0.5697 - val_accuracy: 0.7090\n",
            "Epoch 7/40\n",
            "30/30 [==============================] - 0s 13ms/step - loss: 0.5591 - accuracy: 0.7147 - val_loss: 0.5656 - val_accuracy: 0.7112\n",
            "Epoch 8/40\n",
            "30/30 [==============================] - 0s 13ms/step - loss: 0.5593 - accuracy: 0.7181 - val_loss: 0.5739 - val_accuracy: 0.7035\n",
            "Epoch 9/40\n",
            "30/30 [==============================] - 0s 14ms/step - loss: 0.5560 - accuracy: 0.7214 - val_loss: 0.5654 - val_accuracy: 0.7105\n",
            "Epoch 10/40\n",
            "30/30 [==============================] - 0s 13ms/step - loss: 0.5480 - accuracy: 0.7271 - val_loss: 0.6011 - val_accuracy: 0.6839\n",
            "Epoch 11/40\n",
            "30/30 [==============================] - 0s 13ms/step - loss: 0.5422 - accuracy: 0.7308 - val_loss: 0.5537 - val_accuracy: 0.7202\n",
            "Epoch 12/40\n",
            "30/30 [==============================] - 0s 13ms/step - loss: 0.5517 - accuracy: 0.7240 - val_loss: 0.5528 - val_accuracy: 0.7188\n",
            "Epoch 13/40\n",
            "30/30 [==============================] - 0s 14ms/step - loss: 0.5438 - accuracy: 0.7263 - val_loss: 0.5534 - val_accuracy: 0.7247\n",
            "Epoch 14/40\n",
            "30/30 [==============================] - 0s 13ms/step - loss: 0.5394 - accuracy: 0.7303 - val_loss: 0.5593 - val_accuracy: 0.7192\n",
            "Epoch 15/40\n",
            "30/30 [==============================] - 0s 13ms/step - loss: 0.5304 - accuracy: 0.7371 - val_loss: 0.5552 - val_accuracy: 0.7233\n",
            "Epoch 16/40\n",
            "30/30 [==============================] - 0s 13ms/step - loss: 0.5272 - accuracy: 0.7424 - val_loss: 0.6098 - val_accuracy: 0.6818\n",
            "Epoch 17/40\n",
            "30/30 [==============================] - 0s 13ms/step - loss: 0.5309 - accuracy: 0.7362 - val_loss: 0.5356 - val_accuracy: 0.7290\n",
            "Epoch 18/40\n",
            "30/30 [==============================] - 0s 12ms/step - loss: 0.5178 - accuracy: 0.7467 - val_loss: 0.5336 - val_accuracy: 0.7364\n",
            "Epoch 19/40\n",
            "30/30 [==============================] - 0s 13ms/step - loss: 0.5236 - accuracy: 0.7418 - val_loss: 0.5307 - val_accuracy: 0.7381\n",
            "Epoch 20/40\n",
            "30/30 [==============================] - 0s 13ms/step - loss: 0.5170 - accuracy: 0.7429 - val_loss: 0.5344 - val_accuracy: 0.7355\n",
            "Epoch 21/40\n",
            "30/30 [==============================] - 0s 12ms/step - loss: 0.5137 - accuracy: 0.7477 - val_loss: 0.5284 - val_accuracy: 0.7343\n",
            "Epoch 22/40\n",
            "30/30 [==============================] - 0s 12ms/step - loss: 0.5089 - accuracy: 0.7512 - val_loss: 0.5256 - val_accuracy: 0.7395\n",
            "Epoch 23/40\n",
            "30/30 [==============================] - 0s 12ms/step - loss: 0.5115 - accuracy: 0.7473 - val_loss: 0.5465 - val_accuracy: 0.7254\n",
            "Epoch 24/40\n",
            "30/30 [==============================] - 0s 13ms/step - loss: 0.5275 - accuracy: 0.7340 - val_loss: 0.6977 - val_accuracy: 0.6324\n",
            "Epoch 25/40\n",
            "30/30 [==============================] - 0s 13ms/step - loss: 0.5339 - accuracy: 0.7341 - val_loss: 0.5409 - val_accuracy: 0.7294\n",
            "Epoch 26/40\n",
            "30/30 [==============================] - 0s 13ms/step - loss: 0.5272 - accuracy: 0.7381 - val_loss: 0.5607 - val_accuracy: 0.7121\n",
            "Epoch 27/40\n",
            "30/30 [==============================] - 0s 13ms/step - loss: 0.5100 - accuracy: 0.7479 - val_loss: 0.5228 - val_accuracy: 0.7408\n",
            "Epoch 28/40\n",
            "30/30 [==============================] - 0s 13ms/step - loss: 0.5033 - accuracy: 0.7515 - val_loss: 0.5208 - val_accuracy: 0.7436\n",
            "Epoch 29/40\n",
            "30/30 [==============================] - 0s 13ms/step - loss: 0.5001 - accuracy: 0.7543 - val_loss: 0.5245 - val_accuracy: 0.7393\n",
            "Epoch 30/40\n",
            "30/30 [==============================] - 0s 13ms/step - loss: 0.5007 - accuracy: 0.7545 - val_loss: 0.5207 - val_accuracy: 0.7406\n",
            "Epoch 31/40\n",
            "30/30 [==============================] - 0s 12ms/step - loss: 0.4978 - accuracy: 0.7567 - val_loss: 0.5180 - val_accuracy: 0.7431\n",
            "Epoch 32/40\n",
            "30/30 [==============================] - 0s 12ms/step - loss: 0.4915 - accuracy: 0.7613 - val_loss: 0.5194 - val_accuracy: 0.7424\n",
            "Epoch 33/40\n",
            "30/30 [==============================] - 0s 13ms/step - loss: 0.4894 - accuracy: 0.7603 - val_loss: 0.5556 - val_accuracy: 0.7215\n",
            "Epoch 34/40\n",
            "30/30 [==============================] - 0s 13ms/step - loss: 0.5043 - accuracy: 0.7532 - val_loss: 0.5266 - val_accuracy: 0.7369\n",
            "Epoch 35/40\n",
            "30/30 [==============================] - 0s 13ms/step - loss: 0.4890 - accuracy: 0.7626 - val_loss: 0.5188 - val_accuracy: 0.7448\n",
            "Epoch 36/40\n",
            "30/30 [==============================] - 0s 13ms/step - loss: 0.4846 - accuracy: 0.7675 - val_loss: 0.5215 - val_accuracy: 0.7419\n",
            "Epoch 37/40\n",
            "30/30 [==============================] - 0s 12ms/step - loss: 0.4937 - accuracy: 0.7556 - val_loss: 0.5540 - val_accuracy: 0.7218\n",
            "Epoch 38/40\n",
            "30/30 [==============================] - 0s 13ms/step - loss: 0.4859 - accuracy: 0.7629 - val_loss: 0.5471 - val_accuracy: 0.7244\n",
            "Epoch 39/40\n",
            "30/30 [==============================] - 0s 13ms/step - loss: 0.4875 - accuracy: 0.7647 - val_loss: 0.5168 - val_accuracy: 0.7464\n",
            "Epoch 40/40\n",
            "30/30 [==============================] - 0s 12ms/step - loss: 0.4811 - accuracy: 0.7677 - val_loss: 0.5194 - val_accuracy: 0.7420\n",
            "782/782 [==============================] - 2s 3ms/step - loss: 0.5258 - accuracy: 0.7364\n"
          ]
        },
        {
          "output_type": "execute_result",
          "data": {
            "text/plain": [
              "[0.5257835984230042, 0.7364000082015991]"
            ]
          },
          "metadata": {},
          "execution_count": 64
        }
      ],
      "source": [
        "model_10.compile(optimizer='adam', loss='binary_crossentropy', metrics=['accuracy'])\n",
        "\n",
        "history_10 = model_10.fit(partial_X_train,\n",
        "                    partial_y_train,\n",
        "                    epochs=40,\n",
        "                    batch_size=512,\n",
        "                    validation_data=(X_val, y_val),\n",
        "                    verbose=1)\n",
        "\n",
        "results_10 = model_10.evaluate(X_test_enc, y_test)\n",
        "\n",
        "results_10"
      ]
    },
    {
      "cell_type": "code",
      "execution_count": null,
      "metadata": {
        "colab": {
          "base_uri": "https://localhost:8080/",
          "height": 385
        },
        "id": "4mCfZw1E3peQ",
        "outputId": "83403963-4bb3-4054-dd6c-96a42872f4f1"
      },
      "outputs": [
        {
          "output_type": "display_data",
          "data": {
            "image/png": "[encoded data removed]",
            "text/plain": [
              "<Figure size 720x360 with 2 Axes>"
            ]
          },
          "metadata": {
            "needs_background": "light"
          }
        }
      ],
      "source": [
        "plot_history(history_10.history, path=\"standard.png\")\n",
        "plt.show()"
      ]
    },
    {
      "cell_type": "markdown",
      "metadata": {
        "id": "XisS32PaTATf"
      },
      "source": [
        "These two experiments show that adding extra dense layers can slightly improve accuracy over model 3-1.\n",
        "\n",
        "---\n",
        "\n"
      ]
    },
    {
      "cell_type": "markdown",
      "metadata": {
        "id": "CrfC9Mu-RHID"
      },
      "source": [
        "#  Model 5: CNN for Text Classification"
      ]
    },
    {
      "cell_type": "markdown",
      "metadata": {
        "id": "EPaFmFk1BMFf"
      },
      "source": [
        "In this section, we build a Convolutional Neural Network (CNN) for text classification. We start by using one CNN layer and then adding another layer. You could use embeddings from pre-trained or scratch."
      ]
    },
    {
      "cell_type": "markdown",
      "metadata": {
        "id": "zjOJrGCzwGM5"
      },
      "source": [
        "##  Model 5-1: Basic CNN model for Text Classification "
      ]
    },
    {
      "cell_type": "code",
      "execution_count": null,
      "metadata": {
        "colab": {
          "base_uri": "https://localhost:8080/"
        },
        "id": "rXBstOw0sCYF",
        "outputId": "a94ffc18-0172-4f00-85a3-22a0fa92c336"
      },
      "outputs": [
        {
          "output_type": "stream",
          "name": "stdout",
          "text": [
            "Model: \"model_8\"\n",
            "_________________________________________________________________\n",
            " Layer (type)                Output Shape              Param #   \n",
            "=================================================================\n",
            " input_10 (InputLayer)       [(None, 256)]             0         \n",
            "                                                                 \n",
            " embed_layer (Embedding)     (None, 256, 300)          3000000   \n",
            "                                                                 \n",
            " conv1d_2 (Conv1D)           (None, 251, 100)          180100    \n",
            "                                                                 \n",
            " global_max_pooling1d_2 (Glo  (None, 100)              0         \n",
            " balMaxPooling1D)                                                \n",
            "                                                                 \n",
            " dense_18 (Dense)            (None, 1)                 101       \n",
            "                                                                 \n",
            "=================================================================\n",
            "Total params: 3,180,201\n",
            "Trainable params: 3,180,201\n",
            "Non-trainable params: 0\n",
            "_________________________________________________________________\n"
          ]
        }
      ],
      "source": [
        "from keras.layers import Input, Conv1D, MaxPooling1D, GlobalMaxPooling1D\n",
        "from keras.models import Model\n",
        "\n",
        "filter_layers=100\n",
        "embDim = next(iter(wordToGlove.values())).shape[0]  \n",
        "\n",
        "embeddingLayer=createPretrainedEmbeddingLayer(wordToGlove,wordToIndex,isTrainable=True)\n",
        "\n",
        "input_layer_11 = Input(shape=(MAX_SEQUENCE_LENGTH,))\n",
        "\n",
        "embedding_layer_11 = Embedding(VOCAB_SIZE, embDim, name='embed_layer',\n",
        "                        \tembeddings_initializer='glorot_uniform',\n",
        "                         \tinput_length=MAX_SEQUENCE_LENGTH, mask_zero=True)(input_layer_11)\n",
        "\n",
        "# add cnn layer\n",
        "cnn_layer_11 = Conv1D(filters=filter_layers, kernel_size=6, padding='valid', activation='relu')(embedding_layer_11)\n",
        "\n",
        "# max pooling layer\n",
        "max_pooling_layer_11 = GlobalMaxPooling1D()(cnn_layer_11)\n",
        "\n",
        "# output layer\n",
        "output_layer_11 = Dense(1, activation='sigmoid')(max_pooling_layer_11)\n",
        "\n",
        "model_11 = Model(inputs=input_layer_11, outputs=output_layer_11)\n",
        "\n",
        "model_11.summary()"
      ]
    },
    {
      "cell_type": "code",
      "execution_count": null,
      "metadata": {
        "colab": {
          "base_uri": "https://localhost:8080/"
        },
        "id": "-G5MrDPJFBzK",
        "outputId": "5e4d6d49-4a09-4b35-de88-0652d2062af8"
      },
      "outputs": [
        {
          "output_type": "stream",
          "name": "stdout",
          "text": [
            "Epoch 1/40\n",
            "30/30 [==============================] - 12s 152ms/step - loss: 0.6622 - accuracy: 0.6714 - val_loss: 0.5896 - val_accuracy: 0.7863\n",
            "Epoch 2/40\n",
            "30/30 [==============================] - 4s 123ms/step - loss: 0.4622 - accuracy: 0.8275 - val_loss: 0.3650 - val_accuracy: 0.8453\n",
            "Epoch 3/40\n",
            "30/30 [==============================] - 4s 123ms/step - loss: 0.2690 - accuracy: 0.8984 - val_loss: 0.2994 - val_accuracy: 0.8719\n",
            "Epoch 4/40\n",
            "30/30 [==============================] - 4s 129ms/step - loss: 0.1648 - accuracy: 0.9483 - val_loss: 0.2996 - val_accuracy: 0.8739\n",
            "Epoch 5/40\n",
            "30/30 [==============================] - 4s 123ms/step - loss: 0.0982 - accuracy: 0.9740 - val_loss: 0.3159 - val_accuracy: 0.8703\n",
            "Epoch 6/40\n",
            "30/30 [==============================] - 4s 124ms/step - loss: 0.0527 - accuracy: 0.9904 - val_loss: 0.3397 - val_accuracy: 0.8683\n",
            "Epoch 7/40\n",
            "30/30 [==============================] - 4s 124ms/step - loss: 0.0284 - accuracy: 0.9973 - val_loss: 0.3652 - val_accuracy: 0.8684\n",
            "Epoch 8/40\n",
            "30/30 [==============================] - 4s 124ms/step - loss: 0.0156 - accuracy: 0.9995 - val_loss: 0.3892 - val_accuracy: 0.8673\n",
            "Epoch 9/40\n",
            "30/30 [==============================] - 4s 131ms/step - loss: 0.0092 - accuracy: 0.9999 - val_loss: 0.4120 - val_accuracy: 0.8669\n",
            "Epoch 10/40\n",
            "30/30 [==============================] - 4s 124ms/step - loss: 0.0061 - accuracy: 1.0000 - val_loss: 0.4316 - val_accuracy: 0.8645\n",
            "Epoch 11/40\n",
            "30/30 [==============================] - 4s 124ms/step - loss: 0.0044 - accuracy: 1.0000 - val_loss: 0.4482 - val_accuracy: 0.8637\n",
            "Epoch 12/40\n",
            "30/30 [==============================] - 4s 131ms/step - loss: 0.0034 - accuracy: 1.0000 - val_loss: 0.4640 - val_accuracy: 0.8633\n",
            "Epoch 13/40\n",
            "30/30 [==============================] - 4s 130ms/step - loss: 0.0027 - accuracy: 1.0000 - val_loss: 0.4769 - val_accuracy: 0.8643\n",
            "Epoch 14/40\n",
            "30/30 [==============================] - 4s 131ms/step - loss: 0.0022 - accuracy: 1.0000 - val_loss: 0.4888 - val_accuracy: 0.8639\n",
            "Epoch 15/40\n",
            "30/30 [==============================] - 4s 131ms/step - loss: 0.0018 - accuracy: 1.0000 - val_loss: 0.4997 - val_accuracy: 0.8629\n",
            "Epoch 16/40\n",
            "30/30 [==============================] - 4s 131ms/step - loss: 0.0015 - accuracy: 1.0000 - val_loss: 0.5101 - val_accuracy: 0.8627\n",
            "Epoch 17/40\n",
            "30/30 [==============================] - 4s 132ms/step - loss: 0.0013 - accuracy: 1.0000 - val_loss: 0.5192 - val_accuracy: 0.8625\n",
            "Epoch 18/40\n",
            "30/30 [==============================] - 4s 125ms/step - loss: 0.0011 - accuracy: 1.0000 - val_loss: 0.5279 - val_accuracy: 0.8627\n",
            "Epoch 19/40\n",
            "30/30 [==============================] - 4s 132ms/step - loss: 9.9292e-04 - accuracy: 1.0000 - val_loss: 0.5368 - val_accuracy: 0.8618\n",
            "Epoch 20/40\n",
            "30/30 [==============================] - 4s 131ms/step - loss: 8.7751e-04 - accuracy: 1.0000 - val_loss: 0.5445 - val_accuracy: 0.8613\n",
            "Epoch 21/40\n",
            "30/30 [==============================] - 4s 125ms/step - loss: 7.8234e-04 - accuracy: 1.0000 - val_loss: 0.5521 - val_accuracy: 0.8608\n",
            "Epoch 22/40\n",
            "30/30 [==============================] - 4s 131ms/step - loss: 7.0007e-04 - accuracy: 1.0000 - val_loss: 0.5591 - val_accuracy: 0.8606\n",
            "Epoch 23/40\n",
            "30/30 [==============================] - 4s 125ms/step - loss: 6.3198e-04 - accuracy: 1.0000 - val_loss: 0.5660 - val_accuracy: 0.8599\n",
            "Epoch 24/40\n",
            "30/30 [==============================] - 4s 124ms/step - loss: 5.7288e-04 - accuracy: 1.0000 - val_loss: 0.5722 - val_accuracy: 0.8596\n",
            "Epoch 25/40\n",
            "30/30 [==============================] - 4s 124ms/step - loss: 5.2090e-04 - accuracy: 1.0000 - val_loss: 0.5783 - val_accuracy: 0.8594\n",
            "Epoch 26/40\n",
            "30/30 [==============================] - 4s 124ms/step - loss: 4.7594e-04 - accuracy: 1.0000 - val_loss: 0.5842 - val_accuracy: 0.8599\n",
            "Epoch 27/40\n",
            "30/30 [==============================] - 4s 124ms/step - loss: 4.3651e-04 - accuracy: 1.0000 - val_loss: 0.5899 - val_accuracy: 0.8596\n",
            "Epoch 28/40\n",
            "30/30 [==============================] - 4s 131ms/step - loss: 4.0193e-04 - accuracy: 1.0000 - val_loss: 0.5953 - val_accuracy: 0.8588\n",
            "Epoch 29/40\n",
            "30/30 [==============================] - 4s 124ms/step - loss: 3.7144e-04 - accuracy: 1.0000 - val_loss: 0.6006 - val_accuracy: 0.8587\n",
            "Epoch 30/40\n",
            "30/30 [==============================] - 4s 125ms/step - loss: 3.4355e-04 - accuracy: 1.0000 - val_loss: 0.6054 - val_accuracy: 0.8589\n",
            "Epoch 31/40\n",
            "30/30 [==============================] - 4s 125ms/step - loss: 3.1934e-04 - accuracy: 1.0000 - val_loss: 0.6104 - val_accuracy: 0.8585\n",
            "Epoch 32/40\n",
            "30/30 [==============================] - 4s 125ms/step - loss: 2.9782e-04 - accuracy: 1.0000 - val_loss: 0.6151 - val_accuracy: 0.8585\n",
            "Epoch 33/40\n",
            "30/30 [==============================] - 4s 125ms/step - loss: 2.7736e-04 - accuracy: 1.0000 - val_loss: 0.6199 - val_accuracy: 0.8585\n",
            "Epoch 34/40\n",
            "30/30 [==============================] - 4s 131ms/step - loss: 2.5964e-04 - accuracy: 1.0000 - val_loss: 0.6243 - val_accuracy: 0.8582\n",
            "Epoch 35/40\n",
            "30/30 [==============================] - 4s 125ms/step - loss: 2.4331e-04 - accuracy: 1.0000 - val_loss: 0.6287 - val_accuracy: 0.8583\n",
            "Epoch 36/40\n",
            "30/30 [==============================] - 4s 126ms/step - loss: 2.2836e-04 - accuracy: 1.0000 - val_loss: 0.6330 - val_accuracy: 0.8581\n",
            "Epoch 37/40\n",
            "30/30 [==============================] - 4s 125ms/step - loss: 2.1475e-04 - accuracy: 1.0000 - val_loss: 0.6371 - val_accuracy: 0.8581\n",
            "Epoch 38/40\n",
            "30/30 [==============================] - 4s 125ms/step - loss: 2.0255e-04 - accuracy: 1.0000 - val_loss: 0.6412 - val_accuracy: 0.8585\n",
            "Epoch 39/40\n",
            "30/30 [==============================] - 4s 130ms/step - loss: 1.9111e-04 - accuracy: 1.0000 - val_loss: 0.6450 - val_accuracy: 0.8581\n",
            "Epoch 40/40\n",
            "30/30 [==============================] - 4s 130ms/step - loss: 1.8055e-04 - accuracy: 1.0000 - val_loss: 0.6487 - val_accuracy: 0.8584\n",
            "782/782 [==============================] - 4s 5ms/step - loss: 0.6759 - accuracy: 0.8526\n"
          ]
        },
        {
          "output_type": "execute_result",
          "data": {
            "text/plain": [
              "[0.6759490370750427, 0.8526399731636047]"
            ]
          },
          "metadata": {},
          "execution_count": 67
        }
      ],
      "source": [
        "model_11.compile(optimizer='adam', loss='binary_crossentropy', metrics=['accuracy'])\n",
        "\n",
        "history_11 = model_11.fit(partial_X_train,\n",
        "                    partial_y_train,\n",
        "                    epochs=40,\n",
        "                    batch_size=512,\n",
        "                    validation_data=(X_val, y_val),\n",
        "                    verbose=1)\n",
        "\n",
        "results_11 = model_11.evaluate(X_test_enc, y_test)\n",
        "\n",
        "results_11"
      ]
    },
    {
      "cell_type": "code",
      "execution_count": null,
      "metadata": {
        "colab": {
          "base_uri": "https://localhost:8080/",
          "height": 385
        },
        "id": "5AV3TvA53x09",
        "outputId": "8401813e-141b-45bd-fe36-c134f0db3884"
      },
      "outputs": [
        {
          "output_type": "display_data",
          "data": {
            "image/png": "[encoded data removed]",
            "text/plain": [
              "<Figure size 720x360 with 2 Axes>"
            ]
          },
          "metadata": {
            "needs_background": "light"
          }
        }
      ],
      "source": [
        "plot_history(history_11.history, path=\"standard.png\")\n",
        "plt.show()"
      ]
    },
    {
      "cell_type": "code",
      "execution_count": null,
      "metadata": {
        "colab": {
          "base_uri": "https://localhost:8080/",
          "height": 281
        },
        "id": "8nvkxunysjhr",
        "outputId": "c0125a49-1933-46b2-a58c-a4c96deada8d"
      },
      "outputs": [
        {
          "output_type": "display_data",
          "data": {
            "image/png": "[encoded data removed]",
            "text/plain": [
              "<Figure size 432x288 with 1 Axes>"
            ]
          },
          "metadata": {
            "needs_background": "light"
          }
        }
      ],
      "source": [
        "# your code goes here\n",
        "\n",
        "plt.plot(history_11.history['loss'], 'o', label='training loss')\n",
        "plt.title('training loss')\n",
        "\n",
        "plt.show()"
      ]
    },
    {
      "cell_type": "markdown",
      "metadata": {
        "id": "XkQMLxw-wWG6"
      },
      "source": [
        "## Model 5-2: Adding extra convolutional layer"
      ]
    },
    {
      "cell_type": "code",
      "execution_count": null,
      "metadata": {
        "colab": {
          "base_uri": "https://localhost:8080/"
        },
        "id": "7nvF662HOoqg",
        "outputId": "4626bbb2-4470-45cb-e49f-fecc70624dad"
      },
      "outputs": [
        {
          "output_type": "stream",
          "name": "stdout",
          "text": [
            "Model: \"model_9\"\n",
            "_________________________________________________________________\n",
            " Layer (type)                Output Shape              Param #   \n",
            "=================================================================\n",
            " input_11 (InputLayer)       [(None, 256)]             0         \n",
            "                                                                 \n",
            " embed_layer (Embedding)     (None, 256, 300)          3000000   \n",
            "                                                                 \n",
            " conv1d_3 (Conv1D)           (None, 251, 100)          180100    \n",
            "                                                                 \n",
            " conv1d_4 (Conv1D)           (None, 246, 100)          60100     \n",
            "                                                                 \n",
            " global_max_pooling1d_3 (Glo  (None, 100)              0         \n",
            " balMaxPooling1D)                                                \n",
            "                                                                 \n",
            " dense_19 (Dense)            (None, 1)                 101       \n",
            "                                                                 \n",
            "=================================================================\n",
            "Total params: 3,240,301\n",
            "Trainable params: 3,240,301\n",
            "Non-trainable params: 0\n",
            "_________________________________________________________________\n"
          ]
        }
      ],
      "source": [
        "# your code goes here\n",
        "\n",
        "from keras.layers import Conv1D, MaxPooling1D, GlobalMaxPooling1D\n",
        "\n",
        "filter_layers=100\n",
        "embDim = next(iter(wordToGlove.values())).shape[0]  \n",
        "\n",
        "embeddingLayer=createPretrainedEmbeddingLayer(wordToGlove,wordToIndex,isTrainable=True)\n",
        "\n",
        "input_layer_12 = Input(shape=(MAX_SEQUENCE_LENGTH,))\n",
        "\n",
        "embedding_layer_12 = Embedding(VOCAB_SIZE, embDim, name='embed_layer',\n",
        "                        \tembeddings_initializer='glorot_uniform',\n",
        "                         \tinput_length=1, mask_zero=True)(input_layer_12)\n",
        "\n",
        "# add cnn layer\n",
        "cnn_layer_2_12 = Conv1D(filters=filter_layers, kernel_size=6, padding='valid', activation='relu')(embedding_layer_12)\n",
        "\n",
        "cnn_layer_2_12 = Conv1D(filters=filter_layers, kernel_size=6, padding='valid', activation='relu')(cnn_layer_2_12)\n",
        "\n",
        "# max pooling layer\n",
        "max_pooling_layer_12 = GlobalMaxPooling1D()(cnn_layer_2_12)\n",
        "\n",
        "# output layer\n",
        "output_layer_12 = Dense(1, activation='sigmoid')(max_pooling_layer_12)\n",
        "\n",
        "model_12 = Model(inputs=input_layer_12, outputs=output_layer_12)\n",
        "\n",
        "model_12.summary()"
      ]
    },
    {
      "cell_type": "code",
      "execution_count": null,
      "metadata": {
        "colab": {
          "base_uri": "https://localhost:8080/"
        },
        "id": "hx8JLl4xPlua",
        "outputId": "6ddf4298-2960-422c-9a0d-9b7258b9ef92"
      },
      "outputs": [
        {
          "output_type": "stream",
          "name": "stdout",
          "text": [
            "Epoch 1/40\n",
            "30/30 [==============================] - 7s 183ms/step - loss: 0.6587 - accuracy: 0.6127 - val_loss: 0.5088 - val_accuracy: 0.7898\n",
            "Epoch 2/40\n",
            "30/30 [==============================] - 5s 168ms/step - loss: 0.3703 - accuracy: 0.8392 - val_loss: 0.3654 - val_accuracy: 0.8388\n",
            "Epoch 3/40\n",
            "30/30 [==============================] - 6s 189ms/step - loss: 0.2196 - accuracy: 0.9170 - val_loss: 0.3806 - val_accuracy: 0.8440\n",
            "Epoch 4/40\n",
            "30/30 [==============================] - 6s 189ms/step - loss: 0.1201 - accuracy: 0.9600 - val_loss: 0.4211 - val_accuracy: 0.8513\n",
            "Epoch 5/40\n",
            "30/30 [==============================] - 6s 188ms/step - loss: 0.0607 - accuracy: 0.9828 - val_loss: 0.5029 - val_accuracy: 0.8467\n",
            "Epoch 6/40\n",
            "30/30 [==============================] - 6s 189ms/step - loss: 0.0296 - accuracy: 0.9928 - val_loss: 0.5809 - val_accuracy: 0.8476\n",
            "Epoch 7/40\n",
            "30/30 [==============================] - 6s 189ms/step - loss: 0.0144 - accuracy: 0.9975 - val_loss: 0.6709 - val_accuracy: 0.8446\n",
            "Epoch 8/40\n",
            "30/30 [==============================] - 5s 167ms/step - loss: 0.0070 - accuracy: 0.9991 - val_loss: 0.7302 - val_accuracy: 0.8469\n",
            "Epoch 9/40\n",
            "30/30 [==============================] - 6s 189ms/step - loss: 0.0036 - accuracy: 0.9998 - val_loss: 0.7787 - val_accuracy: 0.8432\n",
            "Epoch 10/40\n",
            "30/30 [==============================] - 5s 167ms/step - loss: 0.0015 - accuracy: 1.0000 - val_loss: 0.8230 - val_accuracy: 0.8444\n",
            "Epoch 11/40\n",
            "30/30 [==============================] - 5s 167ms/step - loss: 7.4038e-04 - accuracy: 1.0000 - val_loss: 0.8491 - val_accuracy: 0.8456\n",
            "Epoch 12/40\n",
            "30/30 [==============================] - 5s 167ms/step - loss: 4.9374e-04 - accuracy: 1.0000 - val_loss: 0.8682 - val_accuracy: 0.8463\n",
            "Epoch 13/40\n",
            "30/30 [==============================] - 5s 166ms/step - loss: 3.8261e-04 - accuracy: 1.0000 - val_loss: 0.8848 - val_accuracy: 0.8465\n",
            "Epoch 14/40\n",
            "30/30 [==============================] - 6s 188ms/step - loss: 3.1401e-04 - accuracy: 1.0000 - val_loss: 0.8993 - val_accuracy: 0.8460\n",
            "Epoch 15/40\n",
            "30/30 [==============================] - 5s 167ms/step - loss: 2.6619e-04 - accuracy: 1.0000 - val_loss: 0.9130 - val_accuracy: 0.8468\n",
            "Epoch 16/40\n",
            "30/30 [==============================] - 5s 167ms/step - loss: 2.2891e-04 - accuracy: 1.0000 - val_loss: 0.9256 - val_accuracy: 0.8465\n",
            "Epoch 17/40\n",
            "30/30 [==============================] - 6s 188ms/step - loss: 2.0011e-04 - accuracy: 1.0000 - val_loss: 0.9375 - val_accuracy: 0.8463\n",
            "Epoch 18/40\n",
            "30/30 [==============================] - 5s 167ms/step - loss: 1.7792e-04 - accuracy: 1.0000 - val_loss: 0.9489 - val_accuracy: 0.8459\n",
            "Epoch 19/40\n",
            "30/30 [==============================] - 5s 166ms/step - loss: 1.5821e-04 - accuracy: 1.0000 - val_loss: 0.9583 - val_accuracy: 0.8463\n",
            "Epoch 20/40\n",
            "30/30 [==============================] - 6s 189ms/step - loss: 1.4122e-04 - accuracy: 1.0000 - val_loss: 0.9684 - val_accuracy: 0.8460\n",
            "Epoch 21/40\n",
            "30/30 [==============================] - 5s 168ms/step - loss: 1.2745e-04 - accuracy: 1.0000 - val_loss: 0.9779 - val_accuracy: 0.8458\n",
            "Epoch 22/40\n",
            "30/30 [==============================] - 6s 188ms/step - loss: 1.1598e-04 - accuracy: 1.0000 - val_loss: 0.9865 - val_accuracy: 0.8456\n",
            "Epoch 23/40\n",
            "30/30 [==============================] - 5s 167ms/step - loss: 1.0603e-04 - accuracy: 1.0000 - val_loss: 0.9955 - val_accuracy: 0.8457\n",
            "Epoch 24/40\n",
            "30/30 [==============================] - 5s 167ms/step - loss: 9.7101e-05 - accuracy: 1.0000 - val_loss: 1.0037 - val_accuracy: 0.8457\n",
            "Epoch 25/40\n",
            "30/30 [==============================] - 5s 168ms/step - loss: 8.9340e-05 - accuracy: 1.0000 - val_loss: 1.0116 - val_accuracy: 0.8455\n",
            "Epoch 26/40\n",
            "30/30 [==============================] - 6s 189ms/step - loss: 8.2368e-05 - accuracy: 1.0000 - val_loss: 1.0194 - val_accuracy: 0.8455\n",
            "Epoch 27/40\n",
            "30/30 [==============================] - 5s 166ms/step - loss: 7.6325e-05 - accuracy: 1.0000 - val_loss: 1.0268 - val_accuracy: 0.8451\n",
            "Epoch 28/40\n",
            "30/30 [==============================] - 5s 167ms/step - loss: 7.0961e-05 - accuracy: 1.0000 - val_loss: 1.0337 - val_accuracy: 0.8449\n",
            "Epoch 29/40\n",
            "30/30 [==============================] - 5s 167ms/step - loss: 6.6088e-05 - accuracy: 1.0000 - val_loss: 1.0406 - val_accuracy: 0.8449\n",
            "Epoch 30/40\n",
            "30/30 [==============================] - 5s 166ms/step - loss: 6.1720e-05 - accuracy: 1.0000 - val_loss: 1.0474 - val_accuracy: 0.8447\n",
            "Epoch 31/40\n",
            "30/30 [==============================] - 5s 166ms/step - loss: 5.7739e-05 - accuracy: 1.0000 - val_loss: 1.0538 - val_accuracy: 0.8446\n",
            "Epoch 32/40\n",
            "30/30 [==============================] - 5s 167ms/step - loss: 5.4092e-05 - accuracy: 1.0000 - val_loss: 1.0600 - val_accuracy: 0.8447\n",
            "Epoch 33/40\n",
            "30/30 [==============================] - 5s 166ms/step - loss: 5.0808e-05 - accuracy: 1.0000 - val_loss: 1.0662 - val_accuracy: 0.8447\n",
            "Epoch 34/40\n",
            "30/30 [==============================] - 6s 188ms/step - loss: 4.7757e-05 - accuracy: 1.0000 - val_loss: 1.0718 - val_accuracy: 0.8444\n",
            "Epoch 35/40\n",
            "30/30 [==============================] - 5s 166ms/step - loss: 4.5078e-05 - accuracy: 1.0000 - val_loss: 1.0779 - val_accuracy: 0.8445\n",
            "Epoch 36/40\n",
            "30/30 [==============================] - 6s 188ms/step - loss: 4.2629e-05 - accuracy: 1.0000 - val_loss: 1.0834 - val_accuracy: 0.8442\n",
            "Epoch 37/40\n",
            "30/30 [==============================] - 6s 188ms/step - loss: 4.0225e-05 - accuracy: 1.0000 - val_loss: 1.0889 - val_accuracy: 0.8443\n",
            "Epoch 38/40\n",
            "30/30 [==============================] - 5s 167ms/step - loss: 3.8094e-05 - accuracy: 1.0000 - val_loss: 1.0942 - val_accuracy: 0.8441\n",
            "Epoch 39/40\n",
            "30/30 [==============================] - 6s 189ms/step - loss: 3.6162e-05 - accuracy: 1.0000 - val_loss: 1.0994 - val_accuracy: 0.8443\n",
            "Epoch 40/40\n",
            "30/30 [==============================] - 5s 166ms/step - loss: 3.4327e-05 - accuracy: 1.0000 - val_loss: 1.1045 - val_accuracy: 0.8441\n",
            "782/782 [==============================] - 6s 7ms/step - loss: 1.1554 - accuracy: 0.8284\n"
          ]
        },
        {
          "output_type": "execute_result",
          "data": {
            "text/plain": [
              "[1.155417799949646, 0.8283600211143494]"
            ]
          },
          "metadata": {},
          "execution_count": 71
        }
      ],
      "source": [
        "# Train and test the model\n",
        "model_12.compile(optimizer='adam', loss='binary_crossentropy', metrics=['accuracy'])\n",
        "\n",
        "history_12 = model_12.fit(partial_X_train,\n",
        "                    partial_y_train,\n",
        "                    epochs=40,\n",
        "                    batch_size=512,\n",
        "                    validation_data=(X_val, y_val),\n",
        "                    verbose=1)\n",
        "\n",
        "results_12 = model_12.evaluate(X_test_enc, y_test)\n",
        "\n",
        "results_12\n"
      ]
    },
    {
      "cell_type": "code",
      "execution_count": null,
      "metadata": {
        "colab": {
          "base_uri": "https://localhost:8080/",
          "height": 385
        },
        "id": "nqyHehLp39r6",
        "outputId": "21b37a3a-3201-4fe2-931e-8608a0922aa9"
      },
      "outputs": [
        {
          "output_type": "display_data",
          "data": {
            "image/png": "[encoded data removed]",
            "text/plain": [
              "<Figure size 720x360 with 2 Axes>"
            ]
          },
          "metadata": {
            "needs_background": "light"
          }
        }
      ],
      "source": [
        "plot_history(history_12.history, path=\"standard.png\")\n",
        "plt.show()"
      ]
    },
    {
      "cell_type": "code",
      "execution_count": null,
      "metadata": {
        "colab": {
          "base_uri": "https://localhost:8080/",
          "height": 281
        },
        "id": "T2-fqNHiRRIe",
        "outputId": "709d6c26-467f-440a-d87c-6496822296be"
      },
      "outputs": [
        {
          "output_type": "display_data",
          "data": {
            "image/png": "[encoded data removed]",
            "text/plain": [
              "<Figure size 432x288 with 1 Axes>"
            ]
          },
          "metadata": {
            "needs_background": "light"
          }
        }
      ],
      "source": [
        "# your code goes here\n",
        "\n",
        "\n",
        "plt.plot(history_12.history['loss'], 'o', label='training loss')\n",
        "plt.title('training loss')\n",
        "\n",
        "plt.show()"
      ]
    },
    {
      "cell_type": "markdown",
      "metadata": {
        "id": "Kx--Ytk3ZbLo"
      },
      "source": [
        "Although adding layer here reduces the training loss, the evaluation accuracy is worse than the model without the extra convolutional layer.\n",
        "\n",
        "Adding more layers can help you to extract more features. But we can do that up to a certain extent. After some point, instead of extracting features, we tend to overfit the data. Overfitting can lead to errors in on form or another, such as false positives. It is not easy to choose the number of units in a hidden layer or the number of hidden layers in a neural network. For many applications, one hidden layer is enough. As a general rule, the number of units in that hidden layer is between the number of inputs and the number of outputs.\n",
        " The best way to decide on the number of units and hidden layers is to try various parameters. Train several neural networks with different numbers of hidden layers and neurons, and monitor the performance of them. You will have to experiment using a series of different architectures. \n",
        "\n",
        "\n",
        "\n"
      ]
    },
    {
      "cell_type": "markdown",
      "metadata": {
        "id": "gn2GSV4ioyO2"
      },
      "source": [
        "\n",
        "\n",
        "---\n",
        "\n"
      ]
    }
  ],
  "metadata": {
    "accelerator": "GPU",
    "colab": {
      "collapsed_sections": [],
      "machine_shape": "hm",
      "name": "7001_2021_22_lab3_Text_Classification_FFNNCNNLSTM_without_answers.ipynb",
      "provenance": []
    },
    "kernelspec": {
      "display_name": "Python 3",
      "language": "python",
      "name": "python3"
    },
    "language_info": {
      "codemirror_mode": {
        "name": "ipython",
        "version": 3
      },
      "file_extension": ".py",
      "mimetype": "text/x-python",
      "name": "python",
      "nbconvert_exporter": "python",
      "pygments_lexer": "ipython3",
      "version": "3.8.3"
    }
  },
  "nbformat": 4,
  "nbformat_minor": 0
}